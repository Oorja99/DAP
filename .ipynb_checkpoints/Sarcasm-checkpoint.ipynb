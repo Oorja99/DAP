{
 "cells": [
  {
   "cell_type": "markdown",
   "metadata": {},
   "source": [
    "## <font color=\"orange\"> Importing required libraries </font>"
   ]
  },
  {
   "cell_type": "code",
   "execution_count": 57,
   "metadata": {
    "_cell_guid": "b1076dfc-b9ad-4769-8c92-a6c4dae69d19",
    "_uuid": "8f2839f25d086af736a60e9eeb907d3b93b6e0e5"
   },
   "outputs": [],
   "source": [
    "import pandas as pd\n",
    "import numpy as np\n",
    "from nltk.corpus import stopwords\n",
    "import re,string,unicodedata\n",
    "from sklearn.model_selection import train_test_split\n",
    "from sklearn.naive_bayes import MultinomialNB\n",
    "from sklearn.linear_model import LogisticRegression\n",
    "from sklearn.neighbors import KNeighborsClassifier\n",
    "from sklearn.feature_extraction.text import CountVectorizer\n",
    "from sklearn import metrics\n",
    "from sklearn.metrics import accuracy_score\n",
    "\n",
    "from scipy.stats import entropy\n",
    "from sklearn.tree import DecisionTreeClassifier\n",
    "\n",
    "from sklearn.ensemble import BaggingClassifier\n",
    "\n",
    "import matplotlib\n",
    "import seaborn as sns\n",
    "from matplotlib import pyplot as plt \n",
    "from wordcloud import WordCloud,STOPWORDS\n",
    "\n",
    "import spacy\n",
    "\n",
    "from sklearn.feature_extraction.text import TfidfVectorizer\n",
    "from sklearn.metrics import confusion_matrix, classification_report, roc_curve, auc"
   ]
  },
  {
   "cell_type": "markdown",
   "metadata": {},
   "source": [
    "## <font color=\"orange\">  Importing data </font>"
   ]
  },
  {
   "cell_type": "code",
   "execution_count": 2,
   "metadata": {
    "_uuid": "ec88341420bf74b6ce58f5270cb513c5422374ac"
   },
   "outputs": [],
   "source": [
    "SH1=pd.read_json('Sarcasm_Headlines_Dataset.json', lines=True)\n",
    "SH2=pd.read_json('Sarcasm_Headlines_Dataset_v2.json', lines=True)\n",
    "data = pd.concat([SH1, SH2]).reset_index(drop = True)"
   ]
  },
  {
   "cell_type": "markdown",
   "metadata": {},
   "source": [
    "## <font color=\"orange\"> EDA </font>"
   ]
  },
  {
   "cell_type": "code",
   "execution_count": 3,
   "metadata": {
    "_uuid": "bdca7e71be834295b688525e22a062cc65f7500a"
   },
   "outputs": [
    {
     "data": {
      "text/plain": [
       "Index(['article_link', 'headline', 'is_sarcastic'], dtype='object')"
      ]
     },
     "execution_count": 3,
     "metadata": {},
     "output_type": "execute_result"
    }
   ],
   "source": [
    "#Displaying data columns\n",
    "data.columns"
   ]
  },
  {
   "cell_type": "code",
   "execution_count": 4,
   "metadata": {
    "_uuid": "0165349ecc36482bfebf6e66c54626081843e2e5"
   },
   "outputs": [
    {
     "name": "stdout",
     "output_type": "stream",
     "text": [
      "(55328, 3)\n"
     ]
    }
   ],
   "source": [
    "#Displaying shape \n",
    "print(data.shape)"
   ]
  },
  {
   "cell_type": "code",
   "execution_count": 5,
   "metadata": {
    "_uuid": "b8617e954135f4a5e94cb50d1bf6c362c0212fb8"
   },
   "outputs": [
    {
     "data": {
      "text/html": [
       "<div>\n",
       "<style scoped>\n",
       "    .dataframe tbody tr th:only-of-type {\n",
       "        vertical-align: middle;\n",
       "    }\n",
       "\n",
       "    .dataframe tbody tr th {\n",
       "        vertical-align: top;\n",
       "    }\n",
       "\n",
       "    .dataframe thead th {\n",
       "        text-align: right;\n",
       "    }\n",
       "</style>\n",
       "<table border=\"1\" class=\"dataframe\">\n",
       "  <thead>\n",
       "    <tr style=\"text-align: right;\">\n",
       "      <th></th>\n",
       "      <th>article_link</th>\n",
       "      <th>headline</th>\n",
       "      <th>is_sarcastic</th>\n",
       "    </tr>\n",
       "  </thead>\n",
       "  <tbody>\n",
       "    <tr>\n",
       "      <th>0</th>\n",
       "      <td>https://www.huffingtonpost.com/entry/versace-b...</td>\n",
       "      <td>former versace store clerk sues over secret 'b...</td>\n",
       "      <td>0</td>\n",
       "    </tr>\n",
       "    <tr>\n",
       "      <th>1</th>\n",
       "      <td>https://www.huffingtonpost.com/entry/roseanne-...</td>\n",
       "      <td>the 'roseanne' revival catches up to our thorn...</td>\n",
       "      <td>0</td>\n",
       "    </tr>\n",
       "    <tr>\n",
       "      <th>2</th>\n",
       "      <td>https://local.theonion.com/mom-starting-to-fea...</td>\n",
       "      <td>mom starting to fear son's web series closest ...</td>\n",
       "      <td>1</td>\n",
       "    </tr>\n",
       "    <tr>\n",
       "      <th>3</th>\n",
       "      <td>https://politics.theonion.com/boehner-just-wan...</td>\n",
       "      <td>boehner just wants wife to listen, not come up...</td>\n",
       "      <td>1</td>\n",
       "    </tr>\n",
       "    <tr>\n",
       "      <th>4</th>\n",
       "      <td>https://www.huffingtonpost.com/entry/jk-rowlin...</td>\n",
       "      <td>j.k. rowling wishes snape happy birthday in th...</td>\n",
       "      <td>0</td>\n",
       "    </tr>\n",
       "  </tbody>\n",
       "</table>\n",
       "</div>"
      ],
      "text/plain": [
       "                                        article_link  \\\n",
       "0  https://www.huffingtonpost.com/entry/versace-b...   \n",
       "1  https://www.huffingtonpost.com/entry/roseanne-...   \n",
       "2  https://local.theonion.com/mom-starting-to-fea...   \n",
       "3  https://politics.theonion.com/boehner-just-wan...   \n",
       "4  https://www.huffingtonpost.com/entry/jk-rowlin...   \n",
       "\n",
       "                                            headline  is_sarcastic  \n",
       "0  former versace store clerk sues over secret 'b...             0  \n",
       "1  the 'roseanne' revival catches up to our thorn...             0  \n",
       "2  mom starting to fear son's web series closest ...             1  \n",
       "3  boehner just wants wife to listen, not come up...             1  \n",
       "4  j.k. rowling wishes snape happy birthday in th...             0  "
      ]
     },
     "execution_count": 5,
     "metadata": {},
     "output_type": "execute_result"
    }
   ],
   "source": [
    "#Peek at data\n",
    "data.head()"
   ]
  },
  {
   "cell_type": "code",
   "execution_count": 6,
   "metadata": {
    "_uuid": "17a30b0487662206d92d64417c1e555a3c6e6f18"
   },
   "outputs": [
    {
     "data": {
      "text/plain": [
       "0    29970\n",
       "1    25358\n",
       "Name: is_sarcastic, dtype: int64"
      ]
     },
     "execution_count": 6,
     "metadata": {},
     "output_type": "execute_result"
    }
   ],
   "source": [
    "#Checking distribution\n",
    "data['is_sarcastic'].value_counts()"
   ]
  },
  {
   "cell_type": "code",
   "execution_count": 58,
   "metadata": {},
   "outputs": [
    {
     "data": {
      "text/plain": [
       "<matplotlib.axes._subplots.AxesSubplot at 0x7fc1612e1700>"
      ]
     },
     "execution_count": 58,
     "metadata": {},
     "output_type": "execute_result"
    },
    {
     "data": {
      "image/png": "[encoded data removed]",
      "text/plain": [
       "<Figure size 432x288 with 1 Axes>"
      ]
     },
     "metadata": {
      "needs_background": "light"
     },
     "output_type": "display_data"
    }
   ],
   "source": [
    "sns.countplot(data.is_sarcastic)"
   ]
  },
  {
   "cell_type": "code",
   "execution_count": 59,
   "metadata": {},
   "outputs": [
    {
     "data": {
      "image/png": "[encoded data removed]",
      "text/plain": [
       "<Figure size 576x360 with 1 Axes>"
      ]
     },
     "metadata": {
      "needs_background": "light"
     },
     "output_type": "display_data"
    }
   ],
   "source": [
    "data['headline_len'] = data.headline.apply(lambda x: len(x.split()))\n",
    "sarcastic = data[data.is_sarcastic == 1]\n",
    "legit = data[data.is_sarcastic == 0]\n",
    "plt.figure(figsize=(8,5))\n",
    "sns.distplot(sarcastic.headline_len, hist= True, label= 'Sarcastic')\n",
    "sns.distplot(legit.headline_len, hist= True, label= 'legitimate')\n",
    "plt.legend()\n",
    "plt.title('News Headline Length Distribution by Class', fontsize = 10)\n",
    "plt.show()"
   ]
  },
  {
   "cell_type": "markdown",
   "metadata": {},
   "source": [
    "## <font color=\"orange\"> Data Preprocessing </font>"
   ]
  },
  {
   "cell_type": "code",
   "execution_count": 12,
   "metadata": {},
   "outputs": [
    {
     "name": "stdout",
     "output_type": "stream",
     "text": [
      "Maximum number of word 151\n",
      "\n",
      "Sentence:\n",
      " ['hot wheels ranked number one toy for rolling down ramp, knocking over dominoes that send marble down a funnel, dropping onto teeter-totter that yanks on string, causing pulley system to raise wooden block, propelling series of twine rollers that unwind spring, launching tennis ball across room, inching tire down slope until it hits power switch, activating table fan that blows toy ship with nail attached to it across kiddie pool, popping water balloon that fills cup, weighing down lever that forces basketball down track, nudging broomstick on axis to rotate, allowing golf ball to roll into sideways coffee mug, which tumbles down row of hardcover books until handle catches hook attached to lever that causes wooden mallet to slam down on serving spoon, catapulting small ball into cup attached by ribbon to lazy susan, which spins until it pushes d battery down incline plane, tipping over salt shaker to season omelet']\n"
     ]
    }
   ],
   "source": [
    "data['num_words'] = data['headline'].apply(lambda x: len(str(x).split()))\n",
    "print('Maximum number of word',data['num_words'].max())\n",
    "\n",
    "print('\\nSentence:\\n',data[data['num_words'] == 151]['headline'].values)\n",
    "text = data[data['num_words'] == 151]['headline'].values\n"
   ]
  },
  {
   "cell_type": "code",
   "execution_count": 13,
   "metadata": {},
   "outputs": [
    {
     "name": "stdout",
     "output_type": "stream",
     "text": [
      "Tokenized version of the longest headline:  ['hot', 'wheels', 'ranked', 'number', 'one', 'toy', 'for', 'rolling', 'down', 'ramp', ',', 'knocking', 'over', 'dominoes', 'that', 'send', 'marble', 'down', 'a', 'funnel', ',', 'dropping', 'onto', 'teeter', '-', 'totter', 'that', 'yanks', 'on', 'string', ',', 'causing', 'pulley', 'system', 'to', 'raise', 'wooden', 'block', ',', 'propelling', 'series', 'of', 'twine', 'rollers', 'that', 'unwind', 'spring', ',', 'launching', 'tennis', 'ball', 'across', 'room', ',', 'inching', 'tire', 'down', 'slope', 'until', 'it', 'hits', 'power', 'switch', ',', 'activating', 'table', 'fan', 'that', 'blows', 'toy', 'ship', 'with', 'nail', 'attached', 'to', 'it', 'across', 'kiddie', 'pool', ',', 'popping', 'water', 'balloon', 'that', 'fills', 'cup', ',', 'weighing', 'down', 'lever', 'that', 'forces', 'basketball', 'down', 'track', ',', 'nudging', 'broomstick', 'on', 'axis', 'to', 'rotate', ',', 'allowing', 'golf', 'ball', 'to', 'roll', 'into', 'sideways', 'coffee', 'mug', ',', 'which', 'tumbles', 'down', 'row', 'of', 'hardcover', 'books', 'until', 'handle', 'catches', 'hook', 'attached', 'to', 'lever', 'that', 'causes', 'wooden', 'mallet', 'to', 'slam', 'down', 'on', 'serving', 'spoon', ',', 'catapulting', 'small', 'ball', 'into', 'cup', 'attached', 'by', 'ribbon', 'to', 'lazy', 'susan', ',', 'which', 'spins', 'until', 'it', 'pushes', 'd', 'battery', 'down', 'incline', 'plane', ',', 'tipping', 'over', 'salt', 'shaker', 'to', 'season', 'omelet']\n"
     ]
    }
   ],
   "source": [
    "# Tokenizing the longest headline\n",
    "nlp = spacy.load('en')\n",
    "doc = nlp(text[0])\n",
    "\n",
    "token = [w.text for w in doc ]\n",
    "print(\"Tokenized version of the longest headline: \", token)"
   ]
  },
  {
   "cell_type": "code",
   "execution_count": 14,
   "metadata": {},
   "outputs": [
    {
     "name": "stdout",
     "output_type": "stream",
     "text": [
      "Stop words in longest headline:  ['one', 'for', 'down', 'over', 'that', 'down', 'a', 'onto', 'that', 'on', 'to', 'of', 'that', 'across', 'down', 'until', 'it', 'that', 'with', 'to', 'it', 'across', 'that', 'down', 'that', 'down', 'on', 'to', 'to', 'into', 'which', 'down', 'of', 'until', 'to', 'that', 'to', 'down', 'on', 'into', 'by', 'to', 'which', 'until', 'it', 'down', 'over', 'to']\n"
     ]
    }
   ],
   "source": [
    "#printing stop words of longest headline\n",
    "\n",
    "stop = [w.text for w in doc if w.is_stop]\n",
    "print('Stop words in longest headline: ',stop)"
   ]
  },
  {
   "cell_type": "code",
   "execution_count": 15,
   "metadata": {},
   "outputs": [
    {
     "name": "stdout",
     "output_type": "stream",
     "text": [
      "Digits in longest headline:  []\n"
     ]
    }
   ],
   "source": [
    "#printing digits of longest headline\n",
    "\n",
    "digit = [w.text for w in doc if w.is_digit]\n",
    "print('Digits in longest headline: ',digit)"
   ]
  },
  {
   "cell_type": "code",
   "execution_count": 16,
   "metadata": {},
   "outputs": [
    {
     "name": "stdout",
     "output_type": "stream",
     "text": [
      "['hot', 'wheel', 'rank', 'number', 'one', 'toy', 'for', 'roll', 'down', 'ramp', ',', 'knock', 'over', 'domino', 'that', 'send', 'marble', 'down', 'a', 'funnel', ',', 'drop', 'onto', 'teeter', '-', 'totter', 'that', 'yank', 'on', 'string', ',', 'cause', 'pulley', 'system', 'to', 'raise', 'wooden', 'block', ',', 'propel', 'series', 'of', 'twine', 'roller', 'that', 'unwind', 'spring', ',', 'launch', 'tennis', 'ball', 'across', 'room', ',', 'inch', 'tire', 'down', 'slope', 'until', '-PRON-', 'hit', 'power', 'switch', ',', 'activate', 'table', 'fan', 'that', 'blow', 'toy', 'ship', 'with', 'nail', 'attach', 'to', '-PRON-', 'across', 'kiddie', 'pool', ',', 'pop', 'water', 'balloon', 'that', 'fill', 'cup', ',', 'weigh', 'down', 'lever', 'that', 'force', 'basketball', 'down', 'track', ',', 'nudge', 'broomstick', 'on', 'axis', 'to', 'rotate', ',', 'allow', 'golf', 'ball', 'to', 'roll', 'into', 'sideways', 'coffee', 'mug', ',', 'which', 'tumble', 'down', 'row', 'of', 'hardcover', 'book', 'until', 'handle', 'catch', 'hook', 'attach', 'to', 'lever', 'that', 'cause', 'wooden', 'mallet', 'to', 'slam', 'down', 'on', 'serve', 'spoon', ',', 'catapult', 'small', 'ball', 'into', 'cup', 'attach', 'by', 'ribbon', 'to', 'lazy', 'susan', ',', 'which', 'spin', 'until', '-PRON-', 'push', 'd', 'battery', 'down', 'incline', 'plane', ',', 'tip', 'over', 'salt', 'shaker', 'to', 'season', 'omelet']\n"
     ]
    }
   ],
   "source": [
    "#printing lemmatized version of longest headline\n",
    "\n",
    "lemma = [w.lemma_ for w in doc]\n",
    "print(lemma)"
   ]
  },
  {
   "cell_type": "code",
   "execution_count": 17,
   "metadata": {},
   "outputs": [
    {
     "data": {
      "text/html": [
       "<span class=\"tex2jax_ignore\"><div class=\"entities\" style=\"line-height: 2.5; direction: ltr\">hot wheels ranked number one toy for rolling down ramp, knocking over dominoes that send marble down a funnel, dropping onto teeter-totter that yanks on string, causing pulley system to raise wooden block, propelling series of twine rollers that unwind spring, launching tennis ball across room, inching tire down slope until it hits power switch, activating table fan that blows toy ship with nail attached to it across kiddie pool, popping water balloon that fills cup, weighing down lever that forces basketball down track, nudging broomstick on axis to rotate, allowing golf ball to roll into sideways coffee \n",
       "<mark class=\"entity\" style=\"background: #7aecec; padding: 0.45em 0.6em; margin: 0 0.25em; line-height: 1; border-radius: 0.35em;\">\n",
       "    mug\n",
       "    <span style=\"font-size: 0.8em; font-weight: bold; line-height: 1; border-radius: 0.35em; text-transform: uppercase; vertical-align: middle; margin-left: 0.5rem\">ORG</span>\n",
       "</mark>\n",
       ", which tumbles down row of hardcover books until handle catches hook attached to lever that causes wooden mallet to slam down on serving spoon, catapulting small ball into cup attached by ribbon to lazy \n",
       "<mark class=\"entity\" style=\"background: #aa9cfc; padding: 0.45em 0.6em; margin: 0 0.25em; line-height: 1; border-radius: 0.35em;\">\n",
       "    susan\n",
       "    <span style=\"font-size: 0.8em; font-weight: bold; line-height: 1; border-radius: 0.35em; text-transform: uppercase; vertical-align: middle; margin-left: 0.5rem\">PERSON</span>\n",
       "</mark>\n",
       ", which spins until it pushes d battery down incline plane, tipping over salt shaker to season omelet</div></span>"
      ],
      "text/plain": [
       "<IPython.core.display.HTML object>"
      ]
     },
     "metadata": {},
     "output_type": "display_data"
    }
   ],
   "source": [
    "spacy.displacy.render(doc, style='ent', jupyter=True)"
   ]
  },
  {
   "cell_type": "code",
   "execution_count": 18,
   "metadata": {},
   "outputs": [
    {
     "data": {
      "text/html": [
       "<style  type=\"text/css\" >\n",
       "    #T_6eb88190_11e6_11eb_959f_acde48001122row4_col5 {\n",
       "            background-color:  yellow;\n",
       "        }    #T_6eb88190_11e6_11eb_959f_acde48001122row6_col5 {\n",
       "            background-color:  yellow;\n",
       "        }    #T_6eb88190_11e6_11eb_959f_acde48001122row8_col5 {\n",
       "            background-color:  yellow;\n",
       "        }    #T_6eb88190_11e6_11eb_959f_acde48001122row10_col6 {\n",
       "            background-color:  yellow;\n",
       "        }    #T_6eb88190_11e6_11eb_959f_acde48001122row12_col5 {\n",
       "            background-color:  yellow;\n",
       "        }    #T_6eb88190_11e6_11eb_959f_acde48001122row14_col5 {\n",
       "            background-color:  yellow;\n",
       "        }    #T_6eb88190_11e6_11eb_959f_acde48001122row17_col5 {\n",
       "            background-color:  yellow;\n",
       "        }    #T_6eb88190_11e6_11eb_959f_acde48001122row18_col5 {\n",
       "            background-color:  yellow;\n",
       "        }    #T_6eb88190_11e6_11eb_959f_acde48001122row20_col6 {\n",
       "            background-color:  yellow;\n",
       "        }    #T_6eb88190_11e6_11eb_959f_acde48001122row22_col5 {\n",
       "            background-color:  yellow;\n",
       "        }    #T_6eb88190_11e6_11eb_959f_acde48001122row24_col6 {\n",
       "            background-color:  yellow;\n",
       "        }    #T_6eb88190_11e6_11eb_959f_acde48001122row26_col5 {\n",
       "            background-color:  yellow;\n",
       "        }    #T_6eb88190_11e6_11eb_959f_acde48001122row28_col5 {\n",
       "            background-color:  yellow;\n",
       "        }    #T_6eb88190_11e6_11eb_959f_acde48001122row30_col6 {\n",
       "            background-color:  yellow;\n",
       "        }    #T_6eb88190_11e6_11eb_959f_acde48001122row34_col5 {\n",
       "            background-color:  yellow;\n",
       "        }    #T_6eb88190_11e6_11eb_959f_acde48001122row38_col6 {\n",
       "            background-color:  yellow;\n",
       "        }    #T_6eb88190_11e6_11eb_959f_acde48001122row41_col5 {\n",
       "            background-color:  yellow;\n",
       "        }    #T_6eb88190_11e6_11eb_959f_acde48001122row44_col5 {\n",
       "            background-color:  yellow;\n",
       "        }    #T_6eb88190_11e6_11eb_959f_acde48001122row47_col6 {\n",
       "            background-color:  yellow;\n",
       "        }    #T_6eb88190_11e6_11eb_959f_acde48001122row51_col5 {\n",
       "            background-color:  yellow;\n",
       "        }    #T_6eb88190_11e6_11eb_959f_acde48001122row53_col6 {\n",
       "            background-color:  yellow;\n",
       "        }    #T_6eb88190_11e6_11eb_959f_acde48001122row56_col5 {\n",
       "            background-color:  yellow;\n",
       "        }    #T_6eb88190_11e6_11eb_959f_acde48001122row58_col5 {\n",
       "            background-color:  yellow;\n",
       "        }    #T_6eb88190_11e6_11eb_959f_acde48001122row59_col5 {\n",
       "            background-color:  yellow;\n",
       "        }    #T_6eb88190_11e6_11eb_959f_acde48001122row63_col6 {\n",
       "            background-color:  yellow;\n",
       "        }    #T_6eb88190_11e6_11eb_959f_acde48001122row67_col5 {\n",
       "            background-color:  yellow;\n",
       "        }    #T_6eb88190_11e6_11eb_959f_acde48001122row71_col5 {\n",
       "            background-color:  yellow;\n",
       "        }    #T_6eb88190_11e6_11eb_959f_acde48001122row74_col5 {\n",
       "            background-color:  yellow;\n",
       "        }    #T_6eb88190_11e6_11eb_959f_acde48001122row75_col5 {\n",
       "            background-color:  yellow;\n",
       "        }    #T_6eb88190_11e6_11eb_959f_acde48001122row76_col5 {\n",
       "            background-color:  yellow;\n",
       "        }    #T_6eb88190_11e6_11eb_959f_acde48001122row79_col6 {\n",
       "            background-color:  yellow;\n",
       "        }    #T_6eb88190_11e6_11eb_959f_acde48001122row83_col5 {\n",
       "            background-color:  yellow;\n",
       "        }    #T_6eb88190_11e6_11eb_959f_acde48001122row86_col6 {\n",
       "            background-color:  yellow;\n",
       "        }    #T_6eb88190_11e6_11eb_959f_acde48001122row88_col5 {\n",
       "            background-color:  yellow;\n",
       "        }    #T_6eb88190_11e6_11eb_959f_acde48001122row90_col5 {\n",
       "            background-color:  yellow;\n",
       "        }    #T_6eb88190_11e6_11eb_959f_acde48001122row93_col5 {\n",
       "            background-color:  yellow;\n",
       "        }    #T_6eb88190_11e6_11eb_959f_acde48001122row95_col6 {\n",
       "            background-color:  yellow;\n",
       "        }    #T_6eb88190_11e6_11eb_959f_acde48001122row98_col5 {\n",
       "            background-color:  yellow;\n",
       "        }    #T_6eb88190_11e6_11eb_959f_acde48001122row100_col5 {\n",
       "            background-color:  yellow;\n",
       "        }    #T_6eb88190_11e6_11eb_959f_acde48001122row102_col6 {\n",
       "            background-color:  yellow;\n",
       "        }    #T_6eb88190_11e6_11eb_959f_acde48001122row106_col5 {\n",
       "            background-color:  yellow;\n",
       "        }    #T_6eb88190_11e6_11eb_959f_acde48001122row108_col5 {\n",
       "            background-color:  yellow;\n",
       "        }    #T_6eb88190_11e6_11eb_959f_acde48001122row112_col6 {\n",
       "            background-color:  yellow;\n",
       "        }    #T_6eb88190_11e6_11eb_959f_acde48001122row113_col5 {\n",
       "            background-color:  yellow;\n",
       "        }    #T_6eb88190_11e6_11eb_959f_acde48001122row115_col5 {\n",
       "            background-color:  yellow;\n",
       "        }    #T_6eb88190_11e6_11eb_959f_acde48001122row117_col5 {\n",
       "            background-color:  yellow;\n",
       "        }    #T_6eb88190_11e6_11eb_959f_acde48001122row120_col5 {\n",
       "            background-color:  yellow;\n",
       "        }    #T_6eb88190_11e6_11eb_959f_acde48001122row125_col5 {\n",
       "            background-color:  yellow;\n",
       "        }    #T_6eb88190_11e6_11eb_959f_acde48001122row127_col5 {\n",
       "            background-color:  yellow;\n",
       "        }    #T_6eb88190_11e6_11eb_959f_acde48001122row131_col5 {\n",
       "            background-color:  yellow;\n",
       "        }    #T_6eb88190_11e6_11eb_959f_acde48001122row133_col5 {\n",
       "            background-color:  yellow;\n",
       "        }    #T_6eb88190_11e6_11eb_959f_acde48001122row134_col5 {\n",
       "            background-color:  yellow;\n",
       "        }    #T_6eb88190_11e6_11eb_959f_acde48001122row137_col6 {\n",
       "            background-color:  yellow;\n",
       "        }    #T_6eb88190_11e6_11eb_959f_acde48001122row141_col5 {\n",
       "            background-color:  yellow;\n",
       "        }    #T_6eb88190_11e6_11eb_959f_acde48001122row144_col5 {\n",
       "            background-color:  yellow;\n",
       "        }    #T_6eb88190_11e6_11eb_959f_acde48001122row146_col5 {\n",
       "            background-color:  yellow;\n",
       "        }    #T_6eb88190_11e6_11eb_959f_acde48001122row149_col6 {\n",
       "            background-color:  yellow;\n",
       "        }    #T_6eb88190_11e6_11eb_959f_acde48001122row150_col5 {\n",
       "            background-color:  yellow;\n",
       "        }    #T_6eb88190_11e6_11eb_959f_acde48001122row152_col5 {\n",
       "            background-color:  yellow;\n",
       "        }    #T_6eb88190_11e6_11eb_959f_acde48001122row153_col5 {\n",
       "            background-color:  yellow;\n",
       "        }    #T_6eb88190_11e6_11eb_959f_acde48001122row157_col5 {\n",
       "            background-color:  yellow;\n",
       "        }    #T_6eb88190_11e6_11eb_959f_acde48001122row160_col6 {\n",
       "            background-color:  yellow;\n",
       "        }    #T_6eb88190_11e6_11eb_959f_acde48001122row162_col5 {\n",
       "            background-color:  yellow;\n",
       "        }    #T_6eb88190_11e6_11eb_959f_acde48001122row165_col5 {\n",
       "            background-color:  yellow;\n",
       "        }</style><table id=\"T_6eb88190_11e6_11eb_959f_acde48001122\" ><thead>    <tr>        <th class=\"blank level0\" ></th>        <th class=\"col_heading level0 col0\" >token</th>        <th class=\"col_heading level0 col1\" >lemma</th>        <th class=\"col_heading level0 col2\" >POS</th>        <th class=\"col_heading level0 col3\" >TAG</th>        <th class=\"col_heading level0 col4\" >DEP</th>        <th class=\"col_heading level0 col5\" >is_stopword</th>        <th class=\"col_heading level0 col6\" >is_punctuation</th>        <th class=\"col_heading level0 col7\" >is_digit</th>    </tr></thead><tbody>\n",
       "                <tr>\n",
       "                        <th id=\"T_6eb88190_11e6_11eb_959f_acde48001122level0_row0\" class=\"row_heading level0 row0\" >0</th>\n",
       "                        <td id=\"T_6eb88190_11e6_11eb_959f_acde48001122row0_col0\" class=\"data row0 col0\" >hot</td>\n",
       "                        <td id=\"T_6eb88190_11e6_11eb_959f_acde48001122row0_col1\" class=\"data row0 col1\" >hot</td>\n",
       "                        <td id=\"T_6eb88190_11e6_11eb_959f_acde48001122row0_col2\" class=\"data row0 col2\" >ADJ</td>\n",
       "                        <td id=\"T_6eb88190_11e6_11eb_959f_acde48001122row0_col3\" class=\"data row0 col3\" >JJ</td>\n",
       "                        <td id=\"T_6eb88190_11e6_11eb_959f_acde48001122row0_col4\" class=\"data row0 col4\" >amod</td>\n",
       "                        <td id=\"T_6eb88190_11e6_11eb_959f_acde48001122row0_col5\" class=\"data row0 col5\" >False</td>\n",
       "                        <td id=\"T_6eb88190_11e6_11eb_959f_acde48001122row0_col6\" class=\"data row0 col6\" >False</td>\n",
       "                        <td id=\"T_6eb88190_11e6_11eb_959f_acde48001122row0_col7\" class=\"data row0 col7\" >False</td>\n",
       "            </tr>\n",
       "            <tr>\n",
       "                        <th id=\"T_6eb88190_11e6_11eb_959f_acde48001122level0_row1\" class=\"row_heading level0 row1\" >1</th>\n",
       "                        <td id=\"T_6eb88190_11e6_11eb_959f_acde48001122row1_col0\" class=\"data row1 col0\" >wheels</td>\n",
       "                        <td id=\"T_6eb88190_11e6_11eb_959f_acde48001122row1_col1\" class=\"data row1 col1\" >wheel</td>\n",
       "                        <td id=\"T_6eb88190_11e6_11eb_959f_acde48001122row1_col2\" class=\"data row1 col2\" >NOUN</td>\n",
       "                        <td id=\"T_6eb88190_11e6_11eb_959f_acde48001122row1_col3\" class=\"data row1 col3\" >NNS</td>\n",
       "                        <td id=\"T_6eb88190_11e6_11eb_959f_acde48001122row1_col4\" class=\"data row1 col4\" >nsubj</td>\n",
       "                        <td id=\"T_6eb88190_11e6_11eb_959f_acde48001122row1_col5\" class=\"data row1 col5\" >False</td>\n",
       "                        <td id=\"T_6eb88190_11e6_11eb_959f_acde48001122row1_col6\" class=\"data row1 col6\" >False</td>\n",
       "                        <td id=\"T_6eb88190_11e6_11eb_959f_acde48001122row1_col7\" class=\"data row1 col7\" >False</td>\n",
       "            </tr>\n",
       "            <tr>\n",
       "                        <th id=\"T_6eb88190_11e6_11eb_959f_acde48001122level0_row2\" class=\"row_heading level0 row2\" >2</th>\n",
       "                        <td id=\"T_6eb88190_11e6_11eb_959f_acde48001122row2_col0\" class=\"data row2 col0\" >ranked</td>\n",
       "                        <td id=\"T_6eb88190_11e6_11eb_959f_acde48001122row2_col1\" class=\"data row2 col1\" >rank</td>\n",
       "                        <td id=\"T_6eb88190_11e6_11eb_959f_acde48001122row2_col2\" class=\"data row2 col2\" >VERB</td>\n",
       "                        <td id=\"T_6eb88190_11e6_11eb_959f_acde48001122row2_col3\" class=\"data row2 col3\" >VBD</td>\n",
       "                        <td id=\"T_6eb88190_11e6_11eb_959f_acde48001122row2_col4\" class=\"data row2 col4\" >ROOT</td>\n",
       "                        <td id=\"T_6eb88190_11e6_11eb_959f_acde48001122row2_col5\" class=\"data row2 col5\" >False</td>\n",
       "                        <td id=\"T_6eb88190_11e6_11eb_959f_acde48001122row2_col6\" class=\"data row2 col6\" >False</td>\n",
       "                        <td id=\"T_6eb88190_11e6_11eb_959f_acde48001122row2_col7\" class=\"data row2 col7\" >False</td>\n",
       "            </tr>\n",
       "            <tr>\n",
       "                        <th id=\"T_6eb88190_11e6_11eb_959f_acde48001122level0_row3\" class=\"row_heading level0 row3\" >3</th>\n",
       "                        <td id=\"T_6eb88190_11e6_11eb_959f_acde48001122row3_col0\" class=\"data row3 col0\" >number</td>\n",
       "                        <td id=\"T_6eb88190_11e6_11eb_959f_acde48001122row3_col1\" class=\"data row3 col1\" >number</td>\n",
       "                        <td id=\"T_6eb88190_11e6_11eb_959f_acde48001122row3_col2\" class=\"data row3 col2\" >NOUN</td>\n",
       "                        <td id=\"T_6eb88190_11e6_11eb_959f_acde48001122row3_col3\" class=\"data row3 col3\" >NN</td>\n",
       "                        <td id=\"T_6eb88190_11e6_11eb_959f_acde48001122row3_col4\" class=\"data row3 col4\" >compound</td>\n",
       "                        <td id=\"T_6eb88190_11e6_11eb_959f_acde48001122row3_col5\" class=\"data row3 col5\" >False</td>\n",
       "                        <td id=\"T_6eb88190_11e6_11eb_959f_acde48001122row3_col6\" class=\"data row3 col6\" >False</td>\n",
       "                        <td id=\"T_6eb88190_11e6_11eb_959f_acde48001122row3_col7\" class=\"data row3 col7\" >False</td>\n",
       "            </tr>\n",
       "            <tr>\n",
       "                        <th id=\"T_6eb88190_11e6_11eb_959f_acde48001122level0_row4\" class=\"row_heading level0 row4\" >4</th>\n",
       "                        <td id=\"T_6eb88190_11e6_11eb_959f_acde48001122row4_col0\" class=\"data row4 col0\" >one</td>\n",
       "                        <td id=\"T_6eb88190_11e6_11eb_959f_acde48001122row4_col1\" class=\"data row4 col1\" >one</td>\n",
       "                        <td id=\"T_6eb88190_11e6_11eb_959f_acde48001122row4_col2\" class=\"data row4 col2\" >NUM</td>\n",
       "                        <td id=\"T_6eb88190_11e6_11eb_959f_acde48001122row4_col3\" class=\"data row4 col3\" >CD</td>\n",
       "                        <td id=\"T_6eb88190_11e6_11eb_959f_acde48001122row4_col4\" class=\"data row4 col4\" >nummod</td>\n",
       "                        <td id=\"T_6eb88190_11e6_11eb_959f_acde48001122row4_col5\" class=\"data row4 col5\" >True</td>\n",
       "                        <td id=\"T_6eb88190_11e6_11eb_959f_acde48001122row4_col6\" class=\"data row4 col6\" >False</td>\n",
       "                        <td id=\"T_6eb88190_11e6_11eb_959f_acde48001122row4_col7\" class=\"data row4 col7\" >False</td>\n",
       "            </tr>\n",
       "            <tr>\n",
       "                        <th id=\"T_6eb88190_11e6_11eb_959f_acde48001122level0_row5\" class=\"row_heading level0 row5\" >5</th>\n",
       "                        <td id=\"T_6eb88190_11e6_11eb_959f_acde48001122row5_col0\" class=\"data row5 col0\" >toy</td>\n",
       "                        <td id=\"T_6eb88190_11e6_11eb_959f_acde48001122row5_col1\" class=\"data row5 col1\" >toy</td>\n",
       "                        <td id=\"T_6eb88190_11e6_11eb_959f_acde48001122row5_col2\" class=\"data row5 col2\" >NOUN</td>\n",
       "                        <td id=\"T_6eb88190_11e6_11eb_959f_acde48001122row5_col3\" class=\"data row5 col3\" >NN</td>\n",
       "                        <td id=\"T_6eb88190_11e6_11eb_959f_acde48001122row5_col4\" class=\"data row5 col4\" >npadvmod</td>\n",
       "                        <td id=\"T_6eb88190_11e6_11eb_959f_acde48001122row5_col5\" class=\"data row5 col5\" >False</td>\n",
       "                        <td id=\"T_6eb88190_11e6_11eb_959f_acde48001122row5_col6\" class=\"data row5 col6\" >False</td>\n",
       "                        <td id=\"T_6eb88190_11e6_11eb_959f_acde48001122row5_col7\" class=\"data row5 col7\" >False</td>\n",
       "            </tr>\n",
       "            <tr>\n",
       "                        <th id=\"T_6eb88190_11e6_11eb_959f_acde48001122level0_row6\" class=\"row_heading level0 row6\" >6</th>\n",
       "                        <td id=\"T_6eb88190_11e6_11eb_959f_acde48001122row6_col0\" class=\"data row6 col0\" >for</td>\n",
       "                        <td id=\"T_6eb88190_11e6_11eb_959f_acde48001122row6_col1\" class=\"data row6 col1\" >for</td>\n",
       "                        <td id=\"T_6eb88190_11e6_11eb_959f_acde48001122row6_col2\" class=\"data row6 col2\" >ADP</td>\n",
       "                        <td id=\"T_6eb88190_11e6_11eb_959f_acde48001122row6_col3\" class=\"data row6 col3\" >IN</td>\n",
       "                        <td id=\"T_6eb88190_11e6_11eb_959f_acde48001122row6_col4\" class=\"data row6 col4\" >prep</td>\n",
       "                        <td id=\"T_6eb88190_11e6_11eb_959f_acde48001122row6_col5\" class=\"data row6 col5\" >True</td>\n",
       "                        <td id=\"T_6eb88190_11e6_11eb_959f_acde48001122row6_col6\" class=\"data row6 col6\" >False</td>\n",
       "                        <td id=\"T_6eb88190_11e6_11eb_959f_acde48001122row6_col7\" class=\"data row6 col7\" >False</td>\n",
       "            </tr>\n",
       "            <tr>\n",
       "                        <th id=\"T_6eb88190_11e6_11eb_959f_acde48001122level0_row7\" class=\"row_heading level0 row7\" >7</th>\n",
       "                        <td id=\"T_6eb88190_11e6_11eb_959f_acde48001122row7_col0\" class=\"data row7 col0\" >rolling</td>\n",
       "                        <td id=\"T_6eb88190_11e6_11eb_959f_acde48001122row7_col1\" class=\"data row7 col1\" >roll</td>\n",
       "                        <td id=\"T_6eb88190_11e6_11eb_959f_acde48001122row7_col2\" class=\"data row7 col2\" >VERB</td>\n",
       "                        <td id=\"T_6eb88190_11e6_11eb_959f_acde48001122row7_col3\" class=\"data row7 col3\" >VBG</td>\n",
       "                        <td id=\"T_6eb88190_11e6_11eb_959f_acde48001122row7_col4\" class=\"data row7 col4\" >pcomp</td>\n",
       "                        <td id=\"T_6eb88190_11e6_11eb_959f_acde48001122row7_col5\" class=\"data row7 col5\" >False</td>\n",
       "                        <td id=\"T_6eb88190_11e6_11eb_959f_acde48001122row7_col6\" class=\"data row7 col6\" >False</td>\n",
       "                        <td id=\"T_6eb88190_11e6_11eb_959f_acde48001122row7_col7\" class=\"data row7 col7\" >False</td>\n",
       "            </tr>\n",
       "            <tr>\n",
       "                        <th id=\"T_6eb88190_11e6_11eb_959f_acde48001122level0_row8\" class=\"row_heading level0 row8\" >8</th>\n",
       "                        <td id=\"T_6eb88190_11e6_11eb_959f_acde48001122row8_col0\" class=\"data row8 col0\" >down</td>\n",
       "                        <td id=\"T_6eb88190_11e6_11eb_959f_acde48001122row8_col1\" class=\"data row8 col1\" >down</td>\n",
       "                        <td id=\"T_6eb88190_11e6_11eb_959f_acde48001122row8_col2\" class=\"data row8 col2\" >ADP</td>\n",
       "                        <td id=\"T_6eb88190_11e6_11eb_959f_acde48001122row8_col3\" class=\"data row8 col3\" >RP</td>\n",
       "                        <td id=\"T_6eb88190_11e6_11eb_959f_acde48001122row8_col4\" class=\"data row8 col4\" >prt</td>\n",
       "                        <td id=\"T_6eb88190_11e6_11eb_959f_acde48001122row8_col5\" class=\"data row8 col5\" >True</td>\n",
       "                        <td id=\"T_6eb88190_11e6_11eb_959f_acde48001122row8_col6\" class=\"data row8 col6\" >False</td>\n",
       "                        <td id=\"T_6eb88190_11e6_11eb_959f_acde48001122row8_col7\" class=\"data row8 col7\" >False</td>\n",
       "            </tr>\n",
       "            <tr>\n",
       "                        <th id=\"T_6eb88190_11e6_11eb_959f_acde48001122level0_row9\" class=\"row_heading level0 row9\" >9</th>\n",
       "                        <td id=\"T_6eb88190_11e6_11eb_959f_acde48001122row9_col0\" class=\"data row9 col0\" >ramp</td>\n",
       "                        <td id=\"T_6eb88190_11e6_11eb_959f_acde48001122row9_col1\" class=\"data row9 col1\" >ramp</td>\n",
       "                        <td id=\"T_6eb88190_11e6_11eb_959f_acde48001122row9_col2\" class=\"data row9 col2\" >NOUN</td>\n",
       "                        <td id=\"T_6eb88190_11e6_11eb_959f_acde48001122row9_col3\" class=\"data row9 col3\" >NN</td>\n",
       "                        <td id=\"T_6eb88190_11e6_11eb_959f_acde48001122row9_col4\" class=\"data row9 col4\" >dobj</td>\n",
       "                        <td id=\"T_6eb88190_11e6_11eb_959f_acde48001122row9_col5\" class=\"data row9 col5\" >False</td>\n",
       "                        <td id=\"T_6eb88190_11e6_11eb_959f_acde48001122row9_col6\" class=\"data row9 col6\" >False</td>\n",
       "                        <td id=\"T_6eb88190_11e6_11eb_959f_acde48001122row9_col7\" class=\"data row9 col7\" >False</td>\n",
       "            </tr>\n",
       "            <tr>\n",
       "                        <th id=\"T_6eb88190_11e6_11eb_959f_acde48001122level0_row10\" class=\"row_heading level0 row10\" >10</th>\n",
       "                        <td id=\"T_6eb88190_11e6_11eb_959f_acde48001122row10_col0\" class=\"data row10 col0\" >,</td>\n",
       "                        <td id=\"T_6eb88190_11e6_11eb_959f_acde48001122row10_col1\" class=\"data row10 col1\" >,</td>\n",
       "                        <td id=\"T_6eb88190_11e6_11eb_959f_acde48001122row10_col2\" class=\"data row10 col2\" >PUNCT</td>\n",
       "                        <td id=\"T_6eb88190_11e6_11eb_959f_acde48001122row10_col3\" class=\"data row10 col3\" >,</td>\n",
       "                        <td id=\"T_6eb88190_11e6_11eb_959f_acde48001122row10_col4\" class=\"data row10 col4\" >punct</td>\n",
       "                        <td id=\"T_6eb88190_11e6_11eb_959f_acde48001122row10_col5\" class=\"data row10 col5\" >False</td>\n",
       "                        <td id=\"T_6eb88190_11e6_11eb_959f_acde48001122row10_col6\" class=\"data row10 col6\" >True</td>\n",
       "                        <td id=\"T_6eb88190_11e6_11eb_959f_acde48001122row10_col7\" class=\"data row10 col7\" >False</td>\n",
       "            </tr>\n",
       "            <tr>\n",
       "                        <th id=\"T_6eb88190_11e6_11eb_959f_acde48001122level0_row11\" class=\"row_heading level0 row11\" >11</th>\n",
       "                        <td id=\"T_6eb88190_11e6_11eb_959f_acde48001122row11_col0\" class=\"data row11 col0\" >knocking</td>\n",
       "                        <td id=\"T_6eb88190_11e6_11eb_959f_acde48001122row11_col1\" class=\"data row11 col1\" >knock</td>\n",
       "                        <td id=\"T_6eb88190_11e6_11eb_959f_acde48001122row11_col2\" class=\"data row11 col2\" >VERB</td>\n",
       "                        <td id=\"T_6eb88190_11e6_11eb_959f_acde48001122row11_col3\" class=\"data row11 col3\" >VBG</td>\n",
       "                        <td id=\"T_6eb88190_11e6_11eb_959f_acde48001122row11_col4\" class=\"data row11 col4\" >advcl</td>\n",
       "                        <td id=\"T_6eb88190_11e6_11eb_959f_acde48001122row11_col5\" class=\"data row11 col5\" >False</td>\n",
       "                        <td id=\"T_6eb88190_11e6_11eb_959f_acde48001122row11_col6\" class=\"data row11 col6\" >False</td>\n",
       "                        <td id=\"T_6eb88190_11e6_11eb_959f_acde48001122row11_col7\" class=\"data row11 col7\" >False</td>\n",
       "            </tr>\n",
       "            <tr>\n",
       "                        <th id=\"T_6eb88190_11e6_11eb_959f_acde48001122level0_row12\" class=\"row_heading level0 row12\" >12</th>\n",
       "                        <td id=\"T_6eb88190_11e6_11eb_959f_acde48001122row12_col0\" class=\"data row12 col0\" >over</td>\n",
       "                        <td id=\"T_6eb88190_11e6_11eb_959f_acde48001122row12_col1\" class=\"data row12 col1\" >over</td>\n",
       "                        <td id=\"T_6eb88190_11e6_11eb_959f_acde48001122row12_col2\" class=\"data row12 col2\" >ADP</td>\n",
       "                        <td id=\"T_6eb88190_11e6_11eb_959f_acde48001122row12_col3\" class=\"data row12 col3\" >IN</td>\n",
       "                        <td id=\"T_6eb88190_11e6_11eb_959f_acde48001122row12_col4\" class=\"data row12 col4\" >prep</td>\n",
       "                        <td id=\"T_6eb88190_11e6_11eb_959f_acde48001122row12_col5\" class=\"data row12 col5\" >True</td>\n",
       "                        <td id=\"T_6eb88190_11e6_11eb_959f_acde48001122row12_col6\" class=\"data row12 col6\" >False</td>\n",
       "                        <td id=\"T_6eb88190_11e6_11eb_959f_acde48001122row12_col7\" class=\"data row12 col7\" >False</td>\n",
       "            </tr>\n",
       "            <tr>\n",
       "                        <th id=\"T_6eb88190_11e6_11eb_959f_acde48001122level0_row13\" class=\"row_heading level0 row13\" >13</th>\n",
       "                        <td id=\"T_6eb88190_11e6_11eb_959f_acde48001122row13_col0\" class=\"data row13 col0\" >dominoes</td>\n",
       "                        <td id=\"T_6eb88190_11e6_11eb_959f_acde48001122row13_col1\" class=\"data row13 col1\" >domino</td>\n",
       "                        <td id=\"T_6eb88190_11e6_11eb_959f_acde48001122row13_col2\" class=\"data row13 col2\" >NOUN</td>\n",
       "                        <td id=\"T_6eb88190_11e6_11eb_959f_acde48001122row13_col3\" class=\"data row13 col3\" >NNS</td>\n",
       "                        <td id=\"T_6eb88190_11e6_11eb_959f_acde48001122row13_col4\" class=\"data row13 col4\" >pobj</td>\n",
       "                        <td id=\"T_6eb88190_11e6_11eb_959f_acde48001122row13_col5\" class=\"data row13 col5\" >False</td>\n",
       "                        <td id=\"T_6eb88190_11e6_11eb_959f_acde48001122row13_col6\" class=\"data row13 col6\" >False</td>\n",
       "                        <td id=\"T_6eb88190_11e6_11eb_959f_acde48001122row13_col7\" class=\"data row13 col7\" >False</td>\n",
       "            </tr>\n",
       "            <tr>\n",
       "                        <th id=\"T_6eb88190_11e6_11eb_959f_acde48001122level0_row14\" class=\"row_heading level0 row14\" >14</th>\n",
       "                        <td id=\"T_6eb88190_11e6_11eb_959f_acde48001122row14_col0\" class=\"data row14 col0\" >that</td>\n",
       "                        <td id=\"T_6eb88190_11e6_11eb_959f_acde48001122row14_col1\" class=\"data row14 col1\" >that</td>\n",
       "                        <td id=\"T_6eb88190_11e6_11eb_959f_acde48001122row14_col2\" class=\"data row14 col2\" >DET</td>\n",
       "                        <td id=\"T_6eb88190_11e6_11eb_959f_acde48001122row14_col3\" class=\"data row14 col3\" >WDT</td>\n",
       "                        <td id=\"T_6eb88190_11e6_11eb_959f_acde48001122row14_col4\" class=\"data row14 col4\" >nsubj</td>\n",
       "                        <td id=\"T_6eb88190_11e6_11eb_959f_acde48001122row14_col5\" class=\"data row14 col5\" >True</td>\n",
       "                        <td id=\"T_6eb88190_11e6_11eb_959f_acde48001122row14_col6\" class=\"data row14 col6\" >False</td>\n",
       "                        <td id=\"T_6eb88190_11e6_11eb_959f_acde48001122row14_col7\" class=\"data row14 col7\" >False</td>\n",
       "            </tr>\n",
       "            <tr>\n",
       "                        <th id=\"T_6eb88190_11e6_11eb_959f_acde48001122level0_row15\" class=\"row_heading level0 row15\" >15</th>\n",
       "                        <td id=\"T_6eb88190_11e6_11eb_959f_acde48001122row15_col0\" class=\"data row15 col0\" >send</td>\n",
       "                        <td id=\"T_6eb88190_11e6_11eb_959f_acde48001122row15_col1\" class=\"data row15 col1\" >send</td>\n",
       "                        <td id=\"T_6eb88190_11e6_11eb_959f_acde48001122row15_col2\" class=\"data row15 col2\" >VERB</td>\n",
       "                        <td id=\"T_6eb88190_11e6_11eb_959f_acde48001122row15_col3\" class=\"data row15 col3\" >VBP</td>\n",
       "                        <td id=\"T_6eb88190_11e6_11eb_959f_acde48001122row15_col4\" class=\"data row15 col4\" >relcl</td>\n",
       "                        <td id=\"T_6eb88190_11e6_11eb_959f_acde48001122row15_col5\" class=\"data row15 col5\" >False</td>\n",
       "                        <td id=\"T_6eb88190_11e6_11eb_959f_acde48001122row15_col6\" class=\"data row15 col6\" >False</td>\n",
       "                        <td id=\"T_6eb88190_11e6_11eb_959f_acde48001122row15_col7\" class=\"data row15 col7\" >False</td>\n",
       "            </tr>\n",
       "            <tr>\n",
       "                        <th id=\"T_6eb88190_11e6_11eb_959f_acde48001122level0_row16\" class=\"row_heading level0 row16\" >16</th>\n",
       "                        <td id=\"T_6eb88190_11e6_11eb_959f_acde48001122row16_col0\" class=\"data row16 col0\" >marble</td>\n",
       "                        <td id=\"T_6eb88190_11e6_11eb_959f_acde48001122row16_col1\" class=\"data row16 col1\" >marble</td>\n",
       "                        <td id=\"T_6eb88190_11e6_11eb_959f_acde48001122row16_col2\" class=\"data row16 col2\" >NOUN</td>\n",
       "                        <td id=\"T_6eb88190_11e6_11eb_959f_acde48001122row16_col3\" class=\"data row16 col3\" >NN</td>\n",
       "                        <td id=\"T_6eb88190_11e6_11eb_959f_acde48001122row16_col4\" class=\"data row16 col4\" >dobj</td>\n",
       "                        <td id=\"T_6eb88190_11e6_11eb_959f_acde48001122row16_col5\" class=\"data row16 col5\" >False</td>\n",
       "                        <td id=\"T_6eb88190_11e6_11eb_959f_acde48001122row16_col6\" class=\"data row16 col6\" >False</td>\n",
       "                        <td id=\"T_6eb88190_11e6_11eb_959f_acde48001122row16_col7\" class=\"data row16 col7\" >False</td>\n",
       "            </tr>\n",
       "            <tr>\n",
       "                        <th id=\"T_6eb88190_11e6_11eb_959f_acde48001122level0_row17\" class=\"row_heading level0 row17\" >17</th>\n",
       "                        <td id=\"T_6eb88190_11e6_11eb_959f_acde48001122row17_col0\" class=\"data row17 col0\" >down</td>\n",
       "                        <td id=\"T_6eb88190_11e6_11eb_959f_acde48001122row17_col1\" class=\"data row17 col1\" >down</td>\n",
       "                        <td id=\"T_6eb88190_11e6_11eb_959f_acde48001122row17_col2\" class=\"data row17 col2\" >ADP</td>\n",
       "                        <td id=\"T_6eb88190_11e6_11eb_959f_acde48001122row17_col3\" class=\"data row17 col3\" >RP</td>\n",
       "                        <td id=\"T_6eb88190_11e6_11eb_959f_acde48001122row17_col4\" class=\"data row17 col4\" >prep</td>\n",
       "                        <td id=\"T_6eb88190_11e6_11eb_959f_acde48001122row17_col5\" class=\"data row17 col5\" >True</td>\n",
       "                        <td id=\"T_6eb88190_11e6_11eb_959f_acde48001122row17_col6\" class=\"data row17 col6\" >False</td>\n",
       "                        <td id=\"T_6eb88190_11e6_11eb_959f_acde48001122row17_col7\" class=\"data row17 col7\" >False</td>\n",
       "            </tr>\n",
       "            <tr>\n",
       "                        <th id=\"T_6eb88190_11e6_11eb_959f_acde48001122level0_row18\" class=\"row_heading level0 row18\" >18</th>\n",
       "                        <td id=\"T_6eb88190_11e6_11eb_959f_acde48001122row18_col0\" class=\"data row18 col0\" >a</td>\n",
       "                        <td id=\"T_6eb88190_11e6_11eb_959f_acde48001122row18_col1\" class=\"data row18 col1\" >a</td>\n",
       "                        <td id=\"T_6eb88190_11e6_11eb_959f_acde48001122row18_col2\" class=\"data row18 col2\" >DET</td>\n",
       "                        <td id=\"T_6eb88190_11e6_11eb_959f_acde48001122row18_col3\" class=\"data row18 col3\" >DT</td>\n",
       "                        <td id=\"T_6eb88190_11e6_11eb_959f_acde48001122row18_col4\" class=\"data row18 col4\" >det</td>\n",
       "                        <td id=\"T_6eb88190_11e6_11eb_959f_acde48001122row18_col5\" class=\"data row18 col5\" >True</td>\n",
       "                        <td id=\"T_6eb88190_11e6_11eb_959f_acde48001122row18_col6\" class=\"data row18 col6\" >False</td>\n",
       "                        <td id=\"T_6eb88190_11e6_11eb_959f_acde48001122row18_col7\" class=\"data row18 col7\" >False</td>\n",
       "            </tr>\n",
       "            <tr>\n",
       "                        <th id=\"T_6eb88190_11e6_11eb_959f_acde48001122level0_row19\" class=\"row_heading level0 row19\" >19</th>\n",
       "                        <td id=\"T_6eb88190_11e6_11eb_959f_acde48001122row19_col0\" class=\"data row19 col0\" >funnel</td>\n",
       "                        <td id=\"T_6eb88190_11e6_11eb_959f_acde48001122row19_col1\" class=\"data row19 col1\" >funnel</td>\n",
       "                        <td id=\"T_6eb88190_11e6_11eb_959f_acde48001122row19_col2\" class=\"data row19 col2\" >NOUN</td>\n",
       "                        <td id=\"T_6eb88190_11e6_11eb_959f_acde48001122row19_col3\" class=\"data row19 col3\" >NN</td>\n",
       "                        <td id=\"T_6eb88190_11e6_11eb_959f_acde48001122row19_col4\" class=\"data row19 col4\" >pobj</td>\n",
       "                        <td id=\"T_6eb88190_11e6_11eb_959f_acde48001122row19_col5\" class=\"data row19 col5\" >False</td>\n",
       "                        <td id=\"T_6eb88190_11e6_11eb_959f_acde48001122row19_col6\" class=\"data row19 col6\" >False</td>\n",
       "                        <td id=\"T_6eb88190_11e6_11eb_959f_acde48001122row19_col7\" class=\"data row19 col7\" >False</td>\n",
       "            </tr>\n",
       "            <tr>\n",
       "                        <th id=\"T_6eb88190_11e6_11eb_959f_acde48001122level0_row20\" class=\"row_heading level0 row20\" >20</th>\n",
       "                        <td id=\"T_6eb88190_11e6_11eb_959f_acde48001122row20_col0\" class=\"data row20 col0\" >,</td>\n",
       "                        <td id=\"T_6eb88190_11e6_11eb_959f_acde48001122row20_col1\" class=\"data row20 col1\" >,</td>\n",
       "                        <td id=\"T_6eb88190_11e6_11eb_959f_acde48001122row20_col2\" class=\"data row20 col2\" >PUNCT</td>\n",
       "                        <td id=\"T_6eb88190_11e6_11eb_959f_acde48001122row20_col3\" class=\"data row20 col3\" >,</td>\n",
       "                        <td id=\"T_6eb88190_11e6_11eb_959f_acde48001122row20_col4\" class=\"data row20 col4\" >punct</td>\n",
       "                        <td id=\"T_6eb88190_11e6_11eb_959f_acde48001122row20_col5\" class=\"data row20 col5\" >False</td>\n",
       "                        <td id=\"T_6eb88190_11e6_11eb_959f_acde48001122row20_col6\" class=\"data row20 col6\" >True</td>\n",
       "                        <td id=\"T_6eb88190_11e6_11eb_959f_acde48001122row20_col7\" class=\"data row20 col7\" >False</td>\n",
       "            </tr>\n",
       "            <tr>\n",
       "                        <th id=\"T_6eb88190_11e6_11eb_959f_acde48001122level0_row21\" class=\"row_heading level0 row21\" >21</th>\n",
       "                        <td id=\"T_6eb88190_11e6_11eb_959f_acde48001122row21_col0\" class=\"data row21 col0\" >dropping</td>\n",
       "                        <td id=\"T_6eb88190_11e6_11eb_959f_acde48001122row21_col1\" class=\"data row21 col1\" >drop</td>\n",
       "                        <td id=\"T_6eb88190_11e6_11eb_959f_acde48001122row21_col2\" class=\"data row21 col2\" >VERB</td>\n",
       "                        <td id=\"T_6eb88190_11e6_11eb_959f_acde48001122row21_col3\" class=\"data row21 col3\" >VBG</td>\n",
       "                        <td id=\"T_6eb88190_11e6_11eb_959f_acde48001122row21_col4\" class=\"data row21 col4\" >conj</td>\n",
       "                        <td id=\"T_6eb88190_11e6_11eb_959f_acde48001122row21_col5\" class=\"data row21 col5\" >False</td>\n",
       "                        <td id=\"T_6eb88190_11e6_11eb_959f_acde48001122row21_col6\" class=\"data row21 col6\" >False</td>\n",
       "                        <td id=\"T_6eb88190_11e6_11eb_959f_acde48001122row21_col7\" class=\"data row21 col7\" >False</td>\n",
       "            </tr>\n",
       "            <tr>\n",
       "                        <th id=\"T_6eb88190_11e6_11eb_959f_acde48001122level0_row22\" class=\"row_heading level0 row22\" >22</th>\n",
       "                        <td id=\"T_6eb88190_11e6_11eb_959f_acde48001122row22_col0\" class=\"data row22 col0\" >onto</td>\n",
       "                        <td id=\"T_6eb88190_11e6_11eb_959f_acde48001122row22_col1\" class=\"data row22 col1\" >onto</td>\n",
       "                        <td id=\"T_6eb88190_11e6_11eb_959f_acde48001122row22_col2\" class=\"data row22 col2\" >ADP</td>\n",
       "                        <td id=\"T_6eb88190_11e6_11eb_959f_acde48001122row22_col3\" class=\"data row22 col3\" >IN</td>\n",
       "                        <td id=\"T_6eb88190_11e6_11eb_959f_acde48001122row22_col4\" class=\"data row22 col4\" >prep</td>\n",
       "                        <td id=\"T_6eb88190_11e6_11eb_959f_acde48001122row22_col5\" class=\"data row22 col5\" >True</td>\n",
       "                        <td id=\"T_6eb88190_11e6_11eb_959f_acde48001122row22_col6\" class=\"data row22 col6\" >False</td>\n",
       "                        <td id=\"T_6eb88190_11e6_11eb_959f_acde48001122row22_col7\" class=\"data row22 col7\" >False</td>\n",
       "            </tr>\n",
       "            <tr>\n",
       "                        <th id=\"T_6eb88190_11e6_11eb_959f_acde48001122level0_row23\" class=\"row_heading level0 row23\" >23</th>\n",
       "                        <td id=\"T_6eb88190_11e6_11eb_959f_acde48001122row23_col0\" class=\"data row23 col0\" >teeter</td>\n",
       "                        <td id=\"T_6eb88190_11e6_11eb_959f_acde48001122row23_col1\" class=\"data row23 col1\" >teeter</td>\n",
       "                        <td id=\"T_6eb88190_11e6_11eb_959f_acde48001122row23_col2\" class=\"data row23 col2\" >NOUN</td>\n",
       "                        <td id=\"T_6eb88190_11e6_11eb_959f_acde48001122row23_col3\" class=\"data row23 col3\" >NN</td>\n",
       "                        <td id=\"T_6eb88190_11e6_11eb_959f_acde48001122row23_col4\" class=\"data row23 col4\" >compound</td>\n",
       "                        <td id=\"T_6eb88190_11e6_11eb_959f_acde48001122row23_col5\" class=\"data row23 col5\" >False</td>\n",
       "                        <td id=\"T_6eb88190_11e6_11eb_959f_acde48001122row23_col6\" class=\"data row23 col6\" >False</td>\n",
       "                        <td id=\"T_6eb88190_11e6_11eb_959f_acde48001122row23_col7\" class=\"data row23 col7\" >False</td>\n",
       "            </tr>\n",
       "            <tr>\n",
       "                        <th id=\"T_6eb88190_11e6_11eb_959f_acde48001122level0_row24\" class=\"row_heading level0 row24\" >24</th>\n",
       "                        <td id=\"T_6eb88190_11e6_11eb_959f_acde48001122row24_col0\" class=\"data row24 col0\" >-</td>\n",
       "                        <td id=\"T_6eb88190_11e6_11eb_959f_acde48001122row24_col1\" class=\"data row24 col1\" >-</td>\n",
       "                        <td id=\"T_6eb88190_11e6_11eb_959f_acde48001122row24_col2\" class=\"data row24 col2\" >PUNCT</td>\n",
       "                        <td id=\"T_6eb88190_11e6_11eb_959f_acde48001122row24_col3\" class=\"data row24 col3\" >HYPH</td>\n",
       "                        <td id=\"T_6eb88190_11e6_11eb_959f_acde48001122row24_col4\" class=\"data row24 col4\" >punct</td>\n",
       "                        <td id=\"T_6eb88190_11e6_11eb_959f_acde48001122row24_col5\" class=\"data row24 col5\" >False</td>\n",
       "                        <td id=\"T_6eb88190_11e6_11eb_959f_acde48001122row24_col6\" class=\"data row24 col6\" >True</td>\n",
       "                        <td id=\"T_6eb88190_11e6_11eb_959f_acde48001122row24_col7\" class=\"data row24 col7\" >False</td>\n",
       "            </tr>\n",
       "            <tr>\n",
       "                        <th id=\"T_6eb88190_11e6_11eb_959f_acde48001122level0_row25\" class=\"row_heading level0 row25\" >25</th>\n",
       "                        <td id=\"T_6eb88190_11e6_11eb_959f_acde48001122row25_col0\" class=\"data row25 col0\" >totter</td>\n",
       "                        <td id=\"T_6eb88190_11e6_11eb_959f_acde48001122row25_col1\" class=\"data row25 col1\" >totter</td>\n",
       "                        <td id=\"T_6eb88190_11e6_11eb_959f_acde48001122row25_col2\" class=\"data row25 col2\" >NOUN</td>\n",
       "                        <td id=\"T_6eb88190_11e6_11eb_959f_acde48001122row25_col3\" class=\"data row25 col3\" >NN</td>\n",
       "                        <td id=\"T_6eb88190_11e6_11eb_959f_acde48001122row25_col4\" class=\"data row25 col4\" >pobj</td>\n",
       "                        <td id=\"T_6eb88190_11e6_11eb_959f_acde48001122row25_col5\" class=\"data row25 col5\" >False</td>\n",
       "                        <td id=\"T_6eb88190_11e6_11eb_959f_acde48001122row25_col6\" class=\"data row25 col6\" >False</td>\n",
       "                        <td id=\"T_6eb88190_11e6_11eb_959f_acde48001122row25_col7\" class=\"data row25 col7\" >False</td>\n",
       "            </tr>\n",
       "            <tr>\n",
       "                        <th id=\"T_6eb88190_11e6_11eb_959f_acde48001122level0_row26\" class=\"row_heading level0 row26\" >26</th>\n",
       "                        <td id=\"T_6eb88190_11e6_11eb_959f_acde48001122row26_col0\" class=\"data row26 col0\" >that</td>\n",
       "                        <td id=\"T_6eb88190_11e6_11eb_959f_acde48001122row26_col1\" class=\"data row26 col1\" >that</td>\n",
       "                        <td id=\"T_6eb88190_11e6_11eb_959f_acde48001122row26_col2\" class=\"data row26 col2\" >DET</td>\n",
       "                        <td id=\"T_6eb88190_11e6_11eb_959f_acde48001122row26_col3\" class=\"data row26 col3\" >WDT</td>\n",
       "                        <td id=\"T_6eb88190_11e6_11eb_959f_acde48001122row26_col4\" class=\"data row26 col4\" >nsubj</td>\n",
       "                        <td id=\"T_6eb88190_11e6_11eb_959f_acde48001122row26_col5\" class=\"data row26 col5\" >True</td>\n",
       "                        <td id=\"T_6eb88190_11e6_11eb_959f_acde48001122row26_col6\" class=\"data row26 col6\" >False</td>\n",
       "                        <td id=\"T_6eb88190_11e6_11eb_959f_acde48001122row26_col7\" class=\"data row26 col7\" >False</td>\n",
       "            </tr>\n",
       "            <tr>\n",
       "                        <th id=\"T_6eb88190_11e6_11eb_959f_acde48001122level0_row27\" class=\"row_heading level0 row27\" >27</th>\n",
       "                        <td id=\"T_6eb88190_11e6_11eb_959f_acde48001122row27_col0\" class=\"data row27 col0\" >yanks</td>\n",
       "                        <td id=\"T_6eb88190_11e6_11eb_959f_acde48001122row27_col1\" class=\"data row27 col1\" >yank</td>\n",
       "                        <td id=\"T_6eb88190_11e6_11eb_959f_acde48001122row27_col2\" class=\"data row27 col2\" >VERB</td>\n",
       "                        <td id=\"T_6eb88190_11e6_11eb_959f_acde48001122row27_col3\" class=\"data row27 col3\" >VBZ</td>\n",
       "                        <td id=\"T_6eb88190_11e6_11eb_959f_acde48001122row27_col4\" class=\"data row27 col4\" >relcl</td>\n",
       "                        <td id=\"T_6eb88190_11e6_11eb_959f_acde48001122row27_col5\" class=\"data row27 col5\" >False</td>\n",
       "                        <td id=\"T_6eb88190_11e6_11eb_959f_acde48001122row27_col6\" class=\"data row27 col6\" >False</td>\n",
       "                        <td id=\"T_6eb88190_11e6_11eb_959f_acde48001122row27_col7\" class=\"data row27 col7\" >False</td>\n",
       "            </tr>\n",
       "            <tr>\n",
       "                        <th id=\"T_6eb88190_11e6_11eb_959f_acde48001122level0_row28\" class=\"row_heading level0 row28\" >28</th>\n",
       "                        <td id=\"T_6eb88190_11e6_11eb_959f_acde48001122row28_col0\" class=\"data row28 col0\" >on</td>\n",
       "                        <td id=\"T_6eb88190_11e6_11eb_959f_acde48001122row28_col1\" class=\"data row28 col1\" >on</td>\n",
       "                        <td id=\"T_6eb88190_11e6_11eb_959f_acde48001122row28_col2\" class=\"data row28 col2\" >ADP</td>\n",
       "                        <td id=\"T_6eb88190_11e6_11eb_959f_acde48001122row28_col3\" class=\"data row28 col3\" >IN</td>\n",
       "                        <td id=\"T_6eb88190_11e6_11eb_959f_acde48001122row28_col4\" class=\"data row28 col4\" >prep</td>\n",
       "                        <td id=\"T_6eb88190_11e6_11eb_959f_acde48001122row28_col5\" class=\"data row28 col5\" >True</td>\n",
       "                        <td id=\"T_6eb88190_11e6_11eb_959f_acde48001122row28_col6\" class=\"data row28 col6\" >False</td>\n",
       "                        <td id=\"T_6eb88190_11e6_11eb_959f_acde48001122row28_col7\" class=\"data row28 col7\" >False</td>\n",
       "            </tr>\n",
       "            <tr>\n",
       "                        <th id=\"T_6eb88190_11e6_11eb_959f_acde48001122level0_row29\" class=\"row_heading level0 row29\" >29</th>\n",
       "                        <td id=\"T_6eb88190_11e6_11eb_959f_acde48001122row29_col0\" class=\"data row29 col0\" >string</td>\n",
       "                        <td id=\"T_6eb88190_11e6_11eb_959f_acde48001122row29_col1\" class=\"data row29 col1\" >string</td>\n",
       "                        <td id=\"T_6eb88190_11e6_11eb_959f_acde48001122row29_col2\" class=\"data row29 col2\" >NOUN</td>\n",
       "                        <td id=\"T_6eb88190_11e6_11eb_959f_acde48001122row29_col3\" class=\"data row29 col3\" >NN</td>\n",
       "                        <td id=\"T_6eb88190_11e6_11eb_959f_acde48001122row29_col4\" class=\"data row29 col4\" >pobj</td>\n",
       "                        <td id=\"T_6eb88190_11e6_11eb_959f_acde48001122row29_col5\" class=\"data row29 col5\" >False</td>\n",
       "                        <td id=\"T_6eb88190_11e6_11eb_959f_acde48001122row29_col6\" class=\"data row29 col6\" >False</td>\n",
       "                        <td id=\"T_6eb88190_11e6_11eb_959f_acde48001122row29_col7\" class=\"data row29 col7\" >False</td>\n",
       "            </tr>\n",
       "            <tr>\n",
       "                        <th id=\"T_6eb88190_11e6_11eb_959f_acde48001122level0_row30\" class=\"row_heading level0 row30\" >30</th>\n",
       "                        <td id=\"T_6eb88190_11e6_11eb_959f_acde48001122row30_col0\" class=\"data row30 col0\" >,</td>\n",
       "                        <td id=\"T_6eb88190_11e6_11eb_959f_acde48001122row30_col1\" class=\"data row30 col1\" >,</td>\n",
       "                        <td id=\"T_6eb88190_11e6_11eb_959f_acde48001122row30_col2\" class=\"data row30 col2\" >PUNCT</td>\n",
       "                        <td id=\"T_6eb88190_11e6_11eb_959f_acde48001122row30_col3\" class=\"data row30 col3\" >,</td>\n",
       "                        <td id=\"T_6eb88190_11e6_11eb_959f_acde48001122row30_col4\" class=\"data row30 col4\" >punct</td>\n",
       "                        <td id=\"T_6eb88190_11e6_11eb_959f_acde48001122row30_col5\" class=\"data row30 col5\" >False</td>\n",
       "                        <td id=\"T_6eb88190_11e6_11eb_959f_acde48001122row30_col6\" class=\"data row30 col6\" >True</td>\n",
       "                        <td id=\"T_6eb88190_11e6_11eb_959f_acde48001122row30_col7\" class=\"data row30 col7\" >False</td>\n",
       "            </tr>\n",
       "            <tr>\n",
       "                        <th id=\"T_6eb88190_11e6_11eb_959f_acde48001122level0_row31\" class=\"row_heading level0 row31\" >31</th>\n",
       "                        <td id=\"T_6eb88190_11e6_11eb_959f_acde48001122row31_col0\" class=\"data row31 col0\" >causing</td>\n",
       "                        <td id=\"T_6eb88190_11e6_11eb_959f_acde48001122row31_col1\" class=\"data row31 col1\" >cause</td>\n",
       "                        <td id=\"T_6eb88190_11e6_11eb_959f_acde48001122row31_col2\" class=\"data row31 col2\" >VERB</td>\n",
       "                        <td id=\"T_6eb88190_11e6_11eb_959f_acde48001122row31_col3\" class=\"data row31 col3\" >VBG</td>\n",
       "                        <td id=\"T_6eb88190_11e6_11eb_959f_acde48001122row31_col4\" class=\"data row31 col4\" >conj</td>\n",
       "                        <td id=\"T_6eb88190_11e6_11eb_959f_acde48001122row31_col5\" class=\"data row31 col5\" >False</td>\n",
       "                        <td id=\"T_6eb88190_11e6_11eb_959f_acde48001122row31_col6\" class=\"data row31 col6\" >False</td>\n",
       "                        <td id=\"T_6eb88190_11e6_11eb_959f_acde48001122row31_col7\" class=\"data row31 col7\" >False</td>\n",
       "            </tr>\n",
       "            <tr>\n",
       "                        <th id=\"T_6eb88190_11e6_11eb_959f_acde48001122level0_row32\" class=\"row_heading level0 row32\" >32</th>\n",
       "                        <td id=\"T_6eb88190_11e6_11eb_959f_acde48001122row32_col0\" class=\"data row32 col0\" >pulley</td>\n",
       "                        <td id=\"T_6eb88190_11e6_11eb_959f_acde48001122row32_col1\" class=\"data row32 col1\" >pulley</td>\n",
       "                        <td id=\"T_6eb88190_11e6_11eb_959f_acde48001122row32_col2\" class=\"data row32 col2\" >NOUN</td>\n",
       "                        <td id=\"T_6eb88190_11e6_11eb_959f_acde48001122row32_col3\" class=\"data row32 col3\" >NN</td>\n",
       "                        <td id=\"T_6eb88190_11e6_11eb_959f_acde48001122row32_col4\" class=\"data row32 col4\" >compound</td>\n",
       "                        <td id=\"T_6eb88190_11e6_11eb_959f_acde48001122row32_col5\" class=\"data row32 col5\" >False</td>\n",
       "                        <td id=\"T_6eb88190_11e6_11eb_959f_acde48001122row32_col6\" class=\"data row32 col6\" >False</td>\n",
       "                        <td id=\"T_6eb88190_11e6_11eb_959f_acde48001122row32_col7\" class=\"data row32 col7\" >False</td>\n",
       "            </tr>\n",
       "            <tr>\n",
       "                        <th id=\"T_6eb88190_11e6_11eb_959f_acde48001122level0_row33\" class=\"row_heading level0 row33\" >33</th>\n",
       "                        <td id=\"T_6eb88190_11e6_11eb_959f_acde48001122row33_col0\" class=\"data row33 col0\" >system</td>\n",
       "                        <td id=\"T_6eb88190_11e6_11eb_959f_acde48001122row33_col1\" class=\"data row33 col1\" >system</td>\n",
       "                        <td id=\"T_6eb88190_11e6_11eb_959f_acde48001122row33_col2\" class=\"data row33 col2\" >NOUN</td>\n",
       "                        <td id=\"T_6eb88190_11e6_11eb_959f_acde48001122row33_col3\" class=\"data row33 col3\" >NN</td>\n",
       "                        <td id=\"T_6eb88190_11e6_11eb_959f_acde48001122row33_col4\" class=\"data row33 col4\" >nsubj</td>\n",
       "                        <td id=\"T_6eb88190_11e6_11eb_959f_acde48001122row33_col5\" class=\"data row33 col5\" >False</td>\n",
       "                        <td id=\"T_6eb88190_11e6_11eb_959f_acde48001122row33_col6\" class=\"data row33 col6\" >False</td>\n",
       "                        <td id=\"T_6eb88190_11e6_11eb_959f_acde48001122row33_col7\" class=\"data row33 col7\" >False</td>\n",
       "            </tr>\n",
       "            <tr>\n",
       "                        <th id=\"T_6eb88190_11e6_11eb_959f_acde48001122level0_row34\" class=\"row_heading level0 row34\" >34</th>\n",
       "                        <td id=\"T_6eb88190_11e6_11eb_959f_acde48001122row34_col0\" class=\"data row34 col0\" >to</td>\n",
       "                        <td id=\"T_6eb88190_11e6_11eb_959f_acde48001122row34_col1\" class=\"data row34 col1\" >to</td>\n",
       "                        <td id=\"T_6eb88190_11e6_11eb_959f_acde48001122row34_col2\" class=\"data row34 col2\" >PART</td>\n",
       "                        <td id=\"T_6eb88190_11e6_11eb_959f_acde48001122row34_col3\" class=\"data row34 col3\" >TO</td>\n",
       "                        <td id=\"T_6eb88190_11e6_11eb_959f_acde48001122row34_col4\" class=\"data row34 col4\" >aux</td>\n",
       "                        <td id=\"T_6eb88190_11e6_11eb_959f_acde48001122row34_col5\" class=\"data row34 col5\" >True</td>\n",
       "                        <td id=\"T_6eb88190_11e6_11eb_959f_acde48001122row34_col6\" class=\"data row34 col6\" >False</td>\n",
       "                        <td id=\"T_6eb88190_11e6_11eb_959f_acde48001122row34_col7\" class=\"data row34 col7\" >False</td>\n",
       "            </tr>\n",
       "            <tr>\n",
       "                        <th id=\"T_6eb88190_11e6_11eb_959f_acde48001122level0_row35\" class=\"row_heading level0 row35\" >35</th>\n",
       "                        <td id=\"T_6eb88190_11e6_11eb_959f_acde48001122row35_col0\" class=\"data row35 col0\" >raise</td>\n",
       "                        <td id=\"T_6eb88190_11e6_11eb_959f_acde48001122row35_col1\" class=\"data row35 col1\" >raise</td>\n",
       "                        <td id=\"T_6eb88190_11e6_11eb_959f_acde48001122row35_col2\" class=\"data row35 col2\" >VERB</td>\n",
       "                        <td id=\"T_6eb88190_11e6_11eb_959f_acde48001122row35_col3\" class=\"data row35 col3\" >VB</td>\n",
       "                        <td id=\"T_6eb88190_11e6_11eb_959f_acde48001122row35_col4\" class=\"data row35 col4\" >ccomp</td>\n",
       "                        <td id=\"T_6eb88190_11e6_11eb_959f_acde48001122row35_col5\" class=\"data row35 col5\" >False</td>\n",
       "                        <td id=\"T_6eb88190_11e6_11eb_959f_acde48001122row35_col6\" class=\"data row35 col6\" >False</td>\n",
       "                        <td id=\"T_6eb88190_11e6_11eb_959f_acde48001122row35_col7\" class=\"data row35 col7\" >False</td>\n",
       "            </tr>\n",
       "            <tr>\n",
       "                        <th id=\"T_6eb88190_11e6_11eb_959f_acde48001122level0_row36\" class=\"row_heading level0 row36\" >36</th>\n",
       "                        <td id=\"T_6eb88190_11e6_11eb_959f_acde48001122row36_col0\" class=\"data row36 col0\" >wooden</td>\n",
       "                        <td id=\"T_6eb88190_11e6_11eb_959f_acde48001122row36_col1\" class=\"data row36 col1\" >wooden</td>\n",
       "                        <td id=\"T_6eb88190_11e6_11eb_959f_acde48001122row36_col2\" class=\"data row36 col2\" >ADJ</td>\n",
       "                        <td id=\"T_6eb88190_11e6_11eb_959f_acde48001122row36_col3\" class=\"data row36 col3\" >JJ</td>\n",
       "                        <td id=\"T_6eb88190_11e6_11eb_959f_acde48001122row36_col4\" class=\"data row36 col4\" >amod</td>\n",
       "                        <td id=\"T_6eb88190_11e6_11eb_959f_acde48001122row36_col5\" class=\"data row36 col5\" >False</td>\n",
       "                        <td id=\"T_6eb88190_11e6_11eb_959f_acde48001122row36_col6\" class=\"data row36 col6\" >False</td>\n",
       "                        <td id=\"T_6eb88190_11e6_11eb_959f_acde48001122row36_col7\" class=\"data row36 col7\" >False</td>\n",
       "            </tr>\n",
       "            <tr>\n",
       "                        <th id=\"T_6eb88190_11e6_11eb_959f_acde48001122level0_row37\" class=\"row_heading level0 row37\" >37</th>\n",
       "                        <td id=\"T_6eb88190_11e6_11eb_959f_acde48001122row37_col0\" class=\"data row37 col0\" >block</td>\n",
       "                        <td id=\"T_6eb88190_11e6_11eb_959f_acde48001122row37_col1\" class=\"data row37 col1\" >block</td>\n",
       "                        <td id=\"T_6eb88190_11e6_11eb_959f_acde48001122row37_col2\" class=\"data row37 col2\" >NOUN</td>\n",
       "                        <td id=\"T_6eb88190_11e6_11eb_959f_acde48001122row37_col3\" class=\"data row37 col3\" >NN</td>\n",
       "                        <td id=\"T_6eb88190_11e6_11eb_959f_acde48001122row37_col4\" class=\"data row37 col4\" >dobj</td>\n",
       "                        <td id=\"T_6eb88190_11e6_11eb_959f_acde48001122row37_col5\" class=\"data row37 col5\" >False</td>\n",
       "                        <td id=\"T_6eb88190_11e6_11eb_959f_acde48001122row37_col6\" class=\"data row37 col6\" >False</td>\n",
       "                        <td id=\"T_6eb88190_11e6_11eb_959f_acde48001122row37_col7\" class=\"data row37 col7\" >False</td>\n",
       "            </tr>\n",
       "            <tr>\n",
       "                        <th id=\"T_6eb88190_11e6_11eb_959f_acde48001122level0_row38\" class=\"row_heading level0 row38\" >38</th>\n",
       "                        <td id=\"T_6eb88190_11e6_11eb_959f_acde48001122row38_col0\" class=\"data row38 col0\" >,</td>\n",
       "                        <td id=\"T_6eb88190_11e6_11eb_959f_acde48001122row38_col1\" class=\"data row38 col1\" >,</td>\n",
       "                        <td id=\"T_6eb88190_11e6_11eb_959f_acde48001122row38_col2\" class=\"data row38 col2\" >PUNCT</td>\n",
       "                        <td id=\"T_6eb88190_11e6_11eb_959f_acde48001122row38_col3\" class=\"data row38 col3\" >,</td>\n",
       "                        <td id=\"T_6eb88190_11e6_11eb_959f_acde48001122row38_col4\" class=\"data row38 col4\" >punct</td>\n",
       "                        <td id=\"T_6eb88190_11e6_11eb_959f_acde48001122row38_col5\" class=\"data row38 col5\" >False</td>\n",
       "                        <td id=\"T_6eb88190_11e6_11eb_959f_acde48001122row38_col6\" class=\"data row38 col6\" >True</td>\n",
       "                        <td id=\"T_6eb88190_11e6_11eb_959f_acde48001122row38_col7\" class=\"data row38 col7\" >False</td>\n",
       "            </tr>\n",
       "            <tr>\n",
       "                        <th id=\"T_6eb88190_11e6_11eb_959f_acde48001122level0_row39\" class=\"row_heading level0 row39\" >39</th>\n",
       "                        <td id=\"T_6eb88190_11e6_11eb_959f_acde48001122row39_col0\" class=\"data row39 col0\" >propelling</td>\n",
       "                        <td id=\"T_6eb88190_11e6_11eb_959f_acde48001122row39_col1\" class=\"data row39 col1\" >propel</td>\n",
       "                        <td id=\"T_6eb88190_11e6_11eb_959f_acde48001122row39_col2\" class=\"data row39 col2\" >VERB</td>\n",
       "                        <td id=\"T_6eb88190_11e6_11eb_959f_acde48001122row39_col3\" class=\"data row39 col3\" >VBG</td>\n",
       "                        <td id=\"T_6eb88190_11e6_11eb_959f_acde48001122row39_col4\" class=\"data row39 col4\" >advcl</td>\n",
       "                        <td id=\"T_6eb88190_11e6_11eb_959f_acde48001122row39_col5\" class=\"data row39 col5\" >False</td>\n",
       "                        <td id=\"T_6eb88190_11e6_11eb_959f_acde48001122row39_col6\" class=\"data row39 col6\" >False</td>\n",
       "                        <td id=\"T_6eb88190_11e6_11eb_959f_acde48001122row39_col7\" class=\"data row39 col7\" >False</td>\n",
       "            </tr>\n",
       "            <tr>\n",
       "                        <th id=\"T_6eb88190_11e6_11eb_959f_acde48001122level0_row40\" class=\"row_heading level0 row40\" >40</th>\n",
       "                        <td id=\"T_6eb88190_11e6_11eb_959f_acde48001122row40_col0\" class=\"data row40 col0\" >series</td>\n",
       "                        <td id=\"T_6eb88190_11e6_11eb_959f_acde48001122row40_col1\" class=\"data row40 col1\" >series</td>\n",
       "                        <td id=\"T_6eb88190_11e6_11eb_959f_acde48001122row40_col2\" class=\"data row40 col2\" >NOUN</td>\n",
       "                        <td id=\"T_6eb88190_11e6_11eb_959f_acde48001122row40_col3\" class=\"data row40 col3\" >NN</td>\n",
       "                        <td id=\"T_6eb88190_11e6_11eb_959f_acde48001122row40_col4\" class=\"data row40 col4\" >dobj</td>\n",
       "                        <td id=\"T_6eb88190_11e6_11eb_959f_acde48001122row40_col5\" class=\"data row40 col5\" >False</td>\n",
       "                        <td id=\"T_6eb88190_11e6_11eb_959f_acde48001122row40_col6\" class=\"data row40 col6\" >False</td>\n",
       "                        <td id=\"T_6eb88190_11e6_11eb_959f_acde48001122row40_col7\" class=\"data row40 col7\" >False</td>\n",
       "            </tr>\n",
       "            <tr>\n",
       "                        <th id=\"T_6eb88190_11e6_11eb_959f_acde48001122level0_row41\" class=\"row_heading level0 row41\" >41</th>\n",
       "                        <td id=\"T_6eb88190_11e6_11eb_959f_acde48001122row41_col0\" class=\"data row41 col0\" >of</td>\n",
       "                        <td id=\"T_6eb88190_11e6_11eb_959f_acde48001122row41_col1\" class=\"data row41 col1\" >of</td>\n",
       "                        <td id=\"T_6eb88190_11e6_11eb_959f_acde48001122row41_col2\" class=\"data row41 col2\" >ADP</td>\n",
       "                        <td id=\"T_6eb88190_11e6_11eb_959f_acde48001122row41_col3\" class=\"data row41 col3\" >IN</td>\n",
       "                        <td id=\"T_6eb88190_11e6_11eb_959f_acde48001122row41_col4\" class=\"data row41 col4\" >prep</td>\n",
       "                        <td id=\"T_6eb88190_11e6_11eb_959f_acde48001122row41_col5\" class=\"data row41 col5\" >True</td>\n",
       "                        <td id=\"T_6eb88190_11e6_11eb_959f_acde48001122row41_col6\" class=\"data row41 col6\" >False</td>\n",
       "                        <td id=\"T_6eb88190_11e6_11eb_959f_acde48001122row41_col7\" class=\"data row41 col7\" >False</td>\n",
       "            </tr>\n",
       "            <tr>\n",
       "                        <th id=\"T_6eb88190_11e6_11eb_959f_acde48001122level0_row42\" class=\"row_heading level0 row42\" >42</th>\n",
       "                        <td id=\"T_6eb88190_11e6_11eb_959f_acde48001122row42_col0\" class=\"data row42 col0\" >twine</td>\n",
       "                        <td id=\"T_6eb88190_11e6_11eb_959f_acde48001122row42_col1\" class=\"data row42 col1\" >twine</td>\n",
       "                        <td id=\"T_6eb88190_11e6_11eb_959f_acde48001122row42_col2\" class=\"data row42 col2\" >NOUN</td>\n",
       "                        <td id=\"T_6eb88190_11e6_11eb_959f_acde48001122row42_col3\" class=\"data row42 col3\" >NN</td>\n",
       "                        <td id=\"T_6eb88190_11e6_11eb_959f_acde48001122row42_col4\" class=\"data row42 col4\" >compound</td>\n",
       "                        <td id=\"T_6eb88190_11e6_11eb_959f_acde48001122row42_col5\" class=\"data row42 col5\" >False</td>\n",
       "                        <td id=\"T_6eb88190_11e6_11eb_959f_acde48001122row42_col6\" class=\"data row42 col6\" >False</td>\n",
       "                        <td id=\"T_6eb88190_11e6_11eb_959f_acde48001122row42_col7\" class=\"data row42 col7\" >False</td>\n",
       "            </tr>\n",
       "            <tr>\n",
       "                        <th id=\"T_6eb88190_11e6_11eb_959f_acde48001122level0_row43\" class=\"row_heading level0 row43\" >43</th>\n",
       "                        <td id=\"T_6eb88190_11e6_11eb_959f_acde48001122row43_col0\" class=\"data row43 col0\" >rollers</td>\n",
       "                        <td id=\"T_6eb88190_11e6_11eb_959f_acde48001122row43_col1\" class=\"data row43 col1\" >roller</td>\n",
       "                        <td id=\"T_6eb88190_11e6_11eb_959f_acde48001122row43_col2\" class=\"data row43 col2\" >NOUN</td>\n",
       "                        <td id=\"T_6eb88190_11e6_11eb_959f_acde48001122row43_col3\" class=\"data row43 col3\" >NNS</td>\n",
       "                        <td id=\"T_6eb88190_11e6_11eb_959f_acde48001122row43_col4\" class=\"data row43 col4\" >pobj</td>\n",
       "                        <td id=\"T_6eb88190_11e6_11eb_959f_acde48001122row43_col5\" class=\"data row43 col5\" >False</td>\n",
       "                        <td id=\"T_6eb88190_11e6_11eb_959f_acde48001122row43_col6\" class=\"data row43 col6\" >False</td>\n",
       "                        <td id=\"T_6eb88190_11e6_11eb_959f_acde48001122row43_col7\" class=\"data row43 col7\" >False</td>\n",
       "            </tr>\n",
       "            <tr>\n",
       "                        <th id=\"T_6eb88190_11e6_11eb_959f_acde48001122level0_row44\" class=\"row_heading level0 row44\" >44</th>\n",
       "                        <td id=\"T_6eb88190_11e6_11eb_959f_acde48001122row44_col0\" class=\"data row44 col0\" >that</td>\n",
       "                        <td id=\"T_6eb88190_11e6_11eb_959f_acde48001122row44_col1\" class=\"data row44 col1\" >that</td>\n",
       "                        <td id=\"T_6eb88190_11e6_11eb_959f_acde48001122row44_col2\" class=\"data row44 col2\" >DET</td>\n",
       "                        <td id=\"T_6eb88190_11e6_11eb_959f_acde48001122row44_col3\" class=\"data row44 col3\" >WDT</td>\n",
       "                        <td id=\"T_6eb88190_11e6_11eb_959f_acde48001122row44_col4\" class=\"data row44 col4\" >det</td>\n",
       "                        <td id=\"T_6eb88190_11e6_11eb_959f_acde48001122row44_col5\" class=\"data row44 col5\" >True</td>\n",
       "                        <td id=\"T_6eb88190_11e6_11eb_959f_acde48001122row44_col6\" class=\"data row44 col6\" >False</td>\n",
       "                        <td id=\"T_6eb88190_11e6_11eb_959f_acde48001122row44_col7\" class=\"data row44 col7\" >False</td>\n",
       "            </tr>\n",
       "            <tr>\n",
       "                        <th id=\"T_6eb88190_11e6_11eb_959f_acde48001122level0_row45\" class=\"row_heading level0 row45\" >45</th>\n",
       "                        <td id=\"T_6eb88190_11e6_11eb_959f_acde48001122row45_col0\" class=\"data row45 col0\" >unwind</td>\n",
       "                        <td id=\"T_6eb88190_11e6_11eb_959f_acde48001122row45_col1\" class=\"data row45 col1\" >unwind</td>\n",
       "                        <td id=\"T_6eb88190_11e6_11eb_959f_acde48001122row45_col2\" class=\"data row45 col2\" >ADJ</td>\n",
       "                        <td id=\"T_6eb88190_11e6_11eb_959f_acde48001122row45_col3\" class=\"data row45 col3\" >JJ</td>\n",
       "                        <td id=\"T_6eb88190_11e6_11eb_959f_acde48001122row45_col4\" class=\"data row45 col4\" >compound</td>\n",
       "                        <td id=\"T_6eb88190_11e6_11eb_959f_acde48001122row45_col5\" class=\"data row45 col5\" >False</td>\n",
       "                        <td id=\"T_6eb88190_11e6_11eb_959f_acde48001122row45_col6\" class=\"data row45 col6\" >False</td>\n",
       "                        <td id=\"T_6eb88190_11e6_11eb_959f_acde48001122row45_col7\" class=\"data row45 col7\" >False</td>\n",
       "            </tr>\n",
       "            <tr>\n",
       "                        <th id=\"T_6eb88190_11e6_11eb_959f_acde48001122level0_row46\" class=\"row_heading level0 row46\" >46</th>\n",
       "                        <td id=\"T_6eb88190_11e6_11eb_959f_acde48001122row46_col0\" class=\"data row46 col0\" >spring</td>\n",
       "                        <td id=\"T_6eb88190_11e6_11eb_959f_acde48001122row46_col1\" class=\"data row46 col1\" >spring</td>\n",
       "                        <td id=\"T_6eb88190_11e6_11eb_959f_acde48001122row46_col2\" class=\"data row46 col2\" >NOUN</td>\n",
       "                        <td id=\"T_6eb88190_11e6_11eb_959f_acde48001122row46_col3\" class=\"data row46 col3\" >NN</td>\n",
       "                        <td id=\"T_6eb88190_11e6_11eb_959f_acde48001122row46_col4\" class=\"data row46 col4\" >relcl</td>\n",
       "                        <td id=\"T_6eb88190_11e6_11eb_959f_acde48001122row46_col5\" class=\"data row46 col5\" >False</td>\n",
       "                        <td id=\"T_6eb88190_11e6_11eb_959f_acde48001122row46_col6\" class=\"data row46 col6\" >False</td>\n",
       "                        <td id=\"T_6eb88190_11e6_11eb_959f_acde48001122row46_col7\" class=\"data row46 col7\" >False</td>\n",
       "            </tr>\n",
       "            <tr>\n",
       "                        <th id=\"T_6eb88190_11e6_11eb_959f_acde48001122level0_row47\" class=\"row_heading level0 row47\" >47</th>\n",
       "                        <td id=\"T_6eb88190_11e6_11eb_959f_acde48001122row47_col0\" class=\"data row47 col0\" >,</td>\n",
       "                        <td id=\"T_6eb88190_11e6_11eb_959f_acde48001122row47_col1\" class=\"data row47 col1\" >,</td>\n",
       "                        <td id=\"T_6eb88190_11e6_11eb_959f_acde48001122row47_col2\" class=\"data row47 col2\" >PUNCT</td>\n",
       "                        <td id=\"T_6eb88190_11e6_11eb_959f_acde48001122row47_col3\" class=\"data row47 col3\" >,</td>\n",
       "                        <td id=\"T_6eb88190_11e6_11eb_959f_acde48001122row47_col4\" class=\"data row47 col4\" >punct</td>\n",
       "                        <td id=\"T_6eb88190_11e6_11eb_959f_acde48001122row47_col5\" class=\"data row47 col5\" >False</td>\n",
       "                        <td id=\"T_6eb88190_11e6_11eb_959f_acde48001122row47_col6\" class=\"data row47 col6\" >True</td>\n",
       "                        <td id=\"T_6eb88190_11e6_11eb_959f_acde48001122row47_col7\" class=\"data row47 col7\" >False</td>\n",
       "            </tr>\n",
       "            <tr>\n",
       "                        <th id=\"T_6eb88190_11e6_11eb_959f_acde48001122level0_row48\" class=\"row_heading level0 row48\" >48</th>\n",
       "                        <td id=\"T_6eb88190_11e6_11eb_959f_acde48001122row48_col0\" class=\"data row48 col0\" >launching</td>\n",
       "                        <td id=\"T_6eb88190_11e6_11eb_959f_acde48001122row48_col1\" class=\"data row48 col1\" >launch</td>\n",
       "                        <td id=\"T_6eb88190_11e6_11eb_959f_acde48001122row48_col2\" class=\"data row48 col2\" >VERB</td>\n",
       "                        <td id=\"T_6eb88190_11e6_11eb_959f_acde48001122row48_col3\" class=\"data row48 col3\" >VBG</td>\n",
       "                        <td id=\"T_6eb88190_11e6_11eb_959f_acde48001122row48_col4\" class=\"data row48 col4\" >conj</td>\n",
       "                        <td id=\"T_6eb88190_11e6_11eb_959f_acde48001122row48_col5\" class=\"data row48 col5\" >False</td>\n",
       "                        <td id=\"T_6eb88190_11e6_11eb_959f_acde48001122row48_col6\" class=\"data row48 col6\" >False</td>\n",
       "                        <td id=\"T_6eb88190_11e6_11eb_959f_acde48001122row48_col7\" class=\"data row48 col7\" >False</td>\n",
       "            </tr>\n",
       "            <tr>\n",
       "                        <th id=\"T_6eb88190_11e6_11eb_959f_acde48001122level0_row49\" class=\"row_heading level0 row49\" >49</th>\n",
       "                        <td id=\"T_6eb88190_11e6_11eb_959f_acde48001122row49_col0\" class=\"data row49 col0\" >tennis</td>\n",
       "                        <td id=\"T_6eb88190_11e6_11eb_959f_acde48001122row49_col1\" class=\"data row49 col1\" >tennis</td>\n",
       "                        <td id=\"T_6eb88190_11e6_11eb_959f_acde48001122row49_col2\" class=\"data row49 col2\" >NOUN</td>\n",
       "                        <td id=\"T_6eb88190_11e6_11eb_959f_acde48001122row49_col3\" class=\"data row49 col3\" >NN</td>\n",
       "                        <td id=\"T_6eb88190_11e6_11eb_959f_acde48001122row49_col4\" class=\"data row49 col4\" >compound</td>\n",
       "                        <td id=\"T_6eb88190_11e6_11eb_959f_acde48001122row49_col5\" class=\"data row49 col5\" >False</td>\n",
       "                        <td id=\"T_6eb88190_11e6_11eb_959f_acde48001122row49_col6\" class=\"data row49 col6\" >False</td>\n",
       "                        <td id=\"T_6eb88190_11e6_11eb_959f_acde48001122row49_col7\" class=\"data row49 col7\" >False</td>\n",
       "            </tr>\n",
       "            <tr>\n",
       "                        <th id=\"T_6eb88190_11e6_11eb_959f_acde48001122level0_row50\" class=\"row_heading level0 row50\" >50</th>\n",
       "                        <td id=\"T_6eb88190_11e6_11eb_959f_acde48001122row50_col0\" class=\"data row50 col0\" >ball</td>\n",
       "                        <td id=\"T_6eb88190_11e6_11eb_959f_acde48001122row50_col1\" class=\"data row50 col1\" >ball</td>\n",
       "                        <td id=\"T_6eb88190_11e6_11eb_959f_acde48001122row50_col2\" class=\"data row50 col2\" >NOUN</td>\n",
       "                        <td id=\"T_6eb88190_11e6_11eb_959f_acde48001122row50_col3\" class=\"data row50 col3\" >NN</td>\n",
       "                        <td id=\"T_6eb88190_11e6_11eb_959f_acde48001122row50_col4\" class=\"data row50 col4\" >dobj</td>\n",
       "                        <td id=\"T_6eb88190_11e6_11eb_959f_acde48001122row50_col5\" class=\"data row50 col5\" >False</td>\n",
       "                        <td id=\"T_6eb88190_11e6_11eb_959f_acde48001122row50_col6\" class=\"data row50 col6\" >False</td>\n",
       "                        <td id=\"T_6eb88190_11e6_11eb_959f_acde48001122row50_col7\" class=\"data row50 col7\" >False</td>\n",
       "            </tr>\n",
       "            <tr>\n",
       "                        <th id=\"T_6eb88190_11e6_11eb_959f_acde48001122level0_row51\" class=\"row_heading level0 row51\" >51</th>\n",
       "                        <td id=\"T_6eb88190_11e6_11eb_959f_acde48001122row51_col0\" class=\"data row51 col0\" >across</td>\n",
       "                        <td id=\"T_6eb88190_11e6_11eb_959f_acde48001122row51_col1\" class=\"data row51 col1\" >across</td>\n",
       "                        <td id=\"T_6eb88190_11e6_11eb_959f_acde48001122row51_col2\" class=\"data row51 col2\" >ADP</td>\n",
       "                        <td id=\"T_6eb88190_11e6_11eb_959f_acde48001122row51_col3\" class=\"data row51 col3\" >IN</td>\n",
       "                        <td id=\"T_6eb88190_11e6_11eb_959f_acde48001122row51_col4\" class=\"data row51 col4\" >prep</td>\n",
       "                        <td id=\"T_6eb88190_11e6_11eb_959f_acde48001122row51_col5\" class=\"data row51 col5\" >True</td>\n",
       "                        <td id=\"T_6eb88190_11e6_11eb_959f_acde48001122row51_col6\" class=\"data row51 col6\" >False</td>\n",
       "                        <td id=\"T_6eb88190_11e6_11eb_959f_acde48001122row51_col7\" class=\"data row51 col7\" >False</td>\n",
       "            </tr>\n",
       "            <tr>\n",
       "                        <th id=\"T_6eb88190_11e6_11eb_959f_acde48001122level0_row52\" class=\"row_heading level0 row52\" >52</th>\n",
       "                        <td id=\"T_6eb88190_11e6_11eb_959f_acde48001122row52_col0\" class=\"data row52 col0\" >room</td>\n",
       "                        <td id=\"T_6eb88190_11e6_11eb_959f_acde48001122row52_col1\" class=\"data row52 col1\" >room</td>\n",
       "                        <td id=\"T_6eb88190_11e6_11eb_959f_acde48001122row52_col2\" class=\"data row52 col2\" >NOUN</td>\n",
       "                        <td id=\"T_6eb88190_11e6_11eb_959f_acde48001122row52_col3\" class=\"data row52 col3\" >NN</td>\n",
       "                        <td id=\"T_6eb88190_11e6_11eb_959f_acde48001122row52_col4\" class=\"data row52 col4\" >pobj</td>\n",
       "                        <td id=\"T_6eb88190_11e6_11eb_959f_acde48001122row52_col5\" class=\"data row52 col5\" >False</td>\n",
       "                        <td id=\"T_6eb88190_11e6_11eb_959f_acde48001122row52_col6\" class=\"data row52 col6\" >False</td>\n",
       "                        <td id=\"T_6eb88190_11e6_11eb_959f_acde48001122row52_col7\" class=\"data row52 col7\" >False</td>\n",
       "            </tr>\n",
       "            <tr>\n",
       "                        <th id=\"T_6eb88190_11e6_11eb_959f_acde48001122level0_row53\" class=\"row_heading level0 row53\" >53</th>\n",
       "                        <td id=\"T_6eb88190_11e6_11eb_959f_acde48001122row53_col0\" class=\"data row53 col0\" >,</td>\n",
       "                        <td id=\"T_6eb88190_11e6_11eb_959f_acde48001122row53_col1\" class=\"data row53 col1\" >,</td>\n",
       "                        <td id=\"T_6eb88190_11e6_11eb_959f_acde48001122row53_col2\" class=\"data row53 col2\" >PUNCT</td>\n",
       "                        <td id=\"T_6eb88190_11e6_11eb_959f_acde48001122row53_col3\" class=\"data row53 col3\" >,</td>\n",
       "                        <td id=\"T_6eb88190_11e6_11eb_959f_acde48001122row53_col4\" class=\"data row53 col4\" >punct</td>\n",
       "                        <td id=\"T_6eb88190_11e6_11eb_959f_acde48001122row53_col5\" class=\"data row53 col5\" >False</td>\n",
       "                        <td id=\"T_6eb88190_11e6_11eb_959f_acde48001122row53_col6\" class=\"data row53 col6\" >True</td>\n",
       "                        <td id=\"T_6eb88190_11e6_11eb_959f_acde48001122row53_col7\" class=\"data row53 col7\" >False</td>\n",
       "            </tr>\n",
       "            <tr>\n",
       "                        <th id=\"T_6eb88190_11e6_11eb_959f_acde48001122level0_row54\" class=\"row_heading level0 row54\" >54</th>\n",
       "                        <td id=\"T_6eb88190_11e6_11eb_959f_acde48001122row54_col0\" class=\"data row54 col0\" >inching</td>\n",
       "                        <td id=\"T_6eb88190_11e6_11eb_959f_acde48001122row54_col1\" class=\"data row54 col1\" >inch</td>\n",
       "                        <td id=\"T_6eb88190_11e6_11eb_959f_acde48001122row54_col2\" class=\"data row54 col2\" >VERB</td>\n",
       "                        <td id=\"T_6eb88190_11e6_11eb_959f_acde48001122row54_col3\" class=\"data row54 col3\" >VBG</td>\n",
       "                        <td id=\"T_6eb88190_11e6_11eb_959f_acde48001122row54_col4\" class=\"data row54 col4\" >conj</td>\n",
       "                        <td id=\"T_6eb88190_11e6_11eb_959f_acde48001122row54_col5\" class=\"data row54 col5\" >False</td>\n",
       "                        <td id=\"T_6eb88190_11e6_11eb_959f_acde48001122row54_col6\" class=\"data row54 col6\" >False</td>\n",
       "                        <td id=\"T_6eb88190_11e6_11eb_959f_acde48001122row54_col7\" class=\"data row54 col7\" >False</td>\n",
       "            </tr>\n",
       "            <tr>\n",
       "                        <th id=\"T_6eb88190_11e6_11eb_959f_acde48001122level0_row55\" class=\"row_heading level0 row55\" >55</th>\n",
       "                        <td id=\"T_6eb88190_11e6_11eb_959f_acde48001122row55_col0\" class=\"data row55 col0\" >tire</td>\n",
       "                        <td id=\"T_6eb88190_11e6_11eb_959f_acde48001122row55_col1\" class=\"data row55 col1\" >tire</td>\n",
       "                        <td id=\"T_6eb88190_11e6_11eb_959f_acde48001122row55_col2\" class=\"data row55 col2\" >NOUN</td>\n",
       "                        <td id=\"T_6eb88190_11e6_11eb_959f_acde48001122row55_col3\" class=\"data row55 col3\" >NN</td>\n",
       "                        <td id=\"T_6eb88190_11e6_11eb_959f_acde48001122row55_col4\" class=\"data row55 col4\" >dobj</td>\n",
       "                        <td id=\"T_6eb88190_11e6_11eb_959f_acde48001122row55_col5\" class=\"data row55 col5\" >False</td>\n",
       "                        <td id=\"T_6eb88190_11e6_11eb_959f_acde48001122row55_col6\" class=\"data row55 col6\" >False</td>\n",
       "                        <td id=\"T_6eb88190_11e6_11eb_959f_acde48001122row55_col7\" class=\"data row55 col7\" >False</td>\n",
       "            </tr>\n",
       "            <tr>\n",
       "                        <th id=\"T_6eb88190_11e6_11eb_959f_acde48001122level0_row56\" class=\"row_heading level0 row56\" >56</th>\n",
       "                        <td id=\"T_6eb88190_11e6_11eb_959f_acde48001122row56_col0\" class=\"data row56 col0\" >down</td>\n",
       "                        <td id=\"T_6eb88190_11e6_11eb_959f_acde48001122row56_col1\" class=\"data row56 col1\" >down</td>\n",
       "                        <td id=\"T_6eb88190_11e6_11eb_959f_acde48001122row56_col2\" class=\"data row56 col2\" >ADP</td>\n",
       "                        <td id=\"T_6eb88190_11e6_11eb_959f_acde48001122row56_col3\" class=\"data row56 col3\" >IN</td>\n",
       "                        <td id=\"T_6eb88190_11e6_11eb_959f_acde48001122row56_col4\" class=\"data row56 col4\" >prep</td>\n",
       "                        <td id=\"T_6eb88190_11e6_11eb_959f_acde48001122row56_col5\" class=\"data row56 col5\" >True</td>\n",
       "                        <td id=\"T_6eb88190_11e6_11eb_959f_acde48001122row56_col6\" class=\"data row56 col6\" >False</td>\n",
       "                        <td id=\"T_6eb88190_11e6_11eb_959f_acde48001122row56_col7\" class=\"data row56 col7\" >False</td>\n",
       "            </tr>\n",
       "            <tr>\n",
       "                        <th id=\"T_6eb88190_11e6_11eb_959f_acde48001122level0_row57\" class=\"row_heading level0 row57\" >57</th>\n",
       "                        <td id=\"T_6eb88190_11e6_11eb_959f_acde48001122row57_col0\" class=\"data row57 col0\" >slope</td>\n",
       "                        <td id=\"T_6eb88190_11e6_11eb_959f_acde48001122row57_col1\" class=\"data row57 col1\" >slope</td>\n",
       "                        <td id=\"T_6eb88190_11e6_11eb_959f_acde48001122row57_col2\" class=\"data row57 col2\" >NOUN</td>\n",
       "                        <td id=\"T_6eb88190_11e6_11eb_959f_acde48001122row57_col3\" class=\"data row57 col3\" >NN</td>\n",
       "                        <td id=\"T_6eb88190_11e6_11eb_959f_acde48001122row57_col4\" class=\"data row57 col4\" >pobj</td>\n",
       "                        <td id=\"T_6eb88190_11e6_11eb_959f_acde48001122row57_col5\" class=\"data row57 col5\" >False</td>\n",
       "                        <td id=\"T_6eb88190_11e6_11eb_959f_acde48001122row57_col6\" class=\"data row57 col6\" >False</td>\n",
       "                        <td id=\"T_6eb88190_11e6_11eb_959f_acde48001122row57_col7\" class=\"data row57 col7\" >False</td>\n",
       "            </tr>\n",
       "            <tr>\n",
       "                        <th id=\"T_6eb88190_11e6_11eb_959f_acde48001122level0_row58\" class=\"row_heading level0 row58\" >58</th>\n",
       "                        <td id=\"T_6eb88190_11e6_11eb_959f_acde48001122row58_col0\" class=\"data row58 col0\" >until</td>\n",
       "                        <td id=\"T_6eb88190_11e6_11eb_959f_acde48001122row58_col1\" class=\"data row58 col1\" >until</td>\n",
       "                        <td id=\"T_6eb88190_11e6_11eb_959f_acde48001122row58_col2\" class=\"data row58 col2\" >ADP</td>\n",
       "                        <td id=\"T_6eb88190_11e6_11eb_959f_acde48001122row58_col3\" class=\"data row58 col3\" >IN</td>\n",
       "                        <td id=\"T_6eb88190_11e6_11eb_959f_acde48001122row58_col4\" class=\"data row58 col4\" >mark</td>\n",
       "                        <td id=\"T_6eb88190_11e6_11eb_959f_acde48001122row58_col5\" class=\"data row58 col5\" >True</td>\n",
       "                        <td id=\"T_6eb88190_11e6_11eb_959f_acde48001122row58_col6\" class=\"data row58 col6\" >False</td>\n",
       "                        <td id=\"T_6eb88190_11e6_11eb_959f_acde48001122row58_col7\" class=\"data row58 col7\" >False</td>\n",
       "            </tr>\n",
       "            <tr>\n",
       "                        <th id=\"T_6eb88190_11e6_11eb_959f_acde48001122level0_row59\" class=\"row_heading level0 row59\" >59</th>\n",
       "                        <td id=\"T_6eb88190_11e6_11eb_959f_acde48001122row59_col0\" class=\"data row59 col0\" >it</td>\n",
       "                        <td id=\"T_6eb88190_11e6_11eb_959f_acde48001122row59_col1\" class=\"data row59 col1\" >-PRON-</td>\n",
       "                        <td id=\"T_6eb88190_11e6_11eb_959f_acde48001122row59_col2\" class=\"data row59 col2\" >PRON</td>\n",
       "                        <td id=\"T_6eb88190_11e6_11eb_959f_acde48001122row59_col3\" class=\"data row59 col3\" >PRP</td>\n",
       "                        <td id=\"T_6eb88190_11e6_11eb_959f_acde48001122row59_col4\" class=\"data row59 col4\" >nsubj</td>\n",
       "                        <td id=\"T_6eb88190_11e6_11eb_959f_acde48001122row59_col5\" class=\"data row59 col5\" >True</td>\n",
       "                        <td id=\"T_6eb88190_11e6_11eb_959f_acde48001122row59_col6\" class=\"data row59 col6\" >False</td>\n",
       "                        <td id=\"T_6eb88190_11e6_11eb_959f_acde48001122row59_col7\" class=\"data row59 col7\" >False</td>\n",
       "            </tr>\n",
       "            <tr>\n",
       "                        <th id=\"T_6eb88190_11e6_11eb_959f_acde48001122level0_row60\" class=\"row_heading level0 row60\" >60</th>\n",
       "                        <td id=\"T_6eb88190_11e6_11eb_959f_acde48001122row60_col0\" class=\"data row60 col0\" >hits</td>\n",
       "                        <td id=\"T_6eb88190_11e6_11eb_959f_acde48001122row60_col1\" class=\"data row60 col1\" >hit</td>\n",
       "                        <td id=\"T_6eb88190_11e6_11eb_959f_acde48001122row60_col2\" class=\"data row60 col2\" >VERB</td>\n",
       "                        <td id=\"T_6eb88190_11e6_11eb_959f_acde48001122row60_col3\" class=\"data row60 col3\" >VBZ</td>\n",
       "                        <td id=\"T_6eb88190_11e6_11eb_959f_acde48001122row60_col4\" class=\"data row60 col4\" >advcl</td>\n",
       "                        <td id=\"T_6eb88190_11e6_11eb_959f_acde48001122row60_col5\" class=\"data row60 col5\" >False</td>\n",
       "                        <td id=\"T_6eb88190_11e6_11eb_959f_acde48001122row60_col6\" class=\"data row60 col6\" >False</td>\n",
       "                        <td id=\"T_6eb88190_11e6_11eb_959f_acde48001122row60_col7\" class=\"data row60 col7\" >False</td>\n",
       "            </tr>\n",
       "            <tr>\n",
       "                        <th id=\"T_6eb88190_11e6_11eb_959f_acde48001122level0_row61\" class=\"row_heading level0 row61\" >61</th>\n",
       "                        <td id=\"T_6eb88190_11e6_11eb_959f_acde48001122row61_col0\" class=\"data row61 col0\" >power</td>\n",
       "                        <td id=\"T_6eb88190_11e6_11eb_959f_acde48001122row61_col1\" class=\"data row61 col1\" >power</td>\n",
       "                        <td id=\"T_6eb88190_11e6_11eb_959f_acde48001122row61_col2\" class=\"data row61 col2\" >NOUN</td>\n",
       "                        <td id=\"T_6eb88190_11e6_11eb_959f_acde48001122row61_col3\" class=\"data row61 col3\" >NN</td>\n",
       "                        <td id=\"T_6eb88190_11e6_11eb_959f_acde48001122row61_col4\" class=\"data row61 col4\" >compound</td>\n",
       "                        <td id=\"T_6eb88190_11e6_11eb_959f_acde48001122row61_col5\" class=\"data row61 col5\" >False</td>\n",
       "                        <td id=\"T_6eb88190_11e6_11eb_959f_acde48001122row61_col6\" class=\"data row61 col6\" >False</td>\n",
       "                        <td id=\"T_6eb88190_11e6_11eb_959f_acde48001122row61_col7\" class=\"data row61 col7\" >False</td>\n",
       "            </tr>\n",
       "            <tr>\n",
       "                        <th id=\"T_6eb88190_11e6_11eb_959f_acde48001122level0_row62\" class=\"row_heading level0 row62\" >62</th>\n",
       "                        <td id=\"T_6eb88190_11e6_11eb_959f_acde48001122row62_col0\" class=\"data row62 col0\" >switch</td>\n",
       "                        <td id=\"T_6eb88190_11e6_11eb_959f_acde48001122row62_col1\" class=\"data row62 col1\" >switch</td>\n",
       "                        <td id=\"T_6eb88190_11e6_11eb_959f_acde48001122row62_col2\" class=\"data row62 col2\" >NOUN</td>\n",
       "                        <td id=\"T_6eb88190_11e6_11eb_959f_acde48001122row62_col3\" class=\"data row62 col3\" >NN</td>\n",
       "                        <td id=\"T_6eb88190_11e6_11eb_959f_acde48001122row62_col4\" class=\"data row62 col4\" >dobj</td>\n",
       "                        <td id=\"T_6eb88190_11e6_11eb_959f_acde48001122row62_col5\" class=\"data row62 col5\" >False</td>\n",
       "                        <td id=\"T_6eb88190_11e6_11eb_959f_acde48001122row62_col6\" class=\"data row62 col6\" >False</td>\n",
       "                        <td id=\"T_6eb88190_11e6_11eb_959f_acde48001122row62_col7\" class=\"data row62 col7\" >False</td>\n",
       "            </tr>\n",
       "            <tr>\n",
       "                        <th id=\"T_6eb88190_11e6_11eb_959f_acde48001122level0_row63\" class=\"row_heading level0 row63\" >63</th>\n",
       "                        <td id=\"T_6eb88190_11e6_11eb_959f_acde48001122row63_col0\" class=\"data row63 col0\" >,</td>\n",
       "                        <td id=\"T_6eb88190_11e6_11eb_959f_acde48001122row63_col1\" class=\"data row63 col1\" >,</td>\n",
       "                        <td id=\"T_6eb88190_11e6_11eb_959f_acde48001122row63_col2\" class=\"data row63 col2\" >PUNCT</td>\n",
       "                        <td id=\"T_6eb88190_11e6_11eb_959f_acde48001122row63_col3\" class=\"data row63 col3\" >,</td>\n",
       "                        <td id=\"T_6eb88190_11e6_11eb_959f_acde48001122row63_col4\" class=\"data row63 col4\" >punct</td>\n",
       "                        <td id=\"T_6eb88190_11e6_11eb_959f_acde48001122row63_col5\" class=\"data row63 col5\" >False</td>\n",
       "                        <td id=\"T_6eb88190_11e6_11eb_959f_acde48001122row63_col6\" class=\"data row63 col6\" >True</td>\n",
       "                        <td id=\"T_6eb88190_11e6_11eb_959f_acde48001122row63_col7\" class=\"data row63 col7\" >False</td>\n",
       "            </tr>\n",
       "            <tr>\n",
       "                        <th id=\"T_6eb88190_11e6_11eb_959f_acde48001122level0_row64\" class=\"row_heading level0 row64\" >64</th>\n",
       "                        <td id=\"T_6eb88190_11e6_11eb_959f_acde48001122row64_col0\" class=\"data row64 col0\" >activating</td>\n",
       "                        <td id=\"T_6eb88190_11e6_11eb_959f_acde48001122row64_col1\" class=\"data row64 col1\" >activate</td>\n",
       "                        <td id=\"T_6eb88190_11e6_11eb_959f_acde48001122row64_col2\" class=\"data row64 col2\" >VERB</td>\n",
       "                        <td id=\"T_6eb88190_11e6_11eb_959f_acde48001122row64_col3\" class=\"data row64 col3\" >VBG</td>\n",
       "                        <td id=\"T_6eb88190_11e6_11eb_959f_acde48001122row64_col4\" class=\"data row64 col4\" >conj</td>\n",
       "                        <td id=\"T_6eb88190_11e6_11eb_959f_acde48001122row64_col5\" class=\"data row64 col5\" >False</td>\n",
       "                        <td id=\"T_6eb88190_11e6_11eb_959f_acde48001122row64_col6\" class=\"data row64 col6\" >False</td>\n",
       "                        <td id=\"T_6eb88190_11e6_11eb_959f_acde48001122row64_col7\" class=\"data row64 col7\" >False</td>\n",
       "            </tr>\n",
       "            <tr>\n",
       "                        <th id=\"T_6eb88190_11e6_11eb_959f_acde48001122level0_row65\" class=\"row_heading level0 row65\" >65</th>\n",
       "                        <td id=\"T_6eb88190_11e6_11eb_959f_acde48001122row65_col0\" class=\"data row65 col0\" >table</td>\n",
       "                        <td id=\"T_6eb88190_11e6_11eb_959f_acde48001122row65_col1\" class=\"data row65 col1\" >table</td>\n",
       "                        <td id=\"T_6eb88190_11e6_11eb_959f_acde48001122row65_col2\" class=\"data row65 col2\" >NOUN</td>\n",
       "                        <td id=\"T_6eb88190_11e6_11eb_959f_acde48001122row65_col3\" class=\"data row65 col3\" >NN</td>\n",
       "                        <td id=\"T_6eb88190_11e6_11eb_959f_acde48001122row65_col4\" class=\"data row65 col4\" >compound</td>\n",
       "                        <td id=\"T_6eb88190_11e6_11eb_959f_acde48001122row65_col5\" class=\"data row65 col5\" >False</td>\n",
       "                        <td id=\"T_6eb88190_11e6_11eb_959f_acde48001122row65_col6\" class=\"data row65 col6\" >False</td>\n",
       "                        <td id=\"T_6eb88190_11e6_11eb_959f_acde48001122row65_col7\" class=\"data row65 col7\" >False</td>\n",
       "            </tr>\n",
       "            <tr>\n",
       "                        <th id=\"T_6eb88190_11e6_11eb_959f_acde48001122level0_row66\" class=\"row_heading level0 row66\" >66</th>\n",
       "                        <td id=\"T_6eb88190_11e6_11eb_959f_acde48001122row66_col0\" class=\"data row66 col0\" >fan</td>\n",
       "                        <td id=\"T_6eb88190_11e6_11eb_959f_acde48001122row66_col1\" class=\"data row66 col1\" >fan</td>\n",
       "                        <td id=\"T_6eb88190_11e6_11eb_959f_acde48001122row66_col2\" class=\"data row66 col2\" >NOUN</td>\n",
       "                        <td id=\"T_6eb88190_11e6_11eb_959f_acde48001122row66_col3\" class=\"data row66 col3\" >NN</td>\n",
       "                        <td id=\"T_6eb88190_11e6_11eb_959f_acde48001122row66_col4\" class=\"data row66 col4\" >dobj</td>\n",
       "                        <td id=\"T_6eb88190_11e6_11eb_959f_acde48001122row66_col5\" class=\"data row66 col5\" >False</td>\n",
       "                        <td id=\"T_6eb88190_11e6_11eb_959f_acde48001122row66_col6\" class=\"data row66 col6\" >False</td>\n",
       "                        <td id=\"T_6eb88190_11e6_11eb_959f_acde48001122row66_col7\" class=\"data row66 col7\" >False</td>\n",
       "            </tr>\n",
       "            <tr>\n",
       "                        <th id=\"T_6eb88190_11e6_11eb_959f_acde48001122level0_row67\" class=\"row_heading level0 row67\" >67</th>\n",
       "                        <td id=\"T_6eb88190_11e6_11eb_959f_acde48001122row67_col0\" class=\"data row67 col0\" >that</td>\n",
       "                        <td id=\"T_6eb88190_11e6_11eb_959f_acde48001122row67_col1\" class=\"data row67 col1\" >that</td>\n",
       "                        <td id=\"T_6eb88190_11e6_11eb_959f_acde48001122row67_col2\" class=\"data row67 col2\" >DET</td>\n",
       "                        <td id=\"T_6eb88190_11e6_11eb_959f_acde48001122row67_col3\" class=\"data row67 col3\" >WDT</td>\n",
       "                        <td id=\"T_6eb88190_11e6_11eb_959f_acde48001122row67_col4\" class=\"data row67 col4\" >nsubj</td>\n",
       "                        <td id=\"T_6eb88190_11e6_11eb_959f_acde48001122row67_col5\" class=\"data row67 col5\" >True</td>\n",
       "                        <td id=\"T_6eb88190_11e6_11eb_959f_acde48001122row67_col6\" class=\"data row67 col6\" >False</td>\n",
       "                        <td id=\"T_6eb88190_11e6_11eb_959f_acde48001122row67_col7\" class=\"data row67 col7\" >False</td>\n",
       "            </tr>\n",
       "            <tr>\n",
       "                        <th id=\"T_6eb88190_11e6_11eb_959f_acde48001122level0_row68\" class=\"row_heading level0 row68\" >68</th>\n",
       "                        <td id=\"T_6eb88190_11e6_11eb_959f_acde48001122row68_col0\" class=\"data row68 col0\" >blows</td>\n",
       "                        <td id=\"T_6eb88190_11e6_11eb_959f_acde48001122row68_col1\" class=\"data row68 col1\" >blow</td>\n",
       "                        <td id=\"T_6eb88190_11e6_11eb_959f_acde48001122row68_col2\" class=\"data row68 col2\" >VERB</td>\n",
       "                        <td id=\"T_6eb88190_11e6_11eb_959f_acde48001122row68_col3\" class=\"data row68 col3\" >VBZ</td>\n",
       "                        <td id=\"T_6eb88190_11e6_11eb_959f_acde48001122row68_col4\" class=\"data row68 col4\" >relcl</td>\n",
       "                        <td id=\"T_6eb88190_11e6_11eb_959f_acde48001122row68_col5\" class=\"data row68 col5\" >False</td>\n",
       "                        <td id=\"T_6eb88190_11e6_11eb_959f_acde48001122row68_col6\" class=\"data row68 col6\" >False</td>\n",
       "                        <td id=\"T_6eb88190_11e6_11eb_959f_acde48001122row68_col7\" class=\"data row68 col7\" >False</td>\n",
       "            </tr>\n",
       "            <tr>\n",
       "                        <th id=\"T_6eb88190_11e6_11eb_959f_acde48001122level0_row69\" class=\"row_heading level0 row69\" >69</th>\n",
       "                        <td id=\"T_6eb88190_11e6_11eb_959f_acde48001122row69_col0\" class=\"data row69 col0\" >toy</td>\n",
       "                        <td id=\"T_6eb88190_11e6_11eb_959f_acde48001122row69_col1\" class=\"data row69 col1\" >toy</td>\n",
       "                        <td id=\"T_6eb88190_11e6_11eb_959f_acde48001122row69_col2\" class=\"data row69 col2\" >NOUN</td>\n",
       "                        <td id=\"T_6eb88190_11e6_11eb_959f_acde48001122row69_col3\" class=\"data row69 col3\" >NN</td>\n",
       "                        <td id=\"T_6eb88190_11e6_11eb_959f_acde48001122row69_col4\" class=\"data row69 col4\" >compound</td>\n",
       "                        <td id=\"T_6eb88190_11e6_11eb_959f_acde48001122row69_col5\" class=\"data row69 col5\" >False</td>\n",
       "                        <td id=\"T_6eb88190_11e6_11eb_959f_acde48001122row69_col6\" class=\"data row69 col6\" >False</td>\n",
       "                        <td id=\"T_6eb88190_11e6_11eb_959f_acde48001122row69_col7\" class=\"data row69 col7\" >False</td>\n",
       "            </tr>\n",
       "            <tr>\n",
       "                        <th id=\"T_6eb88190_11e6_11eb_959f_acde48001122level0_row70\" class=\"row_heading level0 row70\" >70</th>\n",
       "                        <td id=\"T_6eb88190_11e6_11eb_959f_acde48001122row70_col0\" class=\"data row70 col0\" >ship</td>\n",
       "                        <td id=\"T_6eb88190_11e6_11eb_959f_acde48001122row70_col1\" class=\"data row70 col1\" >ship</td>\n",
       "                        <td id=\"T_6eb88190_11e6_11eb_959f_acde48001122row70_col2\" class=\"data row70 col2\" >NOUN</td>\n",
       "                        <td id=\"T_6eb88190_11e6_11eb_959f_acde48001122row70_col3\" class=\"data row70 col3\" >NN</td>\n",
       "                        <td id=\"T_6eb88190_11e6_11eb_959f_acde48001122row70_col4\" class=\"data row70 col4\" >dobj</td>\n",
       "                        <td id=\"T_6eb88190_11e6_11eb_959f_acde48001122row70_col5\" class=\"data row70 col5\" >False</td>\n",
       "                        <td id=\"T_6eb88190_11e6_11eb_959f_acde48001122row70_col6\" class=\"data row70 col6\" >False</td>\n",
       "                        <td id=\"T_6eb88190_11e6_11eb_959f_acde48001122row70_col7\" class=\"data row70 col7\" >False</td>\n",
       "            </tr>\n",
       "            <tr>\n",
       "                        <th id=\"T_6eb88190_11e6_11eb_959f_acde48001122level0_row71\" class=\"row_heading level0 row71\" >71</th>\n",
       "                        <td id=\"T_6eb88190_11e6_11eb_959f_acde48001122row71_col0\" class=\"data row71 col0\" >with</td>\n",
       "                        <td id=\"T_6eb88190_11e6_11eb_959f_acde48001122row71_col1\" class=\"data row71 col1\" >with</td>\n",
       "                        <td id=\"T_6eb88190_11e6_11eb_959f_acde48001122row71_col2\" class=\"data row71 col2\" >ADP</td>\n",
       "                        <td id=\"T_6eb88190_11e6_11eb_959f_acde48001122row71_col3\" class=\"data row71 col3\" >IN</td>\n",
       "                        <td id=\"T_6eb88190_11e6_11eb_959f_acde48001122row71_col4\" class=\"data row71 col4\" >prep</td>\n",
       "                        <td id=\"T_6eb88190_11e6_11eb_959f_acde48001122row71_col5\" class=\"data row71 col5\" >True</td>\n",
       "                        <td id=\"T_6eb88190_11e6_11eb_959f_acde48001122row71_col6\" class=\"data row71 col6\" >False</td>\n",
       "                        <td id=\"T_6eb88190_11e6_11eb_959f_acde48001122row71_col7\" class=\"data row71 col7\" >False</td>\n",
       "            </tr>\n",
       "            <tr>\n",
       "                        <th id=\"T_6eb88190_11e6_11eb_959f_acde48001122level0_row72\" class=\"row_heading level0 row72\" >72</th>\n",
       "                        <td id=\"T_6eb88190_11e6_11eb_959f_acde48001122row72_col0\" class=\"data row72 col0\" >nail</td>\n",
       "                        <td id=\"T_6eb88190_11e6_11eb_959f_acde48001122row72_col1\" class=\"data row72 col1\" >nail</td>\n",
       "                        <td id=\"T_6eb88190_11e6_11eb_959f_acde48001122row72_col2\" class=\"data row72 col2\" >NOUN</td>\n",
       "                        <td id=\"T_6eb88190_11e6_11eb_959f_acde48001122row72_col3\" class=\"data row72 col3\" >NN</td>\n",
       "                        <td id=\"T_6eb88190_11e6_11eb_959f_acde48001122row72_col4\" class=\"data row72 col4\" >pobj</td>\n",
       "                        <td id=\"T_6eb88190_11e6_11eb_959f_acde48001122row72_col5\" class=\"data row72 col5\" >False</td>\n",
       "                        <td id=\"T_6eb88190_11e6_11eb_959f_acde48001122row72_col6\" class=\"data row72 col6\" >False</td>\n",
       "                        <td id=\"T_6eb88190_11e6_11eb_959f_acde48001122row72_col7\" class=\"data row72 col7\" >False</td>\n",
       "            </tr>\n",
       "            <tr>\n",
       "                        <th id=\"T_6eb88190_11e6_11eb_959f_acde48001122level0_row73\" class=\"row_heading level0 row73\" >73</th>\n",
       "                        <td id=\"T_6eb88190_11e6_11eb_959f_acde48001122row73_col0\" class=\"data row73 col0\" >attached</td>\n",
       "                        <td id=\"T_6eb88190_11e6_11eb_959f_acde48001122row73_col1\" class=\"data row73 col1\" >attach</td>\n",
       "                        <td id=\"T_6eb88190_11e6_11eb_959f_acde48001122row73_col2\" class=\"data row73 col2\" >VERB</td>\n",
       "                        <td id=\"T_6eb88190_11e6_11eb_959f_acde48001122row73_col3\" class=\"data row73 col3\" >VBN</td>\n",
       "                        <td id=\"T_6eb88190_11e6_11eb_959f_acde48001122row73_col4\" class=\"data row73 col4\" >acl</td>\n",
       "                        <td id=\"T_6eb88190_11e6_11eb_959f_acde48001122row73_col5\" class=\"data row73 col5\" >False</td>\n",
       "                        <td id=\"T_6eb88190_11e6_11eb_959f_acde48001122row73_col6\" class=\"data row73 col6\" >False</td>\n",
       "                        <td id=\"T_6eb88190_11e6_11eb_959f_acde48001122row73_col7\" class=\"data row73 col7\" >False</td>\n",
       "            </tr>\n",
       "            <tr>\n",
       "                        <th id=\"T_6eb88190_11e6_11eb_959f_acde48001122level0_row74\" class=\"row_heading level0 row74\" >74</th>\n",
       "                        <td id=\"T_6eb88190_11e6_11eb_959f_acde48001122row74_col0\" class=\"data row74 col0\" >to</td>\n",
       "                        <td id=\"T_6eb88190_11e6_11eb_959f_acde48001122row74_col1\" class=\"data row74 col1\" >to</td>\n",
       "                        <td id=\"T_6eb88190_11e6_11eb_959f_acde48001122row74_col2\" class=\"data row74 col2\" >ADP</td>\n",
       "                        <td id=\"T_6eb88190_11e6_11eb_959f_acde48001122row74_col3\" class=\"data row74 col3\" >IN</td>\n",
       "                        <td id=\"T_6eb88190_11e6_11eb_959f_acde48001122row74_col4\" class=\"data row74 col4\" >prep</td>\n",
       "                        <td id=\"T_6eb88190_11e6_11eb_959f_acde48001122row74_col5\" class=\"data row74 col5\" >True</td>\n",
       "                        <td id=\"T_6eb88190_11e6_11eb_959f_acde48001122row74_col6\" class=\"data row74 col6\" >False</td>\n",
       "                        <td id=\"T_6eb88190_11e6_11eb_959f_acde48001122row74_col7\" class=\"data row74 col7\" >False</td>\n",
       "            </tr>\n",
       "            <tr>\n",
       "                        <th id=\"T_6eb88190_11e6_11eb_959f_acde48001122level0_row75\" class=\"row_heading level0 row75\" >75</th>\n",
       "                        <td id=\"T_6eb88190_11e6_11eb_959f_acde48001122row75_col0\" class=\"data row75 col0\" >it</td>\n",
       "                        <td id=\"T_6eb88190_11e6_11eb_959f_acde48001122row75_col1\" class=\"data row75 col1\" >-PRON-</td>\n",
       "                        <td id=\"T_6eb88190_11e6_11eb_959f_acde48001122row75_col2\" class=\"data row75 col2\" >PRON</td>\n",
       "                        <td id=\"T_6eb88190_11e6_11eb_959f_acde48001122row75_col3\" class=\"data row75 col3\" >PRP</td>\n",
       "                        <td id=\"T_6eb88190_11e6_11eb_959f_acde48001122row75_col4\" class=\"data row75 col4\" >pobj</td>\n",
       "                        <td id=\"T_6eb88190_11e6_11eb_959f_acde48001122row75_col5\" class=\"data row75 col5\" >True</td>\n",
       "                        <td id=\"T_6eb88190_11e6_11eb_959f_acde48001122row75_col6\" class=\"data row75 col6\" >False</td>\n",
       "                        <td id=\"T_6eb88190_11e6_11eb_959f_acde48001122row75_col7\" class=\"data row75 col7\" >False</td>\n",
       "            </tr>\n",
       "            <tr>\n",
       "                        <th id=\"T_6eb88190_11e6_11eb_959f_acde48001122level0_row76\" class=\"row_heading level0 row76\" >76</th>\n",
       "                        <td id=\"T_6eb88190_11e6_11eb_959f_acde48001122row76_col0\" class=\"data row76 col0\" >across</td>\n",
       "                        <td id=\"T_6eb88190_11e6_11eb_959f_acde48001122row76_col1\" class=\"data row76 col1\" >across</td>\n",
       "                        <td id=\"T_6eb88190_11e6_11eb_959f_acde48001122row76_col2\" class=\"data row76 col2\" >ADP</td>\n",
       "                        <td id=\"T_6eb88190_11e6_11eb_959f_acde48001122row76_col3\" class=\"data row76 col3\" >IN</td>\n",
       "                        <td id=\"T_6eb88190_11e6_11eb_959f_acde48001122row76_col4\" class=\"data row76 col4\" >prep</td>\n",
       "                        <td id=\"T_6eb88190_11e6_11eb_959f_acde48001122row76_col5\" class=\"data row76 col5\" >True</td>\n",
       "                        <td id=\"T_6eb88190_11e6_11eb_959f_acde48001122row76_col6\" class=\"data row76 col6\" >False</td>\n",
       "                        <td id=\"T_6eb88190_11e6_11eb_959f_acde48001122row76_col7\" class=\"data row76 col7\" >False</td>\n",
       "            </tr>\n",
       "            <tr>\n",
       "                        <th id=\"T_6eb88190_11e6_11eb_959f_acde48001122level0_row77\" class=\"row_heading level0 row77\" >77</th>\n",
       "                        <td id=\"T_6eb88190_11e6_11eb_959f_acde48001122row77_col0\" class=\"data row77 col0\" >kiddie</td>\n",
       "                        <td id=\"T_6eb88190_11e6_11eb_959f_acde48001122row77_col1\" class=\"data row77 col1\" >kiddie</td>\n",
       "                        <td id=\"T_6eb88190_11e6_11eb_959f_acde48001122row77_col2\" class=\"data row77 col2\" >PROPN</td>\n",
       "                        <td id=\"T_6eb88190_11e6_11eb_959f_acde48001122row77_col3\" class=\"data row77 col3\" >NNP</td>\n",
       "                        <td id=\"T_6eb88190_11e6_11eb_959f_acde48001122row77_col4\" class=\"data row77 col4\" >compound</td>\n",
       "                        <td id=\"T_6eb88190_11e6_11eb_959f_acde48001122row77_col5\" class=\"data row77 col5\" >False</td>\n",
       "                        <td id=\"T_6eb88190_11e6_11eb_959f_acde48001122row77_col6\" class=\"data row77 col6\" >False</td>\n",
       "                        <td id=\"T_6eb88190_11e6_11eb_959f_acde48001122row77_col7\" class=\"data row77 col7\" >False</td>\n",
       "            </tr>\n",
       "            <tr>\n",
       "                        <th id=\"T_6eb88190_11e6_11eb_959f_acde48001122level0_row78\" class=\"row_heading level0 row78\" >78</th>\n",
       "                        <td id=\"T_6eb88190_11e6_11eb_959f_acde48001122row78_col0\" class=\"data row78 col0\" >pool</td>\n",
       "                        <td id=\"T_6eb88190_11e6_11eb_959f_acde48001122row78_col1\" class=\"data row78 col1\" >pool</td>\n",
       "                        <td id=\"T_6eb88190_11e6_11eb_959f_acde48001122row78_col2\" class=\"data row78 col2\" >NOUN</td>\n",
       "                        <td id=\"T_6eb88190_11e6_11eb_959f_acde48001122row78_col3\" class=\"data row78 col3\" >NN</td>\n",
       "                        <td id=\"T_6eb88190_11e6_11eb_959f_acde48001122row78_col4\" class=\"data row78 col4\" >pobj</td>\n",
       "                        <td id=\"T_6eb88190_11e6_11eb_959f_acde48001122row78_col5\" class=\"data row78 col5\" >False</td>\n",
       "                        <td id=\"T_6eb88190_11e6_11eb_959f_acde48001122row78_col6\" class=\"data row78 col6\" >False</td>\n",
       "                        <td id=\"T_6eb88190_11e6_11eb_959f_acde48001122row78_col7\" class=\"data row78 col7\" >False</td>\n",
       "            </tr>\n",
       "            <tr>\n",
       "                        <th id=\"T_6eb88190_11e6_11eb_959f_acde48001122level0_row79\" class=\"row_heading level0 row79\" >79</th>\n",
       "                        <td id=\"T_6eb88190_11e6_11eb_959f_acde48001122row79_col0\" class=\"data row79 col0\" >,</td>\n",
       "                        <td id=\"T_6eb88190_11e6_11eb_959f_acde48001122row79_col1\" class=\"data row79 col1\" >,</td>\n",
       "                        <td id=\"T_6eb88190_11e6_11eb_959f_acde48001122row79_col2\" class=\"data row79 col2\" >PUNCT</td>\n",
       "                        <td id=\"T_6eb88190_11e6_11eb_959f_acde48001122row79_col3\" class=\"data row79 col3\" >,</td>\n",
       "                        <td id=\"T_6eb88190_11e6_11eb_959f_acde48001122row79_col4\" class=\"data row79 col4\" >punct</td>\n",
       "                        <td id=\"T_6eb88190_11e6_11eb_959f_acde48001122row79_col5\" class=\"data row79 col5\" >False</td>\n",
       "                        <td id=\"T_6eb88190_11e6_11eb_959f_acde48001122row79_col6\" class=\"data row79 col6\" >True</td>\n",
       "                        <td id=\"T_6eb88190_11e6_11eb_959f_acde48001122row79_col7\" class=\"data row79 col7\" >False</td>\n",
       "            </tr>\n",
       "            <tr>\n",
       "                        <th id=\"T_6eb88190_11e6_11eb_959f_acde48001122level0_row80\" class=\"row_heading level0 row80\" >80</th>\n",
       "                        <td id=\"T_6eb88190_11e6_11eb_959f_acde48001122row80_col0\" class=\"data row80 col0\" >popping</td>\n",
       "                        <td id=\"T_6eb88190_11e6_11eb_959f_acde48001122row80_col1\" class=\"data row80 col1\" >pop</td>\n",
       "                        <td id=\"T_6eb88190_11e6_11eb_959f_acde48001122row80_col2\" class=\"data row80 col2\" >VERB</td>\n",
       "                        <td id=\"T_6eb88190_11e6_11eb_959f_acde48001122row80_col3\" class=\"data row80 col3\" >VBG</td>\n",
       "                        <td id=\"T_6eb88190_11e6_11eb_959f_acde48001122row80_col4\" class=\"data row80 col4\" >conj</td>\n",
       "                        <td id=\"T_6eb88190_11e6_11eb_959f_acde48001122row80_col5\" class=\"data row80 col5\" >False</td>\n",
       "                        <td id=\"T_6eb88190_11e6_11eb_959f_acde48001122row80_col6\" class=\"data row80 col6\" >False</td>\n",
       "                        <td id=\"T_6eb88190_11e6_11eb_959f_acde48001122row80_col7\" class=\"data row80 col7\" >False</td>\n",
       "            </tr>\n",
       "            <tr>\n",
       "                        <th id=\"T_6eb88190_11e6_11eb_959f_acde48001122level0_row81\" class=\"row_heading level0 row81\" >81</th>\n",
       "                        <td id=\"T_6eb88190_11e6_11eb_959f_acde48001122row81_col0\" class=\"data row81 col0\" >water</td>\n",
       "                        <td id=\"T_6eb88190_11e6_11eb_959f_acde48001122row81_col1\" class=\"data row81 col1\" >water</td>\n",
       "                        <td id=\"T_6eb88190_11e6_11eb_959f_acde48001122row81_col2\" class=\"data row81 col2\" >NOUN</td>\n",
       "                        <td id=\"T_6eb88190_11e6_11eb_959f_acde48001122row81_col3\" class=\"data row81 col3\" >NN</td>\n",
       "                        <td id=\"T_6eb88190_11e6_11eb_959f_acde48001122row81_col4\" class=\"data row81 col4\" >compound</td>\n",
       "                        <td id=\"T_6eb88190_11e6_11eb_959f_acde48001122row81_col5\" class=\"data row81 col5\" >False</td>\n",
       "                        <td id=\"T_6eb88190_11e6_11eb_959f_acde48001122row81_col6\" class=\"data row81 col6\" >False</td>\n",
       "                        <td id=\"T_6eb88190_11e6_11eb_959f_acde48001122row81_col7\" class=\"data row81 col7\" >False</td>\n",
       "            </tr>\n",
       "            <tr>\n",
       "                        <th id=\"T_6eb88190_11e6_11eb_959f_acde48001122level0_row82\" class=\"row_heading level0 row82\" >82</th>\n",
       "                        <td id=\"T_6eb88190_11e6_11eb_959f_acde48001122row82_col0\" class=\"data row82 col0\" >balloon</td>\n",
       "                        <td id=\"T_6eb88190_11e6_11eb_959f_acde48001122row82_col1\" class=\"data row82 col1\" >balloon</td>\n",
       "                        <td id=\"T_6eb88190_11e6_11eb_959f_acde48001122row82_col2\" class=\"data row82 col2\" >NOUN</td>\n",
       "                        <td id=\"T_6eb88190_11e6_11eb_959f_acde48001122row82_col3\" class=\"data row82 col3\" >NN</td>\n",
       "                        <td id=\"T_6eb88190_11e6_11eb_959f_acde48001122row82_col4\" class=\"data row82 col4\" >dobj</td>\n",
       "                        <td id=\"T_6eb88190_11e6_11eb_959f_acde48001122row82_col5\" class=\"data row82 col5\" >False</td>\n",
       "                        <td id=\"T_6eb88190_11e6_11eb_959f_acde48001122row82_col6\" class=\"data row82 col6\" >False</td>\n",
       "                        <td id=\"T_6eb88190_11e6_11eb_959f_acde48001122row82_col7\" class=\"data row82 col7\" >False</td>\n",
       "            </tr>\n",
       "            <tr>\n",
       "                        <th id=\"T_6eb88190_11e6_11eb_959f_acde48001122level0_row83\" class=\"row_heading level0 row83\" >83</th>\n",
       "                        <td id=\"T_6eb88190_11e6_11eb_959f_acde48001122row83_col0\" class=\"data row83 col0\" >that</td>\n",
       "                        <td id=\"T_6eb88190_11e6_11eb_959f_acde48001122row83_col1\" class=\"data row83 col1\" >that</td>\n",
       "                        <td id=\"T_6eb88190_11e6_11eb_959f_acde48001122row83_col2\" class=\"data row83 col2\" >DET</td>\n",
       "                        <td id=\"T_6eb88190_11e6_11eb_959f_acde48001122row83_col3\" class=\"data row83 col3\" >WDT</td>\n",
       "                        <td id=\"T_6eb88190_11e6_11eb_959f_acde48001122row83_col4\" class=\"data row83 col4\" >nsubj</td>\n",
       "                        <td id=\"T_6eb88190_11e6_11eb_959f_acde48001122row83_col5\" class=\"data row83 col5\" >True</td>\n",
       "                        <td id=\"T_6eb88190_11e6_11eb_959f_acde48001122row83_col6\" class=\"data row83 col6\" >False</td>\n",
       "                        <td id=\"T_6eb88190_11e6_11eb_959f_acde48001122row83_col7\" class=\"data row83 col7\" >False</td>\n",
       "            </tr>\n",
       "            <tr>\n",
       "                        <th id=\"T_6eb88190_11e6_11eb_959f_acde48001122level0_row84\" class=\"row_heading level0 row84\" >84</th>\n",
       "                        <td id=\"T_6eb88190_11e6_11eb_959f_acde48001122row84_col0\" class=\"data row84 col0\" >fills</td>\n",
       "                        <td id=\"T_6eb88190_11e6_11eb_959f_acde48001122row84_col1\" class=\"data row84 col1\" >fill</td>\n",
       "                        <td id=\"T_6eb88190_11e6_11eb_959f_acde48001122row84_col2\" class=\"data row84 col2\" >VERB</td>\n",
       "                        <td id=\"T_6eb88190_11e6_11eb_959f_acde48001122row84_col3\" class=\"data row84 col3\" >VBZ</td>\n",
       "                        <td id=\"T_6eb88190_11e6_11eb_959f_acde48001122row84_col4\" class=\"data row84 col4\" >relcl</td>\n",
       "                        <td id=\"T_6eb88190_11e6_11eb_959f_acde48001122row84_col5\" class=\"data row84 col5\" >False</td>\n",
       "                        <td id=\"T_6eb88190_11e6_11eb_959f_acde48001122row84_col6\" class=\"data row84 col6\" >False</td>\n",
       "                        <td id=\"T_6eb88190_11e6_11eb_959f_acde48001122row84_col7\" class=\"data row84 col7\" >False</td>\n",
       "            </tr>\n",
       "            <tr>\n",
       "                        <th id=\"T_6eb88190_11e6_11eb_959f_acde48001122level0_row85\" class=\"row_heading level0 row85\" >85</th>\n",
       "                        <td id=\"T_6eb88190_11e6_11eb_959f_acde48001122row85_col0\" class=\"data row85 col0\" >cup</td>\n",
       "                        <td id=\"T_6eb88190_11e6_11eb_959f_acde48001122row85_col1\" class=\"data row85 col1\" >cup</td>\n",
       "                        <td id=\"T_6eb88190_11e6_11eb_959f_acde48001122row85_col2\" class=\"data row85 col2\" >PROPN</td>\n",
       "                        <td id=\"T_6eb88190_11e6_11eb_959f_acde48001122row85_col3\" class=\"data row85 col3\" >NNP</td>\n",
       "                        <td id=\"T_6eb88190_11e6_11eb_959f_acde48001122row85_col4\" class=\"data row85 col4\" >dobj</td>\n",
       "                        <td id=\"T_6eb88190_11e6_11eb_959f_acde48001122row85_col5\" class=\"data row85 col5\" >False</td>\n",
       "                        <td id=\"T_6eb88190_11e6_11eb_959f_acde48001122row85_col6\" class=\"data row85 col6\" >False</td>\n",
       "                        <td id=\"T_6eb88190_11e6_11eb_959f_acde48001122row85_col7\" class=\"data row85 col7\" >False</td>\n",
       "            </tr>\n",
       "            <tr>\n",
       "                        <th id=\"T_6eb88190_11e6_11eb_959f_acde48001122level0_row86\" class=\"row_heading level0 row86\" >86</th>\n",
       "                        <td id=\"T_6eb88190_11e6_11eb_959f_acde48001122row86_col0\" class=\"data row86 col0\" >,</td>\n",
       "                        <td id=\"T_6eb88190_11e6_11eb_959f_acde48001122row86_col1\" class=\"data row86 col1\" >,</td>\n",
       "                        <td id=\"T_6eb88190_11e6_11eb_959f_acde48001122row86_col2\" class=\"data row86 col2\" >PUNCT</td>\n",
       "                        <td id=\"T_6eb88190_11e6_11eb_959f_acde48001122row86_col3\" class=\"data row86 col3\" >,</td>\n",
       "                        <td id=\"T_6eb88190_11e6_11eb_959f_acde48001122row86_col4\" class=\"data row86 col4\" >punct</td>\n",
       "                        <td id=\"T_6eb88190_11e6_11eb_959f_acde48001122row86_col5\" class=\"data row86 col5\" >False</td>\n",
       "                        <td id=\"T_6eb88190_11e6_11eb_959f_acde48001122row86_col6\" class=\"data row86 col6\" >True</td>\n",
       "                        <td id=\"T_6eb88190_11e6_11eb_959f_acde48001122row86_col7\" class=\"data row86 col7\" >False</td>\n",
       "            </tr>\n",
       "            <tr>\n",
       "                        <th id=\"T_6eb88190_11e6_11eb_959f_acde48001122level0_row87\" class=\"row_heading level0 row87\" >87</th>\n",
       "                        <td id=\"T_6eb88190_11e6_11eb_959f_acde48001122row87_col0\" class=\"data row87 col0\" >weighing</td>\n",
       "                        <td id=\"T_6eb88190_11e6_11eb_959f_acde48001122row87_col1\" class=\"data row87 col1\" >weigh</td>\n",
       "                        <td id=\"T_6eb88190_11e6_11eb_959f_acde48001122row87_col2\" class=\"data row87 col2\" >VERB</td>\n",
       "                        <td id=\"T_6eb88190_11e6_11eb_959f_acde48001122row87_col3\" class=\"data row87 col3\" >VBG</td>\n",
       "                        <td id=\"T_6eb88190_11e6_11eb_959f_acde48001122row87_col4\" class=\"data row87 col4\" >conj</td>\n",
       "                        <td id=\"T_6eb88190_11e6_11eb_959f_acde48001122row87_col5\" class=\"data row87 col5\" >False</td>\n",
       "                        <td id=\"T_6eb88190_11e6_11eb_959f_acde48001122row87_col6\" class=\"data row87 col6\" >False</td>\n",
       "                        <td id=\"T_6eb88190_11e6_11eb_959f_acde48001122row87_col7\" class=\"data row87 col7\" >False</td>\n",
       "            </tr>\n",
       "            <tr>\n",
       "                        <th id=\"T_6eb88190_11e6_11eb_959f_acde48001122level0_row88\" class=\"row_heading level0 row88\" >88</th>\n",
       "                        <td id=\"T_6eb88190_11e6_11eb_959f_acde48001122row88_col0\" class=\"data row88 col0\" >down</td>\n",
       "                        <td id=\"T_6eb88190_11e6_11eb_959f_acde48001122row88_col1\" class=\"data row88 col1\" >down</td>\n",
       "                        <td id=\"T_6eb88190_11e6_11eb_959f_acde48001122row88_col2\" class=\"data row88 col2\" >ADP</td>\n",
       "                        <td id=\"T_6eb88190_11e6_11eb_959f_acde48001122row88_col3\" class=\"data row88 col3\" >RP</td>\n",
       "                        <td id=\"T_6eb88190_11e6_11eb_959f_acde48001122row88_col4\" class=\"data row88 col4\" >prt</td>\n",
       "                        <td id=\"T_6eb88190_11e6_11eb_959f_acde48001122row88_col5\" class=\"data row88 col5\" >True</td>\n",
       "                        <td id=\"T_6eb88190_11e6_11eb_959f_acde48001122row88_col6\" class=\"data row88 col6\" >False</td>\n",
       "                        <td id=\"T_6eb88190_11e6_11eb_959f_acde48001122row88_col7\" class=\"data row88 col7\" >False</td>\n",
       "            </tr>\n",
       "            <tr>\n",
       "                        <th id=\"T_6eb88190_11e6_11eb_959f_acde48001122level0_row89\" class=\"row_heading level0 row89\" >89</th>\n",
       "                        <td id=\"T_6eb88190_11e6_11eb_959f_acde48001122row89_col0\" class=\"data row89 col0\" >lever</td>\n",
       "                        <td id=\"T_6eb88190_11e6_11eb_959f_acde48001122row89_col1\" class=\"data row89 col1\" >lever</td>\n",
       "                        <td id=\"T_6eb88190_11e6_11eb_959f_acde48001122row89_col2\" class=\"data row89 col2\" >CCONJ</td>\n",
       "                        <td id=\"T_6eb88190_11e6_11eb_959f_acde48001122row89_col3\" class=\"data row89 col3\" >CC</td>\n",
       "                        <td id=\"T_6eb88190_11e6_11eb_959f_acde48001122row89_col4\" class=\"data row89 col4\" >dobj</td>\n",
       "                        <td id=\"T_6eb88190_11e6_11eb_959f_acde48001122row89_col5\" class=\"data row89 col5\" >False</td>\n",
       "                        <td id=\"T_6eb88190_11e6_11eb_959f_acde48001122row89_col6\" class=\"data row89 col6\" >False</td>\n",
       "                        <td id=\"T_6eb88190_11e6_11eb_959f_acde48001122row89_col7\" class=\"data row89 col7\" >False</td>\n",
       "            </tr>\n",
       "            <tr>\n",
       "                        <th id=\"T_6eb88190_11e6_11eb_959f_acde48001122level0_row90\" class=\"row_heading level0 row90\" >90</th>\n",
       "                        <td id=\"T_6eb88190_11e6_11eb_959f_acde48001122row90_col0\" class=\"data row90 col0\" >that</td>\n",
       "                        <td id=\"T_6eb88190_11e6_11eb_959f_acde48001122row90_col1\" class=\"data row90 col1\" >that</td>\n",
       "                        <td id=\"T_6eb88190_11e6_11eb_959f_acde48001122row90_col2\" class=\"data row90 col2\" >DET</td>\n",
       "                        <td id=\"T_6eb88190_11e6_11eb_959f_acde48001122row90_col3\" class=\"data row90 col3\" >WDT</td>\n",
       "                        <td id=\"T_6eb88190_11e6_11eb_959f_acde48001122row90_col4\" class=\"data row90 col4\" >dobj</td>\n",
       "                        <td id=\"T_6eb88190_11e6_11eb_959f_acde48001122row90_col5\" class=\"data row90 col5\" >True</td>\n",
       "                        <td id=\"T_6eb88190_11e6_11eb_959f_acde48001122row90_col6\" class=\"data row90 col6\" >False</td>\n",
       "                        <td id=\"T_6eb88190_11e6_11eb_959f_acde48001122row90_col7\" class=\"data row90 col7\" >False</td>\n",
       "            </tr>\n",
       "            <tr>\n",
       "                        <th id=\"T_6eb88190_11e6_11eb_959f_acde48001122level0_row91\" class=\"row_heading level0 row91\" >91</th>\n",
       "                        <td id=\"T_6eb88190_11e6_11eb_959f_acde48001122row91_col0\" class=\"data row91 col0\" >forces</td>\n",
       "                        <td id=\"T_6eb88190_11e6_11eb_959f_acde48001122row91_col1\" class=\"data row91 col1\" >force</td>\n",
       "                        <td id=\"T_6eb88190_11e6_11eb_959f_acde48001122row91_col2\" class=\"data row91 col2\" >NOUN</td>\n",
       "                        <td id=\"T_6eb88190_11e6_11eb_959f_acde48001122row91_col3\" class=\"data row91 col3\" >NNS</td>\n",
       "                        <td id=\"T_6eb88190_11e6_11eb_959f_acde48001122row91_col4\" class=\"data row91 col4\" >nsubj</td>\n",
       "                        <td id=\"T_6eb88190_11e6_11eb_959f_acde48001122row91_col5\" class=\"data row91 col5\" >False</td>\n",
       "                        <td id=\"T_6eb88190_11e6_11eb_959f_acde48001122row91_col6\" class=\"data row91 col6\" >False</td>\n",
       "                        <td id=\"T_6eb88190_11e6_11eb_959f_acde48001122row91_col7\" class=\"data row91 col7\" >False</td>\n",
       "            </tr>\n",
       "            <tr>\n",
       "                        <th id=\"T_6eb88190_11e6_11eb_959f_acde48001122level0_row92\" class=\"row_heading level0 row92\" >92</th>\n",
       "                        <td id=\"T_6eb88190_11e6_11eb_959f_acde48001122row92_col0\" class=\"data row92 col0\" >basketball</td>\n",
       "                        <td id=\"T_6eb88190_11e6_11eb_959f_acde48001122row92_col1\" class=\"data row92 col1\" >basketball</td>\n",
       "                        <td id=\"T_6eb88190_11e6_11eb_959f_acde48001122row92_col2\" class=\"data row92 col2\" >VERB</td>\n",
       "                        <td id=\"T_6eb88190_11e6_11eb_959f_acde48001122row92_col3\" class=\"data row92 col3\" >VBP</td>\n",
       "                        <td id=\"T_6eb88190_11e6_11eb_959f_acde48001122row92_col4\" class=\"data row92 col4\" >relcl</td>\n",
       "                        <td id=\"T_6eb88190_11e6_11eb_959f_acde48001122row92_col5\" class=\"data row92 col5\" >False</td>\n",
       "                        <td id=\"T_6eb88190_11e6_11eb_959f_acde48001122row92_col6\" class=\"data row92 col6\" >False</td>\n",
       "                        <td id=\"T_6eb88190_11e6_11eb_959f_acde48001122row92_col7\" class=\"data row92 col7\" >False</td>\n",
       "            </tr>\n",
       "            <tr>\n",
       "                        <th id=\"T_6eb88190_11e6_11eb_959f_acde48001122level0_row93\" class=\"row_heading level0 row93\" >93</th>\n",
       "                        <td id=\"T_6eb88190_11e6_11eb_959f_acde48001122row93_col0\" class=\"data row93 col0\" >down</td>\n",
       "                        <td id=\"T_6eb88190_11e6_11eb_959f_acde48001122row93_col1\" class=\"data row93 col1\" >down</td>\n",
       "                        <td id=\"T_6eb88190_11e6_11eb_959f_acde48001122row93_col2\" class=\"data row93 col2\" >ADP</td>\n",
       "                        <td id=\"T_6eb88190_11e6_11eb_959f_acde48001122row93_col3\" class=\"data row93 col3\" >RP</td>\n",
       "                        <td id=\"T_6eb88190_11e6_11eb_959f_acde48001122row93_col4\" class=\"data row93 col4\" >prt</td>\n",
       "                        <td id=\"T_6eb88190_11e6_11eb_959f_acde48001122row93_col5\" class=\"data row93 col5\" >True</td>\n",
       "                        <td id=\"T_6eb88190_11e6_11eb_959f_acde48001122row93_col6\" class=\"data row93 col6\" >False</td>\n",
       "                        <td id=\"T_6eb88190_11e6_11eb_959f_acde48001122row93_col7\" class=\"data row93 col7\" >False</td>\n",
       "            </tr>\n",
       "            <tr>\n",
       "                        <th id=\"T_6eb88190_11e6_11eb_959f_acde48001122level0_row94\" class=\"row_heading level0 row94\" >94</th>\n",
       "                        <td id=\"T_6eb88190_11e6_11eb_959f_acde48001122row94_col0\" class=\"data row94 col0\" >track</td>\n",
       "                        <td id=\"T_6eb88190_11e6_11eb_959f_acde48001122row94_col1\" class=\"data row94 col1\" >track</td>\n",
       "                        <td id=\"T_6eb88190_11e6_11eb_959f_acde48001122row94_col2\" class=\"data row94 col2\" >NOUN</td>\n",
       "                        <td id=\"T_6eb88190_11e6_11eb_959f_acde48001122row94_col3\" class=\"data row94 col3\" >NN</td>\n",
       "                        <td id=\"T_6eb88190_11e6_11eb_959f_acde48001122row94_col4\" class=\"data row94 col4\" >pobj</td>\n",
       "                        <td id=\"T_6eb88190_11e6_11eb_959f_acde48001122row94_col5\" class=\"data row94 col5\" >False</td>\n",
       "                        <td id=\"T_6eb88190_11e6_11eb_959f_acde48001122row94_col6\" class=\"data row94 col6\" >False</td>\n",
       "                        <td id=\"T_6eb88190_11e6_11eb_959f_acde48001122row94_col7\" class=\"data row94 col7\" >False</td>\n",
       "            </tr>\n",
       "            <tr>\n",
       "                        <th id=\"T_6eb88190_11e6_11eb_959f_acde48001122level0_row95\" class=\"row_heading level0 row95\" >95</th>\n",
       "                        <td id=\"T_6eb88190_11e6_11eb_959f_acde48001122row95_col0\" class=\"data row95 col0\" >,</td>\n",
       "                        <td id=\"T_6eb88190_11e6_11eb_959f_acde48001122row95_col1\" class=\"data row95 col1\" >,</td>\n",
       "                        <td id=\"T_6eb88190_11e6_11eb_959f_acde48001122row95_col2\" class=\"data row95 col2\" >PUNCT</td>\n",
       "                        <td id=\"T_6eb88190_11e6_11eb_959f_acde48001122row95_col3\" class=\"data row95 col3\" >,</td>\n",
       "                        <td id=\"T_6eb88190_11e6_11eb_959f_acde48001122row95_col4\" class=\"data row95 col4\" >punct</td>\n",
       "                        <td id=\"T_6eb88190_11e6_11eb_959f_acde48001122row95_col5\" class=\"data row95 col5\" >False</td>\n",
       "                        <td id=\"T_6eb88190_11e6_11eb_959f_acde48001122row95_col6\" class=\"data row95 col6\" >True</td>\n",
       "                        <td id=\"T_6eb88190_11e6_11eb_959f_acde48001122row95_col7\" class=\"data row95 col7\" >False</td>\n",
       "            </tr>\n",
       "            <tr>\n",
       "                        <th id=\"T_6eb88190_11e6_11eb_959f_acde48001122level0_row96\" class=\"row_heading level0 row96\" >96</th>\n",
       "                        <td id=\"T_6eb88190_11e6_11eb_959f_acde48001122row96_col0\" class=\"data row96 col0\" >nudging</td>\n",
       "                        <td id=\"T_6eb88190_11e6_11eb_959f_acde48001122row96_col1\" class=\"data row96 col1\" >nudge</td>\n",
       "                        <td id=\"T_6eb88190_11e6_11eb_959f_acde48001122row96_col2\" class=\"data row96 col2\" >VERB</td>\n",
       "                        <td id=\"T_6eb88190_11e6_11eb_959f_acde48001122row96_col3\" class=\"data row96 col3\" >VBG</td>\n",
       "                        <td id=\"T_6eb88190_11e6_11eb_959f_acde48001122row96_col4\" class=\"data row96 col4\" >conj</td>\n",
       "                        <td id=\"T_6eb88190_11e6_11eb_959f_acde48001122row96_col5\" class=\"data row96 col5\" >False</td>\n",
       "                        <td id=\"T_6eb88190_11e6_11eb_959f_acde48001122row96_col6\" class=\"data row96 col6\" >False</td>\n",
       "                        <td id=\"T_6eb88190_11e6_11eb_959f_acde48001122row96_col7\" class=\"data row96 col7\" >False</td>\n",
       "            </tr>\n",
       "            <tr>\n",
       "                        <th id=\"T_6eb88190_11e6_11eb_959f_acde48001122level0_row97\" class=\"row_heading level0 row97\" >97</th>\n",
       "                        <td id=\"T_6eb88190_11e6_11eb_959f_acde48001122row97_col0\" class=\"data row97 col0\" >broomstick</td>\n",
       "                        <td id=\"T_6eb88190_11e6_11eb_959f_acde48001122row97_col1\" class=\"data row97 col1\" >broomstick</td>\n",
       "                        <td id=\"T_6eb88190_11e6_11eb_959f_acde48001122row97_col2\" class=\"data row97 col2\" >NOUN</td>\n",
       "                        <td id=\"T_6eb88190_11e6_11eb_959f_acde48001122row97_col3\" class=\"data row97 col3\" >NN</td>\n",
       "                        <td id=\"T_6eb88190_11e6_11eb_959f_acde48001122row97_col4\" class=\"data row97 col4\" >dobj</td>\n",
       "                        <td id=\"T_6eb88190_11e6_11eb_959f_acde48001122row97_col5\" class=\"data row97 col5\" >False</td>\n",
       "                        <td id=\"T_6eb88190_11e6_11eb_959f_acde48001122row97_col6\" class=\"data row97 col6\" >False</td>\n",
       "                        <td id=\"T_6eb88190_11e6_11eb_959f_acde48001122row97_col7\" class=\"data row97 col7\" >False</td>\n",
       "            </tr>\n",
       "            <tr>\n",
       "                        <th id=\"T_6eb88190_11e6_11eb_959f_acde48001122level0_row98\" class=\"row_heading level0 row98\" >98</th>\n",
       "                        <td id=\"T_6eb88190_11e6_11eb_959f_acde48001122row98_col0\" class=\"data row98 col0\" >on</td>\n",
       "                        <td id=\"T_6eb88190_11e6_11eb_959f_acde48001122row98_col1\" class=\"data row98 col1\" >on</td>\n",
       "                        <td id=\"T_6eb88190_11e6_11eb_959f_acde48001122row98_col2\" class=\"data row98 col2\" >ADP</td>\n",
       "                        <td id=\"T_6eb88190_11e6_11eb_959f_acde48001122row98_col3\" class=\"data row98 col3\" >IN</td>\n",
       "                        <td id=\"T_6eb88190_11e6_11eb_959f_acde48001122row98_col4\" class=\"data row98 col4\" >prep</td>\n",
       "                        <td id=\"T_6eb88190_11e6_11eb_959f_acde48001122row98_col5\" class=\"data row98 col5\" >True</td>\n",
       "                        <td id=\"T_6eb88190_11e6_11eb_959f_acde48001122row98_col6\" class=\"data row98 col6\" >False</td>\n",
       "                        <td id=\"T_6eb88190_11e6_11eb_959f_acde48001122row98_col7\" class=\"data row98 col7\" >False</td>\n",
       "            </tr>\n",
       "            <tr>\n",
       "                        <th id=\"T_6eb88190_11e6_11eb_959f_acde48001122level0_row99\" class=\"row_heading level0 row99\" >99</th>\n",
       "                        <td id=\"T_6eb88190_11e6_11eb_959f_acde48001122row99_col0\" class=\"data row99 col0\" >axis</td>\n",
       "                        <td id=\"T_6eb88190_11e6_11eb_959f_acde48001122row99_col1\" class=\"data row99 col1\" >axis</td>\n",
       "                        <td id=\"T_6eb88190_11e6_11eb_959f_acde48001122row99_col2\" class=\"data row99 col2\" >PROPN</td>\n",
       "                        <td id=\"T_6eb88190_11e6_11eb_959f_acde48001122row99_col3\" class=\"data row99 col3\" >NNP</td>\n",
       "                        <td id=\"T_6eb88190_11e6_11eb_959f_acde48001122row99_col4\" class=\"data row99 col4\" >pobj</td>\n",
       "                        <td id=\"T_6eb88190_11e6_11eb_959f_acde48001122row99_col5\" class=\"data row99 col5\" >False</td>\n",
       "                        <td id=\"T_6eb88190_11e6_11eb_959f_acde48001122row99_col6\" class=\"data row99 col6\" >False</td>\n",
       "                        <td id=\"T_6eb88190_11e6_11eb_959f_acde48001122row99_col7\" class=\"data row99 col7\" >False</td>\n",
       "            </tr>\n",
       "            <tr>\n",
       "                        <th id=\"T_6eb88190_11e6_11eb_959f_acde48001122level0_row100\" class=\"row_heading level0 row100\" >100</th>\n",
       "                        <td id=\"T_6eb88190_11e6_11eb_959f_acde48001122row100_col0\" class=\"data row100 col0\" >to</td>\n",
       "                        <td id=\"T_6eb88190_11e6_11eb_959f_acde48001122row100_col1\" class=\"data row100 col1\" >to</td>\n",
       "                        <td id=\"T_6eb88190_11e6_11eb_959f_acde48001122row100_col2\" class=\"data row100 col2\" >PART</td>\n",
       "                        <td id=\"T_6eb88190_11e6_11eb_959f_acde48001122row100_col3\" class=\"data row100 col3\" >TO</td>\n",
       "                        <td id=\"T_6eb88190_11e6_11eb_959f_acde48001122row100_col4\" class=\"data row100 col4\" >aux</td>\n",
       "                        <td id=\"T_6eb88190_11e6_11eb_959f_acde48001122row100_col5\" class=\"data row100 col5\" >True</td>\n",
       "                        <td id=\"T_6eb88190_11e6_11eb_959f_acde48001122row100_col6\" class=\"data row100 col6\" >False</td>\n",
       "                        <td id=\"T_6eb88190_11e6_11eb_959f_acde48001122row100_col7\" class=\"data row100 col7\" >False</td>\n",
       "            </tr>\n",
       "            <tr>\n",
       "                        <th id=\"T_6eb88190_11e6_11eb_959f_acde48001122level0_row101\" class=\"row_heading level0 row101\" >101</th>\n",
       "                        <td id=\"T_6eb88190_11e6_11eb_959f_acde48001122row101_col0\" class=\"data row101 col0\" >rotate</td>\n",
       "                        <td id=\"T_6eb88190_11e6_11eb_959f_acde48001122row101_col1\" class=\"data row101 col1\" >rotate</td>\n",
       "                        <td id=\"T_6eb88190_11e6_11eb_959f_acde48001122row101_col2\" class=\"data row101 col2\" >VERB</td>\n",
       "                        <td id=\"T_6eb88190_11e6_11eb_959f_acde48001122row101_col3\" class=\"data row101 col3\" >VB</td>\n",
       "                        <td id=\"T_6eb88190_11e6_11eb_959f_acde48001122row101_col4\" class=\"data row101 col4\" >advcl</td>\n",
       "                        <td id=\"T_6eb88190_11e6_11eb_959f_acde48001122row101_col5\" class=\"data row101 col5\" >False</td>\n",
       "                        <td id=\"T_6eb88190_11e6_11eb_959f_acde48001122row101_col6\" class=\"data row101 col6\" >False</td>\n",
       "                        <td id=\"T_6eb88190_11e6_11eb_959f_acde48001122row101_col7\" class=\"data row101 col7\" >False</td>\n",
       "            </tr>\n",
       "            <tr>\n",
       "                        <th id=\"T_6eb88190_11e6_11eb_959f_acde48001122level0_row102\" class=\"row_heading level0 row102\" >102</th>\n",
       "                        <td id=\"T_6eb88190_11e6_11eb_959f_acde48001122row102_col0\" class=\"data row102 col0\" >,</td>\n",
       "                        <td id=\"T_6eb88190_11e6_11eb_959f_acde48001122row102_col1\" class=\"data row102 col1\" >,</td>\n",
       "                        <td id=\"T_6eb88190_11e6_11eb_959f_acde48001122row102_col2\" class=\"data row102 col2\" >PUNCT</td>\n",
       "                        <td id=\"T_6eb88190_11e6_11eb_959f_acde48001122row102_col3\" class=\"data row102 col3\" >,</td>\n",
       "                        <td id=\"T_6eb88190_11e6_11eb_959f_acde48001122row102_col4\" class=\"data row102 col4\" >punct</td>\n",
       "                        <td id=\"T_6eb88190_11e6_11eb_959f_acde48001122row102_col5\" class=\"data row102 col5\" >False</td>\n",
       "                        <td id=\"T_6eb88190_11e6_11eb_959f_acde48001122row102_col6\" class=\"data row102 col6\" >True</td>\n",
       "                        <td id=\"T_6eb88190_11e6_11eb_959f_acde48001122row102_col7\" class=\"data row102 col7\" >False</td>\n",
       "            </tr>\n",
       "            <tr>\n",
       "                        <th id=\"T_6eb88190_11e6_11eb_959f_acde48001122level0_row103\" class=\"row_heading level0 row103\" >103</th>\n",
       "                        <td id=\"T_6eb88190_11e6_11eb_959f_acde48001122row103_col0\" class=\"data row103 col0\" >allowing</td>\n",
       "                        <td id=\"T_6eb88190_11e6_11eb_959f_acde48001122row103_col1\" class=\"data row103 col1\" >allow</td>\n",
       "                        <td id=\"T_6eb88190_11e6_11eb_959f_acde48001122row103_col2\" class=\"data row103 col2\" >VERB</td>\n",
       "                        <td id=\"T_6eb88190_11e6_11eb_959f_acde48001122row103_col3\" class=\"data row103 col3\" >VBG</td>\n",
       "                        <td id=\"T_6eb88190_11e6_11eb_959f_acde48001122row103_col4\" class=\"data row103 col4\" >advcl</td>\n",
       "                        <td id=\"T_6eb88190_11e6_11eb_959f_acde48001122row103_col5\" class=\"data row103 col5\" >False</td>\n",
       "                        <td id=\"T_6eb88190_11e6_11eb_959f_acde48001122row103_col6\" class=\"data row103 col6\" >False</td>\n",
       "                        <td id=\"T_6eb88190_11e6_11eb_959f_acde48001122row103_col7\" class=\"data row103 col7\" >False</td>\n",
       "            </tr>\n",
       "            <tr>\n",
       "                        <th id=\"T_6eb88190_11e6_11eb_959f_acde48001122level0_row104\" class=\"row_heading level0 row104\" >104</th>\n",
       "                        <td id=\"T_6eb88190_11e6_11eb_959f_acde48001122row104_col0\" class=\"data row104 col0\" >golf</td>\n",
       "                        <td id=\"T_6eb88190_11e6_11eb_959f_acde48001122row104_col1\" class=\"data row104 col1\" >golf</td>\n",
       "                        <td id=\"T_6eb88190_11e6_11eb_959f_acde48001122row104_col2\" class=\"data row104 col2\" >NOUN</td>\n",
       "                        <td id=\"T_6eb88190_11e6_11eb_959f_acde48001122row104_col3\" class=\"data row104 col3\" >NN</td>\n",
       "                        <td id=\"T_6eb88190_11e6_11eb_959f_acde48001122row104_col4\" class=\"data row104 col4\" >compound</td>\n",
       "                        <td id=\"T_6eb88190_11e6_11eb_959f_acde48001122row104_col5\" class=\"data row104 col5\" >False</td>\n",
       "                        <td id=\"T_6eb88190_11e6_11eb_959f_acde48001122row104_col6\" class=\"data row104 col6\" >False</td>\n",
       "                        <td id=\"T_6eb88190_11e6_11eb_959f_acde48001122row104_col7\" class=\"data row104 col7\" >False</td>\n",
       "            </tr>\n",
       "            <tr>\n",
       "                        <th id=\"T_6eb88190_11e6_11eb_959f_acde48001122level0_row105\" class=\"row_heading level0 row105\" >105</th>\n",
       "                        <td id=\"T_6eb88190_11e6_11eb_959f_acde48001122row105_col0\" class=\"data row105 col0\" >ball</td>\n",
       "                        <td id=\"T_6eb88190_11e6_11eb_959f_acde48001122row105_col1\" class=\"data row105 col1\" >ball</td>\n",
       "                        <td id=\"T_6eb88190_11e6_11eb_959f_acde48001122row105_col2\" class=\"data row105 col2\" >NOUN</td>\n",
       "                        <td id=\"T_6eb88190_11e6_11eb_959f_acde48001122row105_col3\" class=\"data row105 col3\" >NN</td>\n",
       "                        <td id=\"T_6eb88190_11e6_11eb_959f_acde48001122row105_col4\" class=\"data row105 col4\" >nsubj</td>\n",
       "                        <td id=\"T_6eb88190_11e6_11eb_959f_acde48001122row105_col5\" class=\"data row105 col5\" >False</td>\n",
       "                        <td id=\"T_6eb88190_11e6_11eb_959f_acde48001122row105_col6\" class=\"data row105 col6\" >False</td>\n",
       "                        <td id=\"T_6eb88190_11e6_11eb_959f_acde48001122row105_col7\" class=\"data row105 col7\" >False</td>\n",
       "            </tr>\n",
       "            <tr>\n",
       "                        <th id=\"T_6eb88190_11e6_11eb_959f_acde48001122level0_row106\" class=\"row_heading level0 row106\" >106</th>\n",
       "                        <td id=\"T_6eb88190_11e6_11eb_959f_acde48001122row106_col0\" class=\"data row106 col0\" >to</td>\n",
       "                        <td id=\"T_6eb88190_11e6_11eb_959f_acde48001122row106_col1\" class=\"data row106 col1\" >to</td>\n",
       "                        <td id=\"T_6eb88190_11e6_11eb_959f_acde48001122row106_col2\" class=\"data row106 col2\" >PART</td>\n",
       "                        <td id=\"T_6eb88190_11e6_11eb_959f_acde48001122row106_col3\" class=\"data row106 col3\" >TO</td>\n",
       "                        <td id=\"T_6eb88190_11e6_11eb_959f_acde48001122row106_col4\" class=\"data row106 col4\" >aux</td>\n",
       "                        <td id=\"T_6eb88190_11e6_11eb_959f_acde48001122row106_col5\" class=\"data row106 col5\" >True</td>\n",
       "                        <td id=\"T_6eb88190_11e6_11eb_959f_acde48001122row106_col6\" class=\"data row106 col6\" >False</td>\n",
       "                        <td id=\"T_6eb88190_11e6_11eb_959f_acde48001122row106_col7\" class=\"data row106 col7\" >False</td>\n",
       "            </tr>\n",
       "            <tr>\n",
       "                        <th id=\"T_6eb88190_11e6_11eb_959f_acde48001122level0_row107\" class=\"row_heading level0 row107\" >107</th>\n",
       "                        <td id=\"T_6eb88190_11e6_11eb_959f_acde48001122row107_col0\" class=\"data row107 col0\" >roll</td>\n",
       "                        <td id=\"T_6eb88190_11e6_11eb_959f_acde48001122row107_col1\" class=\"data row107 col1\" >roll</td>\n",
       "                        <td id=\"T_6eb88190_11e6_11eb_959f_acde48001122row107_col2\" class=\"data row107 col2\" >VERB</td>\n",
       "                        <td id=\"T_6eb88190_11e6_11eb_959f_acde48001122row107_col3\" class=\"data row107 col3\" >VB</td>\n",
       "                        <td id=\"T_6eb88190_11e6_11eb_959f_acde48001122row107_col4\" class=\"data row107 col4\" >ccomp</td>\n",
       "                        <td id=\"T_6eb88190_11e6_11eb_959f_acde48001122row107_col5\" class=\"data row107 col5\" >False</td>\n",
       "                        <td id=\"T_6eb88190_11e6_11eb_959f_acde48001122row107_col6\" class=\"data row107 col6\" >False</td>\n",
       "                        <td id=\"T_6eb88190_11e6_11eb_959f_acde48001122row107_col7\" class=\"data row107 col7\" >False</td>\n",
       "            </tr>\n",
       "            <tr>\n",
       "                        <th id=\"T_6eb88190_11e6_11eb_959f_acde48001122level0_row108\" class=\"row_heading level0 row108\" >108</th>\n",
       "                        <td id=\"T_6eb88190_11e6_11eb_959f_acde48001122row108_col0\" class=\"data row108 col0\" >into</td>\n",
       "                        <td id=\"T_6eb88190_11e6_11eb_959f_acde48001122row108_col1\" class=\"data row108 col1\" >into</td>\n",
       "                        <td id=\"T_6eb88190_11e6_11eb_959f_acde48001122row108_col2\" class=\"data row108 col2\" >ADP</td>\n",
       "                        <td id=\"T_6eb88190_11e6_11eb_959f_acde48001122row108_col3\" class=\"data row108 col3\" >IN</td>\n",
       "                        <td id=\"T_6eb88190_11e6_11eb_959f_acde48001122row108_col4\" class=\"data row108 col4\" >prep</td>\n",
       "                        <td id=\"T_6eb88190_11e6_11eb_959f_acde48001122row108_col5\" class=\"data row108 col5\" >True</td>\n",
       "                        <td id=\"T_6eb88190_11e6_11eb_959f_acde48001122row108_col6\" class=\"data row108 col6\" >False</td>\n",
       "                        <td id=\"T_6eb88190_11e6_11eb_959f_acde48001122row108_col7\" class=\"data row108 col7\" >False</td>\n",
       "            </tr>\n",
       "            <tr>\n",
       "                        <th id=\"T_6eb88190_11e6_11eb_959f_acde48001122level0_row109\" class=\"row_heading level0 row109\" >109</th>\n",
       "                        <td id=\"T_6eb88190_11e6_11eb_959f_acde48001122row109_col0\" class=\"data row109 col0\" >sideways</td>\n",
       "                        <td id=\"T_6eb88190_11e6_11eb_959f_acde48001122row109_col1\" class=\"data row109 col1\" >sideways</td>\n",
       "                        <td id=\"T_6eb88190_11e6_11eb_959f_acde48001122row109_col2\" class=\"data row109 col2\" >ADJ</td>\n",
       "                        <td id=\"T_6eb88190_11e6_11eb_959f_acde48001122row109_col3\" class=\"data row109 col3\" >JJ</td>\n",
       "                        <td id=\"T_6eb88190_11e6_11eb_959f_acde48001122row109_col4\" class=\"data row109 col4\" >compound</td>\n",
       "                        <td id=\"T_6eb88190_11e6_11eb_959f_acde48001122row109_col5\" class=\"data row109 col5\" >False</td>\n",
       "                        <td id=\"T_6eb88190_11e6_11eb_959f_acde48001122row109_col6\" class=\"data row109 col6\" >False</td>\n",
       "                        <td id=\"T_6eb88190_11e6_11eb_959f_acde48001122row109_col7\" class=\"data row109 col7\" >False</td>\n",
       "            </tr>\n",
       "            <tr>\n",
       "                        <th id=\"T_6eb88190_11e6_11eb_959f_acde48001122level0_row110\" class=\"row_heading level0 row110\" >110</th>\n",
       "                        <td id=\"T_6eb88190_11e6_11eb_959f_acde48001122row110_col0\" class=\"data row110 col0\" >coffee</td>\n",
       "                        <td id=\"T_6eb88190_11e6_11eb_959f_acde48001122row110_col1\" class=\"data row110 col1\" >coffee</td>\n",
       "                        <td id=\"T_6eb88190_11e6_11eb_959f_acde48001122row110_col2\" class=\"data row110 col2\" >NOUN</td>\n",
       "                        <td id=\"T_6eb88190_11e6_11eb_959f_acde48001122row110_col3\" class=\"data row110 col3\" >NN</td>\n",
       "                        <td id=\"T_6eb88190_11e6_11eb_959f_acde48001122row110_col4\" class=\"data row110 col4\" >compound</td>\n",
       "                        <td id=\"T_6eb88190_11e6_11eb_959f_acde48001122row110_col5\" class=\"data row110 col5\" >False</td>\n",
       "                        <td id=\"T_6eb88190_11e6_11eb_959f_acde48001122row110_col6\" class=\"data row110 col6\" >False</td>\n",
       "                        <td id=\"T_6eb88190_11e6_11eb_959f_acde48001122row110_col7\" class=\"data row110 col7\" >False</td>\n",
       "            </tr>\n",
       "            <tr>\n",
       "                        <th id=\"T_6eb88190_11e6_11eb_959f_acde48001122level0_row111\" class=\"row_heading level0 row111\" >111</th>\n",
       "                        <td id=\"T_6eb88190_11e6_11eb_959f_acde48001122row111_col0\" class=\"data row111 col0\" >mug</td>\n",
       "                        <td id=\"T_6eb88190_11e6_11eb_959f_acde48001122row111_col1\" class=\"data row111 col1\" >mug</td>\n",
       "                        <td id=\"T_6eb88190_11e6_11eb_959f_acde48001122row111_col2\" class=\"data row111 col2\" >NOUN</td>\n",
       "                        <td id=\"T_6eb88190_11e6_11eb_959f_acde48001122row111_col3\" class=\"data row111 col3\" >NN</td>\n",
       "                        <td id=\"T_6eb88190_11e6_11eb_959f_acde48001122row111_col4\" class=\"data row111 col4\" >pobj</td>\n",
       "                        <td id=\"T_6eb88190_11e6_11eb_959f_acde48001122row111_col5\" class=\"data row111 col5\" >False</td>\n",
       "                        <td id=\"T_6eb88190_11e6_11eb_959f_acde48001122row111_col6\" class=\"data row111 col6\" >False</td>\n",
       "                        <td id=\"T_6eb88190_11e6_11eb_959f_acde48001122row111_col7\" class=\"data row111 col7\" >False</td>\n",
       "            </tr>\n",
       "            <tr>\n",
       "                        <th id=\"T_6eb88190_11e6_11eb_959f_acde48001122level0_row112\" class=\"row_heading level0 row112\" >112</th>\n",
       "                        <td id=\"T_6eb88190_11e6_11eb_959f_acde48001122row112_col0\" class=\"data row112 col0\" >,</td>\n",
       "                        <td id=\"T_6eb88190_11e6_11eb_959f_acde48001122row112_col1\" class=\"data row112 col1\" >,</td>\n",
       "                        <td id=\"T_6eb88190_11e6_11eb_959f_acde48001122row112_col2\" class=\"data row112 col2\" >PUNCT</td>\n",
       "                        <td id=\"T_6eb88190_11e6_11eb_959f_acde48001122row112_col3\" class=\"data row112 col3\" >,</td>\n",
       "                        <td id=\"T_6eb88190_11e6_11eb_959f_acde48001122row112_col4\" class=\"data row112 col4\" >punct</td>\n",
       "                        <td id=\"T_6eb88190_11e6_11eb_959f_acde48001122row112_col5\" class=\"data row112 col5\" >False</td>\n",
       "                        <td id=\"T_6eb88190_11e6_11eb_959f_acde48001122row112_col6\" class=\"data row112 col6\" >True</td>\n",
       "                        <td id=\"T_6eb88190_11e6_11eb_959f_acde48001122row112_col7\" class=\"data row112 col7\" >False</td>\n",
       "            </tr>\n",
       "            <tr>\n",
       "                        <th id=\"T_6eb88190_11e6_11eb_959f_acde48001122level0_row113\" class=\"row_heading level0 row113\" >113</th>\n",
       "                        <td id=\"T_6eb88190_11e6_11eb_959f_acde48001122row113_col0\" class=\"data row113 col0\" >which</td>\n",
       "                        <td id=\"T_6eb88190_11e6_11eb_959f_acde48001122row113_col1\" class=\"data row113 col1\" >which</td>\n",
       "                        <td id=\"T_6eb88190_11e6_11eb_959f_acde48001122row113_col2\" class=\"data row113 col2\" >DET</td>\n",
       "                        <td id=\"T_6eb88190_11e6_11eb_959f_acde48001122row113_col3\" class=\"data row113 col3\" >WDT</td>\n",
       "                        <td id=\"T_6eb88190_11e6_11eb_959f_acde48001122row113_col4\" class=\"data row113 col4\" >nsubj</td>\n",
       "                        <td id=\"T_6eb88190_11e6_11eb_959f_acde48001122row113_col5\" class=\"data row113 col5\" >True</td>\n",
       "                        <td id=\"T_6eb88190_11e6_11eb_959f_acde48001122row113_col6\" class=\"data row113 col6\" >False</td>\n",
       "                        <td id=\"T_6eb88190_11e6_11eb_959f_acde48001122row113_col7\" class=\"data row113 col7\" >False</td>\n",
       "            </tr>\n",
       "            <tr>\n",
       "                        <th id=\"T_6eb88190_11e6_11eb_959f_acde48001122level0_row114\" class=\"row_heading level0 row114\" >114</th>\n",
       "                        <td id=\"T_6eb88190_11e6_11eb_959f_acde48001122row114_col0\" class=\"data row114 col0\" >tumbles</td>\n",
       "                        <td id=\"T_6eb88190_11e6_11eb_959f_acde48001122row114_col1\" class=\"data row114 col1\" >tumble</td>\n",
       "                        <td id=\"T_6eb88190_11e6_11eb_959f_acde48001122row114_col2\" class=\"data row114 col2\" >VERB</td>\n",
       "                        <td id=\"T_6eb88190_11e6_11eb_959f_acde48001122row114_col3\" class=\"data row114 col3\" >VBZ</td>\n",
       "                        <td id=\"T_6eb88190_11e6_11eb_959f_acde48001122row114_col4\" class=\"data row114 col4\" >relcl</td>\n",
       "                        <td id=\"T_6eb88190_11e6_11eb_959f_acde48001122row114_col5\" class=\"data row114 col5\" >False</td>\n",
       "                        <td id=\"T_6eb88190_11e6_11eb_959f_acde48001122row114_col6\" class=\"data row114 col6\" >False</td>\n",
       "                        <td id=\"T_6eb88190_11e6_11eb_959f_acde48001122row114_col7\" class=\"data row114 col7\" >False</td>\n",
       "            </tr>\n",
       "            <tr>\n",
       "                        <th id=\"T_6eb88190_11e6_11eb_959f_acde48001122level0_row115\" class=\"row_heading level0 row115\" >115</th>\n",
       "                        <td id=\"T_6eb88190_11e6_11eb_959f_acde48001122row115_col0\" class=\"data row115 col0\" >down</td>\n",
       "                        <td id=\"T_6eb88190_11e6_11eb_959f_acde48001122row115_col1\" class=\"data row115 col1\" >down</td>\n",
       "                        <td id=\"T_6eb88190_11e6_11eb_959f_acde48001122row115_col2\" class=\"data row115 col2\" >ADP</td>\n",
       "                        <td id=\"T_6eb88190_11e6_11eb_959f_acde48001122row115_col3\" class=\"data row115 col3\" >RP</td>\n",
       "                        <td id=\"T_6eb88190_11e6_11eb_959f_acde48001122row115_col4\" class=\"data row115 col4\" >prt</td>\n",
       "                        <td id=\"T_6eb88190_11e6_11eb_959f_acde48001122row115_col5\" class=\"data row115 col5\" >True</td>\n",
       "                        <td id=\"T_6eb88190_11e6_11eb_959f_acde48001122row115_col6\" class=\"data row115 col6\" >False</td>\n",
       "                        <td id=\"T_6eb88190_11e6_11eb_959f_acde48001122row115_col7\" class=\"data row115 col7\" >False</td>\n",
       "            </tr>\n",
       "            <tr>\n",
       "                        <th id=\"T_6eb88190_11e6_11eb_959f_acde48001122level0_row116\" class=\"row_heading level0 row116\" >116</th>\n",
       "                        <td id=\"T_6eb88190_11e6_11eb_959f_acde48001122row116_col0\" class=\"data row116 col0\" >row</td>\n",
       "                        <td id=\"T_6eb88190_11e6_11eb_959f_acde48001122row116_col1\" class=\"data row116 col1\" >row</td>\n",
       "                        <td id=\"T_6eb88190_11e6_11eb_959f_acde48001122row116_col2\" class=\"data row116 col2\" >NOUN</td>\n",
       "                        <td id=\"T_6eb88190_11e6_11eb_959f_acde48001122row116_col3\" class=\"data row116 col3\" >NN</td>\n",
       "                        <td id=\"T_6eb88190_11e6_11eb_959f_acde48001122row116_col4\" class=\"data row116 col4\" >dobj</td>\n",
       "                        <td id=\"T_6eb88190_11e6_11eb_959f_acde48001122row116_col5\" class=\"data row116 col5\" >False</td>\n",
       "                        <td id=\"T_6eb88190_11e6_11eb_959f_acde48001122row116_col6\" class=\"data row116 col6\" >False</td>\n",
       "                        <td id=\"T_6eb88190_11e6_11eb_959f_acde48001122row116_col7\" class=\"data row116 col7\" >False</td>\n",
       "            </tr>\n",
       "            <tr>\n",
       "                        <th id=\"T_6eb88190_11e6_11eb_959f_acde48001122level0_row117\" class=\"row_heading level0 row117\" >117</th>\n",
       "                        <td id=\"T_6eb88190_11e6_11eb_959f_acde48001122row117_col0\" class=\"data row117 col0\" >of</td>\n",
       "                        <td id=\"T_6eb88190_11e6_11eb_959f_acde48001122row117_col1\" class=\"data row117 col1\" >of</td>\n",
       "                        <td id=\"T_6eb88190_11e6_11eb_959f_acde48001122row117_col2\" class=\"data row117 col2\" >ADP</td>\n",
       "                        <td id=\"T_6eb88190_11e6_11eb_959f_acde48001122row117_col3\" class=\"data row117 col3\" >IN</td>\n",
       "                        <td id=\"T_6eb88190_11e6_11eb_959f_acde48001122row117_col4\" class=\"data row117 col4\" >prep</td>\n",
       "                        <td id=\"T_6eb88190_11e6_11eb_959f_acde48001122row117_col5\" class=\"data row117 col5\" >True</td>\n",
       "                        <td id=\"T_6eb88190_11e6_11eb_959f_acde48001122row117_col6\" class=\"data row117 col6\" >False</td>\n",
       "                        <td id=\"T_6eb88190_11e6_11eb_959f_acde48001122row117_col7\" class=\"data row117 col7\" >False</td>\n",
       "            </tr>\n",
       "            <tr>\n",
       "                        <th id=\"T_6eb88190_11e6_11eb_959f_acde48001122level0_row118\" class=\"row_heading level0 row118\" >118</th>\n",
       "                        <td id=\"T_6eb88190_11e6_11eb_959f_acde48001122row118_col0\" class=\"data row118 col0\" >hardcover</td>\n",
       "                        <td id=\"T_6eb88190_11e6_11eb_959f_acde48001122row118_col1\" class=\"data row118 col1\" >hardcover</td>\n",
       "                        <td id=\"T_6eb88190_11e6_11eb_959f_acde48001122row118_col2\" class=\"data row118 col2\" >NOUN</td>\n",
       "                        <td id=\"T_6eb88190_11e6_11eb_959f_acde48001122row118_col3\" class=\"data row118 col3\" >NN</td>\n",
       "                        <td id=\"T_6eb88190_11e6_11eb_959f_acde48001122row118_col4\" class=\"data row118 col4\" >compound</td>\n",
       "                        <td id=\"T_6eb88190_11e6_11eb_959f_acde48001122row118_col5\" class=\"data row118 col5\" >False</td>\n",
       "                        <td id=\"T_6eb88190_11e6_11eb_959f_acde48001122row118_col6\" class=\"data row118 col6\" >False</td>\n",
       "                        <td id=\"T_6eb88190_11e6_11eb_959f_acde48001122row118_col7\" class=\"data row118 col7\" >False</td>\n",
       "            </tr>\n",
       "            <tr>\n",
       "                        <th id=\"T_6eb88190_11e6_11eb_959f_acde48001122level0_row119\" class=\"row_heading level0 row119\" >119</th>\n",
       "                        <td id=\"T_6eb88190_11e6_11eb_959f_acde48001122row119_col0\" class=\"data row119 col0\" >books</td>\n",
       "                        <td id=\"T_6eb88190_11e6_11eb_959f_acde48001122row119_col1\" class=\"data row119 col1\" >book</td>\n",
       "                        <td id=\"T_6eb88190_11e6_11eb_959f_acde48001122row119_col2\" class=\"data row119 col2\" >NOUN</td>\n",
       "                        <td id=\"T_6eb88190_11e6_11eb_959f_acde48001122row119_col3\" class=\"data row119 col3\" >NNS</td>\n",
       "                        <td id=\"T_6eb88190_11e6_11eb_959f_acde48001122row119_col4\" class=\"data row119 col4\" >pobj</td>\n",
       "                        <td id=\"T_6eb88190_11e6_11eb_959f_acde48001122row119_col5\" class=\"data row119 col5\" >False</td>\n",
       "                        <td id=\"T_6eb88190_11e6_11eb_959f_acde48001122row119_col6\" class=\"data row119 col6\" >False</td>\n",
       "                        <td id=\"T_6eb88190_11e6_11eb_959f_acde48001122row119_col7\" class=\"data row119 col7\" >False</td>\n",
       "            </tr>\n",
       "            <tr>\n",
       "                        <th id=\"T_6eb88190_11e6_11eb_959f_acde48001122level0_row120\" class=\"row_heading level0 row120\" >120</th>\n",
       "                        <td id=\"T_6eb88190_11e6_11eb_959f_acde48001122row120_col0\" class=\"data row120 col0\" >until</td>\n",
       "                        <td id=\"T_6eb88190_11e6_11eb_959f_acde48001122row120_col1\" class=\"data row120 col1\" >until</td>\n",
       "                        <td id=\"T_6eb88190_11e6_11eb_959f_acde48001122row120_col2\" class=\"data row120 col2\" >ADP</td>\n",
       "                        <td id=\"T_6eb88190_11e6_11eb_959f_acde48001122row120_col3\" class=\"data row120 col3\" >IN</td>\n",
       "                        <td id=\"T_6eb88190_11e6_11eb_959f_acde48001122row120_col4\" class=\"data row120 col4\" >prep</td>\n",
       "                        <td id=\"T_6eb88190_11e6_11eb_959f_acde48001122row120_col5\" class=\"data row120 col5\" >True</td>\n",
       "                        <td id=\"T_6eb88190_11e6_11eb_959f_acde48001122row120_col6\" class=\"data row120 col6\" >False</td>\n",
       "                        <td id=\"T_6eb88190_11e6_11eb_959f_acde48001122row120_col7\" class=\"data row120 col7\" >False</td>\n",
       "            </tr>\n",
       "            <tr>\n",
       "                        <th id=\"T_6eb88190_11e6_11eb_959f_acde48001122level0_row121\" class=\"row_heading level0 row121\" >121</th>\n",
       "                        <td id=\"T_6eb88190_11e6_11eb_959f_acde48001122row121_col0\" class=\"data row121 col0\" >handle</td>\n",
       "                        <td id=\"T_6eb88190_11e6_11eb_959f_acde48001122row121_col1\" class=\"data row121 col1\" >handle</td>\n",
       "                        <td id=\"T_6eb88190_11e6_11eb_959f_acde48001122row121_col2\" class=\"data row121 col2\" >VERB</td>\n",
       "                        <td id=\"T_6eb88190_11e6_11eb_959f_acde48001122row121_col3\" class=\"data row121 col3\" >VB</td>\n",
       "                        <td id=\"T_6eb88190_11e6_11eb_959f_acde48001122row121_col4\" class=\"data row121 col4\" >compound</td>\n",
       "                        <td id=\"T_6eb88190_11e6_11eb_959f_acde48001122row121_col5\" class=\"data row121 col5\" >False</td>\n",
       "                        <td id=\"T_6eb88190_11e6_11eb_959f_acde48001122row121_col6\" class=\"data row121 col6\" >False</td>\n",
       "                        <td id=\"T_6eb88190_11e6_11eb_959f_acde48001122row121_col7\" class=\"data row121 col7\" >False</td>\n",
       "            </tr>\n",
       "            <tr>\n",
       "                        <th id=\"T_6eb88190_11e6_11eb_959f_acde48001122level0_row122\" class=\"row_heading level0 row122\" >122</th>\n",
       "                        <td id=\"T_6eb88190_11e6_11eb_959f_acde48001122row122_col0\" class=\"data row122 col0\" >catches</td>\n",
       "                        <td id=\"T_6eb88190_11e6_11eb_959f_acde48001122row122_col1\" class=\"data row122 col1\" >catch</td>\n",
       "                        <td id=\"T_6eb88190_11e6_11eb_959f_acde48001122row122_col2\" class=\"data row122 col2\" >NOUN</td>\n",
       "                        <td id=\"T_6eb88190_11e6_11eb_959f_acde48001122row122_col3\" class=\"data row122 col3\" >NNS</td>\n",
       "                        <td id=\"T_6eb88190_11e6_11eb_959f_acde48001122row122_col4\" class=\"data row122 col4\" >compound</td>\n",
       "                        <td id=\"T_6eb88190_11e6_11eb_959f_acde48001122row122_col5\" class=\"data row122 col5\" >False</td>\n",
       "                        <td id=\"T_6eb88190_11e6_11eb_959f_acde48001122row122_col6\" class=\"data row122 col6\" >False</td>\n",
       "                        <td id=\"T_6eb88190_11e6_11eb_959f_acde48001122row122_col7\" class=\"data row122 col7\" >False</td>\n",
       "            </tr>\n",
       "            <tr>\n",
       "                        <th id=\"T_6eb88190_11e6_11eb_959f_acde48001122level0_row123\" class=\"row_heading level0 row123\" >123</th>\n",
       "                        <td id=\"T_6eb88190_11e6_11eb_959f_acde48001122row123_col0\" class=\"data row123 col0\" >hook</td>\n",
       "                        <td id=\"T_6eb88190_11e6_11eb_959f_acde48001122row123_col1\" class=\"data row123 col1\" >hook</td>\n",
       "                        <td id=\"T_6eb88190_11e6_11eb_959f_acde48001122row123_col2\" class=\"data row123 col2\" >NOUN</td>\n",
       "                        <td id=\"T_6eb88190_11e6_11eb_959f_acde48001122row123_col3\" class=\"data row123 col3\" >NN</td>\n",
       "                        <td id=\"T_6eb88190_11e6_11eb_959f_acde48001122row123_col4\" class=\"data row123 col4\" >pobj</td>\n",
       "                        <td id=\"T_6eb88190_11e6_11eb_959f_acde48001122row123_col5\" class=\"data row123 col5\" >False</td>\n",
       "                        <td id=\"T_6eb88190_11e6_11eb_959f_acde48001122row123_col6\" class=\"data row123 col6\" >False</td>\n",
       "                        <td id=\"T_6eb88190_11e6_11eb_959f_acde48001122row123_col7\" class=\"data row123 col7\" >False</td>\n",
       "            </tr>\n",
       "            <tr>\n",
       "                        <th id=\"T_6eb88190_11e6_11eb_959f_acde48001122level0_row124\" class=\"row_heading level0 row124\" >124</th>\n",
       "                        <td id=\"T_6eb88190_11e6_11eb_959f_acde48001122row124_col0\" class=\"data row124 col0\" >attached</td>\n",
       "                        <td id=\"T_6eb88190_11e6_11eb_959f_acde48001122row124_col1\" class=\"data row124 col1\" >attach</td>\n",
       "                        <td id=\"T_6eb88190_11e6_11eb_959f_acde48001122row124_col2\" class=\"data row124 col2\" >VERB</td>\n",
       "                        <td id=\"T_6eb88190_11e6_11eb_959f_acde48001122row124_col3\" class=\"data row124 col3\" >VBN</td>\n",
       "                        <td id=\"T_6eb88190_11e6_11eb_959f_acde48001122row124_col4\" class=\"data row124 col4\" >acl</td>\n",
       "                        <td id=\"T_6eb88190_11e6_11eb_959f_acde48001122row124_col5\" class=\"data row124 col5\" >False</td>\n",
       "                        <td id=\"T_6eb88190_11e6_11eb_959f_acde48001122row124_col6\" class=\"data row124 col6\" >False</td>\n",
       "                        <td id=\"T_6eb88190_11e6_11eb_959f_acde48001122row124_col7\" class=\"data row124 col7\" >False</td>\n",
       "            </tr>\n",
       "            <tr>\n",
       "                        <th id=\"T_6eb88190_11e6_11eb_959f_acde48001122level0_row125\" class=\"row_heading level0 row125\" >125</th>\n",
       "                        <td id=\"T_6eb88190_11e6_11eb_959f_acde48001122row125_col0\" class=\"data row125 col0\" >to</td>\n",
       "                        <td id=\"T_6eb88190_11e6_11eb_959f_acde48001122row125_col1\" class=\"data row125 col1\" >to</td>\n",
       "                        <td id=\"T_6eb88190_11e6_11eb_959f_acde48001122row125_col2\" class=\"data row125 col2\" >PART</td>\n",
       "                        <td id=\"T_6eb88190_11e6_11eb_959f_acde48001122row125_col3\" class=\"data row125 col3\" >TO</td>\n",
       "                        <td id=\"T_6eb88190_11e6_11eb_959f_acde48001122row125_col4\" class=\"data row125 col4\" >prep</td>\n",
       "                        <td id=\"T_6eb88190_11e6_11eb_959f_acde48001122row125_col5\" class=\"data row125 col5\" >True</td>\n",
       "                        <td id=\"T_6eb88190_11e6_11eb_959f_acde48001122row125_col6\" class=\"data row125 col6\" >False</td>\n",
       "                        <td id=\"T_6eb88190_11e6_11eb_959f_acde48001122row125_col7\" class=\"data row125 col7\" >False</td>\n",
       "            </tr>\n",
       "            <tr>\n",
       "                        <th id=\"T_6eb88190_11e6_11eb_959f_acde48001122level0_row126\" class=\"row_heading level0 row126\" >126</th>\n",
       "                        <td id=\"T_6eb88190_11e6_11eb_959f_acde48001122row126_col0\" class=\"data row126 col0\" >lever</td>\n",
       "                        <td id=\"T_6eb88190_11e6_11eb_959f_acde48001122row126_col1\" class=\"data row126 col1\" >lever</td>\n",
       "                        <td id=\"T_6eb88190_11e6_11eb_959f_acde48001122row126_col2\" class=\"data row126 col2\" >VERB</td>\n",
       "                        <td id=\"T_6eb88190_11e6_11eb_959f_acde48001122row126_col3\" class=\"data row126 col3\" >VB</td>\n",
       "                        <td id=\"T_6eb88190_11e6_11eb_959f_acde48001122row126_col4\" class=\"data row126 col4\" >pobj</td>\n",
       "                        <td id=\"T_6eb88190_11e6_11eb_959f_acde48001122row126_col5\" class=\"data row126 col5\" >False</td>\n",
       "                        <td id=\"T_6eb88190_11e6_11eb_959f_acde48001122row126_col6\" class=\"data row126 col6\" >False</td>\n",
       "                        <td id=\"T_6eb88190_11e6_11eb_959f_acde48001122row126_col7\" class=\"data row126 col7\" >False</td>\n",
       "            </tr>\n",
       "            <tr>\n",
       "                        <th id=\"T_6eb88190_11e6_11eb_959f_acde48001122level0_row127\" class=\"row_heading level0 row127\" >127</th>\n",
       "                        <td id=\"T_6eb88190_11e6_11eb_959f_acde48001122row127_col0\" class=\"data row127 col0\" >that</td>\n",
       "                        <td id=\"T_6eb88190_11e6_11eb_959f_acde48001122row127_col1\" class=\"data row127 col1\" >that</td>\n",
       "                        <td id=\"T_6eb88190_11e6_11eb_959f_acde48001122row127_col2\" class=\"data row127 col2\" >DET</td>\n",
       "                        <td id=\"T_6eb88190_11e6_11eb_959f_acde48001122row127_col3\" class=\"data row127 col3\" >DT</td>\n",
       "                        <td id=\"T_6eb88190_11e6_11eb_959f_acde48001122row127_col4\" class=\"data row127 col4\" >nsubj</td>\n",
       "                        <td id=\"T_6eb88190_11e6_11eb_959f_acde48001122row127_col5\" class=\"data row127 col5\" >True</td>\n",
       "                        <td id=\"T_6eb88190_11e6_11eb_959f_acde48001122row127_col6\" class=\"data row127 col6\" >False</td>\n",
       "                        <td id=\"T_6eb88190_11e6_11eb_959f_acde48001122row127_col7\" class=\"data row127 col7\" >False</td>\n",
       "            </tr>\n",
       "            <tr>\n",
       "                        <th id=\"T_6eb88190_11e6_11eb_959f_acde48001122level0_row128\" class=\"row_heading level0 row128\" >128</th>\n",
       "                        <td id=\"T_6eb88190_11e6_11eb_959f_acde48001122row128_col0\" class=\"data row128 col0\" >causes</td>\n",
       "                        <td id=\"T_6eb88190_11e6_11eb_959f_acde48001122row128_col1\" class=\"data row128 col1\" >cause</td>\n",
       "                        <td id=\"T_6eb88190_11e6_11eb_959f_acde48001122row128_col2\" class=\"data row128 col2\" >VERB</td>\n",
       "                        <td id=\"T_6eb88190_11e6_11eb_959f_acde48001122row128_col3\" class=\"data row128 col3\" >VBZ</td>\n",
       "                        <td id=\"T_6eb88190_11e6_11eb_959f_acde48001122row128_col4\" class=\"data row128 col4\" >relcl</td>\n",
       "                        <td id=\"T_6eb88190_11e6_11eb_959f_acde48001122row128_col5\" class=\"data row128 col5\" >False</td>\n",
       "                        <td id=\"T_6eb88190_11e6_11eb_959f_acde48001122row128_col6\" class=\"data row128 col6\" >False</td>\n",
       "                        <td id=\"T_6eb88190_11e6_11eb_959f_acde48001122row128_col7\" class=\"data row128 col7\" >False</td>\n",
       "            </tr>\n",
       "            <tr>\n",
       "                        <th id=\"T_6eb88190_11e6_11eb_959f_acde48001122level0_row129\" class=\"row_heading level0 row129\" >129</th>\n",
       "                        <td id=\"T_6eb88190_11e6_11eb_959f_acde48001122row129_col0\" class=\"data row129 col0\" >wooden</td>\n",
       "                        <td id=\"T_6eb88190_11e6_11eb_959f_acde48001122row129_col1\" class=\"data row129 col1\" >wooden</td>\n",
       "                        <td id=\"T_6eb88190_11e6_11eb_959f_acde48001122row129_col2\" class=\"data row129 col2\" >ADJ</td>\n",
       "                        <td id=\"T_6eb88190_11e6_11eb_959f_acde48001122row129_col3\" class=\"data row129 col3\" >JJ</td>\n",
       "                        <td id=\"T_6eb88190_11e6_11eb_959f_acde48001122row129_col4\" class=\"data row129 col4\" >amod</td>\n",
       "                        <td id=\"T_6eb88190_11e6_11eb_959f_acde48001122row129_col5\" class=\"data row129 col5\" >False</td>\n",
       "                        <td id=\"T_6eb88190_11e6_11eb_959f_acde48001122row129_col6\" class=\"data row129 col6\" >False</td>\n",
       "                        <td id=\"T_6eb88190_11e6_11eb_959f_acde48001122row129_col7\" class=\"data row129 col7\" >False</td>\n",
       "            </tr>\n",
       "            <tr>\n",
       "                        <th id=\"T_6eb88190_11e6_11eb_959f_acde48001122level0_row130\" class=\"row_heading level0 row130\" >130</th>\n",
       "                        <td id=\"T_6eb88190_11e6_11eb_959f_acde48001122row130_col0\" class=\"data row130 col0\" >mallet</td>\n",
       "                        <td id=\"T_6eb88190_11e6_11eb_959f_acde48001122row130_col1\" class=\"data row130 col1\" >mallet</td>\n",
       "                        <td id=\"T_6eb88190_11e6_11eb_959f_acde48001122row130_col2\" class=\"data row130 col2\" >NOUN</td>\n",
       "                        <td id=\"T_6eb88190_11e6_11eb_959f_acde48001122row130_col3\" class=\"data row130 col3\" >NN</td>\n",
       "                        <td id=\"T_6eb88190_11e6_11eb_959f_acde48001122row130_col4\" class=\"data row130 col4\" >nsubj</td>\n",
       "                        <td id=\"T_6eb88190_11e6_11eb_959f_acde48001122row130_col5\" class=\"data row130 col5\" >False</td>\n",
       "                        <td id=\"T_6eb88190_11e6_11eb_959f_acde48001122row130_col6\" class=\"data row130 col6\" >False</td>\n",
       "                        <td id=\"T_6eb88190_11e6_11eb_959f_acde48001122row130_col7\" class=\"data row130 col7\" >False</td>\n",
       "            </tr>\n",
       "            <tr>\n",
       "                        <th id=\"T_6eb88190_11e6_11eb_959f_acde48001122level0_row131\" class=\"row_heading level0 row131\" >131</th>\n",
       "                        <td id=\"T_6eb88190_11e6_11eb_959f_acde48001122row131_col0\" class=\"data row131 col0\" >to</td>\n",
       "                        <td id=\"T_6eb88190_11e6_11eb_959f_acde48001122row131_col1\" class=\"data row131 col1\" >to</td>\n",
       "                        <td id=\"T_6eb88190_11e6_11eb_959f_acde48001122row131_col2\" class=\"data row131 col2\" >PART</td>\n",
       "                        <td id=\"T_6eb88190_11e6_11eb_959f_acde48001122row131_col3\" class=\"data row131 col3\" >TO</td>\n",
       "                        <td id=\"T_6eb88190_11e6_11eb_959f_acde48001122row131_col4\" class=\"data row131 col4\" >aux</td>\n",
       "                        <td id=\"T_6eb88190_11e6_11eb_959f_acde48001122row131_col5\" class=\"data row131 col5\" >True</td>\n",
       "                        <td id=\"T_6eb88190_11e6_11eb_959f_acde48001122row131_col6\" class=\"data row131 col6\" >False</td>\n",
       "                        <td id=\"T_6eb88190_11e6_11eb_959f_acde48001122row131_col7\" class=\"data row131 col7\" >False</td>\n",
       "            </tr>\n",
       "            <tr>\n",
       "                        <th id=\"T_6eb88190_11e6_11eb_959f_acde48001122level0_row132\" class=\"row_heading level0 row132\" >132</th>\n",
       "                        <td id=\"T_6eb88190_11e6_11eb_959f_acde48001122row132_col0\" class=\"data row132 col0\" >slam</td>\n",
       "                        <td id=\"T_6eb88190_11e6_11eb_959f_acde48001122row132_col1\" class=\"data row132 col1\" >slam</td>\n",
       "                        <td id=\"T_6eb88190_11e6_11eb_959f_acde48001122row132_col2\" class=\"data row132 col2\" >VERB</td>\n",
       "                        <td id=\"T_6eb88190_11e6_11eb_959f_acde48001122row132_col3\" class=\"data row132 col3\" >VB</td>\n",
       "                        <td id=\"T_6eb88190_11e6_11eb_959f_acde48001122row132_col4\" class=\"data row132 col4\" >ccomp</td>\n",
       "                        <td id=\"T_6eb88190_11e6_11eb_959f_acde48001122row132_col5\" class=\"data row132 col5\" >False</td>\n",
       "                        <td id=\"T_6eb88190_11e6_11eb_959f_acde48001122row132_col6\" class=\"data row132 col6\" >False</td>\n",
       "                        <td id=\"T_6eb88190_11e6_11eb_959f_acde48001122row132_col7\" class=\"data row132 col7\" >False</td>\n",
       "            </tr>\n",
       "            <tr>\n",
       "                        <th id=\"T_6eb88190_11e6_11eb_959f_acde48001122level0_row133\" class=\"row_heading level0 row133\" >133</th>\n",
       "                        <td id=\"T_6eb88190_11e6_11eb_959f_acde48001122row133_col0\" class=\"data row133 col0\" >down</td>\n",
       "                        <td id=\"T_6eb88190_11e6_11eb_959f_acde48001122row133_col1\" class=\"data row133 col1\" >down</td>\n",
       "                        <td id=\"T_6eb88190_11e6_11eb_959f_acde48001122row133_col2\" class=\"data row133 col2\" >ADP</td>\n",
       "                        <td id=\"T_6eb88190_11e6_11eb_959f_acde48001122row133_col3\" class=\"data row133 col3\" >RP</td>\n",
       "                        <td id=\"T_6eb88190_11e6_11eb_959f_acde48001122row133_col4\" class=\"data row133 col4\" >prt</td>\n",
       "                        <td id=\"T_6eb88190_11e6_11eb_959f_acde48001122row133_col5\" class=\"data row133 col5\" >True</td>\n",
       "                        <td id=\"T_6eb88190_11e6_11eb_959f_acde48001122row133_col6\" class=\"data row133 col6\" >False</td>\n",
       "                        <td id=\"T_6eb88190_11e6_11eb_959f_acde48001122row133_col7\" class=\"data row133 col7\" >False</td>\n",
       "            </tr>\n",
       "            <tr>\n",
       "                        <th id=\"T_6eb88190_11e6_11eb_959f_acde48001122level0_row134\" class=\"row_heading level0 row134\" >134</th>\n",
       "                        <td id=\"T_6eb88190_11e6_11eb_959f_acde48001122row134_col0\" class=\"data row134 col0\" >on</td>\n",
       "                        <td id=\"T_6eb88190_11e6_11eb_959f_acde48001122row134_col1\" class=\"data row134 col1\" >on</td>\n",
       "                        <td id=\"T_6eb88190_11e6_11eb_959f_acde48001122row134_col2\" class=\"data row134 col2\" >ADP</td>\n",
       "                        <td id=\"T_6eb88190_11e6_11eb_959f_acde48001122row134_col3\" class=\"data row134 col3\" >IN</td>\n",
       "                        <td id=\"T_6eb88190_11e6_11eb_959f_acde48001122row134_col4\" class=\"data row134 col4\" >prep</td>\n",
       "                        <td id=\"T_6eb88190_11e6_11eb_959f_acde48001122row134_col5\" class=\"data row134 col5\" >True</td>\n",
       "                        <td id=\"T_6eb88190_11e6_11eb_959f_acde48001122row134_col6\" class=\"data row134 col6\" >False</td>\n",
       "                        <td id=\"T_6eb88190_11e6_11eb_959f_acde48001122row134_col7\" class=\"data row134 col7\" >False</td>\n",
       "            </tr>\n",
       "            <tr>\n",
       "                        <th id=\"T_6eb88190_11e6_11eb_959f_acde48001122level0_row135\" class=\"row_heading level0 row135\" >135</th>\n",
       "                        <td id=\"T_6eb88190_11e6_11eb_959f_acde48001122row135_col0\" class=\"data row135 col0\" >serving</td>\n",
       "                        <td id=\"T_6eb88190_11e6_11eb_959f_acde48001122row135_col1\" class=\"data row135 col1\" >serve</td>\n",
       "                        <td id=\"T_6eb88190_11e6_11eb_959f_acde48001122row135_col2\" class=\"data row135 col2\" >VERB</td>\n",
       "                        <td id=\"T_6eb88190_11e6_11eb_959f_acde48001122row135_col3\" class=\"data row135 col3\" >VBG</td>\n",
       "                        <td id=\"T_6eb88190_11e6_11eb_959f_acde48001122row135_col4\" class=\"data row135 col4\" >pcomp</td>\n",
       "                        <td id=\"T_6eb88190_11e6_11eb_959f_acde48001122row135_col5\" class=\"data row135 col5\" >False</td>\n",
       "                        <td id=\"T_6eb88190_11e6_11eb_959f_acde48001122row135_col6\" class=\"data row135 col6\" >False</td>\n",
       "                        <td id=\"T_6eb88190_11e6_11eb_959f_acde48001122row135_col7\" class=\"data row135 col7\" >False</td>\n",
       "            </tr>\n",
       "            <tr>\n",
       "                        <th id=\"T_6eb88190_11e6_11eb_959f_acde48001122level0_row136\" class=\"row_heading level0 row136\" >136</th>\n",
       "                        <td id=\"T_6eb88190_11e6_11eb_959f_acde48001122row136_col0\" class=\"data row136 col0\" >spoon</td>\n",
       "                        <td id=\"T_6eb88190_11e6_11eb_959f_acde48001122row136_col1\" class=\"data row136 col1\" >spoon</td>\n",
       "                        <td id=\"T_6eb88190_11e6_11eb_959f_acde48001122row136_col2\" class=\"data row136 col2\" >NOUN</td>\n",
       "                        <td id=\"T_6eb88190_11e6_11eb_959f_acde48001122row136_col3\" class=\"data row136 col3\" >NN</td>\n",
       "                        <td id=\"T_6eb88190_11e6_11eb_959f_acde48001122row136_col4\" class=\"data row136 col4\" >dobj</td>\n",
       "                        <td id=\"T_6eb88190_11e6_11eb_959f_acde48001122row136_col5\" class=\"data row136 col5\" >False</td>\n",
       "                        <td id=\"T_6eb88190_11e6_11eb_959f_acde48001122row136_col6\" class=\"data row136 col6\" >False</td>\n",
       "                        <td id=\"T_6eb88190_11e6_11eb_959f_acde48001122row136_col7\" class=\"data row136 col7\" >False</td>\n",
       "            </tr>\n",
       "            <tr>\n",
       "                        <th id=\"T_6eb88190_11e6_11eb_959f_acde48001122level0_row137\" class=\"row_heading level0 row137\" >137</th>\n",
       "                        <td id=\"T_6eb88190_11e6_11eb_959f_acde48001122row137_col0\" class=\"data row137 col0\" >,</td>\n",
       "                        <td id=\"T_6eb88190_11e6_11eb_959f_acde48001122row137_col1\" class=\"data row137 col1\" >,</td>\n",
       "                        <td id=\"T_6eb88190_11e6_11eb_959f_acde48001122row137_col2\" class=\"data row137 col2\" >PUNCT</td>\n",
       "                        <td id=\"T_6eb88190_11e6_11eb_959f_acde48001122row137_col3\" class=\"data row137 col3\" >,</td>\n",
       "                        <td id=\"T_6eb88190_11e6_11eb_959f_acde48001122row137_col4\" class=\"data row137 col4\" >punct</td>\n",
       "                        <td id=\"T_6eb88190_11e6_11eb_959f_acde48001122row137_col5\" class=\"data row137 col5\" >False</td>\n",
       "                        <td id=\"T_6eb88190_11e6_11eb_959f_acde48001122row137_col6\" class=\"data row137 col6\" >True</td>\n",
       "                        <td id=\"T_6eb88190_11e6_11eb_959f_acde48001122row137_col7\" class=\"data row137 col7\" >False</td>\n",
       "            </tr>\n",
       "            <tr>\n",
       "                        <th id=\"T_6eb88190_11e6_11eb_959f_acde48001122level0_row138\" class=\"row_heading level0 row138\" >138</th>\n",
       "                        <td id=\"T_6eb88190_11e6_11eb_959f_acde48001122row138_col0\" class=\"data row138 col0\" >catapulting</td>\n",
       "                        <td id=\"T_6eb88190_11e6_11eb_959f_acde48001122row138_col1\" class=\"data row138 col1\" >catapult</td>\n",
       "                        <td id=\"T_6eb88190_11e6_11eb_959f_acde48001122row138_col2\" class=\"data row138 col2\" >VERB</td>\n",
       "                        <td id=\"T_6eb88190_11e6_11eb_959f_acde48001122row138_col3\" class=\"data row138 col3\" >VBG</td>\n",
       "                        <td id=\"T_6eb88190_11e6_11eb_959f_acde48001122row138_col4\" class=\"data row138 col4\" >advcl</td>\n",
       "                        <td id=\"T_6eb88190_11e6_11eb_959f_acde48001122row138_col5\" class=\"data row138 col5\" >False</td>\n",
       "                        <td id=\"T_6eb88190_11e6_11eb_959f_acde48001122row138_col6\" class=\"data row138 col6\" >False</td>\n",
       "                        <td id=\"T_6eb88190_11e6_11eb_959f_acde48001122row138_col7\" class=\"data row138 col7\" >False</td>\n",
       "            </tr>\n",
       "            <tr>\n",
       "                        <th id=\"T_6eb88190_11e6_11eb_959f_acde48001122level0_row139\" class=\"row_heading level0 row139\" >139</th>\n",
       "                        <td id=\"T_6eb88190_11e6_11eb_959f_acde48001122row139_col0\" class=\"data row139 col0\" >small</td>\n",
       "                        <td id=\"T_6eb88190_11e6_11eb_959f_acde48001122row139_col1\" class=\"data row139 col1\" >small</td>\n",
       "                        <td id=\"T_6eb88190_11e6_11eb_959f_acde48001122row139_col2\" class=\"data row139 col2\" >ADJ</td>\n",
       "                        <td id=\"T_6eb88190_11e6_11eb_959f_acde48001122row139_col3\" class=\"data row139 col3\" >JJ</td>\n",
       "                        <td id=\"T_6eb88190_11e6_11eb_959f_acde48001122row139_col4\" class=\"data row139 col4\" >amod</td>\n",
       "                        <td id=\"T_6eb88190_11e6_11eb_959f_acde48001122row139_col5\" class=\"data row139 col5\" >False</td>\n",
       "                        <td id=\"T_6eb88190_11e6_11eb_959f_acde48001122row139_col6\" class=\"data row139 col6\" >False</td>\n",
       "                        <td id=\"T_6eb88190_11e6_11eb_959f_acde48001122row139_col7\" class=\"data row139 col7\" >False</td>\n",
       "            </tr>\n",
       "            <tr>\n",
       "                        <th id=\"T_6eb88190_11e6_11eb_959f_acde48001122level0_row140\" class=\"row_heading level0 row140\" >140</th>\n",
       "                        <td id=\"T_6eb88190_11e6_11eb_959f_acde48001122row140_col0\" class=\"data row140 col0\" >ball</td>\n",
       "                        <td id=\"T_6eb88190_11e6_11eb_959f_acde48001122row140_col1\" class=\"data row140 col1\" >ball</td>\n",
       "                        <td id=\"T_6eb88190_11e6_11eb_959f_acde48001122row140_col2\" class=\"data row140 col2\" >NOUN</td>\n",
       "                        <td id=\"T_6eb88190_11e6_11eb_959f_acde48001122row140_col3\" class=\"data row140 col3\" >NN</td>\n",
       "                        <td id=\"T_6eb88190_11e6_11eb_959f_acde48001122row140_col4\" class=\"data row140 col4\" >dobj</td>\n",
       "                        <td id=\"T_6eb88190_11e6_11eb_959f_acde48001122row140_col5\" class=\"data row140 col5\" >False</td>\n",
       "                        <td id=\"T_6eb88190_11e6_11eb_959f_acde48001122row140_col6\" class=\"data row140 col6\" >False</td>\n",
       "                        <td id=\"T_6eb88190_11e6_11eb_959f_acde48001122row140_col7\" class=\"data row140 col7\" >False</td>\n",
       "            </tr>\n",
       "            <tr>\n",
       "                        <th id=\"T_6eb88190_11e6_11eb_959f_acde48001122level0_row141\" class=\"row_heading level0 row141\" >141</th>\n",
       "                        <td id=\"T_6eb88190_11e6_11eb_959f_acde48001122row141_col0\" class=\"data row141 col0\" >into</td>\n",
       "                        <td id=\"T_6eb88190_11e6_11eb_959f_acde48001122row141_col1\" class=\"data row141 col1\" >into</td>\n",
       "                        <td id=\"T_6eb88190_11e6_11eb_959f_acde48001122row141_col2\" class=\"data row141 col2\" >ADP</td>\n",
       "                        <td id=\"T_6eb88190_11e6_11eb_959f_acde48001122row141_col3\" class=\"data row141 col3\" >IN</td>\n",
       "                        <td id=\"T_6eb88190_11e6_11eb_959f_acde48001122row141_col4\" class=\"data row141 col4\" >prep</td>\n",
       "                        <td id=\"T_6eb88190_11e6_11eb_959f_acde48001122row141_col5\" class=\"data row141 col5\" >True</td>\n",
       "                        <td id=\"T_6eb88190_11e6_11eb_959f_acde48001122row141_col6\" class=\"data row141 col6\" >False</td>\n",
       "                        <td id=\"T_6eb88190_11e6_11eb_959f_acde48001122row141_col7\" class=\"data row141 col7\" >False</td>\n",
       "            </tr>\n",
       "            <tr>\n",
       "                        <th id=\"T_6eb88190_11e6_11eb_959f_acde48001122level0_row142\" class=\"row_heading level0 row142\" >142</th>\n",
       "                        <td id=\"T_6eb88190_11e6_11eb_959f_acde48001122row142_col0\" class=\"data row142 col0\" >cup</td>\n",
       "                        <td id=\"T_6eb88190_11e6_11eb_959f_acde48001122row142_col1\" class=\"data row142 col1\" >cup</td>\n",
       "                        <td id=\"T_6eb88190_11e6_11eb_959f_acde48001122row142_col2\" class=\"data row142 col2\" >NOUN</td>\n",
       "                        <td id=\"T_6eb88190_11e6_11eb_959f_acde48001122row142_col3\" class=\"data row142 col3\" >NN</td>\n",
       "                        <td id=\"T_6eb88190_11e6_11eb_959f_acde48001122row142_col4\" class=\"data row142 col4\" >pobj</td>\n",
       "                        <td id=\"T_6eb88190_11e6_11eb_959f_acde48001122row142_col5\" class=\"data row142 col5\" >False</td>\n",
       "                        <td id=\"T_6eb88190_11e6_11eb_959f_acde48001122row142_col6\" class=\"data row142 col6\" >False</td>\n",
       "                        <td id=\"T_6eb88190_11e6_11eb_959f_acde48001122row142_col7\" class=\"data row142 col7\" >False</td>\n",
       "            </tr>\n",
       "            <tr>\n",
       "                        <th id=\"T_6eb88190_11e6_11eb_959f_acde48001122level0_row143\" class=\"row_heading level0 row143\" >143</th>\n",
       "                        <td id=\"T_6eb88190_11e6_11eb_959f_acde48001122row143_col0\" class=\"data row143 col0\" >attached</td>\n",
       "                        <td id=\"T_6eb88190_11e6_11eb_959f_acde48001122row143_col1\" class=\"data row143 col1\" >attach</td>\n",
       "                        <td id=\"T_6eb88190_11e6_11eb_959f_acde48001122row143_col2\" class=\"data row143 col2\" >VERB</td>\n",
       "                        <td id=\"T_6eb88190_11e6_11eb_959f_acde48001122row143_col3\" class=\"data row143 col3\" >VBN</td>\n",
       "                        <td id=\"T_6eb88190_11e6_11eb_959f_acde48001122row143_col4\" class=\"data row143 col4\" >acl</td>\n",
       "                        <td id=\"T_6eb88190_11e6_11eb_959f_acde48001122row143_col5\" class=\"data row143 col5\" >False</td>\n",
       "                        <td id=\"T_6eb88190_11e6_11eb_959f_acde48001122row143_col6\" class=\"data row143 col6\" >False</td>\n",
       "                        <td id=\"T_6eb88190_11e6_11eb_959f_acde48001122row143_col7\" class=\"data row143 col7\" >False</td>\n",
       "            </tr>\n",
       "            <tr>\n",
       "                        <th id=\"T_6eb88190_11e6_11eb_959f_acde48001122level0_row144\" class=\"row_heading level0 row144\" >144</th>\n",
       "                        <td id=\"T_6eb88190_11e6_11eb_959f_acde48001122row144_col0\" class=\"data row144 col0\" >by</td>\n",
       "                        <td id=\"T_6eb88190_11e6_11eb_959f_acde48001122row144_col1\" class=\"data row144 col1\" >by</td>\n",
       "                        <td id=\"T_6eb88190_11e6_11eb_959f_acde48001122row144_col2\" class=\"data row144 col2\" >ADP</td>\n",
       "                        <td id=\"T_6eb88190_11e6_11eb_959f_acde48001122row144_col3\" class=\"data row144 col3\" >IN</td>\n",
       "                        <td id=\"T_6eb88190_11e6_11eb_959f_acde48001122row144_col4\" class=\"data row144 col4\" >agent</td>\n",
       "                        <td id=\"T_6eb88190_11e6_11eb_959f_acde48001122row144_col5\" class=\"data row144 col5\" >True</td>\n",
       "                        <td id=\"T_6eb88190_11e6_11eb_959f_acde48001122row144_col6\" class=\"data row144 col6\" >False</td>\n",
       "                        <td id=\"T_6eb88190_11e6_11eb_959f_acde48001122row144_col7\" class=\"data row144 col7\" >False</td>\n",
       "            </tr>\n",
       "            <tr>\n",
       "                        <th id=\"T_6eb88190_11e6_11eb_959f_acde48001122level0_row145\" class=\"row_heading level0 row145\" >145</th>\n",
       "                        <td id=\"T_6eb88190_11e6_11eb_959f_acde48001122row145_col0\" class=\"data row145 col0\" >ribbon</td>\n",
       "                        <td id=\"T_6eb88190_11e6_11eb_959f_acde48001122row145_col1\" class=\"data row145 col1\" >ribbon</td>\n",
       "                        <td id=\"T_6eb88190_11e6_11eb_959f_acde48001122row145_col2\" class=\"data row145 col2\" >NOUN</td>\n",
       "                        <td id=\"T_6eb88190_11e6_11eb_959f_acde48001122row145_col3\" class=\"data row145 col3\" >NN</td>\n",
       "                        <td id=\"T_6eb88190_11e6_11eb_959f_acde48001122row145_col4\" class=\"data row145 col4\" >pobj</td>\n",
       "                        <td id=\"T_6eb88190_11e6_11eb_959f_acde48001122row145_col5\" class=\"data row145 col5\" >False</td>\n",
       "                        <td id=\"T_6eb88190_11e6_11eb_959f_acde48001122row145_col6\" class=\"data row145 col6\" >False</td>\n",
       "                        <td id=\"T_6eb88190_11e6_11eb_959f_acde48001122row145_col7\" class=\"data row145 col7\" >False</td>\n",
       "            </tr>\n",
       "            <tr>\n",
       "                        <th id=\"T_6eb88190_11e6_11eb_959f_acde48001122level0_row146\" class=\"row_heading level0 row146\" >146</th>\n",
       "                        <td id=\"T_6eb88190_11e6_11eb_959f_acde48001122row146_col0\" class=\"data row146 col0\" >to</td>\n",
       "                        <td id=\"T_6eb88190_11e6_11eb_959f_acde48001122row146_col1\" class=\"data row146 col1\" >to</td>\n",
       "                        <td id=\"T_6eb88190_11e6_11eb_959f_acde48001122row146_col2\" class=\"data row146 col2\" >ADP</td>\n",
       "                        <td id=\"T_6eb88190_11e6_11eb_959f_acde48001122row146_col3\" class=\"data row146 col3\" >IN</td>\n",
       "                        <td id=\"T_6eb88190_11e6_11eb_959f_acde48001122row146_col4\" class=\"data row146 col4\" >prep</td>\n",
       "                        <td id=\"T_6eb88190_11e6_11eb_959f_acde48001122row146_col5\" class=\"data row146 col5\" >True</td>\n",
       "                        <td id=\"T_6eb88190_11e6_11eb_959f_acde48001122row146_col6\" class=\"data row146 col6\" >False</td>\n",
       "                        <td id=\"T_6eb88190_11e6_11eb_959f_acde48001122row146_col7\" class=\"data row146 col7\" >False</td>\n",
       "            </tr>\n",
       "            <tr>\n",
       "                        <th id=\"T_6eb88190_11e6_11eb_959f_acde48001122level0_row147\" class=\"row_heading level0 row147\" >147</th>\n",
       "                        <td id=\"T_6eb88190_11e6_11eb_959f_acde48001122row147_col0\" class=\"data row147 col0\" >lazy</td>\n",
       "                        <td id=\"T_6eb88190_11e6_11eb_959f_acde48001122row147_col1\" class=\"data row147 col1\" >lazy</td>\n",
       "                        <td id=\"T_6eb88190_11e6_11eb_959f_acde48001122row147_col2\" class=\"data row147 col2\" >PROPN</td>\n",
       "                        <td id=\"T_6eb88190_11e6_11eb_959f_acde48001122row147_col3\" class=\"data row147 col3\" >NNP</td>\n",
       "                        <td id=\"T_6eb88190_11e6_11eb_959f_acde48001122row147_col4\" class=\"data row147 col4\" >amod</td>\n",
       "                        <td id=\"T_6eb88190_11e6_11eb_959f_acde48001122row147_col5\" class=\"data row147 col5\" >False</td>\n",
       "                        <td id=\"T_6eb88190_11e6_11eb_959f_acde48001122row147_col6\" class=\"data row147 col6\" >False</td>\n",
       "                        <td id=\"T_6eb88190_11e6_11eb_959f_acde48001122row147_col7\" class=\"data row147 col7\" >False</td>\n",
       "            </tr>\n",
       "            <tr>\n",
       "                        <th id=\"T_6eb88190_11e6_11eb_959f_acde48001122level0_row148\" class=\"row_heading level0 row148\" >148</th>\n",
       "                        <td id=\"T_6eb88190_11e6_11eb_959f_acde48001122row148_col0\" class=\"data row148 col0\" >susan</td>\n",
       "                        <td id=\"T_6eb88190_11e6_11eb_959f_acde48001122row148_col1\" class=\"data row148 col1\" >susan</td>\n",
       "                        <td id=\"T_6eb88190_11e6_11eb_959f_acde48001122row148_col2\" class=\"data row148 col2\" >PROPN</td>\n",
       "                        <td id=\"T_6eb88190_11e6_11eb_959f_acde48001122row148_col3\" class=\"data row148 col3\" >NNP</td>\n",
       "                        <td id=\"T_6eb88190_11e6_11eb_959f_acde48001122row148_col4\" class=\"data row148 col4\" >pobj</td>\n",
       "                        <td id=\"T_6eb88190_11e6_11eb_959f_acde48001122row148_col5\" class=\"data row148 col5\" >False</td>\n",
       "                        <td id=\"T_6eb88190_11e6_11eb_959f_acde48001122row148_col6\" class=\"data row148 col6\" >False</td>\n",
       "                        <td id=\"T_6eb88190_11e6_11eb_959f_acde48001122row148_col7\" class=\"data row148 col7\" >False</td>\n",
       "            </tr>\n",
       "            <tr>\n",
       "                        <th id=\"T_6eb88190_11e6_11eb_959f_acde48001122level0_row149\" class=\"row_heading level0 row149\" >149</th>\n",
       "                        <td id=\"T_6eb88190_11e6_11eb_959f_acde48001122row149_col0\" class=\"data row149 col0\" >,</td>\n",
       "                        <td id=\"T_6eb88190_11e6_11eb_959f_acde48001122row149_col1\" class=\"data row149 col1\" >,</td>\n",
       "                        <td id=\"T_6eb88190_11e6_11eb_959f_acde48001122row149_col2\" class=\"data row149 col2\" >PUNCT</td>\n",
       "                        <td id=\"T_6eb88190_11e6_11eb_959f_acde48001122row149_col3\" class=\"data row149 col3\" >,</td>\n",
       "                        <td id=\"T_6eb88190_11e6_11eb_959f_acde48001122row149_col4\" class=\"data row149 col4\" >punct</td>\n",
       "                        <td id=\"T_6eb88190_11e6_11eb_959f_acde48001122row149_col5\" class=\"data row149 col5\" >False</td>\n",
       "                        <td id=\"T_6eb88190_11e6_11eb_959f_acde48001122row149_col6\" class=\"data row149 col6\" >True</td>\n",
       "                        <td id=\"T_6eb88190_11e6_11eb_959f_acde48001122row149_col7\" class=\"data row149 col7\" >False</td>\n",
       "            </tr>\n",
       "            <tr>\n",
       "                        <th id=\"T_6eb88190_11e6_11eb_959f_acde48001122level0_row150\" class=\"row_heading level0 row150\" >150</th>\n",
       "                        <td id=\"T_6eb88190_11e6_11eb_959f_acde48001122row150_col0\" class=\"data row150 col0\" >which</td>\n",
       "                        <td id=\"T_6eb88190_11e6_11eb_959f_acde48001122row150_col1\" class=\"data row150 col1\" >which</td>\n",
       "                        <td id=\"T_6eb88190_11e6_11eb_959f_acde48001122row150_col2\" class=\"data row150 col2\" >DET</td>\n",
       "                        <td id=\"T_6eb88190_11e6_11eb_959f_acde48001122row150_col3\" class=\"data row150 col3\" >WDT</td>\n",
       "                        <td id=\"T_6eb88190_11e6_11eb_959f_acde48001122row150_col4\" class=\"data row150 col4\" >nsubj</td>\n",
       "                        <td id=\"T_6eb88190_11e6_11eb_959f_acde48001122row150_col5\" class=\"data row150 col5\" >True</td>\n",
       "                        <td id=\"T_6eb88190_11e6_11eb_959f_acde48001122row150_col6\" class=\"data row150 col6\" >False</td>\n",
       "                        <td id=\"T_6eb88190_11e6_11eb_959f_acde48001122row150_col7\" class=\"data row150 col7\" >False</td>\n",
       "            </tr>\n",
       "            <tr>\n",
       "                        <th id=\"T_6eb88190_11e6_11eb_959f_acde48001122level0_row151\" class=\"row_heading level0 row151\" >151</th>\n",
       "                        <td id=\"T_6eb88190_11e6_11eb_959f_acde48001122row151_col0\" class=\"data row151 col0\" >spins</td>\n",
       "                        <td id=\"T_6eb88190_11e6_11eb_959f_acde48001122row151_col1\" class=\"data row151 col1\" >spin</td>\n",
       "                        <td id=\"T_6eb88190_11e6_11eb_959f_acde48001122row151_col2\" class=\"data row151 col2\" >VERB</td>\n",
       "                        <td id=\"T_6eb88190_11e6_11eb_959f_acde48001122row151_col3\" class=\"data row151 col3\" >VBZ</td>\n",
       "                        <td id=\"T_6eb88190_11e6_11eb_959f_acde48001122row151_col4\" class=\"data row151 col4\" >relcl</td>\n",
       "                        <td id=\"T_6eb88190_11e6_11eb_959f_acde48001122row151_col5\" class=\"data row151 col5\" >False</td>\n",
       "                        <td id=\"T_6eb88190_11e6_11eb_959f_acde48001122row151_col6\" class=\"data row151 col6\" >False</td>\n",
       "                        <td id=\"T_6eb88190_11e6_11eb_959f_acde48001122row151_col7\" class=\"data row151 col7\" >False</td>\n",
       "            </tr>\n",
       "            <tr>\n",
       "                        <th id=\"T_6eb88190_11e6_11eb_959f_acde48001122level0_row152\" class=\"row_heading level0 row152\" >152</th>\n",
       "                        <td id=\"T_6eb88190_11e6_11eb_959f_acde48001122row152_col0\" class=\"data row152 col0\" >until</td>\n",
       "                        <td id=\"T_6eb88190_11e6_11eb_959f_acde48001122row152_col1\" class=\"data row152 col1\" >until</td>\n",
       "                        <td id=\"T_6eb88190_11e6_11eb_959f_acde48001122row152_col2\" class=\"data row152 col2\" >ADP</td>\n",
       "                        <td id=\"T_6eb88190_11e6_11eb_959f_acde48001122row152_col3\" class=\"data row152 col3\" >IN</td>\n",
       "                        <td id=\"T_6eb88190_11e6_11eb_959f_acde48001122row152_col4\" class=\"data row152 col4\" >mark</td>\n",
       "                        <td id=\"T_6eb88190_11e6_11eb_959f_acde48001122row152_col5\" class=\"data row152 col5\" >True</td>\n",
       "                        <td id=\"T_6eb88190_11e6_11eb_959f_acde48001122row152_col6\" class=\"data row152 col6\" >False</td>\n",
       "                        <td id=\"T_6eb88190_11e6_11eb_959f_acde48001122row152_col7\" class=\"data row152 col7\" >False</td>\n",
       "            </tr>\n",
       "            <tr>\n",
       "                        <th id=\"T_6eb88190_11e6_11eb_959f_acde48001122level0_row153\" class=\"row_heading level0 row153\" >153</th>\n",
       "                        <td id=\"T_6eb88190_11e6_11eb_959f_acde48001122row153_col0\" class=\"data row153 col0\" >it</td>\n",
       "                        <td id=\"T_6eb88190_11e6_11eb_959f_acde48001122row153_col1\" class=\"data row153 col1\" >-PRON-</td>\n",
       "                        <td id=\"T_6eb88190_11e6_11eb_959f_acde48001122row153_col2\" class=\"data row153 col2\" >PRON</td>\n",
       "                        <td id=\"T_6eb88190_11e6_11eb_959f_acde48001122row153_col3\" class=\"data row153 col3\" >PRP</td>\n",
       "                        <td id=\"T_6eb88190_11e6_11eb_959f_acde48001122row153_col4\" class=\"data row153 col4\" >nsubj</td>\n",
       "                        <td id=\"T_6eb88190_11e6_11eb_959f_acde48001122row153_col5\" class=\"data row153 col5\" >True</td>\n",
       "                        <td id=\"T_6eb88190_11e6_11eb_959f_acde48001122row153_col6\" class=\"data row153 col6\" >False</td>\n",
       "                        <td id=\"T_6eb88190_11e6_11eb_959f_acde48001122row153_col7\" class=\"data row153 col7\" >False</td>\n",
       "            </tr>\n",
       "            <tr>\n",
       "                        <th id=\"T_6eb88190_11e6_11eb_959f_acde48001122level0_row154\" class=\"row_heading level0 row154\" >154</th>\n",
       "                        <td id=\"T_6eb88190_11e6_11eb_959f_acde48001122row154_col0\" class=\"data row154 col0\" >pushes</td>\n",
       "                        <td id=\"T_6eb88190_11e6_11eb_959f_acde48001122row154_col1\" class=\"data row154 col1\" >push</td>\n",
       "                        <td id=\"T_6eb88190_11e6_11eb_959f_acde48001122row154_col2\" class=\"data row154 col2\" >VERB</td>\n",
       "                        <td id=\"T_6eb88190_11e6_11eb_959f_acde48001122row154_col3\" class=\"data row154 col3\" >VBZ</td>\n",
       "                        <td id=\"T_6eb88190_11e6_11eb_959f_acde48001122row154_col4\" class=\"data row154 col4\" >advcl</td>\n",
       "                        <td id=\"T_6eb88190_11e6_11eb_959f_acde48001122row154_col5\" class=\"data row154 col5\" >False</td>\n",
       "                        <td id=\"T_6eb88190_11e6_11eb_959f_acde48001122row154_col6\" class=\"data row154 col6\" >False</td>\n",
       "                        <td id=\"T_6eb88190_11e6_11eb_959f_acde48001122row154_col7\" class=\"data row154 col7\" >False</td>\n",
       "            </tr>\n",
       "            <tr>\n",
       "                        <th id=\"T_6eb88190_11e6_11eb_959f_acde48001122level0_row155\" class=\"row_heading level0 row155\" >155</th>\n",
       "                        <td id=\"T_6eb88190_11e6_11eb_959f_acde48001122row155_col0\" class=\"data row155 col0\" >d</td>\n",
       "                        <td id=\"T_6eb88190_11e6_11eb_959f_acde48001122row155_col1\" class=\"data row155 col1\" >d</td>\n",
       "                        <td id=\"T_6eb88190_11e6_11eb_959f_acde48001122row155_col2\" class=\"data row155 col2\" >DET</td>\n",
       "                        <td id=\"T_6eb88190_11e6_11eb_959f_acde48001122row155_col3\" class=\"data row155 col3\" >DT</td>\n",
       "                        <td id=\"T_6eb88190_11e6_11eb_959f_acde48001122row155_col4\" class=\"data row155 col4\" >compound</td>\n",
       "                        <td id=\"T_6eb88190_11e6_11eb_959f_acde48001122row155_col5\" class=\"data row155 col5\" >False</td>\n",
       "                        <td id=\"T_6eb88190_11e6_11eb_959f_acde48001122row155_col6\" class=\"data row155 col6\" >False</td>\n",
       "                        <td id=\"T_6eb88190_11e6_11eb_959f_acde48001122row155_col7\" class=\"data row155 col7\" >False</td>\n",
       "            </tr>\n",
       "            <tr>\n",
       "                        <th id=\"T_6eb88190_11e6_11eb_959f_acde48001122level0_row156\" class=\"row_heading level0 row156\" >156</th>\n",
       "                        <td id=\"T_6eb88190_11e6_11eb_959f_acde48001122row156_col0\" class=\"data row156 col0\" >battery</td>\n",
       "                        <td id=\"T_6eb88190_11e6_11eb_959f_acde48001122row156_col1\" class=\"data row156 col1\" >battery</td>\n",
       "                        <td id=\"T_6eb88190_11e6_11eb_959f_acde48001122row156_col2\" class=\"data row156 col2\" >NOUN</td>\n",
       "                        <td id=\"T_6eb88190_11e6_11eb_959f_acde48001122row156_col3\" class=\"data row156 col3\" >NN</td>\n",
       "                        <td id=\"T_6eb88190_11e6_11eb_959f_acde48001122row156_col4\" class=\"data row156 col4\" >dobj</td>\n",
       "                        <td id=\"T_6eb88190_11e6_11eb_959f_acde48001122row156_col5\" class=\"data row156 col5\" >False</td>\n",
       "                        <td id=\"T_6eb88190_11e6_11eb_959f_acde48001122row156_col6\" class=\"data row156 col6\" >False</td>\n",
       "                        <td id=\"T_6eb88190_11e6_11eb_959f_acde48001122row156_col7\" class=\"data row156 col7\" >False</td>\n",
       "            </tr>\n",
       "            <tr>\n",
       "                        <th id=\"T_6eb88190_11e6_11eb_959f_acde48001122level0_row157\" class=\"row_heading level0 row157\" >157</th>\n",
       "                        <td id=\"T_6eb88190_11e6_11eb_959f_acde48001122row157_col0\" class=\"data row157 col0\" >down</td>\n",
       "                        <td id=\"T_6eb88190_11e6_11eb_959f_acde48001122row157_col1\" class=\"data row157 col1\" >down</td>\n",
       "                        <td id=\"T_6eb88190_11e6_11eb_959f_acde48001122row157_col2\" class=\"data row157 col2\" >ADP</td>\n",
       "                        <td id=\"T_6eb88190_11e6_11eb_959f_acde48001122row157_col3\" class=\"data row157 col3\" >IN</td>\n",
       "                        <td id=\"T_6eb88190_11e6_11eb_959f_acde48001122row157_col4\" class=\"data row157 col4\" >prep</td>\n",
       "                        <td id=\"T_6eb88190_11e6_11eb_959f_acde48001122row157_col5\" class=\"data row157 col5\" >True</td>\n",
       "                        <td id=\"T_6eb88190_11e6_11eb_959f_acde48001122row157_col6\" class=\"data row157 col6\" >False</td>\n",
       "                        <td id=\"T_6eb88190_11e6_11eb_959f_acde48001122row157_col7\" class=\"data row157 col7\" >False</td>\n",
       "            </tr>\n",
       "            <tr>\n",
       "                        <th id=\"T_6eb88190_11e6_11eb_959f_acde48001122level0_row158\" class=\"row_heading level0 row158\" >158</th>\n",
       "                        <td id=\"T_6eb88190_11e6_11eb_959f_acde48001122row158_col0\" class=\"data row158 col0\" >incline</td>\n",
       "                        <td id=\"T_6eb88190_11e6_11eb_959f_acde48001122row158_col1\" class=\"data row158 col1\" >incline</td>\n",
       "                        <td id=\"T_6eb88190_11e6_11eb_959f_acde48001122row158_col2\" class=\"data row158 col2\" >NOUN</td>\n",
       "                        <td id=\"T_6eb88190_11e6_11eb_959f_acde48001122row158_col3\" class=\"data row158 col3\" >NN</td>\n",
       "                        <td id=\"T_6eb88190_11e6_11eb_959f_acde48001122row158_col4\" class=\"data row158 col4\" >compound</td>\n",
       "                        <td id=\"T_6eb88190_11e6_11eb_959f_acde48001122row158_col5\" class=\"data row158 col5\" >False</td>\n",
       "                        <td id=\"T_6eb88190_11e6_11eb_959f_acde48001122row158_col6\" class=\"data row158 col6\" >False</td>\n",
       "                        <td id=\"T_6eb88190_11e6_11eb_959f_acde48001122row158_col7\" class=\"data row158 col7\" >False</td>\n",
       "            </tr>\n",
       "            <tr>\n",
       "                        <th id=\"T_6eb88190_11e6_11eb_959f_acde48001122level0_row159\" class=\"row_heading level0 row159\" >159</th>\n",
       "                        <td id=\"T_6eb88190_11e6_11eb_959f_acde48001122row159_col0\" class=\"data row159 col0\" >plane</td>\n",
       "                        <td id=\"T_6eb88190_11e6_11eb_959f_acde48001122row159_col1\" class=\"data row159 col1\" >plane</td>\n",
       "                        <td id=\"T_6eb88190_11e6_11eb_959f_acde48001122row159_col2\" class=\"data row159 col2\" >NOUN</td>\n",
       "                        <td id=\"T_6eb88190_11e6_11eb_959f_acde48001122row159_col3\" class=\"data row159 col3\" >NN</td>\n",
       "                        <td id=\"T_6eb88190_11e6_11eb_959f_acde48001122row159_col4\" class=\"data row159 col4\" >pobj</td>\n",
       "                        <td id=\"T_6eb88190_11e6_11eb_959f_acde48001122row159_col5\" class=\"data row159 col5\" >False</td>\n",
       "                        <td id=\"T_6eb88190_11e6_11eb_959f_acde48001122row159_col6\" class=\"data row159 col6\" >False</td>\n",
       "                        <td id=\"T_6eb88190_11e6_11eb_959f_acde48001122row159_col7\" class=\"data row159 col7\" >False</td>\n",
       "            </tr>\n",
       "            <tr>\n",
       "                        <th id=\"T_6eb88190_11e6_11eb_959f_acde48001122level0_row160\" class=\"row_heading level0 row160\" >160</th>\n",
       "                        <td id=\"T_6eb88190_11e6_11eb_959f_acde48001122row160_col0\" class=\"data row160 col0\" >,</td>\n",
       "                        <td id=\"T_6eb88190_11e6_11eb_959f_acde48001122row160_col1\" class=\"data row160 col1\" >,</td>\n",
       "                        <td id=\"T_6eb88190_11e6_11eb_959f_acde48001122row160_col2\" class=\"data row160 col2\" >PUNCT</td>\n",
       "                        <td id=\"T_6eb88190_11e6_11eb_959f_acde48001122row160_col3\" class=\"data row160 col3\" >,</td>\n",
       "                        <td id=\"T_6eb88190_11e6_11eb_959f_acde48001122row160_col4\" class=\"data row160 col4\" >punct</td>\n",
       "                        <td id=\"T_6eb88190_11e6_11eb_959f_acde48001122row160_col5\" class=\"data row160 col5\" >False</td>\n",
       "                        <td id=\"T_6eb88190_11e6_11eb_959f_acde48001122row160_col6\" class=\"data row160 col6\" >True</td>\n",
       "                        <td id=\"T_6eb88190_11e6_11eb_959f_acde48001122row160_col7\" class=\"data row160 col7\" >False</td>\n",
       "            </tr>\n",
       "            <tr>\n",
       "                        <th id=\"T_6eb88190_11e6_11eb_959f_acde48001122level0_row161\" class=\"row_heading level0 row161\" >161</th>\n",
       "                        <td id=\"T_6eb88190_11e6_11eb_959f_acde48001122row161_col0\" class=\"data row161 col0\" >tipping</td>\n",
       "                        <td id=\"T_6eb88190_11e6_11eb_959f_acde48001122row161_col1\" class=\"data row161 col1\" >tip</td>\n",
       "                        <td id=\"T_6eb88190_11e6_11eb_959f_acde48001122row161_col2\" class=\"data row161 col2\" >VERB</td>\n",
       "                        <td id=\"T_6eb88190_11e6_11eb_959f_acde48001122row161_col3\" class=\"data row161 col3\" >VBG</td>\n",
       "                        <td id=\"T_6eb88190_11e6_11eb_959f_acde48001122row161_col4\" class=\"data row161 col4\" >advcl</td>\n",
       "                        <td id=\"T_6eb88190_11e6_11eb_959f_acde48001122row161_col5\" class=\"data row161 col5\" >False</td>\n",
       "                        <td id=\"T_6eb88190_11e6_11eb_959f_acde48001122row161_col6\" class=\"data row161 col6\" >False</td>\n",
       "                        <td id=\"T_6eb88190_11e6_11eb_959f_acde48001122row161_col7\" class=\"data row161 col7\" >False</td>\n",
       "            </tr>\n",
       "            <tr>\n",
       "                        <th id=\"T_6eb88190_11e6_11eb_959f_acde48001122level0_row162\" class=\"row_heading level0 row162\" >162</th>\n",
       "                        <td id=\"T_6eb88190_11e6_11eb_959f_acde48001122row162_col0\" class=\"data row162 col0\" >over</td>\n",
       "                        <td id=\"T_6eb88190_11e6_11eb_959f_acde48001122row162_col1\" class=\"data row162 col1\" >over</td>\n",
       "                        <td id=\"T_6eb88190_11e6_11eb_959f_acde48001122row162_col2\" class=\"data row162 col2\" >ADP</td>\n",
       "                        <td id=\"T_6eb88190_11e6_11eb_959f_acde48001122row162_col3\" class=\"data row162 col3\" >IN</td>\n",
       "                        <td id=\"T_6eb88190_11e6_11eb_959f_acde48001122row162_col4\" class=\"data row162 col4\" >prep</td>\n",
       "                        <td id=\"T_6eb88190_11e6_11eb_959f_acde48001122row162_col5\" class=\"data row162 col5\" >True</td>\n",
       "                        <td id=\"T_6eb88190_11e6_11eb_959f_acde48001122row162_col6\" class=\"data row162 col6\" >False</td>\n",
       "                        <td id=\"T_6eb88190_11e6_11eb_959f_acde48001122row162_col7\" class=\"data row162 col7\" >False</td>\n",
       "            </tr>\n",
       "            <tr>\n",
       "                        <th id=\"T_6eb88190_11e6_11eb_959f_acde48001122level0_row163\" class=\"row_heading level0 row163\" >163</th>\n",
       "                        <td id=\"T_6eb88190_11e6_11eb_959f_acde48001122row163_col0\" class=\"data row163 col0\" >salt</td>\n",
       "                        <td id=\"T_6eb88190_11e6_11eb_959f_acde48001122row163_col1\" class=\"data row163 col1\" >salt</td>\n",
       "                        <td id=\"T_6eb88190_11e6_11eb_959f_acde48001122row163_col2\" class=\"data row163 col2\" >NOUN</td>\n",
       "                        <td id=\"T_6eb88190_11e6_11eb_959f_acde48001122row163_col3\" class=\"data row163 col3\" >NN</td>\n",
       "                        <td id=\"T_6eb88190_11e6_11eb_959f_acde48001122row163_col4\" class=\"data row163 col4\" >compound</td>\n",
       "                        <td id=\"T_6eb88190_11e6_11eb_959f_acde48001122row163_col5\" class=\"data row163 col5\" >False</td>\n",
       "                        <td id=\"T_6eb88190_11e6_11eb_959f_acde48001122row163_col6\" class=\"data row163 col6\" >False</td>\n",
       "                        <td id=\"T_6eb88190_11e6_11eb_959f_acde48001122row163_col7\" class=\"data row163 col7\" >False</td>\n",
       "            </tr>\n",
       "            <tr>\n",
       "                        <th id=\"T_6eb88190_11e6_11eb_959f_acde48001122level0_row164\" class=\"row_heading level0 row164\" >164</th>\n",
       "                        <td id=\"T_6eb88190_11e6_11eb_959f_acde48001122row164_col0\" class=\"data row164 col0\" >shaker</td>\n",
       "                        <td id=\"T_6eb88190_11e6_11eb_959f_acde48001122row164_col1\" class=\"data row164 col1\" >shaker</td>\n",
       "                        <td id=\"T_6eb88190_11e6_11eb_959f_acde48001122row164_col2\" class=\"data row164 col2\" >NOUN</td>\n",
       "                        <td id=\"T_6eb88190_11e6_11eb_959f_acde48001122row164_col3\" class=\"data row164 col3\" >NN</td>\n",
       "                        <td id=\"T_6eb88190_11e6_11eb_959f_acde48001122row164_col4\" class=\"data row164 col4\" >pobj</td>\n",
       "                        <td id=\"T_6eb88190_11e6_11eb_959f_acde48001122row164_col5\" class=\"data row164 col5\" >False</td>\n",
       "                        <td id=\"T_6eb88190_11e6_11eb_959f_acde48001122row164_col6\" class=\"data row164 col6\" >False</td>\n",
       "                        <td id=\"T_6eb88190_11e6_11eb_959f_acde48001122row164_col7\" class=\"data row164 col7\" >False</td>\n",
       "            </tr>\n",
       "            <tr>\n",
       "                        <th id=\"T_6eb88190_11e6_11eb_959f_acde48001122level0_row165\" class=\"row_heading level0 row165\" >165</th>\n",
       "                        <td id=\"T_6eb88190_11e6_11eb_959f_acde48001122row165_col0\" class=\"data row165 col0\" >to</td>\n",
       "                        <td id=\"T_6eb88190_11e6_11eb_959f_acde48001122row165_col1\" class=\"data row165 col1\" >to</td>\n",
       "                        <td id=\"T_6eb88190_11e6_11eb_959f_acde48001122row165_col2\" class=\"data row165 col2\" >ADP</td>\n",
       "                        <td id=\"T_6eb88190_11e6_11eb_959f_acde48001122row165_col3\" class=\"data row165 col3\" >IN</td>\n",
       "                        <td id=\"T_6eb88190_11e6_11eb_959f_acde48001122row165_col4\" class=\"data row165 col4\" >prep</td>\n",
       "                        <td id=\"T_6eb88190_11e6_11eb_959f_acde48001122row165_col5\" class=\"data row165 col5\" >True</td>\n",
       "                        <td id=\"T_6eb88190_11e6_11eb_959f_acde48001122row165_col6\" class=\"data row165 col6\" >False</td>\n",
       "                        <td id=\"T_6eb88190_11e6_11eb_959f_acde48001122row165_col7\" class=\"data row165 col7\" >False</td>\n",
       "            </tr>\n",
       "            <tr>\n",
       "                        <th id=\"T_6eb88190_11e6_11eb_959f_acde48001122level0_row166\" class=\"row_heading level0 row166\" >166</th>\n",
       "                        <td id=\"T_6eb88190_11e6_11eb_959f_acde48001122row166_col0\" class=\"data row166 col0\" >season</td>\n",
       "                        <td id=\"T_6eb88190_11e6_11eb_959f_acde48001122row166_col1\" class=\"data row166 col1\" >season</td>\n",
       "                        <td id=\"T_6eb88190_11e6_11eb_959f_acde48001122row166_col2\" class=\"data row166 col2\" >NOUN</td>\n",
       "                        <td id=\"T_6eb88190_11e6_11eb_959f_acde48001122row166_col3\" class=\"data row166 col3\" >NN</td>\n",
       "                        <td id=\"T_6eb88190_11e6_11eb_959f_acde48001122row166_col4\" class=\"data row166 col4\" >compound</td>\n",
       "                        <td id=\"T_6eb88190_11e6_11eb_959f_acde48001122row166_col5\" class=\"data row166 col5\" >False</td>\n",
       "                        <td id=\"T_6eb88190_11e6_11eb_959f_acde48001122row166_col6\" class=\"data row166 col6\" >False</td>\n",
       "                        <td id=\"T_6eb88190_11e6_11eb_959f_acde48001122row166_col7\" class=\"data row166 col7\" >False</td>\n",
       "            </tr>\n",
       "            <tr>\n",
       "                        <th id=\"T_6eb88190_11e6_11eb_959f_acde48001122level0_row167\" class=\"row_heading level0 row167\" >167</th>\n",
       "                        <td id=\"T_6eb88190_11e6_11eb_959f_acde48001122row167_col0\" class=\"data row167 col0\" >omelet</td>\n",
       "                        <td id=\"T_6eb88190_11e6_11eb_959f_acde48001122row167_col1\" class=\"data row167 col1\" >omelet</td>\n",
       "                        <td id=\"T_6eb88190_11e6_11eb_959f_acde48001122row167_col2\" class=\"data row167 col2\" >NOUN</td>\n",
       "                        <td id=\"T_6eb88190_11e6_11eb_959f_acde48001122row167_col3\" class=\"data row167 col3\" >NN</td>\n",
       "                        <td id=\"T_6eb88190_11e6_11eb_959f_acde48001122row167_col4\" class=\"data row167 col4\" >pobj</td>\n",
       "                        <td id=\"T_6eb88190_11e6_11eb_959f_acde48001122row167_col5\" class=\"data row167 col5\" >False</td>\n",
       "                        <td id=\"T_6eb88190_11e6_11eb_959f_acde48001122row167_col6\" class=\"data row167 col6\" >False</td>\n",
       "                        <td id=\"T_6eb88190_11e6_11eb_959f_acde48001122row167_col7\" class=\"data row167 col7\" >False</td>\n",
       "            </tr>\n",
       "    </tbody></table>"
      ],
      "text/plain": [
       "<pandas.io.formats.style.Styler at 0x7fc1856e0b80>"
      ]
     },
     "execution_count": 18,
     "metadata": {},
     "output_type": "execute_result"
    }
   ],
   "source": [
    "df = pd.DataFrame(\n",
    "{\n",
    "    'token': [w.text for w in doc],\n",
    "    'lemma':[w.lemma_ for w in doc],\n",
    "    'POS': [w.pos_ for w in doc],\n",
    "    'TAG': [w.tag_ for w in doc],\n",
    "    'DEP': [w.dep_ for w in doc],\n",
    "    'is_stopword': [w.is_stop for w in doc],\n",
    "    'is_punctuation': [w.is_punct for w in doc],\n",
    "    'is_digit': [w.is_digit for w in doc],\n",
    "})\n",
    "\n",
    "def highlight_True(s):\n",
    "    \"\"\"\n",
    "    Highlight True and False\n",
    "    \"\"\"\n",
    "    return ['background-color: yellow' if v else '' for v in s]\n",
    "df.style.apply(highlight_True,subset=['is_stopword', 'is_punctuation', 'is_digit'])"
   ]
  },
  {
   "cell_type": "code",
   "execution_count": 22,
   "metadata": {},
   "outputs": [
    {
     "name": "stderr",
     "output_type": "stream",
     "text": [
      "<ipython-input-22-beb8a558bf01>:19: SettingWithCopyWarning:\n",
      "\n",
      "\n",
      "A value is trying to be set on a copy of a slice from a DataFrame\n",
      "\n",
      "See the caveats in the documentation: https://pandas.pydata.org/pandas-docs/stable/user_guide/indexing.html#returning-a-view-versus-a-copy\n",
      "\n"
     ]
    }
   ],
   "source": [
    "nlp = spacy.load('en')\n",
    "def preprocess_text(df):\n",
    "    \"\"\"\n",
    "    Text preprocessing:\n",
    "    make lower case\n",
    "    remove stop words, punctuations and digits\n",
    "    lemmatize\n",
    "    \"\"\"\n",
    "    no_of_instances = df.shape[0]\n",
    "    for i in range(no_of_instances):\n",
    "        doc = nlp(df['headline'][i])\n",
    "        updated_headline = [w.lemma_.lower().strip() for w in doc \n",
    "               if not (w.is_stop |\n",
    "                    w.is_punct |\n",
    "                    w.is_digit)\n",
    "               ]\n",
    "        updated_headline = \" \".join(updated_headline)\n",
    "        \n",
    "        df['headline'][i] = updated_headline\n",
    "    return df\n",
    "\n",
    "clean_data = preprocess_text(data)"
   ]
  },
  {
   "cell_type": "code",
   "execution_count": 23,
   "metadata": {},
   "outputs": [
    {
     "data": {
      "text/html": [
       "<div>\n",
       "<style scoped>\n",
       "    .dataframe tbody tr th:only-of-type {\n",
       "        vertical-align: middle;\n",
       "    }\n",
       "\n",
       "    .dataframe tbody tr th {\n",
       "        vertical-align: top;\n",
       "    }\n",
       "\n",
       "    .dataframe thead th {\n",
       "        text-align: right;\n",
       "    }\n",
       "</style>\n",
       "<table border=\"1\" class=\"dataframe\">\n",
       "  <thead>\n",
       "    <tr style=\"text-align: right;\">\n",
       "      <th></th>\n",
       "      <th>article_link</th>\n",
       "      <th>headline</th>\n",
       "      <th>is_sarcastic</th>\n",
       "      <th>num_words</th>\n",
       "    </tr>\n",
       "  </thead>\n",
       "  <tbody>\n",
       "    <tr>\n",
       "      <th>0</th>\n",
       "      <td>https://www.huffingtonpost.com/entry/versace-b...</td>\n",
       "      <td>versace store clerk sue secret black code mino...</td>\n",
       "      <td>0</td>\n",
       "      <td>12</td>\n",
       "    </tr>\n",
       "    <tr>\n",
       "      <th>1</th>\n",
       "      <td>https://www.huffingtonpost.com/entry/roseanne-...</td>\n",
       "      <td>roseanne revival catch thorny political mood bad</td>\n",
       "      <td>0</td>\n",
       "      <td>14</td>\n",
       "    </tr>\n",
       "    <tr>\n",
       "      <th>2</th>\n",
       "      <td>https://local.theonion.com/mom-starting-to-fea...</td>\n",
       "      <td>mom start fear son web series close thing gran...</td>\n",
       "      <td>1</td>\n",
       "      <td>14</td>\n",
       "    </tr>\n",
       "    <tr>\n",
       "      <th>3</th>\n",
       "      <td>https://politics.theonion.com/boehner-just-wan...</td>\n",
       "      <td>boehner want wife listen come alternative debt...</td>\n",
       "      <td>1</td>\n",
       "      <td>13</td>\n",
       "    </tr>\n",
       "    <tr>\n",
       "      <th>4</th>\n",
       "      <td>https://www.huffingtonpost.com/entry/jk-rowlin...</td>\n",
       "      <td>j.k rowling wish snape happy birthday magical way</td>\n",
       "      <td>0</td>\n",
       "      <td>11</td>\n",
       "    </tr>\n",
       "  </tbody>\n",
       "</table>\n",
       "</div>"
      ],
      "text/plain": [
       "                                        article_link  \\\n",
       "0  https://www.huffingtonpost.com/entry/versace-b...   \n",
       "1  https://www.huffingtonpost.com/entry/roseanne-...   \n",
       "2  https://local.theonion.com/mom-starting-to-fea...   \n",
       "3  https://politics.theonion.com/boehner-just-wan...   \n",
       "4  https://www.huffingtonpost.com/entry/jk-rowlin...   \n",
       "\n",
       "                                            headline  is_sarcastic  num_words  \n",
       "0  versace store clerk sue secret black code mino...             0         12  \n",
       "1   roseanne revival catch thorny political mood bad             0         14  \n",
       "2  mom start fear son web series close thing gran...             1         14  \n",
       "3  boehner want wife listen come alternative debt...             1         13  \n",
       "4  j.k rowling wish snape happy birthday magical way             0         11  "
      ]
     },
     "execution_count": 23,
     "metadata": {},
     "output_type": "execute_result"
    }
   ],
   "source": [
    "clean_data.head()"
   ]
  },
  {
   "cell_type": "code",
   "execution_count": 24,
   "metadata": {},
   "outputs": [],
   "source": [
    "tf = TfidfVectorizer(analyzer='word',ngram_range=(1,3),max_features=5000)\n",
    "X = tf.fit_transform(clean_data['headline'])\n",
    "\n",
    "y = clean_data['is_sarcastic']\n"
   ]
  },
  {
   "cell_type": "code",
   "execution_count": 25,
   "metadata": {
    "_uuid": "55f4d75850bb4f7b926dbc973f72b9895ae72fae"
   },
   "outputs": [],
   "source": [
    "#Splitting the data into training and testing datasets\n",
    "X_train,X_test,y_train,y_test = train_test_split(X,y, test_size=0.2, random_state=101)"
   ]
  },
  {
   "cell_type": "markdown",
   "metadata": {},
   "source": [
    "## <font color=\"orange\"> Naive Bayes Model </font>"
   ]
  },
  {
   "cell_type": "code",
   "execution_count": 26,
   "metadata": {
    "_uuid": "5c59fea430b8de682797f86edb28c539e6c25c61"
   },
   "outputs": [],
   "source": [
    "model = MultinomialNB()\n",
    "model.fit(X_train,y_train)\n",
    "predictions=model.predict(X_test)"
   ]
  },
  {
   "cell_type": "code",
   "execution_count": 27,
   "metadata": {},
   "outputs": [
    {
     "name": "stdout",
     "output_type": "stream",
     "text": [
      "Confusion matrix\n",
      " [[4959 1030]\n",
      " [1213 3864]]\n",
      "Classification_report\n",
      "               precision    recall  f1-score   support\n",
      "\n",
      "           0       0.80      0.83      0.82      5989\n",
      "           1       0.79      0.76      0.78      5077\n",
      "\n",
      "    accuracy                           0.80     11066\n",
      "   macro avg       0.80      0.79      0.80     11066\n",
      "weighted avg       0.80      0.80      0.80     11066\n",
      "\n"
     ]
    }
   ],
   "source": [
    "print('Confusion matrix\\n',confusion_matrix(y_test,predictions))\n",
    "print('Classification_report\\n',classification_report(y_test,predictions))"
   ]
  },
  {
   "cell_type": "code",
   "execution_count": 28,
   "metadata": {},
   "outputs": [],
   "source": [
    "proba_NB = model.predict_proba(X_test)[:,1]\n",
    "fpr_NB,tpr_NB, threshold_NB = roc_curve(y_test,proba_NB)\n",
    "auc_val_NB = auc(fpr_NB,tpr_NB)"
   ]
  },
  {
   "cell_type": "markdown",
   "metadata": {},
   "source": [
    "## <font color=\"orange\"> Logistic Regression </font>"
   ]
  },
  {
   "cell_type": "code",
   "execution_count": 29,
   "metadata": {},
   "outputs": [],
   "source": [
    "model=LogisticRegression()\n",
    "model.fit(X_train,y_train)\n",
    "predictions=model.predict(X_test)"
   ]
  },
  {
   "cell_type": "code",
   "execution_count": 30,
   "metadata": {},
   "outputs": [
    {
     "name": "stdout",
     "output_type": "stream",
     "text": [
      "Confusion matrix\n",
      " [[5144  845]\n",
      " [1160 3917]]\n",
      "Classification_report\n",
      "               precision    recall  f1-score   support\n",
      "\n",
      "           0       0.82      0.86      0.84      5989\n",
      "           1       0.82      0.77      0.80      5077\n",
      "\n",
      "    accuracy                           0.82     11066\n",
      "   macro avg       0.82      0.82      0.82     11066\n",
      "weighted avg       0.82      0.82      0.82     11066\n",
      "\n"
     ]
    }
   ],
   "source": [
    "print('Confusion matrix\\n',confusion_matrix(y_test,predictions))\n",
    "print('Classification_report\\n',classification_report(y_test,predictions))"
   ]
  },
  {
   "cell_type": "code",
   "execution_count": 31,
   "metadata": {},
   "outputs": [],
   "source": [
    "proba_LR = model.predict_proba(X_test)[:,1]\n",
    "fpr_LR,tpr_LR, threshold_LR = roc_curve(y_test,proba_LR)\n",
    "auc_val_LR = auc(fpr_LR,tpr_LR)"
   ]
  },
  {
   "cell_type": "markdown",
   "metadata": {},
   "source": [
    "## <font color=\"orange\"> Decision Tree </font>"
   ]
  },
  {
   "cell_type": "code",
   "execution_count": 32,
   "metadata": {},
   "outputs": [],
   "source": [
    "#Create tree\n",
    "clf = DecisionTreeClassifier()\n",
    "\n",
    "# Train Decision Tree Classifer\n",
    "clf = clf.fit(X_train,y_train)\n",
    "\n",
    "#Predict the response for test dataset\n",
    "y_pred = clf.predict(X_test)"
   ]
  },
  {
   "cell_type": "code",
   "execution_count": 33,
   "metadata": {},
   "outputs": [
    {
     "name": "stdout",
     "output_type": "stream",
     "text": [
      "Confusion matrix\n",
      " [[5534  455]\n",
      " [ 506 4571]]\n",
      "Classification_report\n",
      "               precision    recall  f1-score   support\n",
      "\n",
      "           0       0.92      0.92      0.92      5989\n",
      "           1       0.91      0.90      0.90      5077\n",
      "\n",
      "    accuracy                           0.91     11066\n",
      "   macro avg       0.91      0.91      0.91     11066\n",
      "weighted avg       0.91      0.91      0.91     11066\n",
      "\n"
     ]
    }
   ],
   "source": [
    "print('Confusion matrix\\n',confusion_matrix(y_test,y_pred))\n",
    "print('Classification_report\\n',classification_report(y_test,y_pred))"
   ]
  },
  {
   "cell_type": "code",
   "execution_count": 34,
   "metadata": {},
   "outputs": [],
   "source": [
    "proba_DT = clf.predict_proba(X_test)[:,1]\n",
    "fpr_DT,tpr_DT, threshold_DT = roc_curve(y_test,proba_DT)\n",
    "auc_val_DT = auc(fpr_DT,tpr_DT)"
   ]
  },
  {
   "cell_type": "markdown",
   "metadata": {},
   "source": [
    "## <font color=\"orange\"> Comparing the three models </font>"
   ]
  },
  {
   "cell_type": "code",
   "execution_count": 35,
   "metadata": {},
   "outputs": [
    {
     "data": {
      "text/plain": [
       "Text(0.5, 0, 'False positive rate')"
      ]
     },
     "execution_count": 35,
     "metadata": {},
     "output_type": "execute_result"
    },
    {
     "data": {
      "image/png": "[encoded data removed]",
      "text/plain": [
       "<Figure size 1152x720 with 1 Axes>"
      ]
     },
     "metadata": {
      "needs_background": "light"
     },
     "output_type": "display_data"
    }
   ],
   "source": [
    "plt.figure(figsize=(16,10))\n",
    "plt.title('Receiver Operating Charactaristics')\n",
    "plt.plot(fpr_NB,tpr_NB,'b',label = 'AUC- Naive Bayes= %0.2f' % auc_val_NB)\n",
    "plt.plot(fpr_LR,tpr_LR,'y',label = 'AUC- Logistic Reggression = %0.2f' % auc_val_LR)\n",
    "plt.plot(fpr_DT,tpr_DT,'g',label = 'AUC- Decision Tree Classifier = %0.2f' % auc_val_DT)\n",
    "plt.legend(loc='lower right')\n",
    "plt.plot([0,1],[0,1],'r--')\n",
    "plt.ylabel('True positive rate')\n",
    "plt.xlabel('False positive rate')"
   ]
  },
  {
   "cell_type": "code",
   "execution_count": null,
   "metadata": {},
   "outputs": [],
   "source": [
    "# precision = metrics.precision_score(y_test,predictions)\n",
    "# recall = metrics.recall_score(y_test,predictions)\n",
    "# accuracy= metrics.accuracy_score(y_test,predictions)\n",
    "# print(\"Precision:\",precision)\n",
    "# print(\"Recall:\",recall)\n",
    "# print(\"Accuracy:\",accuracy)"
   ]
  },
  {
   "cell_type": "code",
   "execution_count": null,
   "metadata": {},
   "outputs": [],
   "source": [
    "# precision = metrics.precision_score(y_test,predictions2)\n",
    "# recall = metrics.recall_score(y_test,predictions2)\n",
    "# accuracy= metrics.accuracy_score(y_test,predictions2)\n",
    "# print(\"Precision:\",precision)\n",
    "# print(\"Recall:\",recall)\n",
    "# print(\"Accuracy:\",accuracy)"
   ]
  },
  {
   "cell_type": "code",
   "execution_count": null,
   "metadata": {},
   "outputs": [],
   "source": [
    "# print(\"Accuracy:\",metrics.accuracy_score(y_test, y_pred))\n",
    "# print(\"Precision:\",metrics.precision_score(y_test, y_pred))\n",
    "# print(\"Recall:\",metrics.recall_score(y_test, y_pred))"
   ]
  },
  {
   "cell_type": "code",
   "execution_count": null,
   "metadata": {},
   "outputs": [],
   "source": [
    "# #Create the Bagging classifier. Default base classifiers is Decision Tree. \n",
    "# # - n_estimator is the number of base classifiers (number of trees trained) (i.e. weak learners)\n",
    "\n",
    "# model = BaggingClassifier(n_estimators=2)\n",
    "\n",
    "# #Fit the training feature Xs and training label Ys\n",
    "# model.fit(X_train, y_train)\n",
    "\n",
    "# #Use the trained model to predict the test data\n",
    "# y_pred = model.predict(X_test)\n",
    "\n",
    "# print(\"Accuracy:\",metrics.accuracy_score(y_test, y_pred))"
   ]
  },
  {
   "cell_type": "markdown",
   "metadata": {},
   "source": [
    "## <font color=\"orange\"> Visualisations </font>\n"
   ]
  },
  {
   "cell_type": "code",
   "execution_count": 36,
   "metadata": {},
   "outputs": [
    {
     "data": {
      "text/plain": [
       "Text(0.5, 1.0, '10 Most Frequent Words In Sarcastic headlines')"
      ]
     },
     "execution_count": 36,
     "metadata": {},
     "output_type": "execute_result"
    },
    {
     "data": {
      "image/png": "[encoded data removed]",
      "text/plain": [
       "<Figure size 1440x1440 with 1 Axes>"
      ]
     },
     "metadata": {
      "needs_background": "light"
     },
     "output_type": "display_data"
    }
   ],
   "source": [
    "plt.figure(figsize = (20,20))\n",
    "wc = WordCloud(max_words = 10 ,background_color=\"white\",colormap=matplotlib.cm.inferno , width=1600, height=800, stopwords = STOPWORDS).generate(\" \".join(clean_data[clean_data.is_sarcastic == 1 ].headline))\n",
    "plt.imshow(wc , interpolation = 'bilinear')\n",
    "plt.axis(\"off\")\n",
    "plt.title('10 Most Frequent Words In Sarcastic headlines')"
   ]
  },
  {
   "cell_type": "code",
   "execution_count": 37,
   "metadata": {},
   "outputs": [
    {
     "data": {
      "text/plain": [
       "Text(0.5, 1.0, '10 Most Frequent Words In Non-Sarcastic headlines')"
      ]
     },
     "execution_count": 37,
     "metadata": {},
     "output_type": "execute_result"
    },
    {
     "data": {
      "image/png": "[encoded data removed]",
      "text/plain": [
       "<Figure size 1440x1440 with 1 Axes>"
      ]
     },
     "metadata": {
      "needs_background": "light"
     },
     "output_type": "display_data"
    }
   ],
   "source": [
    "plt.figure(figsize = (20,20))\n",
    "wc = WordCloud(max_words = 10 ,background_color=\"white\",colormap=matplotlib.cm.inferno , width=1600, height=800, stopwords = STOPWORDS).generate(\" \".join(clean_data[clean_data.is_sarcastic == 0 ].headline))\n",
    "plt.imshow(wc , interpolation = 'bilinear')\n",
    "plt.axis(\"off\")\n",
    "plt.title('10 Most Frequent Words In Non-Sarcastic headlines')"
   ]
  },
  {
   "cell_type": "code",
   "execution_count": 38,
   "metadata": {},
   "outputs": [],
   "source": [
    "from sklearn.feature_extraction.text import CountVectorizer\n",
    "def get_top_text_ngrams(corpus, n, g):\n",
    "    vec = CountVectorizer(ngram_range=(g, g)).fit(corpus)\n",
    "    bag_of_words = vec.transform(corpus)\n",
    "    sum_words = bag_of_words.sum(axis=0) \n",
    "    words_freq = [(word, sum_words[0, idx]) for word, idx in vec.vocabulary_.items()]\n",
    "    words_freq =sorted(words_freq, key = lambda x: x[1], reverse=True)\n",
    "    return words_freq[:n]"
   ]
  },
  {
   "cell_type": "code",
   "execution_count": 39,
   "metadata": {},
   "outputs": [],
   "source": [
    "is_sarcastic =clean_data['is_sarcastic']==1\n",
    "data_sar = clean_data[is_sarcastic]\n",
    "is_not_sarcastic = clean_data['is_sarcastic']== 0\n",
    "data_nsar = clean_data[is_not_sarcastic]"
   ]
  },
  {
   "cell_type": "code",
   "execution_count": 40,
   "metadata": {},
   "outputs": [
    {
     "data": {
      "application/vnd.plotly.v1+json": {
       "config": {
        "plotlyServerURL": "https://plot.ly"
       },
       "data": [
        {
         "alignmentgroup": "True",
         "hovertemplate": "Count=%{x}<br>Words=%{y}<extra></extra>",
         "legendgroup": "",
         "marker": {
          "color": "#FF8500"
         },
         "name": "",
         "offsetgroup": "",
         "orientation": "h",
         "showlegend": false,
         "textposition": "auto",
         "type": "bar",
         "x": [
          2510,
          1861,
          1063,
          975,
          891,
          891,
          732,
          650,
          629,
          624
         ],
         "xaxis": "x",
         "y": [
          "man",
          "new",
          "report",
          "area",
          "year",
          "woman",
          "nation",
          "find",
          "day",
          "trump"
         ],
         "yaxis": "y"
        }
       ],
       "layout": {
        "barmode": "relative",
        "legend": {
         "tracegroupgap": 0
        },
        "margin": {
         "t": 60
        },
        "paper_bgcolor": "white",
        "plot_bgcolor": "white",
        "template": {
         "data": {
          "bar": [
           {
            "error_x": {
             "color": "#2a3f5f"
            },
            "error_y": {
             "color": "#2a3f5f"
            },
            "marker": {
             "line": {
              "color": "#E5ECF6",
              "width": 0.5
             }
            },
            "type": "bar"
           }
          ],
          "barpolar": [
           {
            "marker": {
             "line": {
              "color": "#E5ECF6",
              "width": 0.5
             }
            },
            "type": "barpolar"
           }
          ],
          "carpet": [
           {
            "aaxis": {
             "endlinecolor": "#2a3f5f",
             "gridcolor": "white",
             "linecolor": "white",
             "minorgridcolor": "white",
             "startlinecolor": "#2a3f5f"
            },
            "baxis": {
             "endlinecolor": "#2a3f5f",
             "gridcolor": "white",
             "linecolor": "white",
             "minorgridcolor": "white",
             "startlinecolor": "#2a3f5f"
            },
            "type": "carpet"
           }
          ],
          "choropleth": [
           {
            "colorbar": {
             "outlinewidth": 0,
             "ticks": ""
            },
            "type": "choropleth"
           }
          ],
          "contour": [
           {
            "colorbar": {
             "outlinewidth": 0,
             "ticks": ""
            },
            "colorscale": [
             [
              0,
              "#0d0887"
             ],
             [
              0.1111111111111111,
              "#46039f"
             ],
             [
              0.2222222222222222,
              "#7201a8"
             ],
             [
              0.3333333333333333,
              "#9c179e"
             ],
             [
              0.4444444444444444,
              "#bd3786"
             ],
             [
              0.5555555555555556,
              "#d8576b"
             ],
             [
              0.6666666666666666,
              "#ed7953"
             ],
             [
              0.7777777777777778,
              "#fb9f3a"
             ],
             [
              0.8888888888888888,
              "#fdca26"
             ],
             [
              1,
              "#f0f921"
             ]
            ],
            "type": "contour"
           }
          ],
          "contourcarpet": [
           {
            "colorbar": {
             "outlinewidth": 0,
             "ticks": ""
            },
            "type": "contourcarpet"
           }
          ],
          "heatmap": [
           {
            "colorbar": {
             "outlinewidth": 0,
             "ticks": ""
            },
            "colorscale": [
             [
              0,
              "#0d0887"
             ],
             [
              0.1111111111111111,
              "#46039f"
             ],
             [
              0.2222222222222222,
              "#7201a8"
             ],
             [
              0.3333333333333333,
              "#9c179e"
             ],
             [
              0.4444444444444444,
              "#bd3786"
             ],
             [
              0.5555555555555556,
              "#d8576b"
             ],
             [
              0.6666666666666666,
              "#ed7953"
             ],
             [
              0.7777777777777778,
              "#fb9f3a"
             ],
             [
              0.8888888888888888,
              "#fdca26"
             ],
             [
              1,
              "#f0f921"
             ]
            ],
            "type": "heatmap"
           }
          ],
          "heatmapgl": [
           {
            "colorbar": {
             "outlinewidth": 0,
             "ticks": ""
            },
            "colorscale": [
             [
              0,
              "#0d0887"
             ],
             [
              0.1111111111111111,
              "#46039f"
             ],
             [
              0.2222222222222222,
              "#7201a8"
             ],
             [
              0.3333333333333333,
              "#9c179e"
             ],
             [
              0.4444444444444444,
              "#bd3786"
             ],
             [
              0.5555555555555556,
              "#d8576b"
             ],
             [
              0.6666666666666666,
              "#ed7953"
             ],
             [
              0.7777777777777778,
              "#fb9f3a"
             ],
             [
              0.8888888888888888,
              "#fdca26"
             ],
             [
              1,
              "#f0f921"
             ]
            ],
            "type": "heatmapgl"
           }
          ],
          "histogram": [
           {
            "marker": {
             "colorbar": {
              "outlinewidth": 0,
              "ticks": ""
             }
            },
            "type": "histogram"
           }
          ],
          "histogram2d": [
           {
            "colorbar": {
             "outlinewidth": 0,
             "ticks": ""
            },
            "colorscale": [
             [
              0,
              "#0d0887"
             ],
             [
              0.1111111111111111,
              "#46039f"
             ],
             [
              0.2222222222222222,
              "#7201a8"
             ],
             [
              0.3333333333333333,
              "#9c179e"
             ],
             [
              0.4444444444444444,
              "#bd3786"
             ],
             [
              0.5555555555555556,
              "#d8576b"
             ],
             [
              0.6666666666666666,
              "#ed7953"
             ],
             [
              0.7777777777777778,
              "#fb9f3a"
             ],
             [
              0.8888888888888888,
              "#fdca26"
             ],
             [
              1,
              "#f0f921"
             ]
            ],
            "type": "histogram2d"
           }
          ],
          "histogram2dcontour": [
           {
            "colorbar": {
             "outlinewidth": 0,
             "ticks": ""
            },
            "colorscale": [
             [
              0,
              "#0d0887"
             ],
             [
              0.1111111111111111,
              "#46039f"
             ],
             [
              0.2222222222222222,
              "#7201a8"
             ],
             [
              0.3333333333333333,
              "#9c179e"
             ],
             [
              0.4444444444444444,
              "#bd3786"
             ],
             [
              0.5555555555555556,
              "#d8576b"
             ],
             [
              0.6666666666666666,
              "#ed7953"
             ],
             [
              0.7777777777777778,
              "#fb9f3a"
             ],
             [
              0.8888888888888888,
              "#fdca26"
             ],
             [
              1,
              "#f0f921"
             ]
            ],
            "type": "histogram2dcontour"
           }
          ],
          "mesh3d": [
           {
            "colorbar": {
             "outlinewidth": 0,
             "ticks": ""
            },
            "type": "mesh3d"
           }
          ],
          "parcoords": [
           {
            "line": {
             "colorbar": {
              "outlinewidth": 0,
              "ticks": ""
             }
            },
            "type": "parcoords"
           }
          ],
          "pie": [
           {
            "automargin": true,
            "type": "pie"
           }
          ],
          "scatter": [
           {
            "marker": {
             "colorbar": {
              "outlinewidth": 0,
              "ticks": ""
             }
            },
            "type": "scatter"
           }
          ],
          "scatter3d": [
           {
            "line": {
             "colorbar": {
              "outlinewidth": 0,
              "ticks": ""
             }
            },
            "marker": {
             "colorbar": {
              "outlinewidth": 0,
              "ticks": ""
             }
            },
            "type": "scatter3d"
           }
          ],
          "scattercarpet": [
           {
            "marker": {
             "colorbar": {
              "outlinewidth": 0,
              "ticks": ""
             }
            },
            "type": "scattercarpet"
           }
          ],
          "scattergeo": [
           {
            "marker": {
             "colorbar": {
              "outlinewidth": 0,
              "ticks": ""
             }
            },
            "type": "scattergeo"
           }
          ],
          "scattergl": [
           {
            "marker": {
             "colorbar": {
              "outlinewidth": 0,
              "ticks": ""
             }
            },
            "type": "scattergl"
           }
          ],
          "scattermapbox": [
           {
            "marker": {
             "colorbar": {
              "outlinewidth": 0,
              "ticks": ""
             }
            },
            "type": "scattermapbox"
           }
          ],
          "scatterpolar": [
           {
            "marker": {
             "colorbar": {
              "outlinewidth": 0,
              "ticks": ""
             }
            },
            "type": "scatterpolar"
           }
          ],
          "scatterpolargl": [
           {
            "marker": {
             "colorbar": {
              "outlinewidth": 0,
              "ticks": ""
             }
            },
            "type": "scatterpolargl"
           }
          ],
          "scatterternary": [
           {
            "marker": {
             "colorbar": {
              "outlinewidth": 0,
              "ticks": ""
             }
            },
            "type": "scatterternary"
           }
          ],
          "surface": [
           {
            "colorbar": {
             "outlinewidth": 0,
             "ticks": ""
            },
            "colorscale": [
             [
              0,
              "#0d0887"
             ],
             [
              0.1111111111111111,
              "#46039f"
             ],
             [
              0.2222222222222222,
              "#7201a8"
             ],
             [
              0.3333333333333333,
              "#9c179e"
             ],
             [
              0.4444444444444444,
              "#bd3786"
             ],
             [
              0.5555555555555556,
              "#d8576b"
             ],
             [
              0.6666666666666666,
              "#ed7953"
             ],
             [
              0.7777777777777778,
              "#fb9f3a"
             ],
             [
              0.8888888888888888,
              "#fdca26"
             ],
             [
              1,
              "#f0f921"
             ]
            ],
            "type": "surface"
           }
          ],
          "table": [
           {
            "cells": {
             "fill": {
              "color": "#EBF0F8"
             },
             "line": {
              "color": "white"
             }
            },
            "header": {
             "fill": {
              "color": "#C8D4E3"
             },
             "line": {
              "color": "white"
             }
            },
            "type": "table"
           }
          ]
         },
         "layout": {
          "annotationdefaults": {
           "arrowcolor": "#2a3f5f",
           "arrowhead": 0,
           "arrowwidth": 1
          },
          "coloraxis": {
           "colorbar": {
            "outlinewidth": 0,
            "ticks": ""
           }
          },
          "colorscale": {
           "diverging": [
            [
             0,
             "#8e0152"
            ],
            [
             0.1,
             "#c51b7d"
            ],
            [
             0.2,
             "#de77ae"
            ],
            [
             0.3,
             "#f1b6da"
            ],
            [
             0.4,
             "#fde0ef"
            ],
            [
             0.5,
             "#f7f7f7"
            ],
            [
             0.6,
             "#e6f5d0"
            ],
            [
             0.7,
             "#b8e186"
            ],
            [
             0.8,
             "#7fbc41"
            ],
            [
             0.9,
             "#4d9221"
            ],
            [
             1,
             "#276419"
            ]
           ],
           "sequential": [
            [
             0,
             "#0d0887"
            ],
            [
             0.1111111111111111,
             "#46039f"
            ],
            [
             0.2222222222222222,
             "#7201a8"
            ],
            [
             0.3333333333333333,
             "#9c179e"
            ],
            [
             0.4444444444444444,
             "#bd3786"
            ],
            [
             0.5555555555555556,
             "#d8576b"
            ],
            [
             0.6666666666666666,
             "#ed7953"
            ],
            [
             0.7777777777777778,
             "#fb9f3a"
            ],
            [
             0.8888888888888888,
             "#fdca26"
            ],
            [
             1,
             "#f0f921"
            ]
           ],
           "sequentialminus": [
            [
             0,
             "#0d0887"
            ],
            [
             0.1111111111111111,
             "#46039f"
            ],
            [
             0.2222222222222222,
             "#7201a8"
            ],
            [
             0.3333333333333333,
             "#9c179e"
            ],
            [
             0.4444444444444444,
             "#bd3786"
            ],
            [
             0.5555555555555556,
             "#d8576b"
            ],
            [
             0.6666666666666666,
             "#ed7953"
            ],
            [
             0.7777777777777778,
             "#fb9f3a"
            ],
            [
             0.8888888888888888,
             "#fdca26"
            ],
            [
             1,
             "#f0f921"
            ]
           ]
          },
          "colorway": [
           "#636efa",
           "#EF553B",
           "#00cc96",
           "#ab63fa",
           "#FFA15A",
           "#19d3f3",
           "#FF6692",
           "#B6E880",
           "#FF97FF",
           "#FECB52"
          ],
          "font": {
           "color": "#2a3f5f"
          },
          "geo": {
           "bgcolor": "white",
           "lakecolor": "white",
           "landcolor": "#E5ECF6",
           "showlakes": true,
           "showland": true,
           "subunitcolor": "white"
          },
          "hoverlabel": {
           "align": "left"
          },
          "hovermode": "closest",
          "mapbox": {
           "style": "light"
          },
          "paper_bgcolor": "white",
          "plot_bgcolor": "#E5ECF6",
          "polar": {
           "angularaxis": {
            "gridcolor": "white",
            "linecolor": "white",
            "ticks": ""
           },
           "bgcolor": "#E5ECF6",
           "radialaxis": {
            "gridcolor": "white",
            "linecolor": "white",
            "ticks": ""
           }
          },
          "scene": {
           "xaxis": {
            "backgroundcolor": "#E5ECF6",
            "gridcolor": "white",
            "gridwidth": 2,
            "linecolor": "white",
            "showbackground": true,
            "ticks": "",
            "zerolinecolor": "white"
           },
           "yaxis": {
            "backgroundcolor": "#E5ECF6",
            "gridcolor": "white",
            "gridwidth": 2,
            "linecolor": "white",
            "showbackground": true,
            "ticks": "",
            "zerolinecolor": "white"
           },
           "zaxis": {
            "backgroundcolor": "#E5ECF6",
            "gridcolor": "white",
            "gridwidth": 2,
            "linecolor": "white",
            "showbackground": true,
            "ticks": "",
            "zerolinecolor": "white"
           }
          },
          "shapedefaults": {
           "line": {
            "color": "#2a3f5f"
           }
          },
          "ternary": {
           "aaxis": {
            "gridcolor": "white",
            "linecolor": "white",
            "ticks": ""
           },
           "baxis": {
            "gridcolor": "white",
            "linecolor": "white",
            "ticks": ""
           },
           "bgcolor": "#E5ECF6",
           "caxis": {
            "gridcolor": "white",
            "linecolor": "white",
            "ticks": ""
           }
          },
          "title": {
           "x": 0.05
          },
          "xaxis": {
           "automargin": true,
           "gridcolor": "white",
           "linecolor": "white",
           "ticks": "",
           "title": {
            "standoff": 15
           },
           "zerolinecolor": "white",
           "zerolinewidth": 2
          },
          "yaxis": {
           "automargin": true,
           "gridcolor": "white",
           "linecolor": "white",
           "ticks": "",
           "title": {
            "standoff": 15
           },
           "zerolinecolor": "white",
           "zerolinewidth": 2
          }
         }
        },
        "title": {
         "text": "Unigram for Sarcastic News"
        },
        "xaxis": {
         "anchor": "y",
         "domain": [
          0,
          1
         ],
         "title": {
          "text": "Count"
         }
        },
        "yaxis": {
         "anchor": "x",
         "domain": [
          0,
          1
         ],
         "title": {
          "text": "Words"
         }
        }
       }
      },
      "text/html": [
       "<div>                            <div id=\"50cf8b7a-6ca1-4d7c-a2d2-4cf9657ecde0\" class=\"plotly-graph-div\" style=\"height:525px; width:100%;\"></div>            <script type=\"text/javascript\">                require([\"plotly\"], function(Plotly) {                    window.PLOTLYENV=window.PLOTLYENV || {};                                    if (document.getElementById(\"50cf8b7a-6ca1-4d7c-a2d2-4cf9657ecde0\")) {                    Plotly.newPlot(                        \"50cf8b7a-6ca1-4d7c-a2d2-4cf9657ecde0\",                        [{\"alignmentgroup\": \"True\", \"hovertemplate\": \"Count=%{x}<br>Words=%{y}<extra></extra>\", \"legendgroup\": \"\", \"marker\": {\"color\": \"#FF8500\"}, \"name\": \"\", \"offsetgroup\": \"\", \"orientation\": \"h\", \"showlegend\": false, \"textposition\": \"auto\", \"type\": \"bar\", \"x\": [2510, 1861, 1063, 975, 891, 891, 732, 650, 629, 624], \"xaxis\": \"x\", \"y\": [\"man\", \"new\", \"report\", \"area\", \"year\", \"woman\", \"nation\", \"find\", \"day\", \"trump\"], \"yaxis\": \"y\"}],                        {\"barmode\": \"relative\", \"legend\": {\"tracegroupgap\": 0}, \"margin\": {\"t\": 60}, \"paper_bgcolor\": \"white\", \"plot_bgcolor\": \"white\", \"template\": {\"data\": {\"bar\": [{\"error_x\": {\"color\": \"#2a3f5f\"}, \"error_y\": {\"color\": \"#2a3f5f\"}, \"marker\": {\"line\": {\"color\": \"#E5ECF6\", \"width\": 0.5}}, \"type\": \"bar\"}], \"barpolar\": [{\"marker\": {\"line\": {\"color\": \"#E5ECF6\", \"width\": 0.5}}, \"type\": \"barpolar\"}], \"carpet\": [{\"aaxis\": {\"endlinecolor\": \"#2a3f5f\", \"gridcolor\": \"white\", \"linecolor\": \"white\", \"minorgridcolor\": \"white\", \"startlinecolor\": \"#2a3f5f\"}, \"baxis\": {\"endlinecolor\": \"#2a3f5f\", \"gridcolor\": \"white\", \"linecolor\": \"white\", \"minorgridcolor\": \"white\", \"startlinecolor\": \"#2a3f5f\"}, \"type\": \"carpet\"}], \"choropleth\": [{\"colorbar\": {\"outlinewidth\": 0, \"ticks\": \"\"}, \"type\": \"choropleth\"}], \"contour\": [{\"colorbar\": {\"outlinewidth\": 0, \"ticks\": \"\"}, \"colorscale\": [[0.0, \"#0d0887\"], [0.1111111111111111, \"#46039f\"], [0.2222222222222222, \"#7201a8\"], [0.3333333333333333, \"#9c179e\"], [0.4444444444444444, \"#bd3786\"], [0.5555555555555556, \"#d8576b\"], [0.6666666666666666, \"#ed7953\"], [0.7777777777777778, \"#fb9f3a\"], [0.8888888888888888, \"#fdca26\"], [1.0, \"#f0f921\"]], \"type\": \"contour\"}], \"contourcarpet\": [{\"colorbar\": {\"outlinewidth\": 0, \"ticks\": \"\"}, \"type\": \"contourcarpet\"}], \"heatmap\": [{\"colorbar\": {\"outlinewidth\": 0, \"ticks\": \"\"}, \"colorscale\": [[0.0, \"#0d0887\"], [0.1111111111111111, \"#46039f\"], [0.2222222222222222, \"#7201a8\"], [0.3333333333333333, \"#9c179e\"], [0.4444444444444444, \"#bd3786\"], [0.5555555555555556, \"#d8576b\"], [0.6666666666666666, \"#ed7953\"], [0.7777777777777778, \"#fb9f3a\"], [0.8888888888888888, \"#fdca26\"], [1.0, \"#f0f921\"]], \"type\": \"heatmap\"}], \"heatmapgl\": [{\"colorbar\": {\"outlinewidth\": 0, \"ticks\": \"\"}, \"colorscale\": [[0.0, \"#0d0887\"], [0.1111111111111111, \"#46039f\"], [0.2222222222222222, \"#7201a8\"], [0.3333333333333333, \"#9c179e\"], [0.4444444444444444, \"#bd3786\"], [0.5555555555555556, \"#d8576b\"], [0.6666666666666666, \"#ed7953\"], [0.7777777777777778, \"#fb9f3a\"], [0.8888888888888888, \"#fdca26\"], [1.0, \"#f0f921\"]], \"type\": \"heatmapgl\"}], \"histogram\": [{\"marker\": {\"colorbar\": {\"outlinewidth\": 0, \"ticks\": \"\"}}, \"type\": \"histogram\"}], \"histogram2d\": [{\"colorbar\": {\"outlinewidth\": 0, \"ticks\": \"\"}, \"colorscale\": [[0.0, \"#0d0887\"], [0.1111111111111111, \"#46039f\"], [0.2222222222222222, \"#7201a8\"], [0.3333333333333333, \"#9c179e\"], [0.4444444444444444, \"#bd3786\"], [0.5555555555555556, \"#d8576b\"], [0.6666666666666666, \"#ed7953\"], [0.7777777777777778, \"#fb9f3a\"], [0.8888888888888888, \"#fdca26\"], [1.0, \"#f0f921\"]], \"type\": \"histogram2d\"}], \"histogram2dcontour\": [{\"colorbar\": {\"outlinewidth\": 0, \"ticks\": \"\"}, \"colorscale\": [[0.0, \"#0d0887\"], [0.1111111111111111, \"#46039f\"], [0.2222222222222222, \"#7201a8\"], [0.3333333333333333, \"#9c179e\"], [0.4444444444444444, \"#bd3786\"], [0.5555555555555556, \"#d8576b\"], [0.6666666666666666, \"#ed7953\"], [0.7777777777777778, \"#fb9f3a\"], [0.8888888888888888, \"#fdca26\"], [1.0, \"#f0f921\"]], \"type\": \"histogram2dcontour\"}], \"mesh3d\": [{\"colorbar\": {\"outlinewidth\": 0, \"ticks\": \"\"}, \"type\": \"mesh3d\"}], \"parcoords\": [{\"line\": {\"colorbar\": {\"outlinewidth\": 0, \"ticks\": \"\"}}, \"type\": \"parcoords\"}], \"pie\": [{\"automargin\": true, \"type\": \"pie\"}], \"scatter\": [{\"marker\": {\"colorbar\": {\"outlinewidth\": 0, \"ticks\": \"\"}}, \"type\": \"scatter\"}], \"scatter3d\": [{\"line\": {\"colorbar\": {\"outlinewidth\": 0, \"ticks\": \"\"}}, \"marker\": {\"colorbar\": {\"outlinewidth\": 0, \"ticks\": \"\"}}, \"type\": \"scatter3d\"}], \"scattercarpet\": [{\"marker\": {\"colorbar\": {\"outlinewidth\": 0, \"ticks\": \"\"}}, \"type\": \"scattercarpet\"}], \"scattergeo\": [{\"marker\": {\"colorbar\": {\"outlinewidth\": 0, \"ticks\": \"\"}}, \"type\": \"scattergeo\"}], \"scattergl\": [{\"marker\": {\"colorbar\": {\"outlinewidth\": 0, \"ticks\": \"\"}}, \"type\": \"scattergl\"}], \"scattermapbox\": [{\"marker\": {\"colorbar\": {\"outlinewidth\": 0, \"ticks\": \"\"}}, \"type\": \"scattermapbox\"}], \"scatterpolar\": [{\"marker\": {\"colorbar\": {\"outlinewidth\": 0, \"ticks\": \"\"}}, \"type\": \"scatterpolar\"}], \"scatterpolargl\": [{\"marker\": {\"colorbar\": {\"outlinewidth\": 0, \"ticks\": \"\"}}, \"type\": \"scatterpolargl\"}], \"scatterternary\": [{\"marker\": {\"colorbar\": {\"outlinewidth\": 0, \"ticks\": \"\"}}, \"type\": \"scatterternary\"}], \"surface\": [{\"colorbar\": {\"outlinewidth\": 0, \"ticks\": \"\"}, \"colorscale\": [[0.0, \"#0d0887\"], [0.1111111111111111, \"#46039f\"], [0.2222222222222222, \"#7201a8\"], [0.3333333333333333, \"#9c179e\"], [0.4444444444444444, \"#bd3786\"], [0.5555555555555556, \"#d8576b\"], [0.6666666666666666, \"#ed7953\"], [0.7777777777777778, \"#fb9f3a\"], [0.8888888888888888, \"#fdca26\"], [1.0, \"#f0f921\"]], \"type\": \"surface\"}], \"table\": [{\"cells\": {\"fill\": {\"color\": \"#EBF0F8\"}, \"line\": {\"color\": \"white\"}}, \"header\": {\"fill\": {\"color\": \"#C8D4E3\"}, \"line\": {\"color\": \"white\"}}, \"type\": \"table\"}]}, \"layout\": {\"annotationdefaults\": {\"arrowcolor\": \"#2a3f5f\", \"arrowhead\": 0, \"arrowwidth\": 1}, \"coloraxis\": {\"colorbar\": {\"outlinewidth\": 0, \"ticks\": \"\"}}, \"colorscale\": {\"diverging\": [[0, \"#8e0152\"], [0.1, \"#c51b7d\"], [0.2, \"#de77ae\"], [0.3, \"#f1b6da\"], [0.4, \"#fde0ef\"], [0.5, \"#f7f7f7\"], [0.6, \"#e6f5d0\"], [0.7, \"#b8e186\"], [0.8, \"#7fbc41\"], [0.9, \"#4d9221\"], [1, \"#276419\"]], \"sequential\": [[0.0, \"#0d0887\"], [0.1111111111111111, \"#46039f\"], [0.2222222222222222, \"#7201a8\"], [0.3333333333333333, \"#9c179e\"], [0.4444444444444444, \"#bd3786\"], [0.5555555555555556, \"#d8576b\"], [0.6666666666666666, \"#ed7953\"], [0.7777777777777778, \"#fb9f3a\"], [0.8888888888888888, \"#fdca26\"], [1.0, \"#f0f921\"]], \"sequentialminus\": [[0.0, \"#0d0887\"], [0.1111111111111111, \"#46039f\"], [0.2222222222222222, \"#7201a8\"], [0.3333333333333333, \"#9c179e\"], [0.4444444444444444, \"#bd3786\"], [0.5555555555555556, \"#d8576b\"], [0.6666666666666666, \"#ed7953\"], [0.7777777777777778, \"#fb9f3a\"], [0.8888888888888888, \"#fdca26\"], [1.0, \"#f0f921\"]]}, \"colorway\": [\"#636efa\", \"#EF553B\", \"#00cc96\", \"#ab63fa\", \"#FFA15A\", \"#19d3f3\", \"#FF6692\", \"#B6E880\", \"#FF97FF\", \"#FECB52\"], \"font\": {\"color\": \"#2a3f5f\"}, \"geo\": {\"bgcolor\": \"white\", \"lakecolor\": \"white\", \"landcolor\": \"#E5ECF6\", \"showlakes\": true, \"showland\": true, \"subunitcolor\": \"white\"}, \"hoverlabel\": {\"align\": \"left\"}, \"hovermode\": \"closest\", \"mapbox\": {\"style\": \"light\"}, \"paper_bgcolor\": \"white\", \"plot_bgcolor\": \"#E5ECF6\", \"polar\": {\"angularaxis\": {\"gridcolor\": \"white\", \"linecolor\": \"white\", \"ticks\": \"\"}, \"bgcolor\": \"#E5ECF6\", \"radialaxis\": {\"gridcolor\": \"white\", \"linecolor\": \"white\", \"ticks\": \"\"}}, \"scene\": {\"xaxis\": {\"backgroundcolor\": \"#E5ECF6\", \"gridcolor\": \"white\", \"gridwidth\": 2, \"linecolor\": \"white\", \"showbackground\": true, \"ticks\": \"\", \"zerolinecolor\": \"white\"}, \"yaxis\": {\"backgroundcolor\": \"#E5ECF6\", \"gridcolor\": \"white\", \"gridwidth\": 2, \"linecolor\": \"white\", \"showbackground\": true, \"ticks\": \"\", \"zerolinecolor\": \"white\"}, \"zaxis\": {\"backgroundcolor\": \"#E5ECF6\", \"gridcolor\": \"white\", \"gridwidth\": 2, \"linecolor\": \"white\", \"showbackground\": true, \"ticks\": \"\", \"zerolinecolor\": \"white\"}}, \"shapedefaults\": {\"line\": {\"color\": \"#2a3f5f\"}}, \"ternary\": {\"aaxis\": {\"gridcolor\": \"white\", \"linecolor\": \"white\", \"ticks\": \"\"}, \"baxis\": {\"gridcolor\": \"white\", \"linecolor\": \"white\", \"ticks\": \"\"}, \"bgcolor\": \"#E5ECF6\", \"caxis\": {\"gridcolor\": \"white\", \"linecolor\": \"white\", \"ticks\": \"\"}}, \"title\": {\"x\": 0.05}, \"xaxis\": {\"automargin\": true, \"gridcolor\": \"white\", \"linecolor\": \"white\", \"ticks\": \"\", \"title\": {\"standoff\": 15}, \"zerolinecolor\": \"white\", \"zerolinewidth\": 2}, \"yaxis\": {\"automargin\": true, \"gridcolor\": \"white\", \"linecolor\": \"white\", \"ticks\": \"\", \"title\": {\"standoff\": 15}, \"zerolinecolor\": \"white\", \"zerolinewidth\": 2}}}, \"title\": {\"text\": \"Unigram for Sarcastic News\"}, \"xaxis\": {\"anchor\": \"y\", \"domain\": [0.0, 1.0], \"title\": {\"text\": \"Count\"}}, \"yaxis\": {\"anchor\": \"x\", \"domain\": [0.0, 1.0], \"title\": {\"text\": \"Words\"}}},                        {\"responsive\": true}                    ).then(function(){\n",
       "                            \n",
       "var gd = document.getElementById('50cf8b7a-6ca1-4d7c-a2d2-4cf9657ecde0');\n",
       "var x = new MutationObserver(function (mutations, observer) {{\n",
       "        var display = window.getComputedStyle(gd).display;\n",
       "        if (!display || display === 'none') {{\n",
       "            console.log([gd, 'removed!']);\n",
       "            Plotly.purge(gd);\n",
       "            observer.disconnect();\n",
       "        }}\n",
       "}});\n",
       "\n",
       "// Listen for the removal of the full notebook cells\n",
       "var notebookContainer = gd.closest('#notebook-container');\n",
       "if (notebookContainer) {{\n",
       "    x.observe(notebookContainer, {childList: true});\n",
       "}}\n",
       "\n",
       "// Listen for the clearing of the current output cell\n",
       "var outputEl = gd.closest('.output');\n",
       "if (outputEl) {{\n",
       "    x.observe(outputEl, {childList: true});\n",
       "}}\n",
       "\n",
       "                        })                };                });            </script>        </div>"
      ]
     },
     "metadata": {},
     "output_type": "display_data"
    },
    {
     "data": {
      "text/plain": [
       "<Figure size 1152x648 with 0 Axes>"
      ]
     },
     "metadata": {},
     "output_type": "display_data"
    }
   ],
   "source": [
    "import plotly.graph_objs as go\n",
    "import plotly.express as px\n",
    "\n",
    "plt.figure(figsize = (16,9))\n",
    "most_common_uni = get_top_text_ngrams(data_sar.headline,10,1)\n",
    "most_common_uni = dict(most_common_uni)\n",
    "fig = px.bar(x = list(most_common_uni.values()), y = list(most_common_uni.keys()), labels=dict(x=\"Count\", y=\"Words\"))\n",
    "fig.update_traces(marker_color='#FF8500')\n",
    "fig.update_layout(title_text='Unigram for Sarcastic News', paper_bgcolor = 'white', plot_bgcolor = 'white')\n",
    "fig.show()"
   ]
  },
  {
   "cell_type": "code",
   "execution_count": 41,
   "metadata": {},
   "outputs": [
    {
     "data": {
      "application/vnd.plotly.v1+json": {
       "config": {
        "plotlyServerURL": "https://plot.ly"
       },
       "data": [
        {
         "alignmentgroup": "True",
         "hovertemplate": "Count=%{x}<br>Words=%{y}<extra></extra>",
         "legendgroup": "",
         "marker": {
          "color": "#FF8500"
         },
         "name": "",
         "offsetgroup": "",
         "orientation": "h",
         "showlegend": false,
         "textposition": "auto",
         "type": "bar",
         "x": [
          520,
          380,
          226,
          223,
          131,
          101,
          98,
          94,
          84,
          83
         ],
         "xaxis": "x",
         "y": [
          "area man",
          "year old",
          "study find",
          "white house",
          "introduce new",
          "high school",
          "area woman",
          "announce plan",
          "new study",
          "supreme court"
         ],
         "yaxis": "y"
        }
       ],
       "layout": {
        "barmode": "relative",
        "legend": {
         "tracegroupgap": 0
        },
        "margin": {
         "t": 60
        },
        "paper_bgcolor": "white",
        "plot_bgcolor": "white",
        "template": {
         "data": {
          "bar": [
           {
            "error_x": {
             "color": "#2a3f5f"
            },
            "error_y": {
             "color": "#2a3f5f"
            },
            "marker": {
             "line": {
              "color": "#E5ECF6",
              "width": 0.5
             }
            },
            "type": "bar"
           }
          ],
          "barpolar": [
           {
            "marker": {
             "line": {
              "color": "#E5ECF6",
              "width": 0.5
             }
            },
            "type": "barpolar"
           }
          ],
          "carpet": [
           {
            "aaxis": {
             "endlinecolor": "#2a3f5f",
             "gridcolor": "white",
             "linecolor": "white",
             "minorgridcolor": "white",
             "startlinecolor": "#2a3f5f"
            },
            "baxis": {
             "endlinecolor": "#2a3f5f",
             "gridcolor": "white",
             "linecolor": "white",
             "minorgridcolor": "white",
             "startlinecolor": "#2a3f5f"
            },
            "type": "carpet"
           }
          ],
          "choropleth": [
           {
            "colorbar": {
             "outlinewidth": 0,
             "ticks": ""
            },
            "type": "choropleth"
           }
          ],
          "contour": [
           {
            "colorbar": {
             "outlinewidth": 0,
             "ticks": ""
            },
            "colorscale": [
             [
              0,
              "#0d0887"
             ],
             [
              0.1111111111111111,
              "#46039f"
             ],
             [
              0.2222222222222222,
              "#7201a8"
             ],
             [
              0.3333333333333333,
              "#9c179e"
             ],
             [
              0.4444444444444444,
              "#bd3786"
             ],
             [
              0.5555555555555556,
              "#d8576b"
             ],
             [
              0.6666666666666666,
              "#ed7953"
             ],
             [
              0.7777777777777778,
              "#fb9f3a"
             ],
             [
              0.8888888888888888,
              "#fdca26"
             ],
             [
              1,
              "#f0f921"
             ]
            ],
            "type": "contour"
           }
          ],
          "contourcarpet": [
           {
            "colorbar": {
             "outlinewidth": 0,
             "ticks": ""
            },
            "type": "contourcarpet"
           }
          ],
          "heatmap": [
           {
            "colorbar": {
             "outlinewidth": 0,
             "ticks": ""
            },
            "colorscale": [
             [
              0,
              "#0d0887"
             ],
             [
              0.1111111111111111,
              "#46039f"
             ],
             [
              0.2222222222222222,
              "#7201a8"
             ],
             [
              0.3333333333333333,
              "#9c179e"
             ],
             [
              0.4444444444444444,
              "#bd3786"
             ],
             [
              0.5555555555555556,
              "#d8576b"
             ],
             [
              0.6666666666666666,
              "#ed7953"
             ],
             [
              0.7777777777777778,
              "#fb9f3a"
             ],
             [
              0.8888888888888888,
              "#fdca26"
             ],
             [
              1,
              "#f0f921"
             ]
            ],
            "type": "heatmap"
           }
          ],
          "heatmapgl": [
           {
            "colorbar": {
             "outlinewidth": 0,
             "ticks": ""
            },
            "colorscale": [
             [
              0,
              "#0d0887"
             ],
             [
              0.1111111111111111,
              "#46039f"
             ],
             [
              0.2222222222222222,
              "#7201a8"
             ],
             [
              0.3333333333333333,
              "#9c179e"
             ],
             [
              0.4444444444444444,
              "#bd3786"
             ],
             [
              0.5555555555555556,
              "#d8576b"
             ],
             [
              0.6666666666666666,
              "#ed7953"
             ],
             [
              0.7777777777777778,
              "#fb9f3a"
             ],
             [
              0.8888888888888888,
              "#fdca26"
             ],
             [
              1,
              "#f0f921"
             ]
            ],
            "type": "heatmapgl"
           }
          ],
          "histogram": [
           {
            "marker": {
             "colorbar": {
              "outlinewidth": 0,
              "ticks": ""
             }
            },
            "type": "histogram"
           }
          ],
          "histogram2d": [
           {
            "colorbar": {
             "outlinewidth": 0,
             "ticks": ""
            },
            "colorscale": [
             [
              0,
              "#0d0887"
             ],
             [
              0.1111111111111111,
              "#46039f"
             ],
             [
              0.2222222222222222,
              "#7201a8"
             ],
             [
              0.3333333333333333,
              "#9c179e"
             ],
             [
              0.4444444444444444,
              "#bd3786"
             ],
             [
              0.5555555555555556,
              "#d8576b"
             ],
             [
              0.6666666666666666,
              "#ed7953"
             ],
             [
              0.7777777777777778,
              "#fb9f3a"
             ],
             [
              0.8888888888888888,
              "#fdca26"
             ],
             [
              1,
              "#f0f921"
             ]
            ],
            "type": "histogram2d"
           }
          ],
          "histogram2dcontour": [
           {
            "colorbar": {
             "outlinewidth": 0,
             "ticks": ""
            },
            "colorscale": [
             [
              0,
              "#0d0887"
             ],
             [
              0.1111111111111111,
              "#46039f"
             ],
             [
              0.2222222222222222,
              "#7201a8"
             ],
             [
              0.3333333333333333,
              "#9c179e"
             ],
             [
              0.4444444444444444,
              "#bd3786"
             ],
             [
              0.5555555555555556,
              "#d8576b"
             ],
             [
              0.6666666666666666,
              "#ed7953"
             ],
             [
              0.7777777777777778,
              "#fb9f3a"
             ],
             [
              0.8888888888888888,
              "#fdca26"
             ],
             [
              1,
              "#f0f921"
             ]
            ],
            "type": "histogram2dcontour"
           }
          ],
          "mesh3d": [
           {
            "colorbar": {
             "outlinewidth": 0,
             "ticks": ""
            },
            "type": "mesh3d"
           }
          ],
          "parcoords": [
           {
            "line": {
             "colorbar": {
              "outlinewidth": 0,
              "ticks": ""
             }
            },
            "type": "parcoords"
           }
          ],
          "pie": [
           {
            "automargin": true,
            "type": "pie"
           }
          ],
          "scatter": [
           {
            "marker": {
             "colorbar": {
              "outlinewidth": 0,
              "ticks": ""
             }
            },
            "type": "scatter"
           }
          ],
          "scatter3d": [
           {
            "line": {
             "colorbar": {
              "outlinewidth": 0,
              "ticks": ""
             }
            },
            "marker": {
             "colorbar": {
              "outlinewidth": 0,
              "ticks": ""
             }
            },
            "type": "scatter3d"
           }
          ],
          "scattercarpet": [
           {
            "marker": {
             "colorbar": {
              "outlinewidth": 0,
              "ticks": ""
             }
            },
            "type": "scattercarpet"
           }
          ],
          "scattergeo": [
           {
            "marker": {
             "colorbar": {
              "outlinewidth": 0,
              "ticks": ""
             }
            },
            "type": "scattergeo"
           }
          ],
          "scattergl": [
           {
            "marker": {
             "colorbar": {
              "outlinewidth": 0,
              "ticks": ""
             }
            },
            "type": "scattergl"
           }
          ],
          "scattermapbox": [
           {
            "marker": {
             "colorbar": {
              "outlinewidth": 0,
              "ticks": ""
             }
            },
            "type": "scattermapbox"
           }
          ],
          "scatterpolar": [
           {
            "marker": {
             "colorbar": {
              "outlinewidth": 0,
              "ticks": ""
             }
            },
            "type": "scatterpolar"
           }
          ],
          "scatterpolargl": [
           {
            "marker": {
             "colorbar": {
              "outlinewidth": 0,
              "ticks": ""
             }
            },
            "type": "scatterpolargl"
           }
          ],
          "scatterternary": [
           {
            "marker": {
             "colorbar": {
              "outlinewidth": 0,
              "ticks": ""
             }
            },
            "type": "scatterternary"
           }
          ],
          "surface": [
           {
            "colorbar": {
             "outlinewidth": 0,
             "ticks": ""
            },
            "colorscale": [
             [
              0,
              "#0d0887"
             ],
             [
              0.1111111111111111,
              "#46039f"
             ],
             [
              0.2222222222222222,
              "#7201a8"
             ],
             [
              0.3333333333333333,
              "#9c179e"
             ],
             [
              0.4444444444444444,
              "#bd3786"
             ],
             [
              0.5555555555555556,
              "#d8576b"
             ],
             [
              0.6666666666666666,
              "#ed7953"
             ],
             [
              0.7777777777777778,
              "#fb9f3a"
             ],
             [
              0.8888888888888888,
              "#fdca26"
             ],
             [
              1,
              "#f0f921"
             ]
            ],
            "type": "surface"
           }
          ],
          "table": [
           {
            "cells": {
             "fill": {
              "color": "#EBF0F8"
             },
             "line": {
              "color": "white"
             }
            },
            "header": {
             "fill": {
              "color": "#C8D4E3"
             },
             "line": {
              "color": "white"
             }
            },
            "type": "table"
           }
          ]
         },
         "layout": {
          "annotationdefaults": {
           "arrowcolor": "#2a3f5f",
           "arrowhead": 0,
           "arrowwidth": 1
          },
          "coloraxis": {
           "colorbar": {
            "outlinewidth": 0,
            "ticks": ""
           }
          },
          "colorscale": {
           "diverging": [
            [
             0,
             "#8e0152"
            ],
            [
             0.1,
             "#c51b7d"
            ],
            [
             0.2,
             "#de77ae"
            ],
            [
             0.3,
             "#f1b6da"
            ],
            [
             0.4,
             "#fde0ef"
            ],
            [
             0.5,
             "#f7f7f7"
            ],
            [
             0.6,
             "#e6f5d0"
            ],
            [
             0.7,
             "#b8e186"
            ],
            [
             0.8,
             "#7fbc41"
            ],
            [
             0.9,
             "#4d9221"
            ],
            [
             1,
             "#276419"
            ]
           ],
           "sequential": [
            [
             0,
             "#0d0887"
            ],
            [
             0.1111111111111111,
             "#46039f"
            ],
            [
             0.2222222222222222,
             "#7201a8"
            ],
            [
             0.3333333333333333,
             "#9c179e"
            ],
            [
             0.4444444444444444,
             "#bd3786"
            ],
            [
             0.5555555555555556,
             "#d8576b"
            ],
            [
             0.6666666666666666,
             "#ed7953"
            ],
            [
             0.7777777777777778,
             "#fb9f3a"
            ],
            [
             0.8888888888888888,
             "#fdca26"
            ],
            [
             1,
             "#f0f921"
            ]
           ],
           "sequentialminus": [
            [
             0,
             "#0d0887"
            ],
            [
             0.1111111111111111,
             "#46039f"
            ],
            [
             0.2222222222222222,
             "#7201a8"
            ],
            [
             0.3333333333333333,
             "#9c179e"
            ],
            [
             0.4444444444444444,
             "#bd3786"
            ],
            [
             0.5555555555555556,
             "#d8576b"
            ],
            [
             0.6666666666666666,
             "#ed7953"
            ],
            [
             0.7777777777777778,
             "#fb9f3a"
            ],
            [
             0.8888888888888888,
             "#fdca26"
            ],
            [
             1,
             "#f0f921"
            ]
           ]
          },
          "colorway": [
           "#636efa",
           "#EF553B",
           "#00cc96",
           "#ab63fa",
           "#FFA15A",
           "#19d3f3",
           "#FF6692",
           "#B6E880",
           "#FF97FF",
           "#FECB52"
          ],
          "font": {
           "color": "#2a3f5f"
          },
          "geo": {
           "bgcolor": "white",
           "lakecolor": "white",
           "landcolor": "#E5ECF6",
           "showlakes": true,
           "showland": true,
           "subunitcolor": "white"
          },
          "hoverlabel": {
           "align": "left"
          },
          "hovermode": "closest",
          "mapbox": {
           "style": "light"
          },
          "paper_bgcolor": "white",
          "plot_bgcolor": "#E5ECF6",
          "polar": {
           "angularaxis": {
            "gridcolor": "white",
            "linecolor": "white",
            "ticks": ""
           },
           "bgcolor": "#E5ECF6",
           "radialaxis": {
            "gridcolor": "white",
            "linecolor": "white",
            "ticks": ""
           }
          },
          "scene": {
           "xaxis": {
            "backgroundcolor": "#E5ECF6",
            "gridcolor": "white",
            "gridwidth": 2,
            "linecolor": "white",
            "showbackground": true,
            "ticks": "",
            "zerolinecolor": "white"
           },
           "yaxis": {
            "backgroundcolor": "#E5ECF6",
            "gridcolor": "white",
            "gridwidth": 2,
            "linecolor": "white",
            "showbackground": true,
            "ticks": "",
            "zerolinecolor": "white"
           },
           "zaxis": {
            "backgroundcolor": "#E5ECF6",
            "gridcolor": "white",
            "gridwidth": 2,
            "linecolor": "white",
            "showbackground": true,
            "ticks": "",
            "zerolinecolor": "white"
           }
          },
          "shapedefaults": {
           "line": {
            "color": "#2a3f5f"
           }
          },
          "ternary": {
           "aaxis": {
            "gridcolor": "white",
            "linecolor": "white",
            "ticks": ""
           },
           "baxis": {
            "gridcolor": "white",
            "linecolor": "white",
            "ticks": ""
           },
           "bgcolor": "#E5ECF6",
           "caxis": {
            "gridcolor": "white",
            "linecolor": "white",
            "ticks": ""
           }
          },
          "title": {
           "x": 0.05
          },
          "xaxis": {
           "automargin": true,
           "gridcolor": "white",
           "linecolor": "white",
           "ticks": "",
           "title": {
            "standoff": 15
           },
           "zerolinecolor": "white",
           "zerolinewidth": 2
          },
          "yaxis": {
           "automargin": true,
           "gridcolor": "white",
           "linecolor": "white",
           "ticks": "",
           "title": {
            "standoff": 15
           },
           "zerolinecolor": "white",
           "zerolinewidth": 2
          }
         }
        },
        "title": {
         "text": "Bigram for Sarcastic News"
        },
        "xaxis": {
         "anchor": "y",
         "domain": [
          0,
          1
         ],
         "title": {
          "text": "Count"
         }
        },
        "yaxis": {
         "anchor": "x",
         "domain": [
          0,
          1
         ],
         "title": {
          "text": "Words"
         }
        }
       }
      },
      "text/html": [
       "<div>                            <div id=\"6a3ab62d-5612-44a2-abf9-3fd75ff036ec\" class=\"plotly-graph-div\" style=\"height:525px; width:100%;\"></div>            <script type=\"text/javascript\">                require([\"plotly\"], function(Plotly) {                    window.PLOTLYENV=window.PLOTLYENV || {};                                    if (document.getElementById(\"6a3ab62d-5612-44a2-abf9-3fd75ff036ec\")) {                    Plotly.newPlot(                        \"6a3ab62d-5612-44a2-abf9-3fd75ff036ec\",                        [{\"alignmentgroup\": \"True\", \"hovertemplate\": \"Count=%{x}<br>Words=%{y}<extra></extra>\", \"legendgroup\": \"\", \"marker\": {\"color\": \"#FF8500\"}, \"name\": \"\", \"offsetgroup\": \"\", \"orientation\": \"h\", \"showlegend\": false, \"textposition\": \"auto\", \"type\": \"bar\", \"x\": [520, 380, 226, 223, 131, 101, 98, 94, 84, 83], \"xaxis\": \"x\", \"y\": [\"area man\", \"year old\", \"study find\", \"white house\", \"introduce new\", \"high school\", \"area woman\", \"announce plan\", \"new study\", \"supreme court\"], \"yaxis\": \"y\"}],                        {\"barmode\": \"relative\", \"legend\": {\"tracegroupgap\": 0}, \"margin\": {\"t\": 60}, \"paper_bgcolor\": \"white\", \"plot_bgcolor\": \"white\", \"template\": {\"data\": {\"bar\": [{\"error_x\": {\"color\": \"#2a3f5f\"}, \"error_y\": {\"color\": \"#2a3f5f\"}, \"marker\": {\"line\": {\"color\": \"#E5ECF6\", \"width\": 0.5}}, \"type\": \"bar\"}], \"barpolar\": [{\"marker\": {\"line\": {\"color\": \"#E5ECF6\", \"width\": 0.5}}, \"type\": \"barpolar\"}], \"carpet\": [{\"aaxis\": {\"endlinecolor\": \"#2a3f5f\", \"gridcolor\": \"white\", \"linecolor\": \"white\", \"minorgridcolor\": \"white\", \"startlinecolor\": \"#2a3f5f\"}, \"baxis\": {\"endlinecolor\": \"#2a3f5f\", \"gridcolor\": \"white\", \"linecolor\": \"white\", \"minorgridcolor\": \"white\", \"startlinecolor\": \"#2a3f5f\"}, \"type\": \"carpet\"}], \"choropleth\": [{\"colorbar\": {\"outlinewidth\": 0, \"ticks\": \"\"}, \"type\": \"choropleth\"}], \"contour\": [{\"colorbar\": {\"outlinewidth\": 0, \"ticks\": \"\"}, \"colorscale\": [[0.0, \"#0d0887\"], [0.1111111111111111, \"#46039f\"], [0.2222222222222222, \"#7201a8\"], [0.3333333333333333, \"#9c179e\"], [0.4444444444444444, \"#bd3786\"], [0.5555555555555556, \"#d8576b\"], [0.6666666666666666, \"#ed7953\"], [0.7777777777777778, \"#fb9f3a\"], [0.8888888888888888, \"#fdca26\"], [1.0, \"#f0f921\"]], \"type\": \"contour\"}], \"contourcarpet\": [{\"colorbar\": {\"outlinewidth\": 0, \"ticks\": \"\"}, \"type\": \"contourcarpet\"}], \"heatmap\": [{\"colorbar\": {\"outlinewidth\": 0, \"ticks\": \"\"}, \"colorscale\": [[0.0, \"#0d0887\"], [0.1111111111111111, \"#46039f\"], [0.2222222222222222, \"#7201a8\"], [0.3333333333333333, \"#9c179e\"], [0.4444444444444444, \"#bd3786\"], [0.5555555555555556, \"#d8576b\"], [0.6666666666666666, \"#ed7953\"], [0.7777777777777778, \"#fb9f3a\"], [0.8888888888888888, \"#fdca26\"], [1.0, \"#f0f921\"]], \"type\": \"heatmap\"}], \"heatmapgl\": [{\"colorbar\": {\"outlinewidth\": 0, \"ticks\": \"\"}, \"colorscale\": [[0.0, \"#0d0887\"], [0.1111111111111111, \"#46039f\"], [0.2222222222222222, \"#7201a8\"], [0.3333333333333333, \"#9c179e\"], [0.4444444444444444, \"#bd3786\"], [0.5555555555555556, \"#d8576b\"], [0.6666666666666666, \"#ed7953\"], [0.7777777777777778, \"#fb9f3a\"], [0.8888888888888888, \"#fdca26\"], [1.0, \"#f0f921\"]], \"type\": \"heatmapgl\"}], \"histogram\": [{\"marker\": {\"colorbar\": {\"outlinewidth\": 0, \"ticks\": \"\"}}, \"type\": \"histogram\"}], \"histogram2d\": [{\"colorbar\": {\"outlinewidth\": 0, \"ticks\": \"\"}, \"colorscale\": [[0.0, \"#0d0887\"], [0.1111111111111111, \"#46039f\"], [0.2222222222222222, \"#7201a8\"], [0.3333333333333333, \"#9c179e\"], [0.4444444444444444, \"#bd3786\"], [0.5555555555555556, \"#d8576b\"], [0.6666666666666666, \"#ed7953\"], [0.7777777777777778, \"#fb9f3a\"], [0.8888888888888888, \"#fdca26\"], [1.0, \"#f0f921\"]], \"type\": \"histogram2d\"}], \"histogram2dcontour\": [{\"colorbar\": {\"outlinewidth\": 0, \"ticks\": \"\"}, \"colorscale\": [[0.0, \"#0d0887\"], [0.1111111111111111, \"#46039f\"], [0.2222222222222222, \"#7201a8\"], [0.3333333333333333, \"#9c179e\"], [0.4444444444444444, \"#bd3786\"], [0.5555555555555556, \"#d8576b\"], [0.6666666666666666, \"#ed7953\"], [0.7777777777777778, \"#fb9f3a\"], [0.8888888888888888, \"#fdca26\"], [1.0, \"#f0f921\"]], \"type\": \"histogram2dcontour\"}], \"mesh3d\": [{\"colorbar\": {\"outlinewidth\": 0, \"ticks\": \"\"}, \"type\": \"mesh3d\"}], \"parcoords\": [{\"line\": {\"colorbar\": {\"outlinewidth\": 0, \"ticks\": \"\"}}, \"type\": \"parcoords\"}], \"pie\": [{\"automargin\": true, \"type\": \"pie\"}], \"scatter\": [{\"marker\": {\"colorbar\": {\"outlinewidth\": 0, \"ticks\": \"\"}}, \"type\": \"scatter\"}], \"scatter3d\": [{\"line\": {\"colorbar\": {\"outlinewidth\": 0, \"ticks\": \"\"}}, \"marker\": {\"colorbar\": {\"outlinewidth\": 0, \"ticks\": \"\"}}, \"type\": \"scatter3d\"}], \"scattercarpet\": [{\"marker\": {\"colorbar\": {\"outlinewidth\": 0, \"ticks\": \"\"}}, \"type\": \"scattercarpet\"}], \"scattergeo\": [{\"marker\": {\"colorbar\": {\"outlinewidth\": 0, \"ticks\": \"\"}}, \"type\": \"scattergeo\"}], \"scattergl\": [{\"marker\": {\"colorbar\": {\"outlinewidth\": 0, \"ticks\": \"\"}}, \"type\": \"scattergl\"}], \"scattermapbox\": [{\"marker\": {\"colorbar\": {\"outlinewidth\": 0, \"ticks\": \"\"}}, \"type\": \"scattermapbox\"}], \"scatterpolar\": [{\"marker\": {\"colorbar\": {\"outlinewidth\": 0, \"ticks\": \"\"}}, \"type\": \"scatterpolar\"}], \"scatterpolargl\": [{\"marker\": {\"colorbar\": {\"outlinewidth\": 0, \"ticks\": \"\"}}, \"type\": \"scatterpolargl\"}], \"scatterternary\": [{\"marker\": {\"colorbar\": {\"outlinewidth\": 0, \"ticks\": \"\"}}, \"type\": \"scatterternary\"}], \"surface\": [{\"colorbar\": {\"outlinewidth\": 0, \"ticks\": \"\"}, \"colorscale\": [[0.0, \"#0d0887\"], [0.1111111111111111, \"#46039f\"], [0.2222222222222222, \"#7201a8\"], [0.3333333333333333, \"#9c179e\"], [0.4444444444444444, \"#bd3786\"], [0.5555555555555556, \"#d8576b\"], [0.6666666666666666, \"#ed7953\"], [0.7777777777777778, \"#fb9f3a\"], [0.8888888888888888, \"#fdca26\"], [1.0, \"#f0f921\"]], \"type\": \"surface\"}], \"table\": [{\"cells\": {\"fill\": {\"color\": \"#EBF0F8\"}, \"line\": {\"color\": \"white\"}}, \"header\": {\"fill\": {\"color\": \"#C8D4E3\"}, \"line\": {\"color\": \"white\"}}, \"type\": \"table\"}]}, \"layout\": {\"annotationdefaults\": {\"arrowcolor\": \"#2a3f5f\", \"arrowhead\": 0, \"arrowwidth\": 1}, \"coloraxis\": {\"colorbar\": {\"outlinewidth\": 0, \"ticks\": \"\"}}, \"colorscale\": {\"diverging\": [[0, \"#8e0152\"], [0.1, \"#c51b7d\"], [0.2, \"#de77ae\"], [0.3, \"#f1b6da\"], [0.4, \"#fde0ef\"], [0.5, \"#f7f7f7\"], [0.6, \"#e6f5d0\"], [0.7, \"#b8e186\"], [0.8, \"#7fbc41\"], [0.9, \"#4d9221\"], [1, \"#276419\"]], \"sequential\": [[0.0, \"#0d0887\"], [0.1111111111111111, \"#46039f\"], [0.2222222222222222, \"#7201a8\"], [0.3333333333333333, \"#9c179e\"], [0.4444444444444444, \"#bd3786\"], [0.5555555555555556, \"#d8576b\"], [0.6666666666666666, \"#ed7953\"], [0.7777777777777778, \"#fb9f3a\"], [0.8888888888888888, \"#fdca26\"], [1.0, \"#f0f921\"]], \"sequentialminus\": [[0.0, \"#0d0887\"], [0.1111111111111111, \"#46039f\"], [0.2222222222222222, \"#7201a8\"], [0.3333333333333333, \"#9c179e\"], [0.4444444444444444, \"#bd3786\"], [0.5555555555555556, \"#d8576b\"], [0.6666666666666666, \"#ed7953\"], [0.7777777777777778, \"#fb9f3a\"], [0.8888888888888888, \"#fdca26\"], [1.0, \"#f0f921\"]]}, \"colorway\": [\"#636efa\", \"#EF553B\", \"#00cc96\", \"#ab63fa\", \"#FFA15A\", \"#19d3f3\", \"#FF6692\", \"#B6E880\", \"#FF97FF\", \"#FECB52\"], \"font\": {\"color\": \"#2a3f5f\"}, \"geo\": {\"bgcolor\": \"white\", \"lakecolor\": \"white\", \"landcolor\": \"#E5ECF6\", \"showlakes\": true, \"showland\": true, \"subunitcolor\": \"white\"}, \"hoverlabel\": {\"align\": \"left\"}, \"hovermode\": \"closest\", \"mapbox\": {\"style\": \"light\"}, \"paper_bgcolor\": \"white\", \"plot_bgcolor\": \"#E5ECF6\", \"polar\": {\"angularaxis\": {\"gridcolor\": \"white\", \"linecolor\": \"white\", \"ticks\": \"\"}, \"bgcolor\": \"#E5ECF6\", \"radialaxis\": {\"gridcolor\": \"white\", \"linecolor\": \"white\", \"ticks\": \"\"}}, \"scene\": {\"xaxis\": {\"backgroundcolor\": \"#E5ECF6\", \"gridcolor\": \"white\", \"gridwidth\": 2, \"linecolor\": \"white\", \"showbackground\": true, \"ticks\": \"\", \"zerolinecolor\": \"white\"}, \"yaxis\": {\"backgroundcolor\": \"#E5ECF6\", \"gridcolor\": \"white\", \"gridwidth\": 2, \"linecolor\": \"white\", \"showbackground\": true, \"ticks\": \"\", \"zerolinecolor\": \"white\"}, \"zaxis\": {\"backgroundcolor\": \"#E5ECF6\", \"gridcolor\": \"white\", \"gridwidth\": 2, \"linecolor\": \"white\", \"showbackground\": true, \"ticks\": \"\", \"zerolinecolor\": \"white\"}}, \"shapedefaults\": {\"line\": {\"color\": \"#2a3f5f\"}}, \"ternary\": {\"aaxis\": {\"gridcolor\": \"white\", \"linecolor\": \"white\", \"ticks\": \"\"}, \"baxis\": {\"gridcolor\": \"white\", \"linecolor\": \"white\", \"ticks\": \"\"}, \"bgcolor\": \"#E5ECF6\", \"caxis\": {\"gridcolor\": \"white\", \"linecolor\": \"white\", \"ticks\": \"\"}}, \"title\": {\"x\": 0.05}, \"xaxis\": {\"automargin\": true, \"gridcolor\": \"white\", \"linecolor\": \"white\", \"ticks\": \"\", \"title\": {\"standoff\": 15}, \"zerolinecolor\": \"white\", \"zerolinewidth\": 2}, \"yaxis\": {\"automargin\": true, \"gridcolor\": \"white\", \"linecolor\": \"white\", \"ticks\": \"\", \"title\": {\"standoff\": 15}, \"zerolinecolor\": \"white\", \"zerolinewidth\": 2}}}, \"title\": {\"text\": \"Bigram for Sarcastic News\"}, \"xaxis\": {\"anchor\": \"y\", \"domain\": [0.0, 1.0], \"title\": {\"text\": \"Count\"}}, \"yaxis\": {\"anchor\": \"x\", \"domain\": [0.0, 1.0], \"title\": {\"text\": \"Words\"}}},                        {\"responsive\": true}                    ).then(function(){\n",
       "                            \n",
       "var gd = document.getElementById('6a3ab62d-5612-44a2-abf9-3fd75ff036ec');\n",
       "var x = new MutationObserver(function (mutations, observer) {{\n",
       "        var display = window.getComputedStyle(gd).display;\n",
       "        if (!display || display === 'none') {{\n",
       "            console.log([gd, 'removed!']);\n",
       "            Plotly.purge(gd);\n",
       "            observer.disconnect();\n",
       "        }}\n",
       "}});\n",
       "\n",
       "// Listen for the removal of the full notebook cells\n",
       "var notebookContainer = gd.closest('#notebook-container');\n",
       "if (notebookContainer) {{\n",
       "    x.observe(notebookContainer, {childList: true});\n",
       "}}\n",
       "\n",
       "// Listen for the clearing of the current output cell\n",
       "var outputEl = gd.closest('.output');\n",
       "if (outputEl) {{\n",
       "    x.observe(outputEl, {childList: true});\n",
       "}}\n",
       "\n",
       "                        })                };                });            </script>        </div>"
      ]
     },
     "metadata": {},
     "output_type": "display_data"
    },
    {
     "data": {
      "text/plain": [
       "<Figure size 1152x648 with 0 Axes>"
      ]
     },
     "metadata": {},
     "output_type": "display_data"
    }
   ],
   "source": [
    "plt.figure(figsize = (16,9))\n",
    "most_common_uni = get_top_text_ngrams(data_sar.headline,10,2)\n",
    "most_common_uni = dict(most_common_uni)\n",
    "fig = px.bar(x = list(most_common_uni.values()), y = list(most_common_uni.keys()), labels=dict(x=\"Count\", y=\"Words\"))\n",
    "fig.update_traces(marker_color='#FF8500')\n",
    "fig.update_layout(title_text='Bigram for Sarcastic News', paper_bgcolor = 'white', plot_bgcolor = 'white')\n",
    "fig.show()"
   ]
  },
  {
   "cell_type": "code",
   "execution_count": 44,
   "metadata": {},
   "outputs": [
    {
     "data": {
      "application/vnd.plotly.v1+json": {
       "config": {
        "plotlyServerURL": "https://plot.ly"
       },
       "data": [
        {
         "alignmentgroup": "True",
         "hovertemplate": "Count=%{x}<br>Words=%{y}<extra></extra>",
         "legendgroup": "",
         "marker": {
          "color": "#FF8500"
         },
         "name": "",
         "offsetgroup": "",
         "orientation": "h",
         "showlegend": false,
         "textposition": "auto",
         "type": "bar",
         "x": [
          68,
          28,
          26,
          21,
          20,
          19,
          16,
          16,
          16,
          15
         ],
         "xaxis": "x",
         "y": [
          "new study find",
          "kim jong un",
          "new york times",
          "poll find americans",
          "nation regularly happen",
          "new report find",
          "study find human",
          "study find americans",
          "secret service agent",
          "report average american"
         ],
         "yaxis": "y"
        }
       ],
       "layout": {
        "barmode": "relative",
        "legend": {
         "tracegroupgap": 0
        },
        "margin": {
         "t": 60
        },
        "paper_bgcolor": "white",
        "plot_bgcolor": "white",
        "template": {
         "data": {
          "bar": [
           {
            "error_x": {
             "color": "#2a3f5f"
            },
            "error_y": {
             "color": "#2a3f5f"
            },
            "marker": {
             "line": {
              "color": "#E5ECF6",
              "width": 0.5
             }
            },
            "type": "bar"
           }
          ],
          "barpolar": [
           {
            "marker": {
             "line": {
              "color": "#E5ECF6",
              "width": 0.5
             }
            },
            "type": "barpolar"
           }
          ],
          "carpet": [
           {
            "aaxis": {
             "endlinecolor": "#2a3f5f",
             "gridcolor": "white",
             "linecolor": "white",
             "minorgridcolor": "white",
             "startlinecolor": "#2a3f5f"
            },
            "baxis": {
             "endlinecolor": "#2a3f5f",
             "gridcolor": "white",
             "linecolor": "white",
             "minorgridcolor": "white",
             "startlinecolor": "#2a3f5f"
            },
            "type": "carpet"
           }
          ],
          "choropleth": [
           {
            "colorbar": {
             "outlinewidth": 0,
             "ticks": ""
            },
            "type": "choropleth"
           }
          ],
          "contour": [
           {
            "colorbar": {
             "outlinewidth": 0,
             "ticks": ""
            },
            "colorscale": [
             [
              0,
              "#0d0887"
             ],
             [
              0.1111111111111111,
              "#46039f"
             ],
             [
              0.2222222222222222,
              "#7201a8"
             ],
             [
              0.3333333333333333,
              "#9c179e"
             ],
             [
              0.4444444444444444,
              "#bd3786"
             ],
             [
              0.5555555555555556,
              "#d8576b"
             ],
             [
              0.6666666666666666,
              "#ed7953"
             ],
             [
              0.7777777777777778,
              "#fb9f3a"
             ],
             [
              0.8888888888888888,
              "#fdca26"
             ],
             [
              1,
              "#f0f921"
             ]
            ],
            "type": "contour"
           }
          ],
          "contourcarpet": [
           {
            "colorbar": {
             "outlinewidth": 0,
             "ticks": ""
            },
            "type": "contourcarpet"
           }
          ],
          "heatmap": [
           {
            "colorbar": {
             "outlinewidth": 0,
             "ticks": ""
            },
            "colorscale": [
             [
              0,
              "#0d0887"
             ],
             [
              0.1111111111111111,
              "#46039f"
             ],
             [
              0.2222222222222222,
              "#7201a8"
             ],
             [
              0.3333333333333333,
              "#9c179e"
             ],
             [
              0.4444444444444444,
              "#bd3786"
             ],
             [
              0.5555555555555556,
              "#d8576b"
             ],
             [
              0.6666666666666666,
              "#ed7953"
             ],
             [
              0.7777777777777778,
              "#fb9f3a"
             ],
             [
              0.8888888888888888,
              "#fdca26"
             ],
             [
              1,
              "#f0f921"
             ]
            ],
            "type": "heatmap"
           }
          ],
          "heatmapgl": [
           {
            "colorbar": {
             "outlinewidth": 0,
             "ticks": ""
            },
            "colorscale": [
             [
              0,
              "#0d0887"
             ],
             [
              0.1111111111111111,
              "#46039f"
             ],
             [
              0.2222222222222222,
              "#7201a8"
             ],
             [
              0.3333333333333333,
              "#9c179e"
             ],
             [
              0.4444444444444444,
              "#bd3786"
             ],
             [
              0.5555555555555556,
              "#d8576b"
             ],
             [
              0.6666666666666666,
              "#ed7953"
             ],
             [
              0.7777777777777778,
              "#fb9f3a"
             ],
             [
              0.8888888888888888,
              "#fdca26"
             ],
             [
              1,
              "#f0f921"
             ]
            ],
            "type": "heatmapgl"
           }
          ],
          "histogram": [
           {
            "marker": {
             "colorbar": {
              "outlinewidth": 0,
              "ticks": ""
             }
            },
            "type": "histogram"
           }
          ],
          "histogram2d": [
           {
            "colorbar": {
             "outlinewidth": 0,
             "ticks": ""
            },
            "colorscale": [
             [
              0,
              "#0d0887"
             ],
             [
              0.1111111111111111,
              "#46039f"
             ],
             [
              0.2222222222222222,
              "#7201a8"
             ],
             [
              0.3333333333333333,
              "#9c179e"
             ],
             [
              0.4444444444444444,
              "#bd3786"
             ],
             [
              0.5555555555555556,
              "#d8576b"
             ],
             [
              0.6666666666666666,
              "#ed7953"
             ],
             [
              0.7777777777777778,
              "#fb9f3a"
             ],
             [
              0.8888888888888888,
              "#fdca26"
             ],
             [
              1,
              "#f0f921"
             ]
            ],
            "type": "histogram2d"
           }
          ],
          "histogram2dcontour": [
           {
            "colorbar": {
             "outlinewidth": 0,
             "ticks": ""
            },
            "colorscale": [
             [
              0,
              "#0d0887"
             ],
             [
              0.1111111111111111,
              "#46039f"
             ],
             [
              0.2222222222222222,
              "#7201a8"
             ],
             [
              0.3333333333333333,
              "#9c179e"
             ],
             [
              0.4444444444444444,
              "#bd3786"
             ],
             [
              0.5555555555555556,
              "#d8576b"
             ],
             [
              0.6666666666666666,
              "#ed7953"
             ],
             [
              0.7777777777777778,
              "#fb9f3a"
             ],
             [
              0.8888888888888888,
              "#fdca26"
             ],
             [
              1,
              "#f0f921"
             ]
            ],
            "type": "histogram2dcontour"
           }
          ],
          "mesh3d": [
           {
            "colorbar": {
             "outlinewidth": 0,
             "ticks": ""
            },
            "type": "mesh3d"
           }
          ],
          "parcoords": [
           {
            "line": {
             "colorbar": {
              "outlinewidth": 0,
              "ticks": ""
             }
            },
            "type": "parcoords"
           }
          ],
          "pie": [
           {
            "automargin": true,
            "type": "pie"
           }
          ],
          "scatter": [
           {
            "marker": {
             "colorbar": {
              "outlinewidth": 0,
              "ticks": ""
             }
            },
            "type": "scatter"
           }
          ],
          "scatter3d": [
           {
            "line": {
             "colorbar": {
              "outlinewidth": 0,
              "ticks": ""
             }
            },
            "marker": {
             "colorbar": {
              "outlinewidth": 0,
              "ticks": ""
             }
            },
            "type": "scatter3d"
           }
          ],
          "scattercarpet": [
           {
            "marker": {
             "colorbar": {
              "outlinewidth": 0,
              "ticks": ""
             }
            },
            "type": "scattercarpet"
           }
          ],
          "scattergeo": [
           {
            "marker": {
             "colorbar": {
              "outlinewidth": 0,
              "ticks": ""
             }
            },
            "type": "scattergeo"
           }
          ],
          "scattergl": [
           {
            "marker": {
             "colorbar": {
              "outlinewidth": 0,
              "ticks": ""
             }
            },
            "type": "scattergl"
           }
          ],
          "scattermapbox": [
           {
            "marker": {
             "colorbar": {
              "outlinewidth": 0,
              "ticks": ""
             }
            },
            "type": "scattermapbox"
           }
          ],
          "scatterpolar": [
           {
            "marker": {
             "colorbar": {
              "outlinewidth": 0,
              "ticks": ""
             }
            },
            "type": "scatterpolar"
           }
          ],
          "scatterpolargl": [
           {
            "marker": {
             "colorbar": {
              "outlinewidth": 0,
              "ticks": ""
             }
            },
            "type": "scatterpolargl"
           }
          ],
          "scatterternary": [
           {
            "marker": {
             "colorbar": {
              "outlinewidth": 0,
              "ticks": ""
             }
            },
            "type": "scatterternary"
           }
          ],
          "surface": [
           {
            "colorbar": {
             "outlinewidth": 0,
             "ticks": ""
            },
            "colorscale": [
             [
              0,
              "#0d0887"
             ],
             [
              0.1111111111111111,
              "#46039f"
             ],
             [
              0.2222222222222222,
              "#7201a8"
             ],
             [
              0.3333333333333333,
              "#9c179e"
             ],
             [
              0.4444444444444444,
              "#bd3786"
             ],
             [
              0.5555555555555556,
              "#d8576b"
             ],
             [
              0.6666666666666666,
              "#ed7953"
             ],
             [
              0.7777777777777778,
              "#fb9f3a"
             ],
             [
              0.8888888888888888,
              "#fdca26"
             ],
             [
              1,
              "#f0f921"
             ]
            ],
            "type": "surface"
           }
          ],
          "table": [
           {
            "cells": {
             "fill": {
              "color": "#EBF0F8"
             },
             "line": {
              "color": "white"
             }
            },
            "header": {
             "fill": {
              "color": "#C8D4E3"
             },
             "line": {
              "color": "white"
             }
            },
            "type": "table"
           }
          ]
         },
         "layout": {
          "annotationdefaults": {
           "arrowcolor": "#2a3f5f",
           "arrowhead": 0,
           "arrowwidth": 1
          },
          "coloraxis": {
           "colorbar": {
            "outlinewidth": 0,
            "ticks": ""
           }
          },
          "colorscale": {
           "diverging": [
            [
             0,
             "#8e0152"
            ],
            [
             0.1,
             "#c51b7d"
            ],
            [
             0.2,
             "#de77ae"
            ],
            [
             0.3,
             "#f1b6da"
            ],
            [
             0.4,
             "#fde0ef"
            ],
            [
             0.5,
             "#f7f7f7"
            ],
            [
             0.6,
             "#e6f5d0"
            ],
            [
             0.7,
             "#b8e186"
            ],
            [
             0.8,
             "#7fbc41"
            ],
            [
             0.9,
             "#4d9221"
            ],
            [
             1,
             "#276419"
            ]
           ],
           "sequential": [
            [
             0,
             "#0d0887"
            ],
            [
             0.1111111111111111,
             "#46039f"
            ],
            [
             0.2222222222222222,
             "#7201a8"
            ],
            [
             0.3333333333333333,
             "#9c179e"
            ],
            [
             0.4444444444444444,
             "#bd3786"
            ],
            [
             0.5555555555555556,
             "#d8576b"
            ],
            [
             0.6666666666666666,
             "#ed7953"
            ],
            [
             0.7777777777777778,
             "#fb9f3a"
            ],
            [
             0.8888888888888888,
             "#fdca26"
            ],
            [
             1,
             "#f0f921"
            ]
           ],
           "sequentialminus": [
            [
             0,
             "#0d0887"
            ],
            [
             0.1111111111111111,
             "#46039f"
            ],
            [
             0.2222222222222222,
             "#7201a8"
            ],
            [
             0.3333333333333333,
             "#9c179e"
            ],
            [
             0.4444444444444444,
             "#bd3786"
            ],
            [
             0.5555555555555556,
             "#d8576b"
            ],
            [
             0.6666666666666666,
             "#ed7953"
            ],
            [
             0.7777777777777778,
             "#fb9f3a"
            ],
            [
             0.8888888888888888,
             "#fdca26"
            ],
            [
             1,
             "#f0f921"
            ]
           ]
          },
          "colorway": [
           "#636efa",
           "#EF553B",
           "#00cc96",
           "#ab63fa",
           "#FFA15A",
           "#19d3f3",
           "#FF6692",
           "#B6E880",
           "#FF97FF",
           "#FECB52"
          ],
          "font": {
           "color": "#2a3f5f"
          },
          "geo": {
           "bgcolor": "white",
           "lakecolor": "white",
           "landcolor": "#E5ECF6",
           "showlakes": true,
           "showland": true,
           "subunitcolor": "white"
          },
          "hoverlabel": {
           "align": "left"
          },
          "hovermode": "closest",
          "mapbox": {
           "style": "light"
          },
          "paper_bgcolor": "white",
          "plot_bgcolor": "#E5ECF6",
          "polar": {
           "angularaxis": {
            "gridcolor": "white",
            "linecolor": "white",
            "ticks": ""
           },
           "bgcolor": "#E5ECF6",
           "radialaxis": {
            "gridcolor": "white",
            "linecolor": "white",
            "ticks": ""
           }
          },
          "scene": {
           "xaxis": {
            "backgroundcolor": "#E5ECF6",
            "gridcolor": "white",
            "gridwidth": 2,
            "linecolor": "white",
            "showbackground": true,
            "ticks": "",
            "zerolinecolor": "white"
           },
           "yaxis": {
            "backgroundcolor": "#E5ECF6",
            "gridcolor": "white",
            "gridwidth": 2,
            "linecolor": "white",
            "showbackground": true,
            "ticks": "",
            "zerolinecolor": "white"
           },
           "zaxis": {
            "backgroundcolor": "#E5ECF6",
            "gridcolor": "white",
            "gridwidth": 2,
            "linecolor": "white",
            "showbackground": true,
            "ticks": "",
            "zerolinecolor": "white"
           }
          },
          "shapedefaults": {
           "line": {
            "color": "#2a3f5f"
           }
          },
          "ternary": {
           "aaxis": {
            "gridcolor": "white",
            "linecolor": "white",
            "ticks": ""
           },
           "baxis": {
            "gridcolor": "white",
            "linecolor": "white",
            "ticks": ""
           },
           "bgcolor": "#E5ECF6",
           "caxis": {
            "gridcolor": "white",
            "linecolor": "white",
            "ticks": ""
           }
          },
          "title": {
           "x": 0.05
          },
          "xaxis": {
           "automargin": true,
           "gridcolor": "white",
           "linecolor": "white",
           "ticks": "",
           "title": {
            "standoff": 15
           },
           "zerolinecolor": "white",
           "zerolinewidth": 2
          },
          "yaxis": {
           "automargin": true,
           "gridcolor": "white",
           "linecolor": "white",
           "ticks": "",
           "title": {
            "standoff": 15
           },
           "zerolinecolor": "white",
           "zerolinewidth": 2
          }
         }
        },
        "title": {
         "text": "Trigram for Sarcastic News"
        },
        "xaxis": {
         "anchor": "y",
         "domain": [
          0,
          1
         ],
         "title": {
          "text": "Count"
         }
        },
        "yaxis": {
         "anchor": "x",
         "domain": [
          0,
          1
         ],
         "title": {
          "text": "Words"
         }
        }
       }
      },
      "text/html": [
       "<div>                            <div id=\"52a23e16-0e93-4302-918c-e4dab8de7c1f\" class=\"plotly-graph-div\" style=\"height:525px; width:100%;\"></div>            <script type=\"text/javascript\">                require([\"plotly\"], function(Plotly) {                    window.PLOTLYENV=window.PLOTLYENV || {};                                    if (document.getElementById(\"52a23e16-0e93-4302-918c-e4dab8de7c1f\")) {                    Plotly.newPlot(                        \"52a23e16-0e93-4302-918c-e4dab8de7c1f\",                        [{\"alignmentgroup\": \"True\", \"hovertemplate\": \"Count=%{x}<br>Words=%{y}<extra></extra>\", \"legendgroup\": \"\", \"marker\": {\"color\": \"#FF8500\"}, \"name\": \"\", \"offsetgroup\": \"\", \"orientation\": \"h\", \"showlegend\": false, \"textposition\": \"auto\", \"type\": \"bar\", \"x\": [68, 28, 26, 21, 20, 19, 16, 16, 16, 15], \"xaxis\": \"x\", \"y\": [\"new study find\", \"kim jong un\", \"new york times\", \"poll find americans\", \"nation regularly happen\", \"new report find\", \"study find human\", \"study find americans\", \"secret service agent\", \"report average american\"], \"yaxis\": \"y\"}],                        {\"barmode\": \"relative\", \"legend\": {\"tracegroupgap\": 0}, \"margin\": {\"t\": 60}, \"paper_bgcolor\": \"white\", \"plot_bgcolor\": \"white\", \"template\": {\"data\": {\"bar\": [{\"error_x\": {\"color\": \"#2a3f5f\"}, \"error_y\": {\"color\": \"#2a3f5f\"}, \"marker\": {\"line\": {\"color\": \"#E5ECF6\", \"width\": 0.5}}, \"type\": \"bar\"}], \"barpolar\": [{\"marker\": {\"line\": {\"color\": \"#E5ECF6\", \"width\": 0.5}}, \"type\": \"barpolar\"}], \"carpet\": [{\"aaxis\": {\"endlinecolor\": \"#2a3f5f\", \"gridcolor\": \"white\", \"linecolor\": \"white\", \"minorgridcolor\": \"white\", \"startlinecolor\": \"#2a3f5f\"}, \"baxis\": {\"endlinecolor\": \"#2a3f5f\", \"gridcolor\": \"white\", \"linecolor\": \"white\", \"minorgridcolor\": \"white\", \"startlinecolor\": \"#2a3f5f\"}, \"type\": \"carpet\"}], \"choropleth\": [{\"colorbar\": {\"outlinewidth\": 0, \"ticks\": \"\"}, \"type\": \"choropleth\"}], \"contour\": [{\"colorbar\": {\"outlinewidth\": 0, \"ticks\": \"\"}, \"colorscale\": [[0.0, \"#0d0887\"], [0.1111111111111111, \"#46039f\"], [0.2222222222222222, \"#7201a8\"], [0.3333333333333333, \"#9c179e\"], [0.4444444444444444, \"#bd3786\"], [0.5555555555555556, \"#d8576b\"], [0.6666666666666666, \"#ed7953\"], [0.7777777777777778, \"#fb9f3a\"], [0.8888888888888888, \"#fdca26\"], [1.0, \"#f0f921\"]], \"type\": \"contour\"}], \"contourcarpet\": [{\"colorbar\": {\"outlinewidth\": 0, \"ticks\": \"\"}, \"type\": \"contourcarpet\"}], \"heatmap\": [{\"colorbar\": {\"outlinewidth\": 0, \"ticks\": \"\"}, \"colorscale\": [[0.0, \"#0d0887\"], [0.1111111111111111, \"#46039f\"], [0.2222222222222222, \"#7201a8\"], [0.3333333333333333, \"#9c179e\"], [0.4444444444444444, \"#bd3786\"], [0.5555555555555556, \"#d8576b\"], [0.6666666666666666, \"#ed7953\"], [0.7777777777777778, \"#fb9f3a\"], [0.8888888888888888, \"#fdca26\"], [1.0, \"#f0f921\"]], \"type\": \"heatmap\"}], \"heatmapgl\": [{\"colorbar\": {\"outlinewidth\": 0, \"ticks\": \"\"}, \"colorscale\": [[0.0, \"#0d0887\"], [0.1111111111111111, \"#46039f\"], [0.2222222222222222, \"#7201a8\"], [0.3333333333333333, \"#9c179e\"], [0.4444444444444444, \"#bd3786\"], [0.5555555555555556, \"#d8576b\"], [0.6666666666666666, \"#ed7953\"], [0.7777777777777778, \"#fb9f3a\"], [0.8888888888888888, \"#fdca26\"], [1.0, \"#f0f921\"]], \"type\": \"heatmapgl\"}], \"histogram\": [{\"marker\": {\"colorbar\": {\"outlinewidth\": 0, \"ticks\": \"\"}}, \"type\": \"histogram\"}], \"histogram2d\": [{\"colorbar\": {\"outlinewidth\": 0, \"ticks\": \"\"}, \"colorscale\": [[0.0, \"#0d0887\"], [0.1111111111111111, \"#46039f\"], [0.2222222222222222, \"#7201a8\"], [0.3333333333333333, \"#9c179e\"], [0.4444444444444444, \"#bd3786\"], [0.5555555555555556, \"#d8576b\"], [0.6666666666666666, \"#ed7953\"], [0.7777777777777778, \"#fb9f3a\"], [0.8888888888888888, \"#fdca26\"], [1.0, \"#f0f921\"]], \"type\": \"histogram2d\"}], \"histogram2dcontour\": [{\"colorbar\": {\"outlinewidth\": 0, \"ticks\": \"\"}, \"colorscale\": [[0.0, \"#0d0887\"], [0.1111111111111111, \"#46039f\"], [0.2222222222222222, \"#7201a8\"], [0.3333333333333333, \"#9c179e\"], [0.4444444444444444, \"#bd3786\"], [0.5555555555555556, \"#d8576b\"], [0.6666666666666666, \"#ed7953\"], [0.7777777777777778, \"#fb9f3a\"], [0.8888888888888888, \"#fdca26\"], [1.0, \"#f0f921\"]], \"type\": \"histogram2dcontour\"}], \"mesh3d\": [{\"colorbar\": {\"outlinewidth\": 0, \"ticks\": \"\"}, \"type\": \"mesh3d\"}], \"parcoords\": [{\"line\": {\"colorbar\": {\"outlinewidth\": 0, \"ticks\": \"\"}}, \"type\": \"parcoords\"}], \"pie\": [{\"automargin\": true, \"type\": \"pie\"}], \"scatter\": [{\"marker\": {\"colorbar\": {\"outlinewidth\": 0, \"ticks\": \"\"}}, \"type\": \"scatter\"}], \"scatter3d\": [{\"line\": {\"colorbar\": {\"outlinewidth\": 0, \"ticks\": \"\"}}, \"marker\": {\"colorbar\": {\"outlinewidth\": 0, \"ticks\": \"\"}}, \"type\": \"scatter3d\"}], \"scattercarpet\": [{\"marker\": {\"colorbar\": {\"outlinewidth\": 0, \"ticks\": \"\"}}, \"type\": \"scattercarpet\"}], \"scattergeo\": [{\"marker\": {\"colorbar\": {\"outlinewidth\": 0, \"ticks\": \"\"}}, \"type\": \"scattergeo\"}], \"scattergl\": [{\"marker\": {\"colorbar\": {\"outlinewidth\": 0, \"ticks\": \"\"}}, \"type\": \"scattergl\"}], \"scattermapbox\": [{\"marker\": {\"colorbar\": {\"outlinewidth\": 0, \"ticks\": \"\"}}, \"type\": \"scattermapbox\"}], \"scatterpolar\": [{\"marker\": {\"colorbar\": {\"outlinewidth\": 0, \"ticks\": \"\"}}, \"type\": \"scatterpolar\"}], \"scatterpolargl\": [{\"marker\": {\"colorbar\": {\"outlinewidth\": 0, \"ticks\": \"\"}}, \"type\": \"scatterpolargl\"}], \"scatterternary\": [{\"marker\": {\"colorbar\": {\"outlinewidth\": 0, \"ticks\": \"\"}}, \"type\": \"scatterternary\"}], \"surface\": [{\"colorbar\": {\"outlinewidth\": 0, \"ticks\": \"\"}, \"colorscale\": [[0.0, \"#0d0887\"], [0.1111111111111111, \"#46039f\"], [0.2222222222222222, \"#7201a8\"], [0.3333333333333333, \"#9c179e\"], [0.4444444444444444, \"#bd3786\"], [0.5555555555555556, \"#d8576b\"], [0.6666666666666666, \"#ed7953\"], [0.7777777777777778, \"#fb9f3a\"], [0.8888888888888888, \"#fdca26\"], [1.0, \"#f0f921\"]], \"type\": \"surface\"}], \"table\": [{\"cells\": {\"fill\": {\"color\": \"#EBF0F8\"}, \"line\": {\"color\": \"white\"}}, \"header\": {\"fill\": {\"color\": \"#C8D4E3\"}, \"line\": {\"color\": \"white\"}}, \"type\": \"table\"}]}, \"layout\": {\"annotationdefaults\": {\"arrowcolor\": \"#2a3f5f\", \"arrowhead\": 0, \"arrowwidth\": 1}, \"coloraxis\": {\"colorbar\": {\"outlinewidth\": 0, \"ticks\": \"\"}}, \"colorscale\": {\"diverging\": [[0, \"#8e0152\"], [0.1, \"#c51b7d\"], [0.2, \"#de77ae\"], [0.3, \"#f1b6da\"], [0.4, \"#fde0ef\"], [0.5, \"#f7f7f7\"], [0.6, \"#e6f5d0\"], [0.7, \"#b8e186\"], [0.8, \"#7fbc41\"], [0.9, \"#4d9221\"], [1, \"#276419\"]], \"sequential\": [[0.0, \"#0d0887\"], [0.1111111111111111, \"#46039f\"], [0.2222222222222222, \"#7201a8\"], [0.3333333333333333, \"#9c179e\"], [0.4444444444444444, \"#bd3786\"], [0.5555555555555556, \"#d8576b\"], [0.6666666666666666, \"#ed7953\"], [0.7777777777777778, \"#fb9f3a\"], [0.8888888888888888, \"#fdca26\"], [1.0, \"#f0f921\"]], \"sequentialminus\": [[0.0, \"#0d0887\"], [0.1111111111111111, \"#46039f\"], [0.2222222222222222, \"#7201a8\"], [0.3333333333333333, \"#9c179e\"], [0.4444444444444444, \"#bd3786\"], [0.5555555555555556, \"#d8576b\"], [0.6666666666666666, \"#ed7953\"], [0.7777777777777778, \"#fb9f3a\"], [0.8888888888888888, \"#fdca26\"], [1.0, \"#f0f921\"]]}, \"colorway\": [\"#636efa\", \"#EF553B\", \"#00cc96\", \"#ab63fa\", \"#FFA15A\", \"#19d3f3\", \"#FF6692\", \"#B6E880\", \"#FF97FF\", \"#FECB52\"], \"font\": {\"color\": \"#2a3f5f\"}, \"geo\": {\"bgcolor\": \"white\", \"lakecolor\": \"white\", \"landcolor\": \"#E5ECF6\", \"showlakes\": true, \"showland\": true, \"subunitcolor\": \"white\"}, \"hoverlabel\": {\"align\": \"left\"}, \"hovermode\": \"closest\", \"mapbox\": {\"style\": \"light\"}, \"paper_bgcolor\": \"white\", \"plot_bgcolor\": \"#E5ECF6\", \"polar\": {\"angularaxis\": {\"gridcolor\": \"white\", \"linecolor\": \"white\", \"ticks\": \"\"}, \"bgcolor\": \"#E5ECF6\", \"radialaxis\": {\"gridcolor\": \"white\", \"linecolor\": \"white\", \"ticks\": \"\"}}, \"scene\": {\"xaxis\": {\"backgroundcolor\": \"#E5ECF6\", \"gridcolor\": \"white\", \"gridwidth\": 2, \"linecolor\": \"white\", \"showbackground\": true, \"ticks\": \"\", \"zerolinecolor\": \"white\"}, \"yaxis\": {\"backgroundcolor\": \"#E5ECF6\", \"gridcolor\": \"white\", \"gridwidth\": 2, \"linecolor\": \"white\", \"showbackground\": true, \"ticks\": \"\", \"zerolinecolor\": \"white\"}, \"zaxis\": {\"backgroundcolor\": \"#E5ECF6\", \"gridcolor\": \"white\", \"gridwidth\": 2, \"linecolor\": \"white\", \"showbackground\": true, \"ticks\": \"\", \"zerolinecolor\": \"white\"}}, \"shapedefaults\": {\"line\": {\"color\": \"#2a3f5f\"}}, \"ternary\": {\"aaxis\": {\"gridcolor\": \"white\", \"linecolor\": \"white\", \"ticks\": \"\"}, \"baxis\": {\"gridcolor\": \"white\", \"linecolor\": \"white\", \"ticks\": \"\"}, \"bgcolor\": \"#E5ECF6\", \"caxis\": {\"gridcolor\": \"white\", \"linecolor\": \"white\", \"ticks\": \"\"}}, \"title\": {\"x\": 0.05}, \"xaxis\": {\"automargin\": true, \"gridcolor\": \"white\", \"linecolor\": \"white\", \"ticks\": \"\", \"title\": {\"standoff\": 15}, \"zerolinecolor\": \"white\", \"zerolinewidth\": 2}, \"yaxis\": {\"automargin\": true, \"gridcolor\": \"white\", \"linecolor\": \"white\", \"ticks\": \"\", \"title\": {\"standoff\": 15}, \"zerolinecolor\": \"white\", \"zerolinewidth\": 2}}}, \"title\": {\"text\": \"Trigram for Sarcastic News\"}, \"xaxis\": {\"anchor\": \"y\", \"domain\": [0.0, 1.0], \"title\": {\"text\": \"Count\"}}, \"yaxis\": {\"anchor\": \"x\", \"domain\": [0.0, 1.0], \"title\": {\"text\": \"Words\"}}},                        {\"responsive\": true}                    ).then(function(){\n",
       "                            \n",
       "var gd = document.getElementById('52a23e16-0e93-4302-918c-e4dab8de7c1f');\n",
       "var x = new MutationObserver(function (mutations, observer) {{\n",
       "        var display = window.getComputedStyle(gd).display;\n",
       "        if (!display || display === 'none') {{\n",
       "            console.log([gd, 'removed!']);\n",
       "            Plotly.purge(gd);\n",
       "            observer.disconnect();\n",
       "        }}\n",
       "}});\n",
       "\n",
       "// Listen for the removal of the full notebook cells\n",
       "var notebookContainer = gd.closest('#notebook-container');\n",
       "if (notebookContainer) {{\n",
       "    x.observe(notebookContainer, {childList: true});\n",
       "}}\n",
       "\n",
       "// Listen for the clearing of the current output cell\n",
       "var outputEl = gd.closest('.output');\n",
       "if (outputEl) {{\n",
       "    x.observe(outputEl, {childList: true});\n",
       "}}\n",
       "\n",
       "                        })                };                });            </script>        </div>"
      ]
     },
     "metadata": {},
     "output_type": "display_data"
    },
    {
     "data": {
      "text/plain": [
       "<Figure size 1152x648 with 0 Axes>"
      ]
     },
     "metadata": {},
     "output_type": "display_data"
    }
   ],
   "source": [
    "plt.figure(figsize = (16,9))\n",
    "most_common_uni = get_top_text_ngrams(data_sar.headline,10,3)\n",
    "most_common_uni = dict(most_common_uni)\n",
    "fig = px.bar(x = list(most_common_uni.values()), y = list(most_common_uni.keys()), labels=dict(x=\"Count\", y=\"Words\"))\n",
    "fig.update_traces(marker_color='#FF8500')\n",
    "fig.update_layout(title_text='Trigram for Sarcastic News', paper_bgcolor = 'white', plot_bgcolor = 'white')\n",
    "fig.show()"
   ]
  },
  {
   "cell_type": "code",
   "execution_count": 46,
   "metadata": {},
   "outputs": [
    {
     "data": {
      "application/vnd.plotly.v1+json": {
       "config": {
        "plotlyServerURL": "https://plot.ly"
       },
       "data": [
        {
         "alignmentgroup": "True",
         "hovertemplate": "Count=%{x}<br>Words=%{y}<extra></extra>",
         "legendgroup": "",
         "marker": {
          "color": "#FF8500"
         },
         "name": "",
         "offsetgroup": "",
         "orientation": "h",
         "showlegend": false,
         "textposition": "auto",
         "type": "bar",
         "x": [
          13,
          13,
          13,
          9,
          7,
          7,
          7,
          6,
          6,
          6
         ],
         "xaxis": "x",
         "y": [
          "way prevent say nation",
          "prevent say nation regularly",
          "say nation regularly happen",
          "new study find human",
          "way prevent nation regularly",
          "prevent nation regularly happen",
          "study find average american",
          "sole remain lung fill",
          "remain lung fill rich",
          "lung fill rich satisfy"
         ],
         "yaxis": "y"
        }
       ],
       "layout": {
        "barmode": "relative",
        "legend": {
         "tracegroupgap": 0
        },
        "margin": {
         "t": 60
        },
        "paper_bgcolor": "white",
        "plot_bgcolor": "white",
        "template": {
         "data": {
          "bar": [
           {
            "error_x": {
             "color": "#2a3f5f"
            },
            "error_y": {
             "color": "#2a3f5f"
            },
            "marker": {
             "line": {
              "color": "#E5ECF6",
              "width": 0.5
             }
            },
            "type": "bar"
           }
          ],
          "barpolar": [
           {
            "marker": {
             "line": {
              "color": "#E5ECF6",
              "width": 0.5
             }
            },
            "type": "barpolar"
           }
          ],
          "carpet": [
           {
            "aaxis": {
             "endlinecolor": "#2a3f5f",
             "gridcolor": "white",
             "linecolor": "white",
             "minorgridcolor": "white",
             "startlinecolor": "#2a3f5f"
            },
            "baxis": {
             "endlinecolor": "#2a3f5f",
             "gridcolor": "white",
             "linecolor": "white",
             "minorgridcolor": "white",
             "startlinecolor": "#2a3f5f"
            },
            "type": "carpet"
           }
          ],
          "choropleth": [
           {
            "colorbar": {
             "outlinewidth": 0,
             "ticks": ""
            },
            "type": "choropleth"
           }
          ],
          "contour": [
           {
            "colorbar": {
             "outlinewidth": 0,
             "ticks": ""
            },
            "colorscale": [
             [
              0,
              "#0d0887"
             ],
             [
              0.1111111111111111,
              "#46039f"
             ],
             [
              0.2222222222222222,
              "#7201a8"
             ],
             [
              0.3333333333333333,
              "#9c179e"
             ],
             [
              0.4444444444444444,
              "#bd3786"
             ],
             [
              0.5555555555555556,
              "#d8576b"
             ],
             [
              0.6666666666666666,
              "#ed7953"
             ],
             [
              0.7777777777777778,
              "#fb9f3a"
             ],
             [
              0.8888888888888888,
              "#fdca26"
             ],
             [
              1,
              "#f0f921"
             ]
            ],
            "type": "contour"
           }
          ],
          "contourcarpet": [
           {
            "colorbar": {
             "outlinewidth": 0,
             "ticks": ""
            },
            "type": "contourcarpet"
           }
          ],
          "heatmap": [
           {
            "colorbar": {
             "outlinewidth": 0,
             "ticks": ""
            },
            "colorscale": [
             [
              0,
              "#0d0887"
             ],
             [
              0.1111111111111111,
              "#46039f"
             ],
             [
              0.2222222222222222,
              "#7201a8"
             ],
             [
              0.3333333333333333,
              "#9c179e"
             ],
             [
              0.4444444444444444,
              "#bd3786"
             ],
             [
              0.5555555555555556,
              "#d8576b"
             ],
             [
              0.6666666666666666,
              "#ed7953"
             ],
             [
              0.7777777777777778,
              "#fb9f3a"
             ],
             [
              0.8888888888888888,
              "#fdca26"
             ],
             [
              1,
              "#f0f921"
             ]
            ],
            "type": "heatmap"
           }
          ],
          "heatmapgl": [
           {
            "colorbar": {
             "outlinewidth": 0,
             "ticks": ""
            },
            "colorscale": [
             [
              0,
              "#0d0887"
             ],
             [
              0.1111111111111111,
              "#46039f"
             ],
             [
              0.2222222222222222,
              "#7201a8"
             ],
             [
              0.3333333333333333,
              "#9c179e"
             ],
             [
              0.4444444444444444,
              "#bd3786"
             ],
             [
              0.5555555555555556,
              "#d8576b"
             ],
             [
              0.6666666666666666,
              "#ed7953"
             ],
             [
              0.7777777777777778,
              "#fb9f3a"
             ],
             [
              0.8888888888888888,
              "#fdca26"
             ],
             [
              1,
              "#f0f921"
             ]
            ],
            "type": "heatmapgl"
           }
          ],
          "histogram": [
           {
            "marker": {
             "colorbar": {
              "outlinewidth": 0,
              "ticks": ""
             }
            },
            "type": "histogram"
           }
          ],
          "histogram2d": [
           {
            "colorbar": {
             "outlinewidth": 0,
             "ticks": ""
            },
            "colorscale": [
             [
              0,
              "#0d0887"
             ],
             [
              0.1111111111111111,
              "#46039f"
             ],
             [
              0.2222222222222222,
              "#7201a8"
             ],
             [
              0.3333333333333333,
              "#9c179e"
             ],
             [
              0.4444444444444444,
              "#bd3786"
             ],
             [
              0.5555555555555556,
              "#d8576b"
             ],
             [
              0.6666666666666666,
              "#ed7953"
             ],
             [
              0.7777777777777778,
              "#fb9f3a"
             ],
             [
              0.8888888888888888,
              "#fdca26"
             ],
             [
              1,
              "#f0f921"
             ]
            ],
            "type": "histogram2d"
           }
          ],
          "histogram2dcontour": [
           {
            "colorbar": {
             "outlinewidth": 0,
             "ticks": ""
            },
            "colorscale": [
             [
              0,
              "#0d0887"
             ],
             [
              0.1111111111111111,
              "#46039f"
             ],
             [
              0.2222222222222222,
              "#7201a8"
             ],
             [
              0.3333333333333333,
              "#9c179e"
             ],
             [
              0.4444444444444444,
              "#bd3786"
             ],
             [
              0.5555555555555556,
              "#d8576b"
             ],
             [
              0.6666666666666666,
              "#ed7953"
             ],
             [
              0.7777777777777778,
              "#fb9f3a"
             ],
             [
              0.8888888888888888,
              "#fdca26"
             ],
             [
              1,
              "#f0f921"
             ]
            ],
            "type": "histogram2dcontour"
           }
          ],
          "mesh3d": [
           {
            "colorbar": {
             "outlinewidth": 0,
             "ticks": ""
            },
            "type": "mesh3d"
           }
          ],
          "parcoords": [
           {
            "line": {
             "colorbar": {
              "outlinewidth": 0,
              "ticks": ""
             }
            },
            "type": "parcoords"
           }
          ],
          "pie": [
           {
            "automargin": true,
            "type": "pie"
           }
          ],
          "scatter": [
           {
            "marker": {
             "colorbar": {
              "outlinewidth": 0,
              "ticks": ""
             }
            },
            "type": "scatter"
           }
          ],
          "scatter3d": [
           {
            "line": {
             "colorbar": {
              "outlinewidth": 0,
              "ticks": ""
             }
            },
            "marker": {
             "colorbar": {
              "outlinewidth": 0,
              "ticks": ""
             }
            },
            "type": "scatter3d"
           }
          ],
          "scattercarpet": [
           {
            "marker": {
             "colorbar": {
              "outlinewidth": 0,
              "ticks": ""
             }
            },
            "type": "scattercarpet"
           }
          ],
          "scattergeo": [
           {
            "marker": {
             "colorbar": {
              "outlinewidth": 0,
              "ticks": ""
             }
            },
            "type": "scattergeo"
           }
          ],
          "scattergl": [
           {
            "marker": {
             "colorbar": {
              "outlinewidth": 0,
              "ticks": ""
             }
            },
            "type": "scattergl"
           }
          ],
          "scattermapbox": [
           {
            "marker": {
             "colorbar": {
              "outlinewidth": 0,
              "ticks": ""
             }
            },
            "type": "scattermapbox"
           }
          ],
          "scatterpolar": [
           {
            "marker": {
             "colorbar": {
              "outlinewidth": 0,
              "ticks": ""
             }
            },
            "type": "scatterpolar"
           }
          ],
          "scatterpolargl": [
           {
            "marker": {
             "colorbar": {
              "outlinewidth": 0,
              "ticks": ""
             }
            },
            "type": "scatterpolargl"
           }
          ],
          "scatterternary": [
           {
            "marker": {
             "colorbar": {
              "outlinewidth": 0,
              "ticks": ""
             }
            },
            "type": "scatterternary"
           }
          ],
          "surface": [
           {
            "colorbar": {
             "outlinewidth": 0,
             "ticks": ""
            },
            "colorscale": [
             [
              0,
              "#0d0887"
             ],
             [
              0.1111111111111111,
              "#46039f"
             ],
             [
              0.2222222222222222,
              "#7201a8"
             ],
             [
              0.3333333333333333,
              "#9c179e"
             ],
             [
              0.4444444444444444,
              "#bd3786"
             ],
             [
              0.5555555555555556,
              "#d8576b"
             ],
             [
              0.6666666666666666,
              "#ed7953"
             ],
             [
              0.7777777777777778,
              "#fb9f3a"
             ],
             [
              0.8888888888888888,
              "#fdca26"
             ],
             [
              1,
              "#f0f921"
             ]
            ],
            "type": "surface"
           }
          ],
          "table": [
           {
            "cells": {
             "fill": {
              "color": "#EBF0F8"
             },
             "line": {
              "color": "white"
             }
            },
            "header": {
             "fill": {
              "color": "#C8D4E3"
             },
             "line": {
              "color": "white"
             }
            },
            "type": "table"
           }
          ]
         },
         "layout": {
          "annotationdefaults": {
           "arrowcolor": "#2a3f5f",
           "arrowhead": 0,
           "arrowwidth": 1
          },
          "coloraxis": {
           "colorbar": {
            "outlinewidth": 0,
            "ticks": ""
           }
          },
          "colorscale": {
           "diverging": [
            [
             0,
             "#8e0152"
            ],
            [
             0.1,
             "#c51b7d"
            ],
            [
             0.2,
             "#de77ae"
            ],
            [
             0.3,
             "#f1b6da"
            ],
            [
             0.4,
             "#fde0ef"
            ],
            [
             0.5,
             "#f7f7f7"
            ],
            [
             0.6,
             "#e6f5d0"
            ],
            [
             0.7,
             "#b8e186"
            ],
            [
             0.8,
             "#7fbc41"
            ],
            [
             0.9,
             "#4d9221"
            ],
            [
             1,
             "#276419"
            ]
           ],
           "sequential": [
            [
             0,
             "#0d0887"
            ],
            [
             0.1111111111111111,
             "#46039f"
            ],
            [
             0.2222222222222222,
             "#7201a8"
            ],
            [
             0.3333333333333333,
             "#9c179e"
            ],
            [
             0.4444444444444444,
             "#bd3786"
            ],
            [
             0.5555555555555556,
             "#d8576b"
            ],
            [
             0.6666666666666666,
             "#ed7953"
            ],
            [
             0.7777777777777778,
             "#fb9f3a"
            ],
            [
             0.8888888888888888,
             "#fdca26"
            ],
            [
             1,
             "#f0f921"
            ]
           ],
           "sequentialminus": [
            [
             0,
             "#0d0887"
            ],
            [
             0.1111111111111111,
             "#46039f"
            ],
            [
             0.2222222222222222,
             "#7201a8"
            ],
            [
             0.3333333333333333,
             "#9c179e"
            ],
            [
             0.4444444444444444,
             "#bd3786"
            ],
            [
             0.5555555555555556,
             "#d8576b"
            ],
            [
             0.6666666666666666,
             "#ed7953"
            ],
            [
             0.7777777777777778,
             "#fb9f3a"
            ],
            [
             0.8888888888888888,
             "#fdca26"
            ],
            [
             1,
             "#f0f921"
            ]
           ]
          },
          "colorway": [
           "#636efa",
           "#EF553B",
           "#00cc96",
           "#ab63fa",
           "#FFA15A",
           "#19d3f3",
           "#FF6692",
           "#B6E880",
           "#FF97FF",
           "#FECB52"
          ],
          "font": {
           "color": "#2a3f5f"
          },
          "geo": {
           "bgcolor": "white",
           "lakecolor": "white",
           "landcolor": "#E5ECF6",
           "showlakes": true,
           "showland": true,
           "subunitcolor": "white"
          },
          "hoverlabel": {
           "align": "left"
          },
          "hovermode": "closest",
          "mapbox": {
           "style": "light"
          },
          "paper_bgcolor": "white",
          "plot_bgcolor": "#E5ECF6",
          "polar": {
           "angularaxis": {
            "gridcolor": "white",
            "linecolor": "white",
            "ticks": ""
           },
           "bgcolor": "#E5ECF6",
           "radialaxis": {
            "gridcolor": "white",
            "linecolor": "white",
            "ticks": ""
           }
          },
          "scene": {
           "xaxis": {
            "backgroundcolor": "#E5ECF6",
            "gridcolor": "white",
            "gridwidth": 2,
            "linecolor": "white",
            "showbackground": true,
            "ticks": "",
            "zerolinecolor": "white"
           },
           "yaxis": {
            "backgroundcolor": "#E5ECF6",
            "gridcolor": "white",
            "gridwidth": 2,
            "linecolor": "white",
            "showbackground": true,
            "ticks": "",
            "zerolinecolor": "white"
           },
           "zaxis": {
            "backgroundcolor": "#E5ECF6",
            "gridcolor": "white",
            "gridwidth": 2,
            "linecolor": "white",
            "showbackground": true,
            "ticks": "",
            "zerolinecolor": "white"
           }
          },
          "shapedefaults": {
           "line": {
            "color": "#2a3f5f"
           }
          },
          "ternary": {
           "aaxis": {
            "gridcolor": "white",
            "linecolor": "white",
            "ticks": ""
           },
           "baxis": {
            "gridcolor": "white",
            "linecolor": "white",
            "ticks": ""
           },
           "bgcolor": "#E5ECF6",
           "caxis": {
            "gridcolor": "white",
            "linecolor": "white",
            "ticks": ""
           }
          },
          "title": {
           "x": 0.05
          },
          "xaxis": {
           "automargin": true,
           "gridcolor": "white",
           "linecolor": "white",
           "ticks": "",
           "title": {
            "standoff": 15
           },
           "zerolinecolor": "white",
           "zerolinewidth": 2
          },
          "yaxis": {
           "automargin": true,
           "gridcolor": "white",
           "linecolor": "white",
           "ticks": "",
           "title": {
            "standoff": 15
           },
           "zerolinecolor": "white",
           "zerolinewidth": 2
          }
         }
        },
        "title": {
         "text": "Four-gram for Sarcastic News"
        },
        "xaxis": {
         "anchor": "y",
         "domain": [
          0,
          1
         ],
         "title": {
          "text": "Count"
         }
        },
        "yaxis": {
         "anchor": "x",
         "domain": [
          0,
          1
         ],
         "title": {
          "text": "Words"
         }
        }
       }
      },
      "text/html": [
       "<div>                            <div id=\"4149e690-034f-4b6c-b184-dba1296797b3\" class=\"plotly-graph-div\" style=\"height:525px; width:100%;\"></div>            <script type=\"text/javascript\">                require([\"plotly\"], function(Plotly) {                    window.PLOTLYENV=window.PLOTLYENV || {};                                    if (document.getElementById(\"4149e690-034f-4b6c-b184-dba1296797b3\")) {                    Plotly.newPlot(                        \"4149e690-034f-4b6c-b184-dba1296797b3\",                        [{\"alignmentgroup\": \"True\", \"hovertemplate\": \"Count=%{x}<br>Words=%{y}<extra></extra>\", \"legendgroup\": \"\", \"marker\": {\"color\": \"#FF8500\"}, \"name\": \"\", \"offsetgroup\": \"\", \"orientation\": \"h\", \"showlegend\": false, \"textposition\": \"auto\", \"type\": \"bar\", \"x\": [13, 13, 13, 9, 7, 7, 7, 6, 6, 6], \"xaxis\": \"x\", \"y\": [\"way prevent say nation\", \"prevent say nation regularly\", \"say nation regularly happen\", \"new study find human\", \"way prevent nation regularly\", \"prevent nation regularly happen\", \"study find average american\", \"sole remain lung fill\", \"remain lung fill rich\", \"lung fill rich satisfy\"], \"yaxis\": \"y\"}],                        {\"barmode\": \"relative\", \"legend\": {\"tracegroupgap\": 0}, \"margin\": {\"t\": 60}, \"paper_bgcolor\": \"white\", \"plot_bgcolor\": \"white\", \"template\": {\"data\": {\"bar\": [{\"error_x\": {\"color\": \"#2a3f5f\"}, \"error_y\": {\"color\": \"#2a3f5f\"}, \"marker\": {\"line\": {\"color\": \"#E5ECF6\", \"width\": 0.5}}, \"type\": \"bar\"}], \"barpolar\": [{\"marker\": {\"line\": {\"color\": \"#E5ECF6\", \"width\": 0.5}}, \"type\": \"barpolar\"}], \"carpet\": [{\"aaxis\": {\"endlinecolor\": \"#2a3f5f\", \"gridcolor\": \"white\", \"linecolor\": \"white\", \"minorgridcolor\": \"white\", \"startlinecolor\": \"#2a3f5f\"}, \"baxis\": {\"endlinecolor\": \"#2a3f5f\", \"gridcolor\": \"white\", \"linecolor\": \"white\", \"minorgridcolor\": \"white\", \"startlinecolor\": \"#2a3f5f\"}, \"type\": \"carpet\"}], \"choropleth\": [{\"colorbar\": {\"outlinewidth\": 0, \"ticks\": \"\"}, \"type\": \"choropleth\"}], \"contour\": [{\"colorbar\": {\"outlinewidth\": 0, \"ticks\": \"\"}, \"colorscale\": [[0.0, \"#0d0887\"], [0.1111111111111111, \"#46039f\"], [0.2222222222222222, \"#7201a8\"], [0.3333333333333333, \"#9c179e\"], [0.4444444444444444, \"#bd3786\"], [0.5555555555555556, \"#d8576b\"], [0.6666666666666666, \"#ed7953\"], [0.7777777777777778, \"#fb9f3a\"], [0.8888888888888888, \"#fdca26\"], [1.0, \"#f0f921\"]], \"type\": \"contour\"}], \"contourcarpet\": [{\"colorbar\": {\"outlinewidth\": 0, \"ticks\": \"\"}, \"type\": \"contourcarpet\"}], \"heatmap\": [{\"colorbar\": {\"outlinewidth\": 0, \"ticks\": \"\"}, \"colorscale\": [[0.0, \"#0d0887\"], [0.1111111111111111, \"#46039f\"], [0.2222222222222222, \"#7201a8\"], [0.3333333333333333, \"#9c179e\"], [0.4444444444444444, \"#bd3786\"], [0.5555555555555556, \"#d8576b\"], [0.6666666666666666, \"#ed7953\"], [0.7777777777777778, \"#fb9f3a\"], [0.8888888888888888, \"#fdca26\"], [1.0, \"#f0f921\"]], \"type\": \"heatmap\"}], \"heatmapgl\": [{\"colorbar\": {\"outlinewidth\": 0, \"ticks\": \"\"}, \"colorscale\": [[0.0, \"#0d0887\"], [0.1111111111111111, \"#46039f\"], [0.2222222222222222, \"#7201a8\"], [0.3333333333333333, \"#9c179e\"], [0.4444444444444444, \"#bd3786\"], [0.5555555555555556, \"#d8576b\"], [0.6666666666666666, \"#ed7953\"], [0.7777777777777778, \"#fb9f3a\"], [0.8888888888888888, \"#fdca26\"], [1.0, \"#f0f921\"]], \"type\": \"heatmapgl\"}], \"histogram\": [{\"marker\": {\"colorbar\": {\"outlinewidth\": 0, \"ticks\": \"\"}}, \"type\": \"histogram\"}], \"histogram2d\": [{\"colorbar\": {\"outlinewidth\": 0, \"ticks\": \"\"}, \"colorscale\": [[0.0, \"#0d0887\"], [0.1111111111111111, \"#46039f\"], [0.2222222222222222, \"#7201a8\"], [0.3333333333333333, \"#9c179e\"], [0.4444444444444444, \"#bd3786\"], [0.5555555555555556, \"#d8576b\"], [0.6666666666666666, \"#ed7953\"], [0.7777777777777778, \"#fb9f3a\"], [0.8888888888888888, \"#fdca26\"], [1.0, \"#f0f921\"]], \"type\": \"histogram2d\"}], \"histogram2dcontour\": [{\"colorbar\": {\"outlinewidth\": 0, \"ticks\": \"\"}, \"colorscale\": [[0.0, \"#0d0887\"], [0.1111111111111111, \"#46039f\"], [0.2222222222222222, \"#7201a8\"], [0.3333333333333333, \"#9c179e\"], [0.4444444444444444, \"#bd3786\"], [0.5555555555555556, \"#d8576b\"], [0.6666666666666666, \"#ed7953\"], [0.7777777777777778, \"#fb9f3a\"], [0.8888888888888888, \"#fdca26\"], [1.0, \"#f0f921\"]], \"type\": \"histogram2dcontour\"}], \"mesh3d\": [{\"colorbar\": {\"outlinewidth\": 0, \"ticks\": \"\"}, \"type\": \"mesh3d\"}], \"parcoords\": [{\"line\": {\"colorbar\": {\"outlinewidth\": 0, \"ticks\": \"\"}}, \"type\": \"parcoords\"}], \"pie\": [{\"automargin\": true, \"type\": \"pie\"}], \"scatter\": [{\"marker\": {\"colorbar\": {\"outlinewidth\": 0, \"ticks\": \"\"}}, \"type\": \"scatter\"}], \"scatter3d\": [{\"line\": {\"colorbar\": {\"outlinewidth\": 0, \"ticks\": \"\"}}, \"marker\": {\"colorbar\": {\"outlinewidth\": 0, \"ticks\": \"\"}}, \"type\": \"scatter3d\"}], \"scattercarpet\": [{\"marker\": {\"colorbar\": {\"outlinewidth\": 0, \"ticks\": \"\"}}, \"type\": \"scattercarpet\"}], \"scattergeo\": [{\"marker\": {\"colorbar\": {\"outlinewidth\": 0, \"ticks\": \"\"}}, \"type\": \"scattergeo\"}], \"scattergl\": [{\"marker\": {\"colorbar\": {\"outlinewidth\": 0, \"ticks\": \"\"}}, \"type\": \"scattergl\"}], \"scattermapbox\": [{\"marker\": {\"colorbar\": {\"outlinewidth\": 0, \"ticks\": \"\"}}, \"type\": \"scattermapbox\"}], \"scatterpolar\": [{\"marker\": {\"colorbar\": {\"outlinewidth\": 0, \"ticks\": \"\"}}, \"type\": \"scatterpolar\"}], \"scatterpolargl\": [{\"marker\": {\"colorbar\": {\"outlinewidth\": 0, \"ticks\": \"\"}}, \"type\": \"scatterpolargl\"}], \"scatterternary\": [{\"marker\": {\"colorbar\": {\"outlinewidth\": 0, \"ticks\": \"\"}}, \"type\": \"scatterternary\"}], \"surface\": [{\"colorbar\": {\"outlinewidth\": 0, \"ticks\": \"\"}, \"colorscale\": [[0.0, \"#0d0887\"], [0.1111111111111111, \"#46039f\"], [0.2222222222222222, \"#7201a8\"], [0.3333333333333333, \"#9c179e\"], [0.4444444444444444, \"#bd3786\"], [0.5555555555555556, \"#d8576b\"], [0.6666666666666666, \"#ed7953\"], [0.7777777777777778, \"#fb9f3a\"], [0.8888888888888888, \"#fdca26\"], [1.0, \"#f0f921\"]], \"type\": \"surface\"}], \"table\": [{\"cells\": {\"fill\": {\"color\": \"#EBF0F8\"}, \"line\": {\"color\": \"white\"}}, \"header\": {\"fill\": {\"color\": \"#C8D4E3\"}, \"line\": {\"color\": \"white\"}}, \"type\": \"table\"}]}, \"layout\": {\"annotationdefaults\": {\"arrowcolor\": \"#2a3f5f\", \"arrowhead\": 0, \"arrowwidth\": 1}, \"coloraxis\": {\"colorbar\": {\"outlinewidth\": 0, \"ticks\": \"\"}}, \"colorscale\": {\"diverging\": [[0, \"#8e0152\"], [0.1, \"#c51b7d\"], [0.2, \"#de77ae\"], [0.3, \"#f1b6da\"], [0.4, \"#fde0ef\"], [0.5, \"#f7f7f7\"], [0.6, \"#e6f5d0\"], [0.7, \"#b8e186\"], [0.8, \"#7fbc41\"], [0.9, \"#4d9221\"], [1, \"#276419\"]], \"sequential\": [[0.0, \"#0d0887\"], [0.1111111111111111, \"#46039f\"], [0.2222222222222222, \"#7201a8\"], [0.3333333333333333, \"#9c179e\"], [0.4444444444444444, \"#bd3786\"], [0.5555555555555556, \"#d8576b\"], [0.6666666666666666, \"#ed7953\"], [0.7777777777777778, \"#fb9f3a\"], [0.8888888888888888, \"#fdca26\"], [1.0, \"#f0f921\"]], \"sequentialminus\": [[0.0, \"#0d0887\"], [0.1111111111111111, \"#46039f\"], [0.2222222222222222, \"#7201a8\"], [0.3333333333333333, \"#9c179e\"], [0.4444444444444444, \"#bd3786\"], [0.5555555555555556, \"#d8576b\"], [0.6666666666666666, \"#ed7953\"], [0.7777777777777778, \"#fb9f3a\"], [0.8888888888888888, \"#fdca26\"], [1.0, \"#f0f921\"]]}, \"colorway\": [\"#636efa\", \"#EF553B\", \"#00cc96\", \"#ab63fa\", \"#FFA15A\", \"#19d3f3\", \"#FF6692\", \"#B6E880\", \"#FF97FF\", \"#FECB52\"], \"font\": {\"color\": \"#2a3f5f\"}, \"geo\": {\"bgcolor\": \"white\", \"lakecolor\": \"white\", \"landcolor\": \"#E5ECF6\", \"showlakes\": true, \"showland\": true, \"subunitcolor\": \"white\"}, \"hoverlabel\": {\"align\": \"left\"}, \"hovermode\": \"closest\", \"mapbox\": {\"style\": \"light\"}, \"paper_bgcolor\": \"white\", \"plot_bgcolor\": \"#E5ECF6\", \"polar\": {\"angularaxis\": {\"gridcolor\": \"white\", \"linecolor\": \"white\", \"ticks\": \"\"}, \"bgcolor\": \"#E5ECF6\", \"radialaxis\": {\"gridcolor\": \"white\", \"linecolor\": \"white\", \"ticks\": \"\"}}, \"scene\": {\"xaxis\": {\"backgroundcolor\": \"#E5ECF6\", \"gridcolor\": \"white\", \"gridwidth\": 2, \"linecolor\": \"white\", \"showbackground\": true, \"ticks\": \"\", \"zerolinecolor\": \"white\"}, \"yaxis\": {\"backgroundcolor\": \"#E5ECF6\", \"gridcolor\": \"white\", \"gridwidth\": 2, \"linecolor\": \"white\", \"showbackground\": true, \"ticks\": \"\", \"zerolinecolor\": \"white\"}, \"zaxis\": {\"backgroundcolor\": \"#E5ECF6\", \"gridcolor\": \"white\", \"gridwidth\": 2, \"linecolor\": \"white\", \"showbackground\": true, \"ticks\": \"\", \"zerolinecolor\": \"white\"}}, \"shapedefaults\": {\"line\": {\"color\": \"#2a3f5f\"}}, \"ternary\": {\"aaxis\": {\"gridcolor\": \"white\", \"linecolor\": \"white\", \"ticks\": \"\"}, \"baxis\": {\"gridcolor\": \"white\", \"linecolor\": \"white\", \"ticks\": \"\"}, \"bgcolor\": \"#E5ECF6\", \"caxis\": {\"gridcolor\": \"white\", \"linecolor\": \"white\", \"ticks\": \"\"}}, \"title\": {\"x\": 0.05}, \"xaxis\": {\"automargin\": true, \"gridcolor\": \"white\", \"linecolor\": \"white\", \"ticks\": \"\", \"title\": {\"standoff\": 15}, \"zerolinecolor\": \"white\", \"zerolinewidth\": 2}, \"yaxis\": {\"automargin\": true, \"gridcolor\": \"white\", \"linecolor\": \"white\", \"ticks\": \"\", \"title\": {\"standoff\": 15}, \"zerolinecolor\": \"white\", \"zerolinewidth\": 2}}}, \"title\": {\"text\": \"Four-gram for Sarcastic News\"}, \"xaxis\": {\"anchor\": \"y\", \"domain\": [0.0, 1.0], \"title\": {\"text\": \"Count\"}}, \"yaxis\": {\"anchor\": \"x\", \"domain\": [0.0, 1.0], \"title\": {\"text\": \"Words\"}}},                        {\"responsive\": true}                    ).then(function(){\n",
       "                            \n",
       "var gd = document.getElementById('4149e690-034f-4b6c-b184-dba1296797b3');\n",
       "var x = new MutationObserver(function (mutations, observer) {{\n",
       "        var display = window.getComputedStyle(gd).display;\n",
       "        if (!display || display === 'none') {{\n",
       "            console.log([gd, 'removed!']);\n",
       "            Plotly.purge(gd);\n",
       "            observer.disconnect();\n",
       "        }}\n",
       "}});\n",
       "\n",
       "// Listen for the removal of the full notebook cells\n",
       "var notebookContainer = gd.closest('#notebook-container');\n",
       "if (notebookContainer) {{\n",
       "    x.observe(notebookContainer, {childList: true});\n",
       "}}\n",
       "\n",
       "// Listen for the clearing of the current output cell\n",
       "var outputEl = gd.closest('.output');\n",
       "if (outputEl) {{\n",
       "    x.observe(outputEl, {childList: true});\n",
       "}}\n",
       "\n",
       "                        })                };                });            </script>        </div>"
      ]
     },
     "metadata": {},
     "output_type": "display_data"
    },
    {
     "data": {
      "text/plain": [
       "<Figure size 1152x648 with 0 Axes>"
      ]
     },
     "metadata": {},
     "output_type": "display_data"
    }
   ],
   "source": [
    "plt.figure(figsize = (16,9))\n",
    "most_common_uni = get_top_text_ngrams(data_sar.headline,10,4)\n",
    "most_common_uni = dict(most_common_uni)\n",
    "fig = px.bar(x = list(most_common_uni.values()), y = list(most_common_uni.keys()), labels=dict(x=\"Count\", y=\"Words\"))\n",
    "fig.update_traces(marker_color='#FF8500')\n",
    "fig.update_layout(title_text='Four-gram for Sarcastic News', paper_bgcolor = 'white', plot_bgcolor = 'white')\n",
    "fig.show()"
   ]
  },
  {
   "cell_type": "code",
   "execution_count": 51,
   "metadata": {},
   "outputs": [
    {
     "data": {
      "application/vnd.plotly.v1+json": {
       "config": {
        "plotlyServerURL": "https://plot.ly"
       },
       "data": [
        {
         "alignmentgroup": "True",
         "hovertemplate": "Count=%{x}<br>Words=%{y}<extra></extra>",
         "legendgroup": "",
         "marker": {
          "color": "#FF8500"
         },
         "name": "",
         "offsetgroup": "",
         "orientation": "h",
         "showlegend": false,
         "textposition": "auto",
         "type": "bar",
         "x": [
          2900,
          1372,
          958,
          916,
          762,
          691,
          538,
          512,
          500,
          492
         ],
         "xaxis": "x",
         "y": [
          "trump",
          "new",
          "woman",
          "donald",
          "year",
          "man",
          "day",
          "way",
          "good",
          "life"
         ],
         "yaxis": "y"
        }
       ],
       "layout": {
        "barmode": "relative",
        "legend": {
         "tracegroupgap": 0
        },
        "margin": {
         "t": 60
        },
        "paper_bgcolor": "white",
        "plot_bgcolor": "white",
        "template": {
         "data": {
          "bar": [
           {
            "error_x": {
             "color": "#2a3f5f"
            },
            "error_y": {
             "color": "#2a3f5f"
            },
            "marker": {
             "line": {
              "color": "#E5ECF6",
              "width": 0.5
             }
            },
            "type": "bar"
           }
          ],
          "barpolar": [
           {
            "marker": {
             "line": {
              "color": "#E5ECF6",
              "width": 0.5
             }
            },
            "type": "barpolar"
           }
          ],
          "carpet": [
           {
            "aaxis": {
             "endlinecolor": "#2a3f5f",
             "gridcolor": "white",
             "linecolor": "white",
             "minorgridcolor": "white",
             "startlinecolor": "#2a3f5f"
            },
            "baxis": {
             "endlinecolor": "#2a3f5f",
             "gridcolor": "white",
             "linecolor": "white",
             "minorgridcolor": "white",
             "startlinecolor": "#2a3f5f"
            },
            "type": "carpet"
           }
          ],
          "choropleth": [
           {
            "colorbar": {
             "outlinewidth": 0,
             "ticks": ""
            },
            "type": "choropleth"
           }
          ],
          "contour": [
           {
            "colorbar": {
             "outlinewidth": 0,
             "ticks": ""
            },
            "colorscale": [
             [
              0,
              "#0d0887"
             ],
             [
              0.1111111111111111,
              "#46039f"
             ],
             [
              0.2222222222222222,
              "#7201a8"
             ],
             [
              0.3333333333333333,
              "#9c179e"
             ],
             [
              0.4444444444444444,
              "#bd3786"
             ],
             [
              0.5555555555555556,
              "#d8576b"
             ],
             [
              0.6666666666666666,
              "#ed7953"
             ],
             [
              0.7777777777777778,
              "#fb9f3a"
             ],
             [
              0.8888888888888888,
              "#fdca26"
             ],
             [
              1,
              "#f0f921"
             ]
            ],
            "type": "contour"
           }
          ],
          "contourcarpet": [
           {
            "colorbar": {
             "outlinewidth": 0,
             "ticks": ""
            },
            "type": "contourcarpet"
           }
          ],
          "heatmap": [
           {
            "colorbar": {
             "outlinewidth": 0,
             "ticks": ""
            },
            "colorscale": [
             [
              0,
              "#0d0887"
             ],
             [
              0.1111111111111111,
              "#46039f"
             ],
             [
              0.2222222222222222,
              "#7201a8"
             ],
             [
              0.3333333333333333,
              "#9c179e"
             ],
             [
              0.4444444444444444,
              "#bd3786"
             ],
             [
              0.5555555555555556,
              "#d8576b"
             ],
             [
              0.6666666666666666,
              "#ed7953"
             ],
             [
              0.7777777777777778,
              "#fb9f3a"
             ],
             [
              0.8888888888888888,
              "#fdca26"
             ],
             [
              1,
              "#f0f921"
             ]
            ],
            "type": "heatmap"
           }
          ],
          "heatmapgl": [
           {
            "colorbar": {
             "outlinewidth": 0,
             "ticks": ""
            },
            "colorscale": [
             [
              0,
              "#0d0887"
             ],
             [
              0.1111111111111111,
              "#46039f"
             ],
             [
              0.2222222222222222,
              "#7201a8"
             ],
             [
              0.3333333333333333,
              "#9c179e"
             ],
             [
              0.4444444444444444,
              "#bd3786"
             ],
             [
              0.5555555555555556,
              "#d8576b"
             ],
             [
              0.6666666666666666,
              "#ed7953"
             ],
             [
              0.7777777777777778,
              "#fb9f3a"
             ],
             [
              0.8888888888888888,
              "#fdca26"
             ],
             [
              1,
              "#f0f921"
             ]
            ],
            "type": "heatmapgl"
           }
          ],
          "histogram": [
           {
            "marker": {
             "colorbar": {
              "outlinewidth": 0,
              "ticks": ""
             }
            },
            "type": "histogram"
           }
          ],
          "histogram2d": [
           {
            "colorbar": {
             "outlinewidth": 0,
             "ticks": ""
            },
            "colorscale": [
             [
              0,
              "#0d0887"
             ],
             [
              0.1111111111111111,
              "#46039f"
             ],
             [
              0.2222222222222222,
              "#7201a8"
             ],
             [
              0.3333333333333333,
              "#9c179e"
             ],
             [
              0.4444444444444444,
              "#bd3786"
             ],
             [
              0.5555555555555556,
              "#d8576b"
             ],
             [
              0.6666666666666666,
              "#ed7953"
             ],
             [
              0.7777777777777778,
              "#fb9f3a"
             ],
             [
              0.8888888888888888,
              "#fdca26"
             ],
             [
              1,
              "#f0f921"
             ]
            ],
            "type": "histogram2d"
           }
          ],
          "histogram2dcontour": [
           {
            "colorbar": {
             "outlinewidth": 0,
             "ticks": ""
            },
            "colorscale": [
             [
              0,
              "#0d0887"
             ],
             [
              0.1111111111111111,
              "#46039f"
             ],
             [
              0.2222222222222222,
              "#7201a8"
             ],
             [
              0.3333333333333333,
              "#9c179e"
             ],
             [
              0.4444444444444444,
              "#bd3786"
             ],
             [
              0.5555555555555556,
              "#d8576b"
             ],
             [
              0.6666666666666666,
              "#ed7953"
             ],
             [
              0.7777777777777778,
              "#fb9f3a"
             ],
             [
              0.8888888888888888,
              "#fdca26"
             ],
             [
              1,
              "#f0f921"
             ]
            ],
            "type": "histogram2dcontour"
           }
          ],
          "mesh3d": [
           {
            "colorbar": {
             "outlinewidth": 0,
             "ticks": ""
            },
            "type": "mesh3d"
           }
          ],
          "parcoords": [
           {
            "line": {
             "colorbar": {
              "outlinewidth": 0,
              "ticks": ""
             }
            },
            "type": "parcoords"
           }
          ],
          "pie": [
           {
            "automargin": true,
            "type": "pie"
           }
          ],
          "scatter": [
           {
            "marker": {
             "colorbar": {
              "outlinewidth": 0,
              "ticks": ""
             }
            },
            "type": "scatter"
           }
          ],
          "scatter3d": [
           {
            "line": {
             "colorbar": {
              "outlinewidth": 0,
              "ticks": ""
             }
            },
            "marker": {
             "colorbar": {
              "outlinewidth": 0,
              "ticks": ""
             }
            },
            "type": "scatter3d"
           }
          ],
          "scattercarpet": [
           {
            "marker": {
             "colorbar": {
              "outlinewidth": 0,
              "ticks": ""
             }
            },
            "type": "scattercarpet"
           }
          ],
          "scattergeo": [
           {
            "marker": {
             "colorbar": {
              "outlinewidth": 0,
              "ticks": ""
             }
            },
            "type": "scattergeo"
           }
          ],
          "scattergl": [
           {
            "marker": {
             "colorbar": {
              "outlinewidth": 0,
              "ticks": ""
             }
            },
            "type": "scattergl"
           }
          ],
          "scattermapbox": [
           {
            "marker": {
             "colorbar": {
              "outlinewidth": 0,
              "ticks": ""
             }
            },
            "type": "scattermapbox"
           }
          ],
          "scatterpolar": [
           {
            "marker": {
             "colorbar": {
              "outlinewidth": 0,
              "ticks": ""
             }
            },
            "type": "scatterpolar"
           }
          ],
          "scatterpolargl": [
           {
            "marker": {
             "colorbar": {
              "outlinewidth": 0,
              "ticks": ""
             }
            },
            "type": "scatterpolargl"
           }
          ],
          "scatterternary": [
           {
            "marker": {
             "colorbar": {
              "outlinewidth": 0,
              "ticks": ""
             }
            },
            "type": "scatterternary"
           }
          ],
          "surface": [
           {
            "colorbar": {
             "outlinewidth": 0,
             "ticks": ""
            },
            "colorscale": [
             [
              0,
              "#0d0887"
             ],
             [
              0.1111111111111111,
              "#46039f"
             ],
             [
              0.2222222222222222,
              "#7201a8"
             ],
             [
              0.3333333333333333,
              "#9c179e"
             ],
             [
              0.4444444444444444,
              "#bd3786"
             ],
             [
              0.5555555555555556,
              "#d8576b"
             ],
             [
              0.6666666666666666,
              "#ed7953"
             ],
             [
              0.7777777777777778,
              "#fb9f3a"
             ],
             [
              0.8888888888888888,
              "#fdca26"
             ],
             [
              1,
              "#f0f921"
             ]
            ],
            "type": "surface"
           }
          ],
          "table": [
           {
            "cells": {
             "fill": {
              "color": "#EBF0F8"
             },
             "line": {
              "color": "white"
             }
            },
            "header": {
             "fill": {
              "color": "#C8D4E3"
             },
             "line": {
              "color": "white"
             }
            },
            "type": "table"
           }
          ]
         },
         "layout": {
          "annotationdefaults": {
           "arrowcolor": "#2a3f5f",
           "arrowhead": 0,
           "arrowwidth": 1
          },
          "coloraxis": {
           "colorbar": {
            "outlinewidth": 0,
            "ticks": ""
           }
          },
          "colorscale": {
           "diverging": [
            [
             0,
             "#8e0152"
            ],
            [
             0.1,
             "#c51b7d"
            ],
            [
             0.2,
             "#de77ae"
            ],
            [
             0.3,
             "#f1b6da"
            ],
            [
             0.4,
             "#fde0ef"
            ],
            [
             0.5,
             "#f7f7f7"
            ],
            [
             0.6,
             "#e6f5d0"
            ],
            [
             0.7,
             "#b8e186"
            ],
            [
             0.8,
             "#7fbc41"
            ],
            [
             0.9,
             "#4d9221"
            ],
            [
             1,
             "#276419"
            ]
           ],
           "sequential": [
            [
             0,
             "#0d0887"
            ],
            [
             0.1111111111111111,
             "#46039f"
            ],
            [
             0.2222222222222222,
             "#7201a8"
            ],
            [
             0.3333333333333333,
             "#9c179e"
            ],
            [
             0.4444444444444444,
             "#bd3786"
            ],
            [
             0.5555555555555556,
             "#d8576b"
            ],
            [
             0.6666666666666666,
             "#ed7953"
            ],
            [
             0.7777777777777778,
             "#fb9f3a"
            ],
            [
             0.8888888888888888,
             "#fdca26"
            ],
            [
             1,
             "#f0f921"
            ]
           ],
           "sequentialminus": [
            [
             0,
             "#0d0887"
            ],
            [
             0.1111111111111111,
             "#46039f"
            ],
            [
             0.2222222222222222,
             "#7201a8"
            ],
            [
             0.3333333333333333,
             "#9c179e"
            ],
            [
             0.4444444444444444,
             "#bd3786"
            ],
            [
             0.5555555555555556,
             "#d8576b"
            ],
            [
             0.6666666666666666,
             "#ed7953"
            ],
            [
             0.7777777777777778,
             "#fb9f3a"
            ],
            [
             0.8888888888888888,
             "#fdca26"
            ],
            [
             1,
             "#f0f921"
            ]
           ]
          },
          "colorway": [
           "#636efa",
           "#EF553B",
           "#00cc96",
           "#ab63fa",
           "#FFA15A",
           "#19d3f3",
           "#FF6692",
           "#B6E880",
           "#FF97FF",
           "#FECB52"
          ],
          "font": {
           "color": "#2a3f5f"
          },
          "geo": {
           "bgcolor": "white",
           "lakecolor": "white",
           "landcolor": "#E5ECF6",
           "showlakes": true,
           "showland": true,
           "subunitcolor": "white"
          },
          "hoverlabel": {
           "align": "left"
          },
          "hovermode": "closest",
          "mapbox": {
           "style": "light"
          },
          "paper_bgcolor": "white",
          "plot_bgcolor": "#E5ECF6",
          "polar": {
           "angularaxis": {
            "gridcolor": "white",
            "linecolor": "white",
            "ticks": ""
           },
           "bgcolor": "#E5ECF6",
           "radialaxis": {
            "gridcolor": "white",
            "linecolor": "white",
            "ticks": ""
           }
          },
          "scene": {
           "xaxis": {
            "backgroundcolor": "#E5ECF6",
            "gridcolor": "white",
            "gridwidth": 2,
            "linecolor": "white",
            "showbackground": true,
            "ticks": "",
            "zerolinecolor": "white"
           },
           "yaxis": {
            "backgroundcolor": "#E5ECF6",
            "gridcolor": "white",
            "gridwidth": 2,
            "linecolor": "white",
            "showbackground": true,
            "ticks": "",
            "zerolinecolor": "white"
           },
           "zaxis": {
            "backgroundcolor": "#E5ECF6",
            "gridcolor": "white",
            "gridwidth": 2,
            "linecolor": "white",
            "showbackground": true,
            "ticks": "",
            "zerolinecolor": "white"
           }
          },
          "shapedefaults": {
           "line": {
            "color": "#2a3f5f"
           }
          },
          "ternary": {
           "aaxis": {
            "gridcolor": "white",
            "linecolor": "white",
            "ticks": ""
           },
           "baxis": {
            "gridcolor": "white",
            "linecolor": "white",
            "ticks": ""
           },
           "bgcolor": "#E5ECF6",
           "caxis": {
            "gridcolor": "white",
            "linecolor": "white",
            "ticks": ""
           }
          },
          "title": {
           "x": 0.05
          },
          "xaxis": {
           "automargin": true,
           "gridcolor": "white",
           "linecolor": "white",
           "ticks": "",
           "title": {
            "standoff": 15
           },
           "zerolinecolor": "white",
           "zerolinewidth": 2
          },
          "yaxis": {
           "automargin": true,
           "gridcolor": "white",
           "linecolor": "white",
           "ticks": "",
           "title": {
            "standoff": 15
           },
           "zerolinecolor": "white",
           "zerolinewidth": 2
          }
         }
        },
        "title": {
         "text": "Unigram for Non-Sarcastic News"
        },
        "xaxis": {
         "anchor": "y",
         "domain": [
          0,
          1
         ],
         "title": {
          "text": "Count"
         }
        },
        "yaxis": {
         "anchor": "x",
         "domain": [
          0,
          1
         ],
         "title": {
          "text": "Words"
         }
        }
       }
      },
      "text/html": [
       "<div>                            <div id=\"83a68fd8-e85b-4a21-b7c9-c7c3f1ae203e\" class=\"plotly-graph-div\" style=\"height:525px; width:100%;\"></div>            <script type=\"text/javascript\">                require([\"plotly\"], function(Plotly) {                    window.PLOTLYENV=window.PLOTLYENV || {};                                    if (document.getElementById(\"83a68fd8-e85b-4a21-b7c9-c7c3f1ae203e\")) {                    Plotly.newPlot(                        \"83a68fd8-e85b-4a21-b7c9-c7c3f1ae203e\",                        [{\"alignmentgroup\": \"True\", \"hovertemplate\": \"Count=%{x}<br>Words=%{y}<extra></extra>\", \"legendgroup\": \"\", \"marker\": {\"color\": \"#FF8500\"}, \"name\": \"\", \"offsetgroup\": \"\", \"orientation\": \"h\", \"showlegend\": false, \"textposition\": \"auto\", \"type\": \"bar\", \"x\": [2900, 1372, 958, 916, 762, 691, 538, 512, 500, 492], \"xaxis\": \"x\", \"y\": [\"trump\", \"new\", \"woman\", \"donald\", \"year\", \"man\", \"day\", \"way\", \"good\", \"life\"], \"yaxis\": \"y\"}],                        {\"barmode\": \"relative\", \"legend\": {\"tracegroupgap\": 0}, \"margin\": {\"t\": 60}, \"paper_bgcolor\": \"white\", \"plot_bgcolor\": \"white\", \"template\": {\"data\": {\"bar\": [{\"error_x\": {\"color\": \"#2a3f5f\"}, \"error_y\": {\"color\": \"#2a3f5f\"}, \"marker\": {\"line\": {\"color\": \"#E5ECF6\", \"width\": 0.5}}, \"type\": \"bar\"}], \"barpolar\": [{\"marker\": {\"line\": {\"color\": \"#E5ECF6\", \"width\": 0.5}}, \"type\": \"barpolar\"}], \"carpet\": [{\"aaxis\": {\"endlinecolor\": \"#2a3f5f\", \"gridcolor\": \"white\", \"linecolor\": \"white\", \"minorgridcolor\": \"white\", \"startlinecolor\": \"#2a3f5f\"}, \"baxis\": {\"endlinecolor\": \"#2a3f5f\", \"gridcolor\": \"white\", \"linecolor\": \"white\", \"minorgridcolor\": \"white\", \"startlinecolor\": \"#2a3f5f\"}, \"type\": \"carpet\"}], \"choropleth\": [{\"colorbar\": {\"outlinewidth\": 0, \"ticks\": \"\"}, \"type\": \"choropleth\"}], \"contour\": [{\"colorbar\": {\"outlinewidth\": 0, \"ticks\": \"\"}, \"colorscale\": [[0.0, \"#0d0887\"], [0.1111111111111111, \"#46039f\"], [0.2222222222222222, \"#7201a8\"], [0.3333333333333333, \"#9c179e\"], [0.4444444444444444, \"#bd3786\"], [0.5555555555555556, \"#d8576b\"], [0.6666666666666666, \"#ed7953\"], [0.7777777777777778, \"#fb9f3a\"], [0.8888888888888888, \"#fdca26\"], [1.0, \"#f0f921\"]], \"type\": \"contour\"}], \"contourcarpet\": [{\"colorbar\": {\"outlinewidth\": 0, \"ticks\": \"\"}, \"type\": \"contourcarpet\"}], \"heatmap\": [{\"colorbar\": {\"outlinewidth\": 0, \"ticks\": \"\"}, \"colorscale\": [[0.0, \"#0d0887\"], [0.1111111111111111, \"#46039f\"], [0.2222222222222222, \"#7201a8\"], [0.3333333333333333, \"#9c179e\"], [0.4444444444444444, \"#bd3786\"], [0.5555555555555556, \"#d8576b\"], [0.6666666666666666, \"#ed7953\"], [0.7777777777777778, \"#fb9f3a\"], [0.8888888888888888, \"#fdca26\"], [1.0, \"#f0f921\"]], \"type\": \"heatmap\"}], \"heatmapgl\": [{\"colorbar\": {\"outlinewidth\": 0, \"ticks\": \"\"}, \"colorscale\": [[0.0, \"#0d0887\"], [0.1111111111111111, \"#46039f\"], [0.2222222222222222, \"#7201a8\"], [0.3333333333333333, \"#9c179e\"], [0.4444444444444444, \"#bd3786\"], [0.5555555555555556, \"#d8576b\"], [0.6666666666666666, \"#ed7953\"], [0.7777777777777778, \"#fb9f3a\"], [0.8888888888888888, \"#fdca26\"], [1.0, \"#f0f921\"]], \"type\": \"heatmapgl\"}], \"histogram\": [{\"marker\": {\"colorbar\": {\"outlinewidth\": 0, \"ticks\": \"\"}}, \"type\": \"histogram\"}], \"histogram2d\": [{\"colorbar\": {\"outlinewidth\": 0, \"ticks\": \"\"}, \"colorscale\": [[0.0, \"#0d0887\"], [0.1111111111111111, \"#46039f\"], [0.2222222222222222, \"#7201a8\"], [0.3333333333333333, \"#9c179e\"], [0.4444444444444444, \"#bd3786\"], [0.5555555555555556, \"#d8576b\"], [0.6666666666666666, \"#ed7953\"], [0.7777777777777778, \"#fb9f3a\"], [0.8888888888888888, \"#fdca26\"], [1.0, \"#f0f921\"]], \"type\": \"histogram2d\"}], \"histogram2dcontour\": [{\"colorbar\": {\"outlinewidth\": 0, \"ticks\": \"\"}, \"colorscale\": [[0.0, \"#0d0887\"], [0.1111111111111111, \"#46039f\"], [0.2222222222222222, \"#7201a8\"], [0.3333333333333333, \"#9c179e\"], [0.4444444444444444, \"#bd3786\"], [0.5555555555555556, \"#d8576b\"], [0.6666666666666666, \"#ed7953\"], [0.7777777777777778, \"#fb9f3a\"], [0.8888888888888888, \"#fdca26\"], [1.0, \"#f0f921\"]], \"type\": \"histogram2dcontour\"}], \"mesh3d\": [{\"colorbar\": {\"outlinewidth\": 0, \"ticks\": \"\"}, \"type\": \"mesh3d\"}], \"parcoords\": [{\"line\": {\"colorbar\": {\"outlinewidth\": 0, \"ticks\": \"\"}}, \"type\": \"parcoords\"}], \"pie\": [{\"automargin\": true, \"type\": \"pie\"}], \"scatter\": [{\"marker\": {\"colorbar\": {\"outlinewidth\": 0, \"ticks\": \"\"}}, \"type\": \"scatter\"}], \"scatter3d\": [{\"line\": {\"colorbar\": {\"outlinewidth\": 0, \"ticks\": \"\"}}, \"marker\": {\"colorbar\": {\"outlinewidth\": 0, \"ticks\": \"\"}}, \"type\": \"scatter3d\"}], \"scattercarpet\": [{\"marker\": {\"colorbar\": {\"outlinewidth\": 0, \"ticks\": \"\"}}, \"type\": \"scattercarpet\"}], \"scattergeo\": [{\"marker\": {\"colorbar\": {\"outlinewidth\": 0, \"ticks\": \"\"}}, \"type\": \"scattergeo\"}], \"scattergl\": [{\"marker\": {\"colorbar\": {\"outlinewidth\": 0, \"ticks\": \"\"}}, \"type\": \"scattergl\"}], \"scattermapbox\": [{\"marker\": {\"colorbar\": {\"outlinewidth\": 0, \"ticks\": \"\"}}, \"type\": \"scattermapbox\"}], \"scatterpolar\": [{\"marker\": {\"colorbar\": {\"outlinewidth\": 0, \"ticks\": \"\"}}, \"type\": \"scatterpolar\"}], \"scatterpolargl\": [{\"marker\": {\"colorbar\": {\"outlinewidth\": 0, \"ticks\": \"\"}}, \"type\": \"scatterpolargl\"}], \"scatterternary\": [{\"marker\": {\"colorbar\": {\"outlinewidth\": 0, \"ticks\": \"\"}}, \"type\": \"scatterternary\"}], \"surface\": [{\"colorbar\": {\"outlinewidth\": 0, \"ticks\": \"\"}, \"colorscale\": [[0.0, \"#0d0887\"], [0.1111111111111111, \"#46039f\"], [0.2222222222222222, \"#7201a8\"], [0.3333333333333333, \"#9c179e\"], [0.4444444444444444, \"#bd3786\"], [0.5555555555555556, \"#d8576b\"], [0.6666666666666666, \"#ed7953\"], [0.7777777777777778, \"#fb9f3a\"], [0.8888888888888888, \"#fdca26\"], [1.0, \"#f0f921\"]], \"type\": \"surface\"}], \"table\": [{\"cells\": {\"fill\": {\"color\": \"#EBF0F8\"}, \"line\": {\"color\": \"white\"}}, \"header\": {\"fill\": {\"color\": \"#C8D4E3\"}, \"line\": {\"color\": \"white\"}}, \"type\": \"table\"}]}, \"layout\": {\"annotationdefaults\": {\"arrowcolor\": \"#2a3f5f\", \"arrowhead\": 0, \"arrowwidth\": 1}, \"coloraxis\": {\"colorbar\": {\"outlinewidth\": 0, \"ticks\": \"\"}}, \"colorscale\": {\"diverging\": [[0, \"#8e0152\"], [0.1, \"#c51b7d\"], [0.2, \"#de77ae\"], [0.3, \"#f1b6da\"], [0.4, \"#fde0ef\"], [0.5, \"#f7f7f7\"], [0.6, \"#e6f5d0\"], [0.7, \"#b8e186\"], [0.8, \"#7fbc41\"], [0.9, \"#4d9221\"], [1, \"#276419\"]], \"sequential\": [[0.0, \"#0d0887\"], [0.1111111111111111, \"#46039f\"], [0.2222222222222222, \"#7201a8\"], [0.3333333333333333, \"#9c179e\"], [0.4444444444444444, \"#bd3786\"], [0.5555555555555556, \"#d8576b\"], [0.6666666666666666, \"#ed7953\"], [0.7777777777777778, \"#fb9f3a\"], [0.8888888888888888, \"#fdca26\"], [1.0, \"#f0f921\"]], \"sequentialminus\": [[0.0, \"#0d0887\"], [0.1111111111111111, \"#46039f\"], [0.2222222222222222, \"#7201a8\"], [0.3333333333333333, \"#9c179e\"], [0.4444444444444444, \"#bd3786\"], [0.5555555555555556, \"#d8576b\"], [0.6666666666666666, \"#ed7953\"], [0.7777777777777778, \"#fb9f3a\"], [0.8888888888888888, \"#fdca26\"], [1.0, \"#f0f921\"]]}, \"colorway\": [\"#636efa\", \"#EF553B\", \"#00cc96\", \"#ab63fa\", \"#FFA15A\", \"#19d3f3\", \"#FF6692\", \"#B6E880\", \"#FF97FF\", \"#FECB52\"], \"font\": {\"color\": \"#2a3f5f\"}, \"geo\": {\"bgcolor\": \"white\", \"lakecolor\": \"white\", \"landcolor\": \"#E5ECF6\", \"showlakes\": true, \"showland\": true, \"subunitcolor\": \"white\"}, \"hoverlabel\": {\"align\": \"left\"}, \"hovermode\": \"closest\", \"mapbox\": {\"style\": \"light\"}, \"paper_bgcolor\": \"white\", \"plot_bgcolor\": \"#E5ECF6\", \"polar\": {\"angularaxis\": {\"gridcolor\": \"white\", \"linecolor\": \"white\", \"ticks\": \"\"}, \"bgcolor\": \"#E5ECF6\", \"radialaxis\": {\"gridcolor\": \"white\", \"linecolor\": \"white\", \"ticks\": \"\"}}, \"scene\": {\"xaxis\": {\"backgroundcolor\": \"#E5ECF6\", \"gridcolor\": \"white\", \"gridwidth\": 2, \"linecolor\": \"white\", \"showbackground\": true, \"ticks\": \"\", \"zerolinecolor\": \"white\"}, \"yaxis\": {\"backgroundcolor\": \"#E5ECF6\", \"gridcolor\": \"white\", \"gridwidth\": 2, \"linecolor\": \"white\", \"showbackground\": true, \"ticks\": \"\", \"zerolinecolor\": \"white\"}, \"zaxis\": {\"backgroundcolor\": \"#E5ECF6\", \"gridcolor\": \"white\", \"gridwidth\": 2, \"linecolor\": \"white\", \"showbackground\": true, \"ticks\": \"\", \"zerolinecolor\": \"white\"}}, \"shapedefaults\": {\"line\": {\"color\": \"#2a3f5f\"}}, \"ternary\": {\"aaxis\": {\"gridcolor\": \"white\", \"linecolor\": \"white\", \"ticks\": \"\"}, \"baxis\": {\"gridcolor\": \"white\", \"linecolor\": \"white\", \"ticks\": \"\"}, \"bgcolor\": \"#E5ECF6\", \"caxis\": {\"gridcolor\": \"white\", \"linecolor\": \"white\", \"ticks\": \"\"}}, \"title\": {\"x\": 0.05}, \"xaxis\": {\"automargin\": true, \"gridcolor\": \"white\", \"linecolor\": \"white\", \"ticks\": \"\", \"title\": {\"standoff\": 15}, \"zerolinecolor\": \"white\", \"zerolinewidth\": 2}, \"yaxis\": {\"automargin\": true, \"gridcolor\": \"white\", \"linecolor\": \"white\", \"ticks\": \"\", \"title\": {\"standoff\": 15}, \"zerolinecolor\": \"white\", \"zerolinewidth\": 2}}}, \"title\": {\"text\": \"Unigram for Non-Sarcastic News\"}, \"xaxis\": {\"anchor\": \"y\", \"domain\": [0.0, 1.0], \"title\": {\"text\": \"Count\"}}, \"yaxis\": {\"anchor\": \"x\", \"domain\": [0.0, 1.0], \"title\": {\"text\": \"Words\"}}},                        {\"responsive\": true}                    ).then(function(){\n",
       "                            \n",
       "var gd = document.getElementById('83a68fd8-e85b-4a21-b7c9-c7c3f1ae203e');\n",
       "var x = new MutationObserver(function (mutations, observer) {{\n",
       "        var display = window.getComputedStyle(gd).display;\n",
       "        if (!display || display === 'none') {{\n",
       "            console.log([gd, 'removed!']);\n",
       "            Plotly.purge(gd);\n",
       "            observer.disconnect();\n",
       "        }}\n",
       "}});\n",
       "\n",
       "// Listen for the removal of the full notebook cells\n",
       "var notebookContainer = gd.closest('#notebook-container');\n",
       "if (notebookContainer) {{\n",
       "    x.observe(notebookContainer, {childList: true});\n",
       "}}\n",
       "\n",
       "// Listen for the clearing of the current output cell\n",
       "var outputEl = gd.closest('.output');\n",
       "if (outputEl) {{\n",
       "    x.observe(outputEl, {childList: true});\n",
       "}}\n",
       "\n",
       "                        })                };                });            </script>        </div>"
      ]
     },
     "metadata": {},
     "output_type": "display_data"
    },
    {
     "data": {
      "text/plain": [
       "<Figure size 1152x648 with 0 Axes>"
      ]
     },
     "metadata": {},
     "output_type": "display_data"
    }
   ],
   "source": [
    "plt.figure(figsize = (16,9))\n",
    "most_common_uni = get_top_text_ngrams(data_nsar.headline,10,1)\n",
    "most_common_uni = dict(most_common_uni)\n",
    "fig = px.bar(x = list(most_common_uni.values()), y = list(most_common_uni.keys()), labels=dict(x=\"Count\", y=\"Words\"))\n",
    "fig.update_traces(marker_color='#FF8500')\n",
    "fig.update_layout(title_text='Unigram for Non-Sarcastic News', paper_bgcolor = 'white', plot_bgcolor = 'white')\n",
    "fig.show()"
   ]
  },
  {
   "cell_type": "code",
   "execution_count": 52,
   "metadata": {},
   "outputs": [
    {
     "data": {
      "application/vnd.plotly.v1+json": {
       "config": {
        "plotlyServerURL": "https://plot.ly"
       },
       "data": [
        {
         "alignmentgroup": "True",
         "hovertemplate": "Count=%{x}<br>Words=%{y}<extra></extra>",
         "legendgroup": "",
         "marker": {
          "color": "#FF8500"
         },
         "name": "",
         "offsetgroup": "",
         "orientation": "h",
         "showlegend": false,
         "textposition": "auto",
         "type": "bar",
         "x": [
          894,
          282,
          182,
          172,
          172,
          150,
          118,
          118,
          112,
          94
         ],
         "xaxis": "x",
         "y": [
          "donald trump",
          "hillary clinton",
          "new york",
          "white house",
          "year old",
          "supreme court",
          "health care",
          "climate change",
          "morning email",
          "bernie sander"
         ],
         "yaxis": "y"
        }
       ],
       "layout": {
        "barmode": "relative",
        "legend": {
         "tracegroupgap": 0
        },
        "margin": {
         "t": 60
        },
        "paper_bgcolor": "white",
        "plot_bgcolor": "white",
        "template": {
         "data": {
          "bar": [
           {
            "error_x": {
             "color": "#2a3f5f"
            },
            "error_y": {
             "color": "#2a3f5f"
            },
            "marker": {
             "line": {
              "color": "#E5ECF6",
              "width": 0.5
             }
            },
            "type": "bar"
           }
          ],
          "barpolar": [
           {
            "marker": {
             "line": {
              "color": "#E5ECF6",
              "width": 0.5
             }
            },
            "type": "barpolar"
           }
          ],
          "carpet": [
           {
            "aaxis": {
             "endlinecolor": "#2a3f5f",
             "gridcolor": "white",
             "linecolor": "white",
             "minorgridcolor": "white",
             "startlinecolor": "#2a3f5f"
            },
            "baxis": {
             "endlinecolor": "#2a3f5f",
             "gridcolor": "white",
             "linecolor": "white",
             "minorgridcolor": "white",
             "startlinecolor": "#2a3f5f"
            },
            "type": "carpet"
           }
          ],
          "choropleth": [
           {
            "colorbar": {
             "outlinewidth": 0,
             "ticks": ""
            },
            "type": "choropleth"
           }
          ],
          "contour": [
           {
            "colorbar": {
             "outlinewidth": 0,
             "ticks": ""
            },
            "colorscale": [
             [
              0,
              "#0d0887"
             ],
             [
              0.1111111111111111,
              "#46039f"
             ],
             [
              0.2222222222222222,
              "#7201a8"
             ],
             [
              0.3333333333333333,
              "#9c179e"
             ],
             [
              0.4444444444444444,
              "#bd3786"
             ],
             [
              0.5555555555555556,
              "#d8576b"
             ],
             [
              0.6666666666666666,
              "#ed7953"
             ],
             [
              0.7777777777777778,
              "#fb9f3a"
             ],
             [
              0.8888888888888888,
              "#fdca26"
             ],
             [
              1,
              "#f0f921"
             ]
            ],
            "type": "contour"
           }
          ],
          "contourcarpet": [
           {
            "colorbar": {
             "outlinewidth": 0,
             "ticks": ""
            },
            "type": "contourcarpet"
           }
          ],
          "heatmap": [
           {
            "colorbar": {
             "outlinewidth": 0,
             "ticks": ""
            },
            "colorscale": [
             [
              0,
              "#0d0887"
             ],
             [
              0.1111111111111111,
              "#46039f"
             ],
             [
              0.2222222222222222,
              "#7201a8"
             ],
             [
              0.3333333333333333,
              "#9c179e"
             ],
             [
              0.4444444444444444,
              "#bd3786"
             ],
             [
              0.5555555555555556,
              "#d8576b"
             ],
             [
              0.6666666666666666,
              "#ed7953"
             ],
             [
              0.7777777777777778,
              "#fb9f3a"
             ],
             [
              0.8888888888888888,
              "#fdca26"
             ],
             [
              1,
              "#f0f921"
             ]
            ],
            "type": "heatmap"
           }
          ],
          "heatmapgl": [
           {
            "colorbar": {
             "outlinewidth": 0,
             "ticks": ""
            },
            "colorscale": [
             [
              0,
              "#0d0887"
             ],
             [
              0.1111111111111111,
              "#46039f"
             ],
             [
              0.2222222222222222,
              "#7201a8"
             ],
             [
              0.3333333333333333,
              "#9c179e"
             ],
             [
              0.4444444444444444,
              "#bd3786"
             ],
             [
              0.5555555555555556,
              "#d8576b"
             ],
             [
              0.6666666666666666,
              "#ed7953"
             ],
             [
              0.7777777777777778,
              "#fb9f3a"
             ],
             [
              0.8888888888888888,
              "#fdca26"
             ],
             [
              1,
              "#f0f921"
             ]
            ],
            "type": "heatmapgl"
           }
          ],
          "histogram": [
           {
            "marker": {
             "colorbar": {
              "outlinewidth": 0,
              "ticks": ""
             }
            },
            "type": "histogram"
           }
          ],
          "histogram2d": [
           {
            "colorbar": {
             "outlinewidth": 0,
             "ticks": ""
            },
            "colorscale": [
             [
              0,
              "#0d0887"
             ],
             [
              0.1111111111111111,
              "#46039f"
             ],
             [
              0.2222222222222222,
              "#7201a8"
             ],
             [
              0.3333333333333333,
              "#9c179e"
             ],
             [
              0.4444444444444444,
              "#bd3786"
             ],
             [
              0.5555555555555556,
              "#d8576b"
             ],
             [
              0.6666666666666666,
              "#ed7953"
             ],
             [
              0.7777777777777778,
              "#fb9f3a"
             ],
             [
              0.8888888888888888,
              "#fdca26"
             ],
             [
              1,
              "#f0f921"
             ]
            ],
            "type": "histogram2d"
           }
          ],
          "histogram2dcontour": [
           {
            "colorbar": {
             "outlinewidth": 0,
             "ticks": ""
            },
            "colorscale": [
             [
              0,
              "#0d0887"
             ],
             [
              0.1111111111111111,
              "#46039f"
             ],
             [
              0.2222222222222222,
              "#7201a8"
             ],
             [
              0.3333333333333333,
              "#9c179e"
             ],
             [
              0.4444444444444444,
              "#bd3786"
             ],
             [
              0.5555555555555556,
              "#d8576b"
             ],
             [
              0.6666666666666666,
              "#ed7953"
             ],
             [
              0.7777777777777778,
              "#fb9f3a"
             ],
             [
              0.8888888888888888,
              "#fdca26"
             ],
             [
              1,
              "#f0f921"
             ]
            ],
            "type": "histogram2dcontour"
           }
          ],
          "mesh3d": [
           {
            "colorbar": {
             "outlinewidth": 0,
             "ticks": ""
            },
            "type": "mesh3d"
           }
          ],
          "parcoords": [
           {
            "line": {
             "colorbar": {
              "outlinewidth": 0,
              "ticks": ""
             }
            },
            "type": "parcoords"
           }
          ],
          "pie": [
           {
            "automargin": true,
            "type": "pie"
           }
          ],
          "scatter": [
           {
            "marker": {
             "colorbar": {
              "outlinewidth": 0,
              "ticks": ""
             }
            },
            "type": "scatter"
           }
          ],
          "scatter3d": [
           {
            "line": {
             "colorbar": {
              "outlinewidth": 0,
              "ticks": ""
             }
            },
            "marker": {
             "colorbar": {
              "outlinewidth": 0,
              "ticks": ""
             }
            },
            "type": "scatter3d"
           }
          ],
          "scattercarpet": [
           {
            "marker": {
             "colorbar": {
              "outlinewidth": 0,
              "ticks": ""
             }
            },
            "type": "scattercarpet"
           }
          ],
          "scattergeo": [
           {
            "marker": {
             "colorbar": {
              "outlinewidth": 0,
              "ticks": ""
             }
            },
            "type": "scattergeo"
           }
          ],
          "scattergl": [
           {
            "marker": {
             "colorbar": {
              "outlinewidth": 0,
              "ticks": ""
             }
            },
            "type": "scattergl"
           }
          ],
          "scattermapbox": [
           {
            "marker": {
             "colorbar": {
              "outlinewidth": 0,
              "ticks": ""
             }
            },
            "type": "scattermapbox"
           }
          ],
          "scatterpolar": [
           {
            "marker": {
             "colorbar": {
              "outlinewidth": 0,
              "ticks": ""
             }
            },
            "type": "scatterpolar"
           }
          ],
          "scatterpolargl": [
           {
            "marker": {
             "colorbar": {
              "outlinewidth": 0,
              "ticks": ""
             }
            },
            "type": "scatterpolargl"
           }
          ],
          "scatterternary": [
           {
            "marker": {
             "colorbar": {
              "outlinewidth": 0,
              "ticks": ""
             }
            },
            "type": "scatterternary"
           }
          ],
          "surface": [
           {
            "colorbar": {
             "outlinewidth": 0,
             "ticks": ""
            },
            "colorscale": [
             [
              0,
              "#0d0887"
             ],
             [
              0.1111111111111111,
              "#46039f"
             ],
             [
              0.2222222222222222,
              "#7201a8"
             ],
             [
              0.3333333333333333,
              "#9c179e"
             ],
             [
              0.4444444444444444,
              "#bd3786"
             ],
             [
              0.5555555555555556,
              "#d8576b"
             ],
             [
              0.6666666666666666,
              "#ed7953"
             ],
             [
              0.7777777777777778,
              "#fb9f3a"
             ],
             [
              0.8888888888888888,
              "#fdca26"
             ],
             [
              1,
              "#f0f921"
             ]
            ],
            "type": "surface"
           }
          ],
          "table": [
           {
            "cells": {
             "fill": {
              "color": "#EBF0F8"
             },
             "line": {
              "color": "white"
             }
            },
            "header": {
             "fill": {
              "color": "#C8D4E3"
             },
             "line": {
              "color": "white"
             }
            },
            "type": "table"
           }
          ]
         },
         "layout": {
          "annotationdefaults": {
           "arrowcolor": "#2a3f5f",
           "arrowhead": 0,
           "arrowwidth": 1
          },
          "coloraxis": {
           "colorbar": {
            "outlinewidth": 0,
            "ticks": ""
           }
          },
          "colorscale": {
           "diverging": [
            [
             0,
             "#8e0152"
            ],
            [
             0.1,
             "#c51b7d"
            ],
            [
             0.2,
             "#de77ae"
            ],
            [
             0.3,
             "#f1b6da"
            ],
            [
             0.4,
             "#fde0ef"
            ],
            [
             0.5,
             "#f7f7f7"
            ],
            [
             0.6,
             "#e6f5d0"
            ],
            [
             0.7,
             "#b8e186"
            ],
            [
             0.8,
             "#7fbc41"
            ],
            [
             0.9,
             "#4d9221"
            ],
            [
             1,
             "#276419"
            ]
           ],
           "sequential": [
            [
             0,
             "#0d0887"
            ],
            [
             0.1111111111111111,
             "#46039f"
            ],
            [
             0.2222222222222222,
             "#7201a8"
            ],
            [
             0.3333333333333333,
             "#9c179e"
            ],
            [
             0.4444444444444444,
             "#bd3786"
            ],
            [
             0.5555555555555556,
             "#d8576b"
            ],
            [
             0.6666666666666666,
             "#ed7953"
            ],
            [
             0.7777777777777778,
             "#fb9f3a"
            ],
            [
             0.8888888888888888,
             "#fdca26"
            ],
            [
             1,
             "#f0f921"
            ]
           ],
           "sequentialminus": [
            [
             0,
             "#0d0887"
            ],
            [
             0.1111111111111111,
             "#46039f"
            ],
            [
             0.2222222222222222,
             "#7201a8"
            ],
            [
             0.3333333333333333,
             "#9c179e"
            ],
            [
             0.4444444444444444,
             "#bd3786"
            ],
            [
             0.5555555555555556,
             "#d8576b"
            ],
            [
             0.6666666666666666,
             "#ed7953"
            ],
            [
             0.7777777777777778,
             "#fb9f3a"
            ],
            [
             0.8888888888888888,
             "#fdca26"
            ],
            [
             1,
             "#f0f921"
            ]
           ]
          },
          "colorway": [
           "#636efa",
           "#EF553B",
           "#00cc96",
           "#ab63fa",
           "#FFA15A",
           "#19d3f3",
           "#FF6692",
           "#B6E880",
           "#FF97FF",
           "#FECB52"
          ],
          "font": {
           "color": "#2a3f5f"
          },
          "geo": {
           "bgcolor": "white",
           "lakecolor": "white",
           "landcolor": "#E5ECF6",
           "showlakes": true,
           "showland": true,
           "subunitcolor": "white"
          },
          "hoverlabel": {
           "align": "left"
          },
          "hovermode": "closest",
          "mapbox": {
           "style": "light"
          },
          "paper_bgcolor": "white",
          "plot_bgcolor": "#E5ECF6",
          "polar": {
           "angularaxis": {
            "gridcolor": "white",
            "linecolor": "white",
            "ticks": ""
           },
           "bgcolor": "#E5ECF6",
           "radialaxis": {
            "gridcolor": "white",
            "linecolor": "white",
            "ticks": ""
           }
          },
          "scene": {
           "xaxis": {
            "backgroundcolor": "#E5ECF6",
            "gridcolor": "white",
            "gridwidth": 2,
            "linecolor": "white",
            "showbackground": true,
            "ticks": "",
            "zerolinecolor": "white"
           },
           "yaxis": {
            "backgroundcolor": "#E5ECF6",
            "gridcolor": "white",
            "gridwidth": 2,
            "linecolor": "white",
            "showbackground": true,
            "ticks": "",
            "zerolinecolor": "white"
           },
           "zaxis": {
            "backgroundcolor": "#E5ECF6",
            "gridcolor": "white",
            "gridwidth": 2,
            "linecolor": "white",
            "showbackground": true,
            "ticks": "",
            "zerolinecolor": "white"
           }
          },
          "shapedefaults": {
           "line": {
            "color": "#2a3f5f"
           }
          },
          "ternary": {
           "aaxis": {
            "gridcolor": "white",
            "linecolor": "white",
            "ticks": ""
           },
           "baxis": {
            "gridcolor": "white",
            "linecolor": "white",
            "ticks": ""
           },
           "bgcolor": "#E5ECF6",
           "caxis": {
            "gridcolor": "white",
            "linecolor": "white",
            "ticks": ""
           }
          },
          "title": {
           "x": 0.05
          },
          "xaxis": {
           "automargin": true,
           "gridcolor": "white",
           "linecolor": "white",
           "ticks": "",
           "title": {
            "standoff": 15
           },
           "zerolinecolor": "white",
           "zerolinewidth": 2
          },
          "yaxis": {
           "automargin": true,
           "gridcolor": "white",
           "linecolor": "white",
           "ticks": "",
           "title": {
            "standoff": 15
           },
           "zerolinecolor": "white",
           "zerolinewidth": 2
          }
         }
        },
        "title": {
         "text": "Bigram for Non-Sarcastic News"
        },
        "xaxis": {
         "anchor": "y",
         "domain": [
          0,
          1
         ],
         "title": {
          "text": "Count"
         }
        },
        "yaxis": {
         "anchor": "x",
         "domain": [
          0,
          1
         ],
         "title": {
          "text": "Words"
         }
        }
       }
      },
      "text/html": [
       "<div>                            <div id=\"cca312f9-7c48-421c-9840-2c9fff2fc91b\" class=\"plotly-graph-div\" style=\"height:525px; width:100%;\"></div>            <script type=\"text/javascript\">                require([\"plotly\"], function(Plotly) {                    window.PLOTLYENV=window.PLOTLYENV || {};                                    if (document.getElementById(\"cca312f9-7c48-421c-9840-2c9fff2fc91b\")) {                    Plotly.newPlot(                        \"cca312f9-7c48-421c-9840-2c9fff2fc91b\",                        [{\"alignmentgroup\": \"True\", \"hovertemplate\": \"Count=%{x}<br>Words=%{y}<extra></extra>\", \"legendgroup\": \"\", \"marker\": {\"color\": \"#FF8500\"}, \"name\": \"\", \"offsetgroup\": \"\", \"orientation\": \"h\", \"showlegend\": false, \"textposition\": \"auto\", \"type\": \"bar\", \"x\": [894, 282, 182, 172, 172, 150, 118, 118, 112, 94], \"xaxis\": \"x\", \"y\": [\"donald trump\", \"hillary clinton\", \"new york\", \"white house\", \"year old\", \"supreme court\", \"health care\", \"climate change\", \"morning email\", \"bernie sander\"], \"yaxis\": \"y\"}],                        {\"barmode\": \"relative\", \"legend\": {\"tracegroupgap\": 0}, \"margin\": {\"t\": 60}, \"paper_bgcolor\": \"white\", \"plot_bgcolor\": \"white\", \"template\": {\"data\": {\"bar\": [{\"error_x\": {\"color\": \"#2a3f5f\"}, \"error_y\": {\"color\": \"#2a3f5f\"}, \"marker\": {\"line\": {\"color\": \"#E5ECF6\", \"width\": 0.5}}, \"type\": \"bar\"}], \"barpolar\": [{\"marker\": {\"line\": {\"color\": \"#E5ECF6\", \"width\": 0.5}}, \"type\": \"barpolar\"}], \"carpet\": [{\"aaxis\": {\"endlinecolor\": \"#2a3f5f\", \"gridcolor\": \"white\", \"linecolor\": \"white\", \"minorgridcolor\": \"white\", \"startlinecolor\": \"#2a3f5f\"}, \"baxis\": {\"endlinecolor\": \"#2a3f5f\", \"gridcolor\": \"white\", \"linecolor\": \"white\", \"minorgridcolor\": \"white\", \"startlinecolor\": \"#2a3f5f\"}, \"type\": \"carpet\"}], \"choropleth\": [{\"colorbar\": {\"outlinewidth\": 0, \"ticks\": \"\"}, \"type\": \"choropleth\"}], \"contour\": [{\"colorbar\": {\"outlinewidth\": 0, \"ticks\": \"\"}, \"colorscale\": [[0.0, \"#0d0887\"], [0.1111111111111111, \"#46039f\"], [0.2222222222222222, \"#7201a8\"], [0.3333333333333333, \"#9c179e\"], [0.4444444444444444, \"#bd3786\"], [0.5555555555555556, \"#d8576b\"], [0.6666666666666666, \"#ed7953\"], [0.7777777777777778, \"#fb9f3a\"], [0.8888888888888888, \"#fdca26\"], [1.0, \"#f0f921\"]], \"type\": \"contour\"}], \"contourcarpet\": [{\"colorbar\": {\"outlinewidth\": 0, \"ticks\": \"\"}, \"type\": \"contourcarpet\"}], \"heatmap\": [{\"colorbar\": {\"outlinewidth\": 0, \"ticks\": \"\"}, \"colorscale\": [[0.0, \"#0d0887\"], [0.1111111111111111, \"#46039f\"], [0.2222222222222222, \"#7201a8\"], [0.3333333333333333, \"#9c179e\"], [0.4444444444444444, \"#bd3786\"], [0.5555555555555556, \"#d8576b\"], [0.6666666666666666, \"#ed7953\"], [0.7777777777777778, \"#fb9f3a\"], [0.8888888888888888, \"#fdca26\"], [1.0, \"#f0f921\"]], \"type\": \"heatmap\"}], \"heatmapgl\": [{\"colorbar\": {\"outlinewidth\": 0, \"ticks\": \"\"}, \"colorscale\": [[0.0, \"#0d0887\"], [0.1111111111111111, \"#46039f\"], [0.2222222222222222, \"#7201a8\"], [0.3333333333333333, \"#9c179e\"], [0.4444444444444444, \"#bd3786\"], [0.5555555555555556, \"#d8576b\"], [0.6666666666666666, \"#ed7953\"], [0.7777777777777778, \"#fb9f3a\"], [0.8888888888888888, \"#fdca26\"], [1.0, \"#f0f921\"]], \"type\": \"heatmapgl\"}], \"histogram\": [{\"marker\": {\"colorbar\": {\"outlinewidth\": 0, \"ticks\": \"\"}}, \"type\": \"histogram\"}], \"histogram2d\": [{\"colorbar\": {\"outlinewidth\": 0, \"ticks\": \"\"}, \"colorscale\": [[0.0, \"#0d0887\"], [0.1111111111111111, \"#46039f\"], [0.2222222222222222, \"#7201a8\"], [0.3333333333333333, \"#9c179e\"], [0.4444444444444444, \"#bd3786\"], [0.5555555555555556, \"#d8576b\"], [0.6666666666666666, \"#ed7953\"], [0.7777777777777778, \"#fb9f3a\"], [0.8888888888888888, \"#fdca26\"], [1.0, \"#f0f921\"]], \"type\": \"histogram2d\"}], \"histogram2dcontour\": [{\"colorbar\": {\"outlinewidth\": 0, \"ticks\": \"\"}, \"colorscale\": [[0.0, \"#0d0887\"], [0.1111111111111111, \"#46039f\"], [0.2222222222222222, \"#7201a8\"], [0.3333333333333333, \"#9c179e\"], [0.4444444444444444, \"#bd3786\"], [0.5555555555555556, \"#d8576b\"], [0.6666666666666666, \"#ed7953\"], [0.7777777777777778, \"#fb9f3a\"], [0.8888888888888888, \"#fdca26\"], [1.0, \"#f0f921\"]], \"type\": \"histogram2dcontour\"}], \"mesh3d\": [{\"colorbar\": {\"outlinewidth\": 0, \"ticks\": \"\"}, \"type\": \"mesh3d\"}], \"parcoords\": [{\"line\": {\"colorbar\": {\"outlinewidth\": 0, \"ticks\": \"\"}}, \"type\": \"parcoords\"}], \"pie\": [{\"automargin\": true, \"type\": \"pie\"}], \"scatter\": [{\"marker\": {\"colorbar\": {\"outlinewidth\": 0, \"ticks\": \"\"}}, \"type\": \"scatter\"}], \"scatter3d\": [{\"line\": {\"colorbar\": {\"outlinewidth\": 0, \"ticks\": \"\"}}, \"marker\": {\"colorbar\": {\"outlinewidth\": 0, \"ticks\": \"\"}}, \"type\": \"scatter3d\"}], \"scattercarpet\": [{\"marker\": {\"colorbar\": {\"outlinewidth\": 0, \"ticks\": \"\"}}, \"type\": \"scattercarpet\"}], \"scattergeo\": [{\"marker\": {\"colorbar\": {\"outlinewidth\": 0, \"ticks\": \"\"}}, \"type\": \"scattergeo\"}], \"scattergl\": [{\"marker\": {\"colorbar\": {\"outlinewidth\": 0, \"ticks\": \"\"}}, \"type\": \"scattergl\"}], \"scattermapbox\": [{\"marker\": {\"colorbar\": {\"outlinewidth\": 0, \"ticks\": \"\"}}, \"type\": \"scattermapbox\"}], \"scatterpolar\": [{\"marker\": {\"colorbar\": {\"outlinewidth\": 0, \"ticks\": \"\"}}, \"type\": \"scatterpolar\"}], \"scatterpolargl\": [{\"marker\": {\"colorbar\": {\"outlinewidth\": 0, \"ticks\": \"\"}}, \"type\": \"scatterpolargl\"}], \"scatterternary\": [{\"marker\": {\"colorbar\": {\"outlinewidth\": 0, \"ticks\": \"\"}}, \"type\": \"scatterternary\"}], \"surface\": [{\"colorbar\": {\"outlinewidth\": 0, \"ticks\": \"\"}, \"colorscale\": [[0.0, \"#0d0887\"], [0.1111111111111111, \"#46039f\"], [0.2222222222222222, \"#7201a8\"], [0.3333333333333333, \"#9c179e\"], [0.4444444444444444, \"#bd3786\"], [0.5555555555555556, \"#d8576b\"], [0.6666666666666666, \"#ed7953\"], [0.7777777777777778, \"#fb9f3a\"], [0.8888888888888888, \"#fdca26\"], [1.0, \"#f0f921\"]], \"type\": \"surface\"}], \"table\": [{\"cells\": {\"fill\": {\"color\": \"#EBF0F8\"}, \"line\": {\"color\": \"white\"}}, \"header\": {\"fill\": {\"color\": \"#C8D4E3\"}, \"line\": {\"color\": \"white\"}}, \"type\": \"table\"}]}, \"layout\": {\"annotationdefaults\": {\"arrowcolor\": \"#2a3f5f\", \"arrowhead\": 0, \"arrowwidth\": 1}, \"coloraxis\": {\"colorbar\": {\"outlinewidth\": 0, \"ticks\": \"\"}}, \"colorscale\": {\"diverging\": [[0, \"#8e0152\"], [0.1, \"#c51b7d\"], [0.2, \"#de77ae\"], [0.3, \"#f1b6da\"], [0.4, \"#fde0ef\"], [0.5, \"#f7f7f7\"], [0.6, \"#e6f5d0\"], [0.7, \"#b8e186\"], [0.8, \"#7fbc41\"], [0.9, \"#4d9221\"], [1, \"#276419\"]], \"sequential\": [[0.0, \"#0d0887\"], [0.1111111111111111, \"#46039f\"], [0.2222222222222222, \"#7201a8\"], [0.3333333333333333, \"#9c179e\"], [0.4444444444444444, \"#bd3786\"], [0.5555555555555556, \"#d8576b\"], [0.6666666666666666, \"#ed7953\"], [0.7777777777777778, \"#fb9f3a\"], [0.8888888888888888, \"#fdca26\"], [1.0, \"#f0f921\"]], \"sequentialminus\": [[0.0, \"#0d0887\"], [0.1111111111111111, \"#46039f\"], [0.2222222222222222, \"#7201a8\"], [0.3333333333333333, \"#9c179e\"], [0.4444444444444444, \"#bd3786\"], [0.5555555555555556, \"#d8576b\"], [0.6666666666666666, \"#ed7953\"], [0.7777777777777778, \"#fb9f3a\"], [0.8888888888888888, \"#fdca26\"], [1.0, \"#f0f921\"]]}, \"colorway\": [\"#636efa\", \"#EF553B\", \"#00cc96\", \"#ab63fa\", \"#FFA15A\", \"#19d3f3\", \"#FF6692\", \"#B6E880\", \"#FF97FF\", \"#FECB52\"], \"font\": {\"color\": \"#2a3f5f\"}, \"geo\": {\"bgcolor\": \"white\", \"lakecolor\": \"white\", \"landcolor\": \"#E5ECF6\", \"showlakes\": true, \"showland\": true, \"subunitcolor\": \"white\"}, \"hoverlabel\": {\"align\": \"left\"}, \"hovermode\": \"closest\", \"mapbox\": {\"style\": \"light\"}, \"paper_bgcolor\": \"white\", \"plot_bgcolor\": \"#E5ECF6\", \"polar\": {\"angularaxis\": {\"gridcolor\": \"white\", \"linecolor\": \"white\", \"ticks\": \"\"}, \"bgcolor\": \"#E5ECF6\", \"radialaxis\": {\"gridcolor\": \"white\", \"linecolor\": \"white\", \"ticks\": \"\"}}, \"scene\": {\"xaxis\": {\"backgroundcolor\": \"#E5ECF6\", \"gridcolor\": \"white\", \"gridwidth\": 2, \"linecolor\": \"white\", \"showbackground\": true, \"ticks\": \"\", \"zerolinecolor\": \"white\"}, \"yaxis\": {\"backgroundcolor\": \"#E5ECF6\", \"gridcolor\": \"white\", \"gridwidth\": 2, \"linecolor\": \"white\", \"showbackground\": true, \"ticks\": \"\", \"zerolinecolor\": \"white\"}, \"zaxis\": {\"backgroundcolor\": \"#E5ECF6\", \"gridcolor\": \"white\", \"gridwidth\": 2, \"linecolor\": \"white\", \"showbackground\": true, \"ticks\": \"\", \"zerolinecolor\": \"white\"}}, \"shapedefaults\": {\"line\": {\"color\": \"#2a3f5f\"}}, \"ternary\": {\"aaxis\": {\"gridcolor\": \"white\", \"linecolor\": \"white\", \"ticks\": \"\"}, \"baxis\": {\"gridcolor\": \"white\", \"linecolor\": \"white\", \"ticks\": \"\"}, \"bgcolor\": \"#E5ECF6\", \"caxis\": {\"gridcolor\": \"white\", \"linecolor\": \"white\", \"ticks\": \"\"}}, \"title\": {\"x\": 0.05}, \"xaxis\": {\"automargin\": true, \"gridcolor\": \"white\", \"linecolor\": \"white\", \"ticks\": \"\", \"title\": {\"standoff\": 15}, \"zerolinecolor\": \"white\", \"zerolinewidth\": 2}, \"yaxis\": {\"automargin\": true, \"gridcolor\": \"white\", \"linecolor\": \"white\", \"ticks\": \"\", \"title\": {\"standoff\": 15}, \"zerolinecolor\": \"white\", \"zerolinewidth\": 2}}}, \"title\": {\"text\": \"Bigram for Non-Sarcastic News\"}, \"xaxis\": {\"anchor\": \"y\", \"domain\": [0.0, 1.0], \"title\": {\"text\": \"Count\"}}, \"yaxis\": {\"anchor\": \"x\", \"domain\": [0.0, 1.0], \"title\": {\"text\": \"Words\"}}},                        {\"responsive\": true}                    ).then(function(){\n",
       "                            \n",
       "var gd = document.getElementById('cca312f9-7c48-421c-9840-2c9fff2fc91b');\n",
       "var x = new MutationObserver(function (mutations, observer) {{\n",
       "        var display = window.getComputedStyle(gd).display;\n",
       "        if (!display || display === 'none') {{\n",
       "            console.log([gd, 'removed!']);\n",
       "            Plotly.purge(gd);\n",
       "            observer.disconnect();\n",
       "        }}\n",
       "}});\n",
       "\n",
       "// Listen for the removal of the full notebook cells\n",
       "var notebookContainer = gd.closest('#notebook-container');\n",
       "if (notebookContainer) {{\n",
       "    x.observe(notebookContainer, {childList: true});\n",
       "}}\n",
       "\n",
       "// Listen for the clearing of the current output cell\n",
       "var outputEl = gd.closest('.output');\n",
       "if (outputEl) {{\n",
       "    x.observe(outputEl, {childList: true});\n",
       "}}\n",
       "\n",
       "                        })                };                });            </script>        </div>"
      ]
     },
     "metadata": {},
     "output_type": "display_data"
    },
    {
     "data": {
      "text/plain": [
       "<Figure size 1152x648 with 0 Axes>"
      ]
     },
     "metadata": {},
     "output_type": "display_data"
    }
   ],
   "source": [
    "plt.figure(figsize = (16,9))\n",
    "most_common_uni = get_top_text_ngrams(data_nsar.headline,10,2)\n",
    "most_common_uni = dict(most_common_uni)\n",
    "fig = px.bar(x = list(most_common_uni.values()), y = list(most_common_uni.keys()), labels=dict(x=\"Count\", y=\"Words\"))\n",
    "fig.update_traces(marker_color='#FF8500')\n",
    "fig.update_layout(title_text='Bigram for Non-Sarcastic News', paper_bgcolor = 'white', plot_bgcolor = 'white')\n",
    "fig.show()"
   ]
  },
  {
   "cell_type": "code",
   "execution_count": 54,
   "metadata": {},
   "outputs": [
    {
     "data": {
      "application/vnd.plotly.v1+json": {
       "config": {
        "plotlyServerURL": "https://plot.ly"
       },
       "data": [
        {
         "alignmentgroup": "True",
         "hovertemplate": "Count=%{x}<br>Words=%{y}<extra></extra>",
         "legendgroup": "",
         "marker": {
          "color": "#FF8500"
         },
         "name": "",
         "offsetgroup": "",
         "orientation": "h",
         "showlegend": false,
         "textposition": "auto",
         "type": "bar",
         "x": [
          30,
          30,
          30,
          26,
          26,
          22,
          22,
          22,
          22,
          22
         ],
         "xaxis": "x",
         "y": [
          "friday morning email",
          "funniest tweet woman",
          "tweet woman week",
          "new york city",
          "health care bill",
          "huffpost rise nee",
          "rise nee know",
          "lin manuel miranda",
          "kim jong un",
          "friday talk point"
         ],
         "yaxis": "y"
        }
       ],
       "layout": {
        "barmode": "relative",
        "legend": {
         "tracegroupgap": 0
        },
        "margin": {
         "t": 60
        },
        "paper_bgcolor": "white",
        "plot_bgcolor": "white",
        "template": {
         "data": {
          "bar": [
           {
            "error_x": {
             "color": "#2a3f5f"
            },
            "error_y": {
             "color": "#2a3f5f"
            },
            "marker": {
             "line": {
              "color": "#E5ECF6",
              "width": 0.5
             }
            },
            "type": "bar"
           }
          ],
          "barpolar": [
           {
            "marker": {
             "line": {
              "color": "#E5ECF6",
              "width": 0.5
             }
            },
            "type": "barpolar"
           }
          ],
          "carpet": [
           {
            "aaxis": {
             "endlinecolor": "#2a3f5f",
             "gridcolor": "white",
             "linecolor": "white",
             "minorgridcolor": "white",
             "startlinecolor": "#2a3f5f"
            },
            "baxis": {
             "endlinecolor": "#2a3f5f",
             "gridcolor": "white",
             "linecolor": "white",
             "minorgridcolor": "white",
             "startlinecolor": "#2a3f5f"
            },
            "type": "carpet"
           }
          ],
          "choropleth": [
           {
            "colorbar": {
             "outlinewidth": 0,
             "ticks": ""
            },
            "type": "choropleth"
           }
          ],
          "contour": [
           {
            "colorbar": {
             "outlinewidth": 0,
             "ticks": ""
            },
            "colorscale": [
             [
              0,
              "#0d0887"
             ],
             [
              0.1111111111111111,
              "#46039f"
             ],
             [
              0.2222222222222222,
              "#7201a8"
             ],
             [
              0.3333333333333333,
              "#9c179e"
             ],
             [
              0.4444444444444444,
              "#bd3786"
             ],
             [
              0.5555555555555556,
              "#d8576b"
             ],
             [
              0.6666666666666666,
              "#ed7953"
             ],
             [
              0.7777777777777778,
              "#fb9f3a"
             ],
             [
              0.8888888888888888,
              "#fdca26"
             ],
             [
              1,
              "#f0f921"
             ]
            ],
            "type": "contour"
           }
          ],
          "contourcarpet": [
           {
            "colorbar": {
             "outlinewidth": 0,
             "ticks": ""
            },
            "type": "contourcarpet"
           }
          ],
          "heatmap": [
           {
            "colorbar": {
             "outlinewidth": 0,
             "ticks": ""
            },
            "colorscale": [
             [
              0,
              "#0d0887"
             ],
             [
              0.1111111111111111,
              "#46039f"
             ],
             [
              0.2222222222222222,
              "#7201a8"
             ],
             [
              0.3333333333333333,
              "#9c179e"
             ],
             [
              0.4444444444444444,
              "#bd3786"
             ],
             [
              0.5555555555555556,
              "#d8576b"
             ],
             [
              0.6666666666666666,
              "#ed7953"
             ],
             [
              0.7777777777777778,
              "#fb9f3a"
             ],
             [
              0.8888888888888888,
              "#fdca26"
             ],
             [
              1,
              "#f0f921"
             ]
            ],
            "type": "heatmap"
           }
          ],
          "heatmapgl": [
           {
            "colorbar": {
             "outlinewidth": 0,
             "ticks": ""
            },
            "colorscale": [
             [
              0,
              "#0d0887"
             ],
             [
              0.1111111111111111,
              "#46039f"
             ],
             [
              0.2222222222222222,
              "#7201a8"
             ],
             [
              0.3333333333333333,
              "#9c179e"
             ],
             [
              0.4444444444444444,
              "#bd3786"
             ],
             [
              0.5555555555555556,
              "#d8576b"
             ],
             [
              0.6666666666666666,
              "#ed7953"
             ],
             [
              0.7777777777777778,
              "#fb9f3a"
             ],
             [
              0.8888888888888888,
              "#fdca26"
             ],
             [
              1,
              "#f0f921"
             ]
            ],
            "type": "heatmapgl"
           }
          ],
          "histogram": [
           {
            "marker": {
             "colorbar": {
              "outlinewidth": 0,
              "ticks": ""
             }
            },
            "type": "histogram"
           }
          ],
          "histogram2d": [
           {
            "colorbar": {
             "outlinewidth": 0,
             "ticks": ""
            },
            "colorscale": [
             [
              0,
              "#0d0887"
             ],
             [
              0.1111111111111111,
              "#46039f"
             ],
             [
              0.2222222222222222,
              "#7201a8"
             ],
             [
              0.3333333333333333,
              "#9c179e"
             ],
             [
              0.4444444444444444,
              "#bd3786"
             ],
             [
              0.5555555555555556,
              "#d8576b"
             ],
             [
              0.6666666666666666,
              "#ed7953"
             ],
             [
              0.7777777777777778,
              "#fb9f3a"
             ],
             [
              0.8888888888888888,
              "#fdca26"
             ],
             [
              1,
              "#f0f921"
             ]
            ],
            "type": "histogram2d"
           }
          ],
          "histogram2dcontour": [
           {
            "colorbar": {
             "outlinewidth": 0,
             "ticks": ""
            },
            "colorscale": [
             [
              0,
              "#0d0887"
             ],
             [
              0.1111111111111111,
              "#46039f"
             ],
             [
              0.2222222222222222,
              "#7201a8"
             ],
             [
              0.3333333333333333,
              "#9c179e"
             ],
             [
              0.4444444444444444,
              "#bd3786"
             ],
             [
              0.5555555555555556,
              "#d8576b"
             ],
             [
              0.6666666666666666,
              "#ed7953"
             ],
             [
              0.7777777777777778,
              "#fb9f3a"
             ],
             [
              0.8888888888888888,
              "#fdca26"
             ],
             [
              1,
              "#f0f921"
             ]
            ],
            "type": "histogram2dcontour"
           }
          ],
          "mesh3d": [
           {
            "colorbar": {
             "outlinewidth": 0,
             "ticks": ""
            },
            "type": "mesh3d"
           }
          ],
          "parcoords": [
           {
            "line": {
             "colorbar": {
              "outlinewidth": 0,
              "ticks": ""
             }
            },
            "type": "parcoords"
           }
          ],
          "pie": [
           {
            "automargin": true,
            "type": "pie"
           }
          ],
          "scatter": [
           {
            "marker": {
             "colorbar": {
              "outlinewidth": 0,
              "ticks": ""
             }
            },
            "type": "scatter"
           }
          ],
          "scatter3d": [
           {
            "line": {
             "colorbar": {
              "outlinewidth": 0,
              "ticks": ""
             }
            },
            "marker": {
             "colorbar": {
              "outlinewidth": 0,
              "ticks": ""
             }
            },
            "type": "scatter3d"
           }
          ],
          "scattercarpet": [
           {
            "marker": {
             "colorbar": {
              "outlinewidth": 0,
              "ticks": ""
             }
            },
            "type": "scattercarpet"
           }
          ],
          "scattergeo": [
           {
            "marker": {
             "colorbar": {
              "outlinewidth": 0,
              "ticks": ""
             }
            },
            "type": "scattergeo"
           }
          ],
          "scattergl": [
           {
            "marker": {
             "colorbar": {
              "outlinewidth": 0,
              "ticks": ""
             }
            },
            "type": "scattergl"
           }
          ],
          "scattermapbox": [
           {
            "marker": {
             "colorbar": {
              "outlinewidth": 0,
              "ticks": ""
             }
            },
            "type": "scattermapbox"
           }
          ],
          "scatterpolar": [
           {
            "marker": {
             "colorbar": {
              "outlinewidth": 0,
              "ticks": ""
             }
            },
            "type": "scatterpolar"
           }
          ],
          "scatterpolargl": [
           {
            "marker": {
             "colorbar": {
              "outlinewidth": 0,
              "ticks": ""
             }
            },
            "type": "scatterpolargl"
           }
          ],
          "scatterternary": [
           {
            "marker": {
             "colorbar": {
              "outlinewidth": 0,
              "ticks": ""
             }
            },
            "type": "scatterternary"
           }
          ],
          "surface": [
           {
            "colorbar": {
             "outlinewidth": 0,
             "ticks": ""
            },
            "colorscale": [
             [
              0,
              "#0d0887"
             ],
             [
              0.1111111111111111,
              "#46039f"
             ],
             [
              0.2222222222222222,
              "#7201a8"
             ],
             [
              0.3333333333333333,
              "#9c179e"
             ],
             [
              0.4444444444444444,
              "#bd3786"
             ],
             [
              0.5555555555555556,
              "#d8576b"
             ],
             [
              0.6666666666666666,
              "#ed7953"
             ],
             [
              0.7777777777777778,
              "#fb9f3a"
             ],
             [
              0.8888888888888888,
              "#fdca26"
             ],
             [
              1,
              "#f0f921"
             ]
            ],
            "type": "surface"
           }
          ],
          "table": [
           {
            "cells": {
             "fill": {
              "color": "#EBF0F8"
             },
             "line": {
              "color": "white"
             }
            },
            "header": {
             "fill": {
              "color": "#C8D4E3"
             },
             "line": {
              "color": "white"
             }
            },
            "type": "table"
           }
          ]
         },
         "layout": {
          "annotationdefaults": {
           "arrowcolor": "#2a3f5f",
           "arrowhead": 0,
           "arrowwidth": 1
          },
          "coloraxis": {
           "colorbar": {
            "outlinewidth": 0,
            "ticks": ""
           }
          },
          "colorscale": {
           "diverging": [
            [
             0,
             "#8e0152"
            ],
            [
             0.1,
             "#c51b7d"
            ],
            [
             0.2,
             "#de77ae"
            ],
            [
             0.3,
             "#f1b6da"
            ],
            [
             0.4,
             "#fde0ef"
            ],
            [
             0.5,
             "#f7f7f7"
            ],
            [
             0.6,
             "#e6f5d0"
            ],
            [
             0.7,
             "#b8e186"
            ],
            [
             0.8,
             "#7fbc41"
            ],
            [
             0.9,
             "#4d9221"
            ],
            [
             1,
             "#276419"
            ]
           ],
           "sequential": [
            [
             0,
             "#0d0887"
            ],
            [
             0.1111111111111111,
             "#46039f"
            ],
            [
             0.2222222222222222,
             "#7201a8"
            ],
            [
             0.3333333333333333,
             "#9c179e"
            ],
            [
             0.4444444444444444,
             "#bd3786"
            ],
            [
             0.5555555555555556,
             "#d8576b"
            ],
            [
             0.6666666666666666,
             "#ed7953"
            ],
            [
             0.7777777777777778,
             "#fb9f3a"
            ],
            [
             0.8888888888888888,
             "#fdca26"
            ],
            [
             1,
             "#f0f921"
            ]
           ],
           "sequentialminus": [
            [
             0,
             "#0d0887"
            ],
            [
             0.1111111111111111,
             "#46039f"
            ],
            [
             0.2222222222222222,
             "#7201a8"
            ],
            [
             0.3333333333333333,
             "#9c179e"
            ],
            [
             0.4444444444444444,
             "#bd3786"
            ],
            [
             0.5555555555555556,
             "#d8576b"
            ],
            [
             0.6666666666666666,
             "#ed7953"
            ],
            [
             0.7777777777777778,
             "#fb9f3a"
            ],
            [
             0.8888888888888888,
             "#fdca26"
            ],
            [
             1,
             "#f0f921"
            ]
           ]
          },
          "colorway": [
           "#636efa",
           "#EF553B",
           "#00cc96",
           "#ab63fa",
           "#FFA15A",
           "#19d3f3",
           "#FF6692",
           "#B6E880",
           "#FF97FF",
           "#FECB52"
          ],
          "font": {
           "color": "#2a3f5f"
          },
          "geo": {
           "bgcolor": "white",
           "lakecolor": "white",
           "landcolor": "#E5ECF6",
           "showlakes": true,
           "showland": true,
           "subunitcolor": "white"
          },
          "hoverlabel": {
           "align": "left"
          },
          "hovermode": "closest",
          "mapbox": {
           "style": "light"
          },
          "paper_bgcolor": "white",
          "plot_bgcolor": "#E5ECF6",
          "polar": {
           "angularaxis": {
            "gridcolor": "white",
            "linecolor": "white",
            "ticks": ""
           },
           "bgcolor": "#E5ECF6",
           "radialaxis": {
            "gridcolor": "white",
            "linecolor": "white",
            "ticks": ""
           }
          },
          "scene": {
           "xaxis": {
            "backgroundcolor": "#E5ECF6",
            "gridcolor": "white",
            "gridwidth": 2,
            "linecolor": "white",
            "showbackground": true,
            "ticks": "",
            "zerolinecolor": "white"
           },
           "yaxis": {
            "backgroundcolor": "#E5ECF6",
            "gridcolor": "white",
            "gridwidth": 2,
            "linecolor": "white",
            "showbackground": true,
            "ticks": "",
            "zerolinecolor": "white"
           },
           "zaxis": {
            "backgroundcolor": "#E5ECF6",
            "gridcolor": "white",
            "gridwidth": 2,
            "linecolor": "white",
            "showbackground": true,
            "ticks": "",
            "zerolinecolor": "white"
           }
          },
          "shapedefaults": {
           "line": {
            "color": "#2a3f5f"
           }
          },
          "ternary": {
           "aaxis": {
            "gridcolor": "white",
            "linecolor": "white",
            "ticks": ""
           },
           "baxis": {
            "gridcolor": "white",
            "linecolor": "white",
            "ticks": ""
           },
           "bgcolor": "#E5ECF6",
           "caxis": {
            "gridcolor": "white",
            "linecolor": "white",
            "ticks": ""
           }
          },
          "title": {
           "x": 0.05
          },
          "xaxis": {
           "automargin": true,
           "gridcolor": "white",
           "linecolor": "white",
           "ticks": "",
           "title": {
            "standoff": 15
           },
           "zerolinecolor": "white",
           "zerolinewidth": 2
          },
          "yaxis": {
           "automargin": true,
           "gridcolor": "white",
           "linecolor": "white",
           "ticks": "",
           "title": {
            "standoff": 15
           },
           "zerolinecolor": "white",
           "zerolinewidth": 2
          }
         }
        },
        "title": {
         "text": "Trigram for Non-Sarcastic News"
        },
        "xaxis": {
         "anchor": "y",
         "domain": [
          0,
          1
         ],
         "title": {
          "text": "Count"
         }
        },
        "yaxis": {
         "anchor": "x",
         "domain": [
          0,
          1
         ],
         "title": {
          "text": "Words"
         }
        }
       }
      },
      "text/html": [
       "<div>                            <div id=\"0d80cd8f-58de-45e2-be79-22523d1f1380\" class=\"plotly-graph-div\" style=\"height:525px; width:100%;\"></div>            <script type=\"text/javascript\">                require([\"plotly\"], function(Plotly) {                    window.PLOTLYENV=window.PLOTLYENV || {};                                    if (document.getElementById(\"0d80cd8f-58de-45e2-be79-22523d1f1380\")) {                    Plotly.newPlot(                        \"0d80cd8f-58de-45e2-be79-22523d1f1380\",                        [{\"alignmentgroup\": \"True\", \"hovertemplate\": \"Count=%{x}<br>Words=%{y}<extra></extra>\", \"legendgroup\": \"\", \"marker\": {\"color\": \"#FF8500\"}, \"name\": \"\", \"offsetgroup\": \"\", \"orientation\": \"h\", \"showlegend\": false, \"textposition\": \"auto\", \"type\": \"bar\", \"x\": [30, 30, 30, 26, 26, 22, 22, 22, 22, 22], \"xaxis\": \"x\", \"y\": [\"friday morning email\", \"funniest tweet woman\", \"tweet woman week\", \"new york city\", \"health care bill\", \"huffpost rise nee\", \"rise nee know\", \"lin manuel miranda\", \"kim jong un\", \"friday talk point\"], \"yaxis\": \"y\"}],                        {\"barmode\": \"relative\", \"legend\": {\"tracegroupgap\": 0}, \"margin\": {\"t\": 60}, \"paper_bgcolor\": \"white\", \"plot_bgcolor\": \"white\", \"template\": {\"data\": {\"bar\": [{\"error_x\": {\"color\": \"#2a3f5f\"}, \"error_y\": {\"color\": \"#2a3f5f\"}, \"marker\": {\"line\": {\"color\": \"#E5ECF6\", \"width\": 0.5}}, \"type\": \"bar\"}], \"barpolar\": [{\"marker\": {\"line\": {\"color\": \"#E5ECF6\", \"width\": 0.5}}, \"type\": \"barpolar\"}], \"carpet\": [{\"aaxis\": {\"endlinecolor\": \"#2a3f5f\", \"gridcolor\": \"white\", \"linecolor\": \"white\", \"minorgridcolor\": \"white\", \"startlinecolor\": \"#2a3f5f\"}, \"baxis\": {\"endlinecolor\": \"#2a3f5f\", \"gridcolor\": \"white\", \"linecolor\": \"white\", \"minorgridcolor\": \"white\", \"startlinecolor\": \"#2a3f5f\"}, \"type\": \"carpet\"}], \"choropleth\": [{\"colorbar\": {\"outlinewidth\": 0, \"ticks\": \"\"}, \"type\": \"choropleth\"}], \"contour\": [{\"colorbar\": {\"outlinewidth\": 0, \"ticks\": \"\"}, \"colorscale\": [[0.0, \"#0d0887\"], [0.1111111111111111, \"#46039f\"], [0.2222222222222222, \"#7201a8\"], [0.3333333333333333, \"#9c179e\"], [0.4444444444444444, \"#bd3786\"], [0.5555555555555556, \"#d8576b\"], [0.6666666666666666, \"#ed7953\"], [0.7777777777777778, \"#fb9f3a\"], [0.8888888888888888, \"#fdca26\"], [1.0, \"#f0f921\"]], \"type\": \"contour\"}], \"contourcarpet\": [{\"colorbar\": {\"outlinewidth\": 0, \"ticks\": \"\"}, \"type\": \"contourcarpet\"}], \"heatmap\": [{\"colorbar\": {\"outlinewidth\": 0, \"ticks\": \"\"}, \"colorscale\": [[0.0, \"#0d0887\"], [0.1111111111111111, \"#46039f\"], [0.2222222222222222, \"#7201a8\"], [0.3333333333333333, \"#9c179e\"], [0.4444444444444444, \"#bd3786\"], [0.5555555555555556, \"#d8576b\"], [0.6666666666666666, \"#ed7953\"], [0.7777777777777778, \"#fb9f3a\"], [0.8888888888888888, \"#fdca26\"], [1.0, \"#f0f921\"]], \"type\": \"heatmap\"}], \"heatmapgl\": [{\"colorbar\": {\"outlinewidth\": 0, \"ticks\": \"\"}, \"colorscale\": [[0.0, \"#0d0887\"], [0.1111111111111111, \"#46039f\"], [0.2222222222222222, \"#7201a8\"], [0.3333333333333333, \"#9c179e\"], [0.4444444444444444, \"#bd3786\"], [0.5555555555555556, \"#d8576b\"], [0.6666666666666666, \"#ed7953\"], [0.7777777777777778, \"#fb9f3a\"], [0.8888888888888888, \"#fdca26\"], [1.0, \"#f0f921\"]], \"type\": \"heatmapgl\"}], \"histogram\": [{\"marker\": {\"colorbar\": {\"outlinewidth\": 0, \"ticks\": \"\"}}, \"type\": \"histogram\"}], \"histogram2d\": [{\"colorbar\": {\"outlinewidth\": 0, \"ticks\": \"\"}, \"colorscale\": [[0.0, \"#0d0887\"], [0.1111111111111111, \"#46039f\"], [0.2222222222222222, \"#7201a8\"], [0.3333333333333333, \"#9c179e\"], [0.4444444444444444, \"#bd3786\"], [0.5555555555555556, \"#d8576b\"], [0.6666666666666666, \"#ed7953\"], [0.7777777777777778, \"#fb9f3a\"], [0.8888888888888888, \"#fdca26\"], [1.0, \"#f0f921\"]], \"type\": \"histogram2d\"}], \"histogram2dcontour\": [{\"colorbar\": {\"outlinewidth\": 0, \"ticks\": \"\"}, \"colorscale\": [[0.0, \"#0d0887\"], [0.1111111111111111, \"#46039f\"], [0.2222222222222222, \"#7201a8\"], [0.3333333333333333, \"#9c179e\"], [0.4444444444444444, \"#bd3786\"], [0.5555555555555556, \"#d8576b\"], [0.6666666666666666, \"#ed7953\"], [0.7777777777777778, \"#fb9f3a\"], [0.8888888888888888, \"#fdca26\"], [1.0, \"#f0f921\"]], \"type\": \"histogram2dcontour\"}], \"mesh3d\": [{\"colorbar\": {\"outlinewidth\": 0, \"ticks\": \"\"}, \"type\": \"mesh3d\"}], \"parcoords\": [{\"line\": {\"colorbar\": {\"outlinewidth\": 0, \"ticks\": \"\"}}, \"type\": \"parcoords\"}], \"pie\": [{\"automargin\": true, \"type\": \"pie\"}], \"scatter\": [{\"marker\": {\"colorbar\": {\"outlinewidth\": 0, \"ticks\": \"\"}}, \"type\": \"scatter\"}], \"scatter3d\": [{\"line\": {\"colorbar\": {\"outlinewidth\": 0, \"ticks\": \"\"}}, \"marker\": {\"colorbar\": {\"outlinewidth\": 0, \"ticks\": \"\"}}, \"type\": \"scatter3d\"}], \"scattercarpet\": [{\"marker\": {\"colorbar\": {\"outlinewidth\": 0, \"ticks\": \"\"}}, \"type\": \"scattercarpet\"}], \"scattergeo\": [{\"marker\": {\"colorbar\": {\"outlinewidth\": 0, \"ticks\": \"\"}}, \"type\": \"scattergeo\"}], \"scattergl\": [{\"marker\": {\"colorbar\": {\"outlinewidth\": 0, \"ticks\": \"\"}}, \"type\": \"scattergl\"}], \"scattermapbox\": [{\"marker\": {\"colorbar\": {\"outlinewidth\": 0, \"ticks\": \"\"}}, \"type\": \"scattermapbox\"}], \"scatterpolar\": [{\"marker\": {\"colorbar\": {\"outlinewidth\": 0, \"ticks\": \"\"}}, \"type\": \"scatterpolar\"}], \"scatterpolargl\": [{\"marker\": {\"colorbar\": {\"outlinewidth\": 0, \"ticks\": \"\"}}, \"type\": \"scatterpolargl\"}], \"scatterternary\": [{\"marker\": {\"colorbar\": {\"outlinewidth\": 0, \"ticks\": \"\"}}, \"type\": \"scatterternary\"}], \"surface\": [{\"colorbar\": {\"outlinewidth\": 0, \"ticks\": \"\"}, \"colorscale\": [[0.0, \"#0d0887\"], [0.1111111111111111, \"#46039f\"], [0.2222222222222222, \"#7201a8\"], [0.3333333333333333, \"#9c179e\"], [0.4444444444444444, \"#bd3786\"], [0.5555555555555556, \"#d8576b\"], [0.6666666666666666, \"#ed7953\"], [0.7777777777777778, \"#fb9f3a\"], [0.8888888888888888, \"#fdca26\"], [1.0, \"#f0f921\"]], \"type\": \"surface\"}], \"table\": [{\"cells\": {\"fill\": {\"color\": \"#EBF0F8\"}, \"line\": {\"color\": \"white\"}}, \"header\": {\"fill\": {\"color\": \"#C8D4E3\"}, \"line\": {\"color\": \"white\"}}, \"type\": \"table\"}]}, \"layout\": {\"annotationdefaults\": {\"arrowcolor\": \"#2a3f5f\", \"arrowhead\": 0, \"arrowwidth\": 1}, \"coloraxis\": {\"colorbar\": {\"outlinewidth\": 0, \"ticks\": \"\"}}, \"colorscale\": {\"diverging\": [[0, \"#8e0152\"], [0.1, \"#c51b7d\"], [0.2, \"#de77ae\"], [0.3, \"#f1b6da\"], [0.4, \"#fde0ef\"], [0.5, \"#f7f7f7\"], [0.6, \"#e6f5d0\"], [0.7, \"#b8e186\"], [0.8, \"#7fbc41\"], [0.9, \"#4d9221\"], [1, \"#276419\"]], \"sequential\": [[0.0, \"#0d0887\"], [0.1111111111111111, \"#46039f\"], [0.2222222222222222, \"#7201a8\"], [0.3333333333333333, \"#9c179e\"], [0.4444444444444444, \"#bd3786\"], [0.5555555555555556, \"#d8576b\"], [0.6666666666666666, \"#ed7953\"], [0.7777777777777778, \"#fb9f3a\"], [0.8888888888888888, \"#fdca26\"], [1.0, \"#f0f921\"]], \"sequentialminus\": [[0.0, \"#0d0887\"], [0.1111111111111111, \"#46039f\"], [0.2222222222222222, \"#7201a8\"], [0.3333333333333333, \"#9c179e\"], [0.4444444444444444, \"#bd3786\"], [0.5555555555555556, \"#d8576b\"], [0.6666666666666666, \"#ed7953\"], [0.7777777777777778, \"#fb9f3a\"], [0.8888888888888888, \"#fdca26\"], [1.0, \"#f0f921\"]]}, \"colorway\": [\"#636efa\", \"#EF553B\", \"#00cc96\", \"#ab63fa\", \"#FFA15A\", \"#19d3f3\", \"#FF6692\", \"#B6E880\", \"#FF97FF\", \"#FECB52\"], \"font\": {\"color\": \"#2a3f5f\"}, \"geo\": {\"bgcolor\": \"white\", \"lakecolor\": \"white\", \"landcolor\": \"#E5ECF6\", \"showlakes\": true, \"showland\": true, \"subunitcolor\": \"white\"}, \"hoverlabel\": {\"align\": \"left\"}, \"hovermode\": \"closest\", \"mapbox\": {\"style\": \"light\"}, \"paper_bgcolor\": \"white\", \"plot_bgcolor\": \"#E5ECF6\", \"polar\": {\"angularaxis\": {\"gridcolor\": \"white\", \"linecolor\": \"white\", \"ticks\": \"\"}, \"bgcolor\": \"#E5ECF6\", \"radialaxis\": {\"gridcolor\": \"white\", \"linecolor\": \"white\", \"ticks\": \"\"}}, \"scene\": {\"xaxis\": {\"backgroundcolor\": \"#E5ECF6\", \"gridcolor\": \"white\", \"gridwidth\": 2, \"linecolor\": \"white\", \"showbackground\": true, \"ticks\": \"\", \"zerolinecolor\": \"white\"}, \"yaxis\": {\"backgroundcolor\": \"#E5ECF6\", \"gridcolor\": \"white\", \"gridwidth\": 2, \"linecolor\": \"white\", \"showbackground\": true, \"ticks\": \"\", \"zerolinecolor\": \"white\"}, \"zaxis\": {\"backgroundcolor\": \"#E5ECF6\", \"gridcolor\": \"white\", \"gridwidth\": 2, \"linecolor\": \"white\", \"showbackground\": true, \"ticks\": \"\", \"zerolinecolor\": \"white\"}}, \"shapedefaults\": {\"line\": {\"color\": \"#2a3f5f\"}}, \"ternary\": {\"aaxis\": {\"gridcolor\": \"white\", \"linecolor\": \"white\", \"ticks\": \"\"}, \"baxis\": {\"gridcolor\": \"white\", \"linecolor\": \"white\", \"ticks\": \"\"}, \"bgcolor\": \"#E5ECF6\", \"caxis\": {\"gridcolor\": \"white\", \"linecolor\": \"white\", \"ticks\": \"\"}}, \"title\": {\"x\": 0.05}, \"xaxis\": {\"automargin\": true, \"gridcolor\": \"white\", \"linecolor\": \"white\", \"ticks\": \"\", \"title\": {\"standoff\": 15}, \"zerolinecolor\": \"white\", \"zerolinewidth\": 2}, \"yaxis\": {\"automargin\": true, \"gridcolor\": \"white\", \"linecolor\": \"white\", \"ticks\": \"\", \"title\": {\"standoff\": 15}, \"zerolinecolor\": \"white\", \"zerolinewidth\": 2}}}, \"title\": {\"text\": \"Trigram for Non-Sarcastic News\"}, \"xaxis\": {\"anchor\": \"y\", \"domain\": [0.0, 1.0], \"title\": {\"text\": \"Count\"}}, \"yaxis\": {\"anchor\": \"x\", \"domain\": [0.0, 1.0], \"title\": {\"text\": \"Words\"}}},                        {\"responsive\": true}                    ).then(function(){\n",
       "                            \n",
       "var gd = document.getElementById('0d80cd8f-58de-45e2-be79-22523d1f1380');\n",
       "var x = new MutationObserver(function (mutations, observer) {{\n",
       "        var display = window.getComputedStyle(gd).display;\n",
       "        if (!display || display === 'none') {{\n",
       "            console.log([gd, 'removed!']);\n",
       "            Plotly.purge(gd);\n",
       "            observer.disconnect();\n",
       "        }}\n",
       "}});\n",
       "\n",
       "// Listen for the removal of the full notebook cells\n",
       "var notebookContainer = gd.closest('#notebook-container');\n",
       "if (notebookContainer) {{\n",
       "    x.observe(notebookContainer, {childList: true});\n",
       "}}\n",
       "\n",
       "// Listen for the clearing of the current output cell\n",
       "var outputEl = gd.closest('.output');\n",
       "if (outputEl) {{\n",
       "    x.observe(outputEl, {childList: true});\n",
       "}}\n",
       "\n",
       "                        })                };                });            </script>        </div>"
      ]
     },
     "metadata": {},
     "output_type": "display_data"
    },
    {
     "data": {
      "text/plain": [
       "<Figure size 1152x648 with 0 Axes>"
      ]
     },
     "metadata": {},
     "output_type": "display_data"
    }
   ],
   "source": [
    "plt.figure(figsize = (16,9))\n",
    "most_common_uni = get_top_text_ngrams(data_nsar.headline,10,3)\n",
    "most_common_uni = dict(most_common_uni)\n",
    "fig = px.bar(x = list(most_common_uni.values()), y = list(most_common_uni.keys()), labels=dict(x=\"Count\", y=\"Words\"))\n",
    "fig.update_traces(marker_color='#FF8500')\n",
    "fig.update_layout(title_text='Trigram for Non-Sarcastic News', paper_bgcolor = 'white', plot_bgcolor = 'white')\n",
    "fig.show()"
   ]
  },
  {
   "cell_type": "code",
   "execution_count": 55,
   "metadata": {},
   "outputs": [
    {
     "data": {
      "application/vnd.plotly.v1+json": {
       "config": {
        "plotlyServerURL": "https://plot.ly"
       },
       "data": [
        {
         "alignmentgroup": "True",
         "hovertemplate": "Count=%{x}<br>Words=%{y}<extra></extra>",
         "legendgroup": "",
         "marker": {
          "color": "#FF8500"
         },
         "name": "",
         "offsetgroup": "",
         "orientation": "h",
         "showlegend": false,
         "textposition": "auto",
         "type": "bar",
         "x": [
          30,
          22,
          22,
          12,
          10,
          9,
          8,
          8,
          7,
          6
         ],
         "xaxis": "x",
         "y": [
          "funniest tweet woman week",
          "huffpost rise nee know",
          "huffpost rise need know",
          "funniest tweet parent week",
          "new york fashion week",
          "martin luther king jr",
          "friday morning email inside",
          "las vegas review journal",
          "martin luth king jr",
          "rise nee know february"
         ],
         "yaxis": "y"
        }
       ],
       "layout": {
        "barmode": "relative",
        "legend": {
         "tracegroupgap": 0
        },
        "margin": {
         "t": 60
        },
        "paper_bgcolor": "white",
        "plot_bgcolor": "white",
        "template": {
         "data": {
          "bar": [
           {
            "error_x": {
             "color": "#2a3f5f"
            },
            "error_y": {
             "color": "#2a3f5f"
            },
            "marker": {
             "line": {
              "color": "#E5ECF6",
              "width": 0.5
             }
            },
            "type": "bar"
           }
          ],
          "barpolar": [
           {
            "marker": {
             "line": {
              "color": "#E5ECF6",
              "width": 0.5
             }
            },
            "type": "barpolar"
           }
          ],
          "carpet": [
           {
            "aaxis": {
             "endlinecolor": "#2a3f5f",
             "gridcolor": "white",
             "linecolor": "white",
             "minorgridcolor": "white",
             "startlinecolor": "#2a3f5f"
            },
            "baxis": {
             "endlinecolor": "#2a3f5f",
             "gridcolor": "white",
             "linecolor": "white",
             "minorgridcolor": "white",
             "startlinecolor": "#2a3f5f"
            },
            "type": "carpet"
           }
          ],
          "choropleth": [
           {
            "colorbar": {
             "outlinewidth": 0,
             "ticks": ""
            },
            "type": "choropleth"
           }
          ],
          "contour": [
           {
            "colorbar": {
             "outlinewidth": 0,
             "ticks": ""
            },
            "colorscale": [
             [
              0,
              "#0d0887"
             ],
             [
              0.1111111111111111,
              "#46039f"
             ],
             [
              0.2222222222222222,
              "#7201a8"
             ],
             [
              0.3333333333333333,
              "#9c179e"
             ],
             [
              0.4444444444444444,
              "#bd3786"
             ],
             [
              0.5555555555555556,
              "#d8576b"
             ],
             [
              0.6666666666666666,
              "#ed7953"
             ],
             [
              0.7777777777777778,
              "#fb9f3a"
             ],
             [
              0.8888888888888888,
              "#fdca26"
             ],
             [
              1,
              "#f0f921"
             ]
            ],
            "type": "contour"
           }
          ],
          "contourcarpet": [
           {
            "colorbar": {
             "outlinewidth": 0,
             "ticks": ""
            },
            "type": "contourcarpet"
           }
          ],
          "heatmap": [
           {
            "colorbar": {
             "outlinewidth": 0,
             "ticks": ""
            },
            "colorscale": [
             [
              0,
              "#0d0887"
             ],
             [
              0.1111111111111111,
              "#46039f"
             ],
             [
              0.2222222222222222,
              "#7201a8"
             ],
             [
              0.3333333333333333,
              "#9c179e"
             ],
             [
              0.4444444444444444,
              "#bd3786"
             ],
             [
              0.5555555555555556,
              "#d8576b"
             ],
             [
              0.6666666666666666,
              "#ed7953"
             ],
             [
              0.7777777777777778,
              "#fb9f3a"
             ],
             [
              0.8888888888888888,
              "#fdca26"
             ],
             [
              1,
              "#f0f921"
             ]
            ],
            "type": "heatmap"
           }
          ],
          "heatmapgl": [
           {
            "colorbar": {
             "outlinewidth": 0,
             "ticks": ""
            },
            "colorscale": [
             [
              0,
              "#0d0887"
             ],
             [
              0.1111111111111111,
              "#46039f"
             ],
             [
              0.2222222222222222,
              "#7201a8"
             ],
             [
              0.3333333333333333,
              "#9c179e"
             ],
             [
              0.4444444444444444,
              "#bd3786"
             ],
             [
              0.5555555555555556,
              "#d8576b"
             ],
             [
              0.6666666666666666,
              "#ed7953"
             ],
             [
              0.7777777777777778,
              "#fb9f3a"
             ],
             [
              0.8888888888888888,
              "#fdca26"
             ],
             [
              1,
              "#f0f921"
             ]
            ],
            "type": "heatmapgl"
           }
          ],
          "histogram": [
           {
            "marker": {
             "colorbar": {
              "outlinewidth": 0,
              "ticks": ""
             }
            },
            "type": "histogram"
           }
          ],
          "histogram2d": [
           {
            "colorbar": {
             "outlinewidth": 0,
             "ticks": ""
            },
            "colorscale": [
             [
              0,
              "#0d0887"
             ],
             [
              0.1111111111111111,
              "#46039f"
             ],
             [
              0.2222222222222222,
              "#7201a8"
             ],
             [
              0.3333333333333333,
              "#9c179e"
             ],
             [
              0.4444444444444444,
              "#bd3786"
             ],
             [
              0.5555555555555556,
              "#d8576b"
             ],
             [
              0.6666666666666666,
              "#ed7953"
             ],
             [
              0.7777777777777778,
              "#fb9f3a"
             ],
             [
              0.8888888888888888,
              "#fdca26"
             ],
             [
              1,
              "#f0f921"
             ]
            ],
            "type": "histogram2d"
           }
          ],
          "histogram2dcontour": [
           {
            "colorbar": {
             "outlinewidth": 0,
             "ticks": ""
            },
            "colorscale": [
             [
              0,
              "#0d0887"
             ],
             [
              0.1111111111111111,
              "#46039f"
             ],
             [
              0.2222222222222222,
              "#7201a8"
             ],
             [
              0.3333333333333333,
              "#9c179e"
             ],
             [
              0.4444444444444444,
              "#bd3786"
             ],
             [
              0.5555555555555556,
              "#d8576b"
             ],
             [
              0.6666666666666666,
              "#ed7953"
             ],
             [
              0.7777777777777778,
              "#fb9f3a"
             ],
             [
              0.8888888888888888,
              "#fdca26"
             ],
             [
              1,
              "#f0f921"
             ]
            ],
            "type": "histogram2dcontour"
           }
          ],
          "mesh3d": [
           {
            "colorbar": {
             "outlinewidth": 0,
             "ticks": ""
            },
            "type": "mesh3d"
           }
          ],
          "parcoords": [
           {
            "line": {
             "colorbar": {
              "outlinewidth": 0,
              "ticks": ""
             }
            },
            "type": "parcoords"
           }
          ],
          "pie": [
           {
            "automargin": true,
            "type": "pie"
           }
          ],
          "scatter": [
           {
            "marker": {
             "colorbar": {
              "outlinewidth": 0,
              "ticks": ""
             }
            },
            "type": "scatter"
           }
          ],
          "scatter3d": [
           {
            "line": {
             "colorbar": {
              "outlinewidth": 0,
              "ticks": ""
             }
            },
            "marker": {
             "colorbar": {
              "outlinewidth": 0,
              "ticks": ""
             }
            },
            "type": "scatter3d"
           }
          ],
          "scattercarpet": [
           {
            "marker": {
             "colorbar": {
              "outlinewidth": 0,
              "ticks": ""
             }
            },
            "type": "scattercarpet"
           }
          ],
          "scattergeo": [
           {
            "marker": {
             "colorbar": {
              "outlinewidth": 0,
              "ticks": ""
             }
            },
            "type": "scattergeo"
           }
          ],
          "scattergl": [
           {
            "marker": {
             "colorbar": {
              "outlinewidth": 0,
              "ticks": ""
             }
            },
            "type": "scattergl"
           }
          ],
          "scattermapbox": [
           {
            "marker": {
             "colorbar": {
              "outlinewidth": 0,
              "ticks": ""
             }
            },
            "type": "scattermapbox"
           }
          ],
          "scatterpolar": [
           {
            "marker": {
             "colorbar": {
              "outlinewidth": 0,
              "ticks": ""
             }
            },
            "type": "scatterpolar"
           }
          ],
          "scatterpolargl": [
           {
            "marker": {
             "colorbar": {
              "outlinewidth": 0,
              "ticks": ""
             }
            },
            "type": "scatterpolargl"
           }
          ],
          "scatterternary": [
           {
            "marker": {
             "colorbar": {
              "outlinewidth": 0,
              "ticks": ""
             }
            },
            "type": "scatterternary"
           }
          ],
          "surface": [
           {
            "colorbar": {
             "outlinewidth": 0,
             "ticks": ""
            },
            "colorscale": [
             [
              0,
              "#0d0887"
             ],
             [
              0.1111111111111111,
              "#46039f"
             ],
             [
              0.2222222222222222,
              "#7201a8"
             ],
             [
              0.3333333333333333,
              "#9c179e"
             ],
             [
              0.4444444444444444,
              "#bd3786"
             ],
             [
              0.5555555555555556,
              "#d8576b"
             ],
             [
              0.6666666666666666,
              "#ed7953"
             ],
             [
              0.7777777777777778,
              "#fb9f3a"
             ],
             [
              0.8888888888888888,
              "#fdca26"
             ],
             [
              1,
              "#f0f921"
             ]
            ],
            "type": "surface"
           }
          ],
          "table": [
           {
            "cells": {
             "fill": {
              "color": "#EBF0F8"
             },
             "line": {
              "color": "white"
             }
            },
            "header": {
             "fill": {
              "color": "#C8D4E3"
             },
             "line": {
              "color": "white"
             }
            },
            "type": "table"
           }
          ]
         },
         "layout": {
          "annotationdefaults": {
           "arrowcolor": "#2a3f5f",
           "arrowhead": 0,
           "arrowwidth": 1
          },
          "coloraxis": {
           "colorbar": {
            "outlinewidth": 0,
            "ticks": ""
           }
          },
          "colorscale": {
           "diverging": [
            [
             0,
             "#8e0152"
            ],
            [
             0.1,
             "#c51b7d"
            ],
            [
             0.2,
             "#de77ae"
            ],
            [
             0.3,
             "#f1b6da"
            ],
            [
             0.4,
             "#fde0ef"
            ],
            [
             0.5,
             "#f7f7f7"
            ],
            [
             0.6,
             "#e6f5d0"
            ],
            [
             0.7,
             "#b8e186"
            ],
            [
             0.8,
             "#7fbc41"
            ],
            [
             0.9,
             "#4d9221"
            ],
            [
             1,
             "#276419"
            ]
           ],
           "sequential": [
            [
             0,
             "#0d0887"
            ],
            [
             0.1111111111111111,
             "#46039f"
            ],
            [
             0.2222222222222222,
             "#7201a8"
            ],
            [
             0.3333333333333333,
             "#9c179e"
            ],
            [
             0.4444444444444444,
             "#bd3786"
            ],
            [
             0.5555555555555556,
             "#d8576b"
            ],
            [
             0.6666666666666666,
             "#ed7953"
            ],
            [
             0.7777777777777778,
             "#fb9f3a"
            ],
            [
             0.8888888888888888,
             "#fdca26"
            ],
            [
             1,
             "#f0f921"
            ]
           ],
           "sequentialminus": [
            [
             0,
             "#0d0887"
            ],
            [
             0.1111111111111111,
             "#46039f"
            ],
            [
             0.2222222222222222,
             "#7201a8"
            ],
            [
             0.3333333333333333,
             "#9c179e"
            ],
            [
             0.4444444444444444,
             "#bd3786"
            ],
            [
             0.5555555555555556,
             "#d8576b"
            ],
            [
             0.6666666666666666,
             "#ed7953"
            ],
            [
             0.7777777777777778,
             "#fb9f3a"
            ],
            [
             0.8888888888888888,
             "#fdca26"
            ],
            [
             1,
             "#f0f921"
            ]
           ]
          },
          "colorway": [
           "#636efa",
           "#EF553B",
           "#00cc96",
           "#ab63fa",
           "#FFA15A",
           "#19d3f3",
           "#FF6692",
           "#B6E880",
           "#FF97FF",
           "#FECB52"
          ],
          "font": {
           "color": "#2a3f5f"
          },
          "geo": {
           "bgcolor": "white",
           "lakecolor": "white",
           "landcolor": "#E5ECF6",
           "showlakes": true,
           "showland": true,
           "subunitcolor": "white"
          },
          "hoverlabel": {
           "align": "left"
          },
          "hovermode": "closest",
          "mapbox": {
           "style": "light"
          },
          "paper_bgcolor": "white",
          "plot_bgcolor": "#E5ECF6",
          "polar": {
           "angularaxis": {
            "gridcolor": "white",
            "linecolor": "white",
            "ticks": ""
           },
           "bgcolor": "#E5ECF6",
           "radialaxis": {
            "gridcolor": "white",
            "linecolor": "white",
            "ticks": ""
           }
          },
          "scene": {
           "xaxis": {
            "backgroundcolor": "#E5ECF6",
            "gridcolor": "white",
            "gridwidth": 2,
            "linecolor": "white",
            "showbackground": true,
            "ticks": "",
            "zerolinecolor": "white"
           },
           "yaxis": {
            "backgroundcolor": "#E5ECF6",
            "gridcolor": "white",
            "gridwidth": 2,
            "linecolor": "white",
            "showbackground": true,
            "ticks": "",
            "zerolinecolor": "white"
           },
           "zaxis": {
            "backgroundcolor": "#E5ECF6",
            "gridcolor": "white",
            "gridwidth": 2,
            "linecolor": "white",
            "showbackground": true,
            "ticks": "",
            "zerolinecolor": "white"
           }
          },
          "shapedefaults": {
           "line": {
            "color": "#2a3f5f"
           }
          },
          "ternary": {
           "aaxis": {
            "gridcolor": "white",
            "linecolor": "white",
            "ticks": ""
           },
           "baxis": {
            "gridcolor": "white",
            "linecolor": "white",
            "ticks": ""
           },
           "bgcolor": "#E5ECF6",
           "caxis": {
            "gridcolor": "white",
            "linecolor": "white",
            "ticks": ""
           }
          },
          "title": {
           "x": 0.05
          },
          "xaxis": {
           "automargin": true,
           "gridcolor": "white",
           "linecolor": "white",
           "ticks": "",
           "title": {
            "standoff": 15
           },
           "zerolinecolor": "white",
           "zerolinewidth": 2
          },
          "yaxis": {
           "automargin": true,
           "gridcolor": "white",
           "linecolor": "white",
           "ticks": "",
           "title": {
            "standoff": 15
           },
           "zerolinecolor": "white",
           "zerolinewidth": 2
          }
         }
        },
        "title": {
         "text": "Four-gram for Non-Sarcastic News"
        },
        "xaxis": {
         "anchor": "y",
         "domain": [
          0,
          1
         ],
         "title": {
          "text": "Count"
         }
        },
        "yaxis": {
         "anchor": "x",
         "domain": [
          0,
          1
         ],
         "title": {
          "text": "Words"
         }
        }
       }
      },
      "text/html": [
       "<div>                            <div id=\"86d86d30-16b3-454a-985f-c3752ed61f19\" class=\"plotly-graph-div\" style=\"height:525px; width:100%;\"></div>            <script type=\"text/javascript\">                require([\"plotly\"], function(Plotly) {                    window.PLOTLYENV=window.PLOTLYENV || {};                                    if (document.getElementById(\"86d86d30-16b3-454a-985f-c3752ed61f19\")) {                    Plotly.newPlot(                        \"86d86d30-16b3-454a-985f-c3752ed61f19\",                        [{\"alignmentgroup\": \"True\", \"hovertemplate\": \"Count=%{x}<br>Words=%{y}<extra></extra>\", \"legendgroup\": \"\", \"marker\": {\"color\": \"#FF8500\"}, \"name\": \"\", \"offsetgroup\": \"\", \"orientation\": \"h\", \"showlegend\": false, \"textposition\": \"auto\", \"type\": \"bar\", \"x\": [30, 22, 22, 12, 10, 9, 8, 8, 7, 6], \"xaxis\": \"x\", \"y\": [\"funniest tweet woman week\", \"huffpost rise nee know\", \"huffpost rise need know\", \"funniest tweet parent week\", \"new york fashion week\", \"martin luther king jr\", \"friday morning email inside\", \"las vegas review journal\", \"martin luth king jr\", \"rise nee know february\"], \"yaxis\": \"y\"}],                        {\"barmode\": \"relative\", \"legend\": {\"tracegroupgap\": 0}, \"margin\": {\"t\": 60}, \"paper_bgcolor\": \"white\", \"plot_bgcolor\": \"white\", \"template\": {\"data\": {\"bar\": [{\"error_x\": {\"color\": \"#2a3f5f\"}, \"error_y\": {\"color\": \"#2a3f5f\"}, \"marker\": {\"line\": {\"color\": \"#E5ECF6\", \"width\": 0.5}}, \"type\": \"bar\"}], \"barpolar\": [{\"marker\": {\"line\": {\"color\": \"#E5ECF6\", \"width\": 0.5}}, \"type\": \"barpolar\"}], \"carpet\": [{\"aaxis\": {\"endlinecolor\": \"#2a3f5f\", \"gridcolor\": \"white\", \"linecolor\": \"white\", \"minorgridcolor\": \"white\", \"startlinecolor\": \"#2a3f5f\"}, \"baxis\": {\"endlinecolor\": \"#2a3f5f\", \"gridcolor\": \"white\", \"linecolor\": \"white\", \"minorgridcolor\": \"white\", \"startlinecolor\": \"#2a3f5f\"}, \"type\": \"carpet\"}], \"choropleth\": [{\"colorbar\": {\"outlinewidth\": 0, \"ticks\": \"\"}, \"type\": \"choropleth\"}], \"contour\": [{\"colorbar\": {\"outlinewidth\": 0, \"ticks\": \"\"}, \"colorscale\": [[0.0, \"#0d0887\"], [0.1111111111111111, \"#46039f\"], [0.2222222222222222, \"#7201a8\"], [0.3333333333333333, \"#9c179e\"], [0.4444444444444444, \"#bd3786\"], [0.5555555555555556, \"#d8576b\"], [0.6666666666666666, \"#ed7953\"], [0.7777777777777778, \"#fb9f3a\"], [0.8888888888888888, \"#fdca26\"], [1.0, \"#f0f921\"]], \"type\": \"contour\"}], \"contourcarpet\": [{\"colorbar\": {\"outlinewidth\": 0, \"ticks\": \"\"}, \"type\": \"contourcarpet\"}], \"heatmap\": [{\"colorbar\": {\"outlinewidth\": 0, \"ticks\": \"\"}, \"colorscale\": [[0.0, \"#0d0887\"], [0.1111111111111111, \"#46039f\"], [0.2222222222222222, \"#7201a8\"], [0.3333333333333333, \"#9c179e\"], [0.4444444444444444, \"#bd3786\"], [0.5555555555555556, \"#d8576b\"], [0.6666666666666666, \"#ed7953\"], [0.7777777777777778, \"#fb9f3a\"], [0.8888888888888888, \"#fdca26\"], [1.0, \"#f0f921\"]], \"type\": \"heatmap\"}], \"heatmapgl\": [{\"colorbar\": {\"outlinewidth\": 0, \"ticks\": \"\"}, \"colorscale\": [[0.0, \"#0d0887\"], [0.1111111111111111, \"#46039f\"], [0.2222222222222222, \"#7201a8\"], [0.3333333333333333, \"#9c179e\"], [0.4444444444444444, \"#bd3786\"], [0.5555555555555556, \"#d8576b\"], [0.6666666666666666, \"#ed7953\"], [0.7777777777777778, \"#fb9f3a\"], [0.8888888888888888, \"#fdca26\"], [1.0, \"#f0f921\"]], \"type\": \"heatmapgl\"}], \"histogram\": [{\"marker\": {\"colorbar\": {\"outlinewidth\": 0, \"ticks\": \"\"}}, \"type\": \"histogram\"}], \"histogram2d\": [{\"colorbar\": {\"outlinewidth\": 0, \"ticks\": \"\"}, \"colorscale\": [[0.0, \"#0d0887\"], [0.1111111111111111, \"#46039f\"], [0.2222222222222222, \"#7201a8\"], [0.3333333333333333, \"#9c179e\"], [0.4444444444444444, \"#bd3786\"], [0.5555555555555556, \"#d8576b\"], [0.6666666666666666, \"#ed7953\"], [0.7777777777777778, \"#fb9f3a\"], [0.8888888888888888, \"#fdca26\"], [1.0, \"#f0f921\"]], \"type\": \"histogram2d\"}], \"histogram2dcontour\": [{\"colorbar\": {\"outlinewidth\": 0, \"ticks\": \"\"}, \"colorscale\": [[0.0, \"#0d0887\"], [0.1111111111111111, \"#46039f\"], [0.2222222222222222, \"#7201a8\"], [0.3333333333333333, \"#9c179e\"], [0.4444444444444444, \"#bd3786\"], [0.5555555555555556, \"#d8576b\"], [0.6666666666666666, \"#ed7953\"], [0.7777777777777778, \"#fb9f3a\"], [0.8888888888888888, \"#fdca26\"], [1.0, \"#f0f921\"]], \"type\": \"histogram2dcontour\"}], \"mesh3d\": [{\"colorbar\": {\"outlinewidth\": 0, \"ticks\": \"\"}, \"type\": \"mesh3d\"}], \"parcoords\": [{\"line\": {\"colorbar\": {\"outlinewidth\": 0, \"ticks\": \"\"}}, \"type\": \"parcoords\"}], \"pie\": [{\"automargin\": true, \"type\": \"pie\"}], \"scatter\": [{\"marker\": {\"colorbar\": {\"outlinewidth\": 0, \"ticks\": \"\"}}, \"type\": \"scatter\"}], \"scatter3d\": [{\"line\": {\"colorbar\": {\"outlinewidth\": 0, \"ticks\": \"\"}}, \"marker\": {\"colorbar\": {\"outlinewidth\": 0, \"ticks\": \"\"}}, \"type\": \"scatter3d\"}], \"scattercarpet\": [{\"marker\": {\"colorbar\": {\"outlinewidth\": 0, \"ticks\": \"\"}}, \"type\": \"scattercarpet\"}], \"scattergeo\": [{\"marker\": {\"colorbar\": {\"outlinewidth\": 0, \"ticks\": \"\"}}, \"type\": \"scattergeo\"}], \"scattergl\": [{\"marker\": {\"colorbar\": {\"outlinewidth\": 0, \"ticks\": \"\"}}, \"type\": \"scattergl\"}], \"scattermapbox\": [{\"marker\": {\"colorbar\": {\"outlinewidth\": 0, \"ticks\": \"\"}}, \"type\": \"scattermapbox\"}], \"scatterpolar\": [{\"marker\": {\"colorbar\": {\"outlinewidth\": 0, \"ticks\": \"\"}}, \"type\": \"scatterpolar\"}], \"scatterpolargl\": [{\"marker\": {\"colorbar\": {\"outlinewidth\": 0, \"ticks\": \"\"}}, \"type\": \"scatterpolargl\"}], \"scatterternary\": [{\"marker\": {\"colorbar\": {\"outlinewidth\": 0, \"ticks\": \"\"}}, \"type\": \"scatterternary\"}], \"surface\": [{\"colorbar\": {\"outlinewidth\": 0, \"ticks\": \"\"}, \"colorscale\": [[0.0, \"#0d0887\"], [0.1111111111111111, \"#46039f\"], [0.2222222222222222, \"#7201a8\"], [0.3333333333333333, \"#9c179e\"], [0.4444444444444444, \"#bd3786\"], [0.5555555555555556, \"#d8576b\"], [0.6666666666666666, \"#ed7953\"], [0.7777777777777778, \"#fb9f3a\"], [0.8888888888888888, \"#fdca26\"], [1.0, \"#f0f921\"]], \"type\": \"surface\"}], \"table\": [{\"cells\": {\"fill\": {\"color\": \"#EBF0F8\"}, \"line\": {\"color\": \"white\"}}, \"header\": {\"fill\": {\"color\": \"#C8D4E3\"}, \"line\": {\"color\": \"white\"}}, \"type\": \"table\"}]}, \"layout\": {\"annotationdefaults\": {\"arrowcolor\": \"#2a3f5f\", \"arrowhead\": 0, \"arrowwidth\": 1}, \"coloraxis\": {\"colorbar\": {\"outlinewidth\": 0, \"ticks\": \"\"}}, \"colorscale\": {\"diverging\": [[0, \"#8e0152\"], [0.1, \"#c51b7d\"], [0.2, \"#de77ae\"], [0.3, \"#f1b6da\"], [0.4, \"#fde0ef\"], [0.5, \"#f7f7f7\"], [0.6, \"#e6f5d0\"], [0.7, \"#b8e186\"], [0.8, \"#7fbc41\"], [0.9, \"#4d9221\"], [1, \"#276419\"]], \"sequential\": [[0.0, \"#0d0887\"], [0.1111111111111111, \"#46039f\"], [0.2222222222222222, \"#7201a8\"], [0.3333333333333333, \"#9c179e\"], [0.4444444444444444, \"#bd3786\"], [0.5555555555555556, \"#d8576b\"], [0.6666666666666666, \"#ed7953\"], [0.7777777777777778, \"#fb9f3a\"], [0.8888888888888888, \"#fdca26\"], [1.0, \"#f0f921\"]], \"sequentialminus\": [[0.0, \"#0d0887\"], [0.1111111111111111, \"#46039f\"], [0.2222222222222222, \"#7201a8\"], [0.3333333333333333, \"#9c179e\"], [0.4444444444444444, \"#bd3786\"], [0.5555555555555556, \"#d8576b\"], [0.6666666666666666, \"#ed7953\"], [0.7777777777777778, \"#fb9f3a\"], [0.8888888888888888, \"#fdca26\"], [1.0, \"#f0f921\"]]}, \"colorway\": [\"#636efa\", \"#EF553B\", \"#00cc96\", \"#ab63fa\", \"#FFA15A\", \"#19d3f3\", \"#FF6692\", \"#B6E880\", \"#FF97FF\", \"#FECB52\"], \"font\": {\"color\": \"#2a3f5f\"}, \"geo\": {\"bgcolor\": \"white\", \"lakecolor\": \"white\", \"landcolor\": \"#E5ECF6\", \"showlakes\": true, \"showland\": true, \"subunitcolor\": \"white\"}, \"hoverlabel\": {\"align\": \"left\"}, \"hovermode\": \"closest\", \"mapbox\": {\"style\": \"light\"}, \"paper_bgcolor\": \"white\", \"plot_bgcolor\": \"#E5ECF6\", \"polar\": {\"angularaxis\": {\"gridcolor\": \"white\", \"linecolor\": \"white\", \"ticks\": \"\"}, \"bgcolor\": \"#E5ECF6\", \"radialaxis\": {\"gridcolor\": \"white\", \"linecolor\": \"white\", \"ticks\": \"\"}}, \"scene\": {\"xaxis\": {\"backgroundcolor\": \"#E5ECF6\", \"gridcolor\": \"white\", \"gridwidth\": 2, \"linecolor\": \"white\", \"showbackground\": true, \"ticks\": \"\", \"zerolinecolor\": \"white\"}, \"yaxis\": {\"backgroundcolor\": \"#E5ECF6\", \"gridcolor\": \"white\", \"gridwidth\": 2, \"linecolor\": \"white\", \"showbackground\": true, \"ticks\": \"\", \"zerolinecolor\": \"white\"}, \"zaxis\": {\"backgroundcolor\": \"#E5ECF6\", \"gridcolor\": \"white\", \"gridwidth\": 2, \"linecolor\": \"white\", \"showbackground\": true, \"ticks\": \"\", \"zerolinecolor\": \"white\"}}, \"shapedefaults\": {\"line\": {\"color\": \"#2a3f5f\"}}, \"ternary\": {\"aaxis\": {\"gridcolor\": \"white\", \"linecolor\": \"white\", \"ticks\": \"\"}, \"baxis\": {\"gridcolor\": \"white\", \"linecolor\": \"white\", \"ticks\": \"\"}, \"bgcolor\": \"#E5ECF6\", \"caxis\": {\"gridcolor\": \"white\", \"linecolor\": \"white\", \"ticks\": \"\"}}, \"title\": {\"x\": 0.05}, \"xaxis\": {\"automargin\": true, \"gridcolor\": \"white\", \"linecolor\": \"white\", \"ticks\": \"\", \"title\": {\"standoff\": 15}, \"zerolinecolor\": \"white\", \"zerolinewidth\": 2}, \"yaxis\": {\"automargin\": true, \"gridcolor\": \"white\", \"linecolor\": \"white\", \"ticks\": \"\", \"title\": {\"standoff\": 15}, \"zerolinecolor\": \"white\", \"zerolinewidth\": 2}}}, \"title\": {\"text\": \"Four-gram for Non-Sarcastic News\"}, \"xaxis\": {\"anchor\": \"y\", \"domain\": [0.0, 1.0], \"title\": {\"text\": \"Count\"}}, \"yaxis\": {\"anchor\": \"x\", \"domain\": [0.0, 1.0], \"title\": {\"text\": \"Words\"}}},                        {\"responsive\": true}                    ).then(function(){\n",
       "                            \n",
       "var gd = document.getElementById('86d86d30-16b3-454a-985f-c3752ed61f19');\n",
       "var x = new MutationObserver(function (mutations, observer) {{\n",
       "        var display = window.getComputedStyle(gd).display;\n",
       "        if (!display || display === 'none') {{\n",
       "            console.log([gd, 'removed!']);\n",
       "            Plotly.purge(gd);\n",
       "            observer.disconnect();\n",
       "        }}\n",
       "}});\n",
       "\n",
       "// Listen for the removal of the full notebook cells\n",
       "var notebookContainer = gd.closest('#notebook-container');\n",
       "if (notebookContainer) {{\n",
       "    x.observe(notebookContainer, {childList: true});\n",
       "}}\n",
       "\n",
       "// Listen for the clearing of the current output cell\n",
       "var outputEl = gd.closest('.output');\n",
       "if (outputEl) {{\n",
       "    x.observe(outputEl, {childList: true});\n",
       "}}\n",
       "\n",
       "                        })                };                });            </script>        </div>"
      ]
     },
     "metadata": {},
     "output_type": "display_data"
    },
    {
     "data": {
      "text/plain": [
       "<Figure size 1152x648 with 0 Axes>"
      ]
     },
     "metadata": {},
     "output_type": "display_data"
    }
   ],
   "source": [
    "plt.figure(figsize = (16,9))\n",
    "most_common_uni = get_top_text_ngrams(data_nsar.headline,10,4)\n",
    "most_common_uni = dict(most_common_uni)\n",
    "fig = px.bar(x = list(most_common_uni.values()), y = list(most_common_uni.keys()), labels=dict(x=\"Count\", y=\"Words\"))\n",
    "fig.update_traces(marker_color='#FF8500')\n",
    "fig.update_layout(title_text='Four-gram for Non-Sarcastic News', paper_bgcolor = 'white', plot_bgcolor = 'white')\n",
    "fig.show()"
   ]
  },
  {
   "cell_type": "code",
   "execution_count": null,
   "metadata": {},
   "outputs": [],
   "source": []
  }
 ],
 "metadata": {
  "kernelspec": {
   "display_name": "Python 3",
   "language": "python",
   "name": "python3"
  },
  "language_info": {
   "codemirror_mode": {
    "name": "ipython",
    "version": 3
   },
   "file_extension": ".py",
   "mimetype": "text/x-python",
   "name": "python",
   "nbconvert_exporter": "python",
   "pygments_lexer": "ipython3",
   "version": "3.8.3"
  }
 },
 "nbformat": 4,
 "nbformat_minor": 1
}
